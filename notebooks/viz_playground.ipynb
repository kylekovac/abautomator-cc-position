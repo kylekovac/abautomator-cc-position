{
 "cells": [
  {
   "cell_type": "code",
   "execution_count": 1,
   "id": "e45626a2",
   "metadata": {},
   "outputs": [],
   "source": [
    "from datetime import date, timedelta\n",
    "import os\n",
    "import pickle\n",
    "import sys\n",
    "sys.path.append(\"..\")"
   ]
  },
  {
   "cell_type": "code",
   "execution_count": 2,
   "id": "f8869783",
   "metadata": {},
   "outputs": [],
   "source": [
    "from abautomator import get_query, experiment"
   ]
  },
  {
   "cell_type": "code",
   "execution_count": 3,
   "id": "c173da5a",
   "metadata": {},
   "outputs": [],
   "source": [
    "exp = experiment.Experiment(\n",
    "        ctrl_cond='Dec1021InspirationMomentFinalControl',\n",
    "        tx_conds=[\n",
    "            'Dec1021InspirationMomentFinalVideo01',\n",
    "            'Dec1021InspirationMomentFinalVideo02',\n",
    "            'Dec1021InspirationMomentFinalCarousel01',\n",
    "            'Dec1021InspirationMomentFinalCarousel02',\n",
    "            'Dec1021InspirationMomentFinalCarousel03',\n",
    "            'Dec1021InspirationMomentFinalCarousel04',\n",
    "        ],\n",
    "        event=\"segment_signup_flow_started\",\n",
    "        event_prop=\"context_traits_onboarding_flow_001\",\n",
    "        start_dt=date.today() - timedelta(days=2),\n",
    "    )"
   ]
  },
  {
   "cell_type": "code",
   "execution_count": 4,
   "id": "43b29a3f",
   "metadata": {},
   "outputs": [],
   "source": [
    "name = \"sampling_dist\"\n",
    "df = pickle.load(\n",
    "            open(os.path.join(\"..\", \"tests\", f\"{name}.p\"), \"rb\" )\n",
    "        )"
   ]
  },
  {
   "cell_type": "code",
   "execution_count": 5,
   "id": "0be75371",
   "metadata": {},
   "outputs": [
    {
     "data": {
      "text/html": [
       "<div>\n",
       "<style scoped>\n",
       "    .dataframe tbody tr th:only-of-type {\n",
       "        vertical-align: middle;\n",
       "    }\n",
       "\n",
       "    .dataframe tbody tr th {\n",
       "        vertical-align: top;\n",
       "    }\n",
       "\n",
       "    .dataframe thead th {\n",
       "        text-align: right;\n",
       "    }\n",
       "</style>\n",
       "<table border=\"1\" class=\"dataframe\">\n",
       "  <thead>\n",
       "    <tr style=\"text-align: right;\">\n",
       "      <th></th>\n",
       "      <th>exp_cond</th>\n",
       "      <th>metric</th>\n",
       "      <th>metric_cond_label</th>\n",
       "      <th>est_mean</th>\n",
       "      <th>est_se</th>\n",
       "    </tr>\n",
       "  </thead>\n",
       "  <tbody>\n",
       "    <tr>\n",
       "      <th>0</th>\n",
       "      <td>Video01</td>\n",
       "      <td>n_user_sessions</td>\n",
       "      <td>(n_user_sessions, Video01)</td>\n",
       "      <td>0.014278</td>\n",
       "      <td>0.066013</td>\n",
       "    </tr>\n",
       "    <tr>\n",
       "      <th>1</th>\n",
       "      <td>Video01</td>\n",
       "      <td>pct_user_sessions</td>\n",
       "      <td>(pct_user_sessions, Video01)</td>\n",
       "      <td>0.009449</td>\n",
       "      <td>0.007249</td>\n",
       "    </tr>\n",
       "  </tbody>\n",
       "</table>\n",
       "</div>"
      ],
      "text/plain": [
       "  exp_cond             metric             metric_cond_label  est_mean  \\\n",
       "0  Video01    n_user_sessions    (n_user_sessions, Video01)  0.014278   \n",
       "1  Video01  pct_user_sessions  (pct_user_sessions, Video01)  0.009449   \n",
       "\n",
       "     est_se  \n",
       "0  0.066013  \n",
       "1  0.007249  "
      ]
     },
     "execution_count": 5,
     "metadata": {},
     "output_type": "execute_result"
    }
   ],
   "source": [
    "df.head(2)"
   ]
  },
  {
   "cell_type": "code",
   "execution_count": 7,
   "id": "2aa274e1",
   "metadata": {},
   "outputs": [],
   "source": [
    "df[\"upper_68_ci\"] = df[\"est_mean\"] + df[\"est_se\"]\n",
    "df[\"lower_68_ci\"] = df[\"est_mean\"] - df[\"est_se\"]\n",
    "\n",
    "df[\"upper_95_ci\"] = df[\"est_mean\"] + (2 * df[\"est_se\"])\n",
    "df[\"lower_95_ci\"] = df[\"est_mean\"] - (2 * df[\"est_se\"])"
   ]
  },
  {
   "cell_type": "code",
   "execution_count": 76,
   "id": "4a197d53",
   "metadata": {},
   "outputs": [
    {
     "data": {
      "text/html": [
       "\n",
       "    <div class=\"bk-root\">\n",
       "        <a href=\"https://bokeh.org\" target=\"_blank\" class=\"bk-logo bk-logo-small bk-logo-notebook\"></a>\n",
       "        <span id=\"5595\">Loading BokehJS ...</span>\n",
       "    </div>"
      ]
     },
     "metadata": {},
     "output_type": "display_data"
    },
    {
     "data": {
      "application/javascript": [
       "\n",
       "(function(root) {\n",
       "  function now() {\n",
       "    return new Date();\n",
       "  }\n",
       "\n",
       "  var force = true;\n",
       "\n",
       "  if (typeof root._bokeh_onload_callbacks === \"undefined\" || force === true) {\n",
       "    root._bokeh_onload_callbacks = [];\n",
       "    root._bokeh_is_loading = undefined;\n",
       "  }\n",
       "\n",
       "  var JS_MIME_TYPE = 'application/javascript';\n",
       "  var HTML_MIME_TYPE = 'text/html';\n",
       "  var EXEC_MIME_TYPE = 'application/vnd.bokehjs_exec.v0+json';\n",
       "  var CLASS_NAME = 'output_bokeh rendered_html';\n",
       "\n",
       "  /**\n",
       "   * Render data to the DOM node\n",
       "   */\n",
       "  function render(props, node) {\n",
       "    var script = document.createElement(\"script\");\n",
       "    node.appendChild(script);\n",
       "  }\n",
       "\n",
       "  /**\n",
       "   * Handle when an output is cleared or removed\n",
       "   */\n",
       "  function handleClearOutput(event, handle) {\n",
       "    var cell = handle.cell;\n",
       "\n",
       "    var id = cell.output_area._bokeh_element_id;\n",
       "    var server_id = cell.output_area._bokeh_server_id;\n",
       "    // Clean up Bokeh references\n",
       "    if (id != null && id in Bokeh.index) {\n",
       "      Bokeh.index[id].model.document.clear();\n",
       "      delete Bokeh.index[id];\n",
       "    }\n",
       "\n",
       "    if (server_id !== undefined) {\n",
       "      // Clean up Bokeh references\n",
       "      var cmd = \"from bokeh.io.state import curstate; print(curstate().uuid_to_server['\" + server_id + \"'].get_sessions()[0].document.roots[0]._id)\";\n",
       "      cell.notebook.kernel.execute(cmd, {\n",
       "        iopub: {\n",
       "          output: function(msg) {\n",
       "            var id = msg.content.text.trim();\n",
       "            if (id in Bokeh.index) {\n",
       "              Bokeh.index[id].model.document.clear();\n",
       "              delete Bokeh.index[id];\n",
       "            }\n",
       "          }\n",
       "        }\n",
       "      });\n",
       "      // Destroy server and session\n",
       "      var cmd = \"import bokeh.io.notebook as ion; ion.destroy_server('\" + server_id + \"')\";\n",
       "      cell.notebook.kernel.execute(cmd);\n",
       "    }\n",
       "  }\n",
       "\n",
       "  /**\n",
       "   * Handle when a new output is added\n",
       "   */\n",
       "  function handleAddOutput(event, handle) {\n",
       "    var output_area = handle.output_area;\n",
       "    var output = handle.output;\n",
       "\n",
       "    // limit handleAddOutput to display_data with EXEC_MIME_TYPE content only\n",
       "    if ((output.output_type != \"display_data\") || (!Object.prototype.hasOwnProperty.call(output.data, EXEC_MIME_TYPE))) {\n",
       "      return\n",
       "    }\n",
       "\n",
       "    var toinsert = output_area.element.find(\".\" + CLASS_NAME.split(' ')[0]);\n",
       "\n",
       "    if (output.metadata[EXEC_MIME_TYPE][\"id\"] !== undefined) {\n",
       "      toinsert[toinsert.length - 1].firstChild.textContent = output.data[JS_MIME_TYPE];\n",
       "      // store reference to embed id on output_area\n",
       "      output_area._bokeh_element_id = output.metadata[EXEC_MIME_TYPE][\"id\"];\n",
       "    }\n",
       "    if (output.metadata[EXEC_MIME_TYPE][\"server_id\"] !== undefined) {\n",
       "      var bk_div = document.createElement(\"div\");\n",
       "      bk_div.innerHTML = output.data[HTML_MIME_TYPE];\n",
       "      var script_attrs = bk_div.children[0].attributes;\n",
       "      for (var i = 0; i < script_attrs.length; i++) {\n",
       "        toinsert[toinsert.length - 1].firstChild.setAttribute(script_attrs[i].name, script_attrs[i].value);\n",
       "        toinsert[toinsert.length - 1].firstChild.textContent = bk_div.children[0].textContent\n",
       "      }\n",
       "      // store reference to server id on output_area\n",
       "      output_area._bokeh_server_id = output.metadata[EXEC_MIME_TYPE][\"server_id\"];\n",
       "    }\n",
       "  }\n",
       "\n",
       "  function register_renderer(events, OutputArea) {\n",
       "\n",
       "    function append_mime(data, metadata, element) {\n",
       "      // create a DOM node to render to\n",
       "      var toinsert = this.create_output_subarea(\n",
       "        metadata,\n",
       "        CLASS_NAME,\n",
       "        EXEC_MIME_TYPE\n",
       "      );\n",
       "      this.keyboard_manager.register_events(toinsert);\n",
       "      // Render to node\n",
       "      var props = {data: data, metadata: metadata[EXEC_MIME_TYPE]};\n",
       "      render(props, toinsert[toinsert.length - 1]);\n",
       "      element.append(toinsert);\n",
       "      return toinsert\n",
       "    }\n",
       "\n",
       "    /* Handle when an output is cleared or removed */\n",
       "    events.on('clear_output.CodeCell', handleClearOutput);\n",
       "    events.on('delete.Cell', handleClearOutput);\n",
       "\n",
       "    /* Handle when a new output is added */\n",
       "    events.on('output_added.OutputArea', handleAddOutput);\n",
       "\n",
       "    /**\n",
       "     * Register the mime type and append_mime function with output_area\n",
       "     */\n",
       "    OutputArea.prototype.register_mime_type(EXEC_MIME_TYPE, append_mime, {\n",
       "      /* Is output safe? */\n",
       "      safe: true,\n",
       "      /* Index of renderer in `output_area.display_order` */\n",
       "      index: 0\n",
       "    });\n",
       "  }\n",
       "\n",
       "  // register the mime type if in Jupyter Notebook environment and previously unregistered\n",
       "  if (root.Jupyter !== undefined) {\n",
       "    var events = require('base/js/events');\n",
       "    var OutputArea = require('notebook/js/outputarea').OutputArea;\n",
       "\n",
       "    if (OutputArea.prototype.mime_types().indexOf(EXEC_MIME_TYPE) == -1) {\n",
       "      register_renderer(events, OutputArea);\n",
       "    }\n",
       "  }\n",
       "\n",
       "  \n",
       "  if (typeof (root._bokeh_timeout) === \"undefined\" || force === true) {\n",
       "    root._bokeh_timeout = Date.now() + 5000;\n",
       "    root._bokeh_failed_load = false;\n",
       "  }\n",
       "\n",
       "  var NB_LOAD_WARNING = {'data': {'text/html':\n",
       "     \"<div style='background-color: #fdd'>\\n\"+\n",
       "     \"<p>\\n\"+\n",
       "     \"BokehJS does not appear to have successfully loaded. If loading BokehJS from CDN, this \\n\"+\n",
       "     \"may be due to a slow or bad network connection. Possible fixes:\\n\"+\n",
       "     \"</p>\\n\"+\n",
       "     \"<ul>\\n\"+\n",
       "     \"<li>re-rerun `output_notebook()` to attempt to load from CDN again, or</li>\\n\"+\n",
       "     \"<li>use INLINE resources instead, as so:</li>\\n\"+\n",
       "     \"</ul>\\n\"+\n",
       "     \"<code>\\n\"+\n",
       "     \"from bokeh.resources import INLINE\\n\"+\n",
       "     \"output_notebook(resources=INLINE)\\n\"+\n",
       "     \"</code>\\n\"+\n",
       "     \"</div>\"}};\n",
       "\n",
       "  function display_loaded() {\n",
       "    var el = document.getElementById(\"5595\");\n",
       "    if (el != null) {\n",
       "      el.textContent = \"BokehJS is loading...\";\n",
       "    }\n",
       "    if (root.Bokeh !== undefined) {\n",
       "      if (el != null) {\n",
       "        el.textContent = \"BokehJS \" + root.Bokeh.version + \" successfully loaded.\";\n",
       "      }\n",
       "    } else if (Date.now() < root._bokeh_timeout) {\n",
       "      setTimeout(display_loaded, 100)\n",
       "    }\n",
       "  }\n",
       "\n",
       "\n",
       "  function run_callbacks() {\n",
       "    try {\n",
       "      root._bokeh_onload_callbacks.forEach(function(callback) {\n",
       "        if (callback != null)\n",
       "          callback();\n",
       "      });\n",
       "    } finally {\n",
       "      delete root._bokeh_onload_callbacks\n",
       "    }\n",
       "    console.debug(\"Bokeh: all callbacks have finished\");\n",
       "  }\n",
       "\n",
       "  function load_libs(css_urls, js_urls, callback) {\n",
       "    if (css_urls == null) css_urls = [];\n",
       "    if (js_urls == null) js_urls = [];\n",
       "\n",
       "    root._bokeh_onload_callbacks.push(callback);\n",
       "    if (root._bokeh_is_loading > 0) {\n",
       "      console.debug(\"Bokeh: BokehJS is being loaded, scheduling callback at\", now());\n",
       "      return null;\n",
       "    }\n",
       "    if (js_urls == null || js_urls.length === 0) {\n",
       "      run_callbacks();\n",
       "      return null;\n",
       "    }\n",
       "    console.debug(\"Bokeh: BokehJS not loaded, scheduling load and callback at\", now());\n",
       "    root._bokeh_is_loading = css_urls.length + js_urls.length;\n",
       "\n",
       "    function on_load() {\n",
       "      root._bokeh_is_loading--;\n",
       "      if (root._bokeh_is_loading === 0) {\n",
       "        console.debug(\"Bokeh: all BokehJS libraries/stylesheets loaded\");\n",
       "        run_callbacks()\n",
       "      }\n",
       "    }\n",
       "\n",
       "    function on_error(url) {\n",
       "      console.error(\"failed to load \" + url);\n",
       "    }\n",
       "\n",
       "    for (let i = 0; i < css_urls.length; i++) {\n",
       "      const url = css_urls[i];\n",
       "      const element = document.createElement(\"link\");\n",
       "      element.onload = on_load;\n",
       "      element.onerror = on_error.bind(null, url);\n",
       "      element.rel = \"stylesheet\";\n",
       "      element.type = \"text/css\";\n",
       "      element.href = url;\n",
       "      console.debug(\"Bokeh: injecting link tag for BokehJS stylesheet: \", url);\n",
       "      document.body.appendChild(element);\n",
       "    }\n",
       "\n",
       "    const hashes = {\"https://cdn.bokeh.org/bokeh/release/bokeh-2.3.2.min.js\": \"XypntL49z55iwGVUW4qsEu83zKL3XEcz0MjuGOQ9SlaaQ68X/g+k1FcioZi7oQAc\", \"https://cdn.bokeh.org/bokeh/release/bokeh-tables-2.3.2.min.js\": \"bEsM86IHGDTLCS0Zod8a8WM6Y4+lafAL/eSiyQcuPzinmWNgNO2/olUF0Z2Dkn5i\", \"https://cdn.bokeh.org/bokeh/release/bokeh-widgets-2.3.2.min.js\": \"TX0gSQTdXTTeScqxj6PVQxTiRW8DOoGVwinyi1D3kxv7wuxQ02XkOxv0xwiypcAH\"};\n",
       "\n",
       "    for (let i = 0; i < js_urls.length; i++) {\n",
       "      const url = js_urls[i];\n",
       "      const element = document.createElement('script');\n",
       "      element.onload = on_load;\n",
       "      element.onerror = on_error.bind(null, url);\n",
       "      element.async = false;\n",
       "      element.src = url;\n",
       "      if (url in hashes) {\n",
       "        element.crossOrigin = \"anonymous\";\n",
       "        element.integrity = \"sha384-\" + hashes[url];\n",
       "      }\n",
       "      console.debug(\"Bokeh: injecting script tag for BokehJS library: \", url);\n",
       "      document.head.appendChild(element);\n",
       "    }\n",
       "  };\n",
       "\n",
       "  function inject_raw_css(css) {\n",
       "    const element = document.createElement(\"style\");\n",
       "    element.appendChild(document.createTextNode(css));\n",
       "    document.body.appendChild(element);\n",
       "  }\n",
       "\n",
       "  \n",
       "  var js_urls = [\"https://cdn.bokeh.org/bokeh/release/bokeh-2.3.2.min.js\", \"https://cdn.bokeh.org/bokeh/release/bokeh-widgets-2.3.2.min.js\", \"https://cdn.bokeh.org/bokeh/release/bokeh-tables-2.3.2.min.js\"];\n",
       "  var css_urls = [];\n",
       "  \n",
       "\n",
       "  var inline_js = [\n",
       "    function(Bokeh) {\n",
       "      Bokeh.set_log_level(\"info\");\n",
       "    },\n",
       "    function(Bokeh) {\n",
       "    \n",
       "    \n",
       "    }\n",
       "  ];\n",
       "\n",
       "  function run_inline_js() {\n",
       "    \n",
       "    if (root.Bokeh !== undefined || force === true) {\n",
       "      \n",
       "    for (var i = 0; i < inline_js.length; i++) {\n",
       "      inline_js[i].call(root, root.Bokeh);\n",
       "    }\n",
       "    if (force === true) {\n",
       "        display_loaded();\n",
       "      }} else if (Date.now() < root._bokeh_timeout) {\n",
       "      setTimeout(run_inline_js, 100);\n",
       "    } else if (!root._bokeh_failed_load) {\n",
       "      console.log(\"Bokeh: BokehJS failed to load within specified timeout.\");\n",
       "      root._bokeh_failed_load = true;\n",
       "    } else if (force !== true) {\n",
       "      var cell = $(document.getElementById(\"5595\")).parents('.cell').data().cell;\n",
       "      cell.output_area.append_execute_result(NB_LOAD_WARNING)\n",
       "    }\n",
       "\n",
       "  }\n",
       "\n",
       "  if (root._bokeh_is_loading === 0) {\n",
       "    console.debug(\"Bokeh: BokehJS loaded, going straight to plotting\");\n",
       "    run_inline_js();\n",
       "  } else {\n",
       "    load_libs(css_urls, js_urls, function() {\n",
       "      console.debug(\"Bokeh: BokehJS plotting callback run at\", now());\n",
       "      run_inline_js();\n",
       "    });\n",
       "  }\n",
       "}(window));"
      ],
      "application/vnd.bokehjs_load.v0+json": "\n(function(root) {\n  function now() {\n    return new Date();\n  }\n\n  var force = true;\n\n  if (typeof root._bokeh_onload_callbacks === \"undefined\" || force === true) {\n    root._bokeh_onload_callbacks = [];\n    root._bokeh_is_loading = undefined;\n  }\n\n  \n\n  \n  if (typeof (root._bokeh_timeout) === \"undefined\" || force === true) {\n    root._bokeh_timeout = Date.now() + 5000;\n    root._bokeh_failed_load = false;\n  }\n\n  var NB_LOAD_WARNING = {'data': {'text/html':\n     \"<div style='background-color: #fdd'>\\n\"+\n     \"<p>\\n\"+\n     \"BokehJS does not appear to have successfully loaded. If loading BokehJS from CDN, this \\n\"+\n     \"may be due to a slow or bad network connection. Possible fixes:\\n\"+\n     \"</p>\\n\"+\n     \"<ul>\\n\"+\n     \"<li>re-rerun `output_notebook()` to attempt to load from CDN again, or</li>\\n\"+\n     \"<li>use INLINE resources instead, as so:</li>\\n\"+\n     \"</ul>\\n\"+\n     \"<code>\\n\"+\n     \"from bokeh.resources import INLINE\\n\"+\n     \"output_notebook(resources=INLINE)\\n\"+\n     \"</code>\\n\"+\n     \"</div>\"}};\n\n  function display_loaded() {\n    var el = document.getElementById(\"5595\");\n    if (el != null) {\n      el.textContent = \"BokehJS is loading...\";\n    }\n    if (root.Bokeh !== undefined) {\n      if (el != null) {\n        el.textContent = \"BokehJS \" + root.Bokeh.version + \" successfully loaded.\";\n      }\n    } else if (Date.now() < root._bokeh_timeout) {\n      setTimeout(display_loaded, 100)\n    }\n  }\n\n\n  function run_callbacks() {\n    try {\n      root._bokeh_onload_callbacks.forEach(function(callback) {\n        if (callback != null)\n          callback();\n      });\n    } finally {\n      delete root._bokeh_onload_callbacks\n    }\n    console.debug(\"Bokeh: all callbacks have finished\");\n  }\n\n  function load_libs(css_urls, js_urls, callback) {\n    if (css_urls == null) css_urls = [];\n    if (js_urls == null) js_urls = [];\n\n    root._bokeh_onload_callbacks.push(callback);\n    if (root._bokeh_is_loading > 0) {\n      console.debug(\"Bokeh: BokehJS is being loaded, scheduling callback at\", now());\n      return null;\n    }\n    if (js_urls == null || js_urls.length === 0) {\n      run_callbacks();\n      return null;\n    }\n    console.debug(\"Bokeh: BokehJS not loaded, scheduling load and callback at\", now());\n    root._bokeh_is_loading = css_urls.length + js_urls.length;\n\n    function on_load() {\n      root._bokeh_is_loading--;\n      if (root._bokeh_is_loading === 0) {\n        console.debug(\"Bokeh: all BokehJS libraries/stylesheets loaded\");\n        run_callbacks()\n      }\n    }\n\n    function on_error(url) {\n      console.error(\"failed to load \" + url);\n    }\n\n    for (let i = 0; i < css_urls.length; i++) {\n      const url = css_urls[i];\n      const element = document.createElement(\"link\");\n      element.onload = on_load;\n      element.onerror = on_error.bind(null, url);\n      element.rel = \"stylesheet\";\n      element.type = \"text/css\";\n      element.href = url;\n      console.debug(\"Bokeh: injecting link tag for BokehJS stylesheet: \", url);\n      document.body.appendChild(element);\n    }\n\n    const hashes = {\"https://cdn.bokeh.org/bokeh/release/bokeh-2.3.2.min.js\": \"XypntL49z55iwGVUW4qsEu83zKL3XEcz0MjuGOQ9SlaaQ68X/g+k1FcioZi7oQAc\", \"https://cdn.bokeh.org/bokeh/release/bokeh-tables-2.3.2.min.js\": \"bEsM86IHGDTLCS0Zod8a8WM6Y4+lafAL/eSiyQcuPzinmWNgNO2/olUF0Z2Dkn5i\", \"https://cdn.bokeh.org/bokeh/release/bokeh-widgets-2.3.2.min.js\": \"TX0gSQTdXTTeScqxj6PVQxTiRW8DOoGVwinyi1D3kxv7wuxQ02XkOxv0xwiypcAH\"};\n\n    for (let i = 0; i < js_urls.length; i++) {\n      const url = js_urls[i];\n      const element = document.createElement('script');\n      element.onload = on_load;\n      element.onerror = on_error.bind(null, url);\n      element.async = false;\n      element.src = url;\n      if (url in hashes) {\n        element.crossOrigin = \"anonymous\";\n        element.integrity = \"sha384-\" + hashes[url];\n      }\n      console.debug(\"Bokeh: injecting script tag for BokehJS library: \", url);\n      document.head.appendChild(element);\n    }\n  };\n\n  function inject_raw_css(css) {\n    const element = document.createElement(\"style\");\n    element.appendChild(document.createTextNode(css));\n    document.body.appendChild(element);\n  }\n\n  \n  var js_urls = [\"https://cdn.bokeh.org/bokeh/release/bokeh-2.3.2.min.js\", \"https://cdn.bokeh.org/bokeh/release/bokeh-widgets-2.3.2.min.js\", \"https://cdn.bokeh.org/bokeh/release/bokeh-tables-2.3.2.min.js\"];\n  var css_urls = [];\n  \n\n  var inline_js = [\n    function(Bokeh) {\n      Bokeh.set_log_level(\"info\");\n    },\n    function(Bokeh) {\n    \n    \n    }\n  ];\n\n  function run_inline_js() {\n    \n    if (root.Bokeh !== undefined || force === true) {\n      \n    for (var i = 0; i < inline_js.length; i++) {\n      inline_js[i].call(root, root.Bokeh);\n    }\n    if (force === true) {\n        display_loaded();\n      }} else if (Date.now() < root._bokeh_timeout) {\n      setTimeout(run_inline_js, 100);\n    } else if (!root._bokeh_failed_load) {\n      console.log(\"Bokeh: BokehJS failed to load within specified timeout.\");\n      root._bokeh_failed_load = true;\n    } else if (force !== true) {\n      var cell = $(document.getElementById(\"5595\")).parents('.cell').data().cell;\n      cell.output_area.append_execute_result(NB_LOAD_WARNING)\n    }\n\n  }\n\n  if (root._bokeh_is_loading === 0) {\n    console.debug(\"Bokeh: BokehJS loaded, going straight to plotting\");\n    run_inline_js();\n  } else {\n    load_libs(css_urls, js_urls, function() {\n      console.debug(\"Bokeh: BokehJS plotting callback run at\", now());\n      run_inline_js();\n    });\n  }\n}(window));"
     },
     "metadata": {},
     "output_type": "display_data"
    }
   ],
   "source": [
    "import math\n",
    "\n",
    "from bokeh.plotting import figure, show\n",
    "from bokeh.io import output_notebook\n",
    "from bokeh.models import ColumnDataSource, FactorRange\n",
    "from bokeh.palettes import Colorblind6\n",
    "from bokeh.transform import factor_cmap\n",
    "\n",
    "from math import pi\n",
    "\n",
    "output_notebook()"
   ]
  },
  {
   "cell_type": "code",
   "execution_count": 134,
   "id": "9260ec9e",
   "metadata": {},
   "outputs": [],
   "source": [
    "source = ColumnDataSource(df)\n",
    "\n",
    "p = figure(\n",
    "    y_range=FactorRange(*source.data[\"metric_cond_label\"]),\n",
    "    height=450,\n",
    "    title=f\"{exp.name}\",\n",
    "    toolbar_location=None,\n",
    "    tools=\"\"\n",
    ")\n",
    "\n",
    "p.segment(\n",
    "    source.data[\"upper_95_ci\"],\n",
    "    source.data[\"metric_cond_label\"],\n",
    "    source.data[\"upper_68_ci\"],\n",
    "    source.data[\"metric_cond_label\"],\n",
    "    color=\"black\",\n",
    ")\n",
    "\n",
    "p.segment(\n",
    "    source.data[\"lower_95_ci\"],\n",
    "    source.data[\"metric_cond_label\"],\n",
    "    source.data[\"lower_68_ci\"],\n",
    "    source.data[\"metric_cond_label\"],\n",
    "    color=\"black\",\n",
    ")\n",
    "\n",
    "p.hbar(\n",
    "    y='metric_cond_label',\n",
    "    right=\"upper_68_ci\",\n",
    "    left=\"lower_68_ci\",\n",
    "    legend_field='exp_cond',\n",
    "    fill_color=factor_cmap(\n",
    "        'exp_cond', palette=Colorblind6, factors=list(set(source.data[\"exp_cond\"])), start=1, end=2\n",
    "    ),\n",
    "    line_color=None,\n",
    "    height=0.6,\n",
    "    fill_alpha=0.8,\n",
    "    source=source,\n",
    ")\n",
    "\n",
    "p.legend.location = \"top_right\"\n",
    "\n",
    "p.ygrid.grid_line_color = None\n",
    "p.xaxis.axis_label = 'Absolute difference from control'\n",
    "\n",
    "p.yaxis.major_label_text_alpha = 0.0\n",
    "p.yaxis.major_tick_in = 0\n",
    "p.yaxis.major_tick_out = 0\n",
    "p.yaxis.major_label_text_font_size = '1px'\n",
    "\n",
    "p.yaxis.group_label_orientation = \"horizontal\"\n",
    "p.yaxis.separator_line_alpha = 0\n",
    "p.yaxis.minor_tick_line_color = \"yellow\""
   ]
  },
  {
   "cell_type": "code",
   "execution_count": 135,
   "id": "8d4d5111",
   "metadata": {},
   "outputs": [
    {
     "data": {
      "text/html": [
       "\n",
       "\n",
       "\n",
       "\n",
       "\n",
       "\n",
       "  <div class=\"bk-root\" id=\"b7b6f87e-7ab6-493b-926b-376e3478d5ba\" data-root-id=\"20196\"></div>\n"
      ]
     },
     "metadata": {},
     "output_type": "display_data"
    },
    {
     "data": {
      "application/javascript": [
       "(function(root) {\n",
       "  function embed_document(root) {\n",
       "    \n",
       "  var docs_json = {\"263acf33-810c-412a-aac0-322c7049440e\":{\"defs\":[],\"roots\":{\"references\":[{\"attributes\":{\"below\":[{\"id\":\"20206\"}],\"center\":[{\"id\":\"20209\"},{\"id\":\"20212\"},{\"id\":\"20243\"}],\"height\":450,\"left\":[{\"id\":\"20210\"}],\"renderers\":[{\"id\":\"20217\"},{\"id\":\"20222\"},{\"id\":\"20228\"}],\"title\":{\"id\":\"20197\"},\"toolbar\":{\"id\":\"20213\"},\"toolbar_location\":null,\"x_range\":{\"id\":\"20199\"},\"x_scale\":{\"id\":\"20202\"},\"y_range\":{\"id\":\"20195\"},\"y_scale\":{\"id\":\"20204\"}},\"id\":\"20196\",\"subtype\":\"Figure\",\"type\":\"Plot\"},{\"attributes\":{\"formatter\":{\"id\":\"20235\"},\"group_label_orientation\":\"horizontal\",\"major_label_policy\":{\"id\":\"20234\"},\"major_label_text_alpha\":0.0,\"major_label_text_font_size\":\"1px\",\"major_tick_in\":0,\"major_tick_out\":0,\"minor_tick_line_color\":\"yellow\",\"separator_line_alpha\":0,\"ticker\":{\"id\":\"20211\"}},\"id\":\"20210\",\"type\":\"CategoricalAxis\"},{\"attributes\":{\"label\":{\"field\":\"exp_cond\"},\"renderers\":[{\"id\":\"20228\"}]},\"id\":\"20244\",\"type\":\"LegendItem\"},{\"attributes\":{\"axis\":{\"id\":\"20210\"},\"dimension\":1,\"grid_line_color\":null,\"ticker\":null},\"id\":\"20212\",\"type\":\"Grid\"},{\"attributes\":{\"data_source\":{\"id\":\"20194\"},\"glyph\":{\"id\":\"20226\"},\"hover_glyph\":null,\"muted_glyph\":null,\"nonselection_glyph\":{\"id\":\"20227\"},\"view\":{\"id\":\"20229\"}},\"id\":\"20228\",\"type\":\"GlyphRenderer\"},{\"attributes\":{\"factors\":[[\"n_user_sessions\",\"Video01\"],[\"pct_user_sessions\",\"Video01\"],[\"n_incident_views\",\"Video01\"],[\"pct_incident_views\",\"Video01\"],[\"n_user_sessions\",\"Video02\"],[\"pct_user_sessions\",\"Video02\"],[\"n_incident_views\",\"Video02\"],[\"pct_incident_views\",\"Video02\"],[\"n_user_sessions\",\"Carousel01\"],[\"pct_user_sessions\",\"Carousel01\"],[\"n_incident_views\",\"Carousel01\"],[\"pct_incident_views\",\"Carousel01\"],[\"n_user_sessions\",\"Carousel02\"],[\"pct_user_sessions\",\"Carousel02\"],[\"n_incident_views\",\"Carousel02\"],[\"pct_incident_views\",\"Carousel02\"],[\"n_user_sessions\",\"Carousel03\"],[\"pct_user_sessions\",\"Carousel03\"],[\"n_incident_views\",\"Carousel03\"],[\"pct_incident_views\",\"Carousel03\"],[\"n_user_sessions\",\"Carousel04\"],[\"pct_user_sessions\",\"Carousel04\"],[\"n_incident_views\",\"Carousel04\"],[\"pct_incident_views\",\"Carousel04\"]]},\"id\":\"20195\",\"type\":\"FactorRange\"},{\"attributes\":{},\"id\":\"20237\",\"type\":\"Selection\"},{\"attributes\":{},\"id\":\"20199\",\"type\":\"DataRange1d\"},{\"attributes\":{},\"id\":\"20202\",\"type\":\"LinearScale\"},{\"attributes\":{},\"id\":\"20238\",\"type\":\"UnionRenderers\"},{\"attributes\":{},\"id\":\"20211\",\"type\":\"CategoricalTicker\"},{\"attributes\":{\"fill_alpha\":{\"value\":0.8},\"fill_color\":{\"field\":\"exp_cond\",\"transform\":{\"id\":\"20224\"}},\"height\":{\"value\":0.6},\"left\":{\"field\":\"lower_68_ci\"},\"line_color\":{\"value\":null},\"right\":{\"field\":\"upper_68_ci\"},\"y\":{\"field\":\"metric_cond_label\"}},\"id\":\"20226\",\"type\":\"HBar\"},{\"attributes\":{\"end\":2,\"factors\":[\"Carousel02\",\"Video01\",\"Carousel04\",\"Carousel03\",\"Video02\",\"Carousel01\"],\"palette\":[\"#0072B2\",\"#E69F00\",\"#F0E442\",\"#009E73\",\"#56B4E9\",\"#D55E00\"],\"start\":1},\"id\":\"20224\",\"type\":\"CategoricalColorMapper\"},{\"attributes\":{},\"id\":\"20204\",\"type\":\"CategoricalScale\"},{\"attributes\":{\"fill_alpha\":{\"value\":0.1},\"fill_color\":{\"field\":\"exp_cond\",\"transform\":{\"id\":\"20224\"}},\"height\":{\"value\":0.6},\"left\":{\"field\":\"lower_68_ci\"},\"line_alpha\":{\"value\":0.1},\"line_color\":{\"value\":null},\"right\":{\"field\":\"upper_68_ci\"},\"y\":{\"field\":\"metric_cond_label\"}},\"id\":\"20227\",\"type\":\"HBar\"},{\"attributes\":{\"axis_label\":\"Absolute difference from control\",\"formatter\":{\"id\":\"20232\"},\"major_label_policy\":{\"id\":\"20231\"},\"ticker\":{\"id\":\"20207\"}},\"id\":\"20206\",\"type\":\"LinearAxis\"},{\"attributes\":{\"x0\":{\"field\":\"x0\"},\"x1\":{\"field\":\"x1\"},\"y0\":{\"field\":\"y0\"},\"y1\":{\"field\":\"y1\"}},\"id\":\"20215\",\"type\":\"Segment\"},{\"attributes\":{\"x0\":{\"field\":\"x0\"},\"x1\":{\"field\":\"x1\"},\"y0\":{\"field\":\"y0\"},\"y1\":{\"field\":\"y1\"}},\"id\":\"20220\",\"type\":\"Segment\"},{\"attributes\":{\"line_alpha\":{\"value\":0.1},\"x0\":{\"field\":\"x0\"},\"x1\":{\"field\":\"x1\"},\"y0\":{\"field\":\"y0\"},\"y1\":{\"field\":\"y1\"}},\"id\":\"20221\",\"type\":\"Segment\"},{\"attributes\":{\"source\":{\"id\":\"20219\"}},\"id\":\"20223\",\"type\":\"CDSView\"},{\"attributes\":{},\"id\":\"20239\",\"type\":\"Selection\"},{\"attributes\":{\"axis\":{\"id\":\"20206\"},\"ticker\":null},\"id\":\"20209\",\"type\":\"Grid\"},{\"attributes\":{\"data\":{\"est_mean\":{\"__ndarray__\":\"AO/T6Jc9jT+AMga5QFqDP8CF/c83oq2/4KnEoyUnl78AIHd5Rg03v0C0UqqB1YQ/AK4FAycNfz+AO35wQi2Gv4ATTa/w9Ks/AN0u8HBHbz/AEK0sdfSiPwCNZEb4S4e/wHhF9fjwoz8AyVOhzF1xP0BSSOTsObM/AIByljelPb8AlvSEZRV+P4B427DuBH0/AK6h+f5wpj8A/D3B2vZ/vwAsDZNXS38/AHysVy54Xr8AYtnuf92YP0CWPJ9xf42/\",\"dtype\":\"float64\",\"order\":\"little\",\"shape\":[24]},\"est_se\":{\"__ndarray__\":\"nxZzVz7msD/2sqJ7RrF9P4r0TeGPzMA/YrkDjaC8hz+/YcQVlYivPwEZB+00mX0/7l3K2JGEwD/45Fm0LqmHP9jjkUH1hLE/QO1OJBcyfj/yzx0ZeRXBP7TuAXHx1Yc/n+h/WtJ2sD8mMcakt/19Pyivwr07tMI/VuNfmWWnhz8WOKUsLLSvP3yvxMVdBX4/QW2HeEStwj9y7mhiEdiHPyEWcHyzLrE/ZyB4kUiBfj9QPW7YeFPBP9nz+dJk0oc/\",\"dtype\":\"float64\",\"order\":\"little\",\"shape\":[24]},\"exp_cond\":[\"Video01\",\"Video01\",\"Video01\",\"Video01\",\"Video02\",\"Video02\",\"Video02\",\"Video02\",\"Carousel01\",\"Carousel01\",\"Carousel01\",\"Carousel01\",\"Carousel02\",\"Carousel02\",\"Carousel02\",\"Carousel02\",\"Carousel03\",\"Carousel03\",\"Carousel03\",\"Carousel03\",\"Carousel04\",\"Carousel04\",\"Carousel04\",\"Carousel04\"],\"index\":[0,1,2,3,4,5,6,7,8,9,10,11,12,13,14,15,16,17,18,19,20,21,22,23],\"lower_68_ci\":{\"__ndarray__\":\"fjGxtBZ9qr8UZNPsdQZiP/pVTdUdNci/SEMj9bqCob//T7eir7avv/6ePM+cI2g//GBkQVEYv788EGySOOuWv8DQWk/nU4y/gP1uWL0cbb+EF+Wbt7C4v9o9s9v0kJe//LB0f1f5mb9M0OQG1j9pvxAMPZeKLrK/VncTVo+UiL9WpQZ8f/Grv8Bvk07xBjC/ggM+dAkiur859oNhv+mTv8KGfgb8c66/tJ+xE6oPg78gIia1kW+8vwxFGznrqJq/\",\"dtype\":\"float64\",\"order\":\"little\",\"shape\":[24]},\"lower_95_ci\":{\"__ndarray__\":\"Xq/Lsckkvr/sADmFC650v0KlTdvWgNS/oTFkGONxp7/f2D1cop+/v4LJaIVmh3G/Nke+PF0I0L9cgUz251+hv/A9fStyD7W/ADZD6Dpghr+0WxDn1G3Nv5oaGsr2vaG/3hRdOij1tr+mTBxU0U6FvzA1YQmBy8u/Vq25d/odmL+27lXU1dK9v3jmrdrMBX+/Am+mMkm+z79ybbgSyNWfv8Gs179YNMC/9Nc2Licokb9gTgGzQYvPv3wfTNEOSaO/\",\"dtype\":\"float64\",\"order\":\"little\",\"shape\":[24]},\"metric\":[\"n_user_sessions\",\"pct_user_sessions\",\"n_incident_views\",\"pct_incident_views\",\"n_user_sessions\",\"pct_user_sessions\",\"n_incident_views\",\"pct_incident_views\",\"n_user_sessions\",\"pct_user_sessions\",\"n_incident_views\",\"pct_incident_views\",\"n_user_sessions\",\"pct_user_sessions\",\"n_incident_views\",\"pct_incident_views\",\"n_user_sessions\",\"pct_user_sessions\",\"n_incident_views\",\"pct_incident_views\",\"n_user_sessions\",\"pct_user_sessions\",\"n_incident_views\",\"pct_incident_views\"],\"metric_cond_label\":[[\"n_user_sessions\",\"Video01\"],[\"pct_user_sessions\",\"Video01\"],[\"n_incident_views\",\"Video01\"],[\"pct_incident_views\",\"Video01\"],[\"n_user_sessions\",\"Video02\"],[\"pct_user_sessions\",\"Video02\"],[\"n_incident_views\",\"Video02\"],[\"pct_incident_views\",\"Video02\"],[\"n_user_sessions\",\"Carousel01\"],[\"pct_user_sessions\",\"Carousel01\"],[\"n_incident_views\",\"Carousel01\"],[\"pct_incident_views\",\"Carousel01\"],[\"n_user_sessions\",\"Carousel02\"],[\"pct_user_sessions\",\"Carousel02\"],[\"n_incident_views\",\"Carousel02\"],[\"pct_incident_views\",\"Carousel02\"],[\"n_user_sessions\",\"Carousel03\"],[\"pct_user_sessions\",\"Carousel03\"],[\"n_incident_views\",\"Carousel03\"],[\"pct_incident_views\",\"Carousel03\"],[\"n_user_sessions\",\"Carousel04\"],[\"pct_user_sessions\",\"Carousel04\"],[\"n_incident_views\",\"Carousel04\"],[\"pct_incident_views\",\"Carousel04\"]],\"upper_68_ci\":{\"__ndarray__\":\"f5SNVPGNtD/+xWv7cRmRPzQmndoDyLI/XpqFuqqRhr9/c9GIelqvP2AgaxAO0ZE/XoviEPt8wT+Al7o9xL5HP5htOJltf78/4C0zzufqhj8iFElkltLFP4A2rFMlPzE//6Qi1U5vuj8T/Qwjwq2HP0jY5i8yUcw/Vk+s3Du6hj9r5aFubLuxP/4TUDsmhY0/wdjvNoRJyD/IwScHkHJvP+HooPVoI7M/ZwGN+zzjdj+QaUnWKG/EP5yJCjEztGa/\",\"dtype\":\"float64\",\"order\":\"little\",\"shape\":[24]},\"upper_95_ci\":{\"__ndarray__\":\"j1UA1he6wj+7clSaw4WYP6SHnM6RMMo/QPDhJ12vQj+f6krPh3G/P6DmrEtbN5k/pnTWdMYA0T9wjjX4GiWJP7goZW0xgsg/QFItsPkBkz8KcrO+B3TTP2hQn5vqX4g/z0bRlxBzxT/TCrj6TlaTP7jD1Pa2gtc/VhkGu9Awlz+7QHpCwcrAP941GY/qQ5Y/AaO7V2R71T/k3jJktbSPP4F/CDkOKcI/55CCxkKyij9w01vXUOHSP3JRtwZYJYI/\",\"dtype\":\"float64\",\"order\":\"little\",\"shape\":[24]}},\"selected\":{\"id\":\"20241\"},\"selection_policy\":{\"id\":\"20242\"}},\"id\":\"20194\",\"type\":\"ColumnDataSource\"},{\"attributes\":{\"data\":{\"x0\":{\"__ndarray__\":\"Xq/Lsckkvr/sADmFC650v0KlTdvWgNS/oTFkGONxp7/f2D1cop+/v4LJaIVmh3G/Nke+PF0I0L9cgUz251+hv/A9fStyD7W/ADZD6Dpghr+0WxDn1G3Nv5oaGsr2vaG/3hRdOij1tr+mTBxU0U6FvzA1YQmBy8u/Vq25d/odmL+27lXU1dK9v3jmrdrMBX+/Am+mMkm+z79ybbgSyNWfv8Gs179YNMC/9Nc2Licokb9gTgGzQYvPv3wfTNEOSaO/\",\"dtype\":\"float64\",\"order\":\"little\",\"shape\":[24]},\"x1\":{\"__ndarray__\":\"fjGxtBZ9qr8UZNPsdQZiP/pVTdUdNci/SEMj9bqCob//T7eir7avv/6ePM+cI2g//GBkQVEYv788EGySOOuWv8DQWk/nU4y/gP1uWL0cbb+EF+Wbt7C4v9o9s9v0kJe//LB0f1f5mb9M0OQG1j9pvxAMPZeKLrK/VncTVo+UiL9WpQZ8f/Grv8Bvk07xBjC/ggM+dAkiur859oNhv+mTv8KGfgb8c66/tJ+xE6oPg78gIia1kW+8vwxFGznrqJq/\",\"dtype\":\"float64\",\"order\":\"little\",\"shape\":[24]},\"y0\":[[\"n_user_sessions\",\"Video01\"],[\"pct_user_sessions\",\"Video01\"],[\"n_incident_views\",\"Video01\"],[\"pct_incident_views\",\"Video01\"],[\"n_user_sessions\",\"Video02\"],[\"pct_user_sessions\",\"Video02\"],[\"n_incident_views\",\"Video02\"],[\"pct_incident_views\",\"Video02\"],[\"n_user_sessions\",\"Carousel01\"],[\"pct_user_sessions\",\"Carousel01\"],[\"n_incident_views\",\"Carousel01\"],[\"pct_incident_views\",\"Carousel01\"],[\"n_user_sessions\",\"Carousel02\"],[\"pct_user_sessions\",\"Carousel02\"],[\"n_incident_views\",\"Carousel02\"],[\"pct_incident_views\",\"Carousel02\"],[\"n_user_sessions\",\"Carousel03\"],[\"pct_user_sessions\",\"Carousel03\"],[\"n_incident_views\",\"Carousel03\"],[\"pct_incident_views\",\"Carousel03\"],[\"n_user_sessions\",\"Carousel04\"],[\"pct_user_sessions\",\"Carousel04\"],[\"n_incident_views\",\"Carousel04\"],[\"pct_incident_views\",\"Carousel04\"]],\"y1\":[[\"n_user_sessions\",\"Video01\"],[\"pct_user_sessions\",\"Video01\"],[\"n_incident_views\",\"Video01\"],[\"pct_incident_views\",\"Video01\"],[\"n_user_sessions\",\"Video02\"],[\"pct_user_sessions\",\"Video02\"],[\"n_incident_views\",\"Video02\"],[\"pct_incident_views\",\"Video02\"],[\"n_user_sessions\",\"Carousel01\"],[\"pct_user_sessions\",\"Carousel01\"],[\"n_incident_views\",\"Carousel01\"],[\"pct_incident_views\",\"Carousel01\"],[\"n_user_sessions\",\"Carousel02\"],[\"pct_user_sessions\",\"Carousel02\"],[\"n_incident_views\",\"Carousel02\"],[\"pct_incident_views\",\"Carousel02\"],[\"n_user_sessions\",\"Carousel03\"],[\"pct_user_sessions\",\"Carousel03\"],[\"n_incident_views\",\"Carousel03\"],[\"pct_incident_views\",\"Carousel03\"],[\"n_user_sessions\",\"Carousel04\"],[\"pct_user_sessions\",\"Carousel04\"],[\"n_incident_views\",\"Carousel04\"],[\"pct_incident_views\",\"Carousel04\"]]},\"selected\":{\"id\":\"20239\"},\"selection_policy\":{\"id\":\"20240\"}},\"id\":\"20219\",\"type\":\"ColumnDataSource\"},{\"attributes\":{},\"id\":\"20234\",\"type\":\"AllLabels\"},{\"attributes\":{},\"id\":\"20240\",\"type\":\"UnionRenderers\"},{\"attributes\":{},\"id\":\"20232\",\"type\":\"BasicTickFormatter\"},{\"attributes\":{},\"id\":\"20231\",\"type\":\"AllLabels\"},{\"attributes\":{\"line_alpha\":{\"value\":0.1},\"x0\":{\"field\":\"x0\"},\"x1\":{\"field\":\"x1\"},\"y0\":{\"field\":\"y0\"},\"y1\":{\"field\":\"y1\"}},\"id\":\"20216\",\"type\":\"Segment\"},{\"attributes\":{\"text\":\"Dec1021InspirationMomentFinal\"},\"id\":\"20197\",\"type\":\"Title\"},{\"attributes\":{\"data\":{\"x0\":{\"__ndarray__\":\"j1UA1he6wj+7clSaw4WYP6SHnM6RMMo/QPDhJ12vQj+f6krPh3G/P6DmrEtbN5k/pnTWdMYA0T9wjjX4GiWJP7goZW0xgsg/QFItsPkBkz8KcrO+B3TTP2hQn5vqX4g/z0bRlxBzxT/TCrj6TlaTP7jD1Pa2gtc/VhkGu9Awlz+7QHpCwcrAP941GY/qQ5Y/AaO7V2R71T/k3jJktbSPP4F/CDkOKcI/55CCxkKyij9w01vXUOHSP3JRtwZYJYI/\",\"dtype\":\"float64\",\"order\":\"little\",\"shape\":[24]},\"x1\":{\"__ndarray__\":\"f5SNVPGNtD/+xWv7cRmRPzQmndoDyLI/XpqFuqqRhr9/c9GIelqvP2AgaxAO0ZE/XoviEPt8wT+Al7o9xL5HP5htOJltf78/4C0zzufqhj8iFElkltLFP4A2rFMlPzE//6Qi1U5vuj8T/Qwjwq2HP0jY5i8yUcw/Vk+s3Du6hj9r5aFubLuxP/4TUDsmhY0/wdjvNoRJyD/IwScHkHJvP+HooPVoI7M/ZwGN+zzjdj+QaUnWKG/EP5yJCjEztGa/\",\"dtype\":\"float64\",\"order\":\"little\",\"shape\":[24]},\"y0\":[[\"n_user_sessions\",\"Video01\"],[\"pct_user_sessions\",\"Video01\"],[\"n_incident_views\",\"Video01\"],[\"pct_incident_views\",\"Video01\"],[\"n_user_sessions\",\"Video02\"],[\"pct_user_sessions\",\"Video02\"],[\"n_incident_views\",\"Video02\"],[\"pct_incident_views\",\"Video02\"],[\"n_user_sessions\",\"Carousel01\"],[\"pct_user_sessions\",\"Carousel01\"],[\"n_incident_views\",\"Carousel01\"],[\"pct_incident_views\",\"Carousel01\"],[\"n_user_sessions\",\"Carousel02\"],[\"pct_user_sessions\",\"Carousel02\"],[\"n_incident_views\",\"Carousel02\"],[\"pct_incident_views\",\"Carousel02\"],[\"n_user_sessions\",\"Carousel03\"],[\"pct_user_sessions\",\"Carousel03\"],[\"n_incident_views\",\"Carousel03\"],[\"pct_incident_views\",\"Carousel03\"],[\"n_user_sessions\",\"Carousel04\"],[\"pct_user_sessions\",\"Carousel04\"],[\"n_incident_views\",\"Carousel04\"],[\"pct_incident_views\",\"Carousel04\"]],\"y1\":[[\"n_user_sessions\",\"Video01\"],[\"pct_user_sessions\",\"Video01\"],[\"n_incident_views\",\"Video01\"],[\"pct_incident_views\",\"Video01\"],[\"n_user_sessions\",\"Video02\"],[\"pct_user_sessions\",\"Video02\"],[\"n_incident_views\",\"Video02\"],[\"pct_incident_views\",\"Video02\"],[\"n_user_sessions\",\"Carousel01\"],[\"pct_user_sessions\",\"Carousel01\"],[\"n_incident_views\",\"Carousel01\"],[\"pct_incident_views\",\"Carousel01\"],[\"n_user_sessions\",\"Carousel02\"],[\"pct_user_sessions\",\"Carousel02\"],[\"n_incident_views\",\"Carousel02\"],[\"pct_incident_views\",\"Carousel02\"],[\"n_user_sessions\",\"Carousel03\"],[\"pct_user_sessions\",\"Carousel03\"],[\"n_incident_views\",\"Carousel03\"],[\"pct_incident_views\",\"Carousel03\"],[\"n_user_sessions\",\"Carousel04\"],[\"pct_user_sessions\",\"Carousel04\"],[\"n_incident_views\",\"Carousel04\"],[\"pct_incident_views\",\"Carousel04\"]]},\"selected\":{\"id\":\"20237\"},\"selection_policy\":{\"id\":\"20238\"}},\"id\":\"20214\",\"type\":\"ColumnDataSource\"},{\"attributes\":{\"source\":{\"id\":\"20214\"}},\"id\":\"20218\",\"type\":\"CDSView\"},{\"attributes\":{},\"id\":\"20241\",\"type\":\"Selection\"},{\"attributes\":{},\"id\":\"20235\",\"type\":\"CategoricalTickFormatter\"},{\"attributes\":{\"active_multi\":null},\"id\":\"20213\",\"type\":\"Toolbar\"},{\"attributes\":{},\"id\":\"20242\",\"type\":\"UnionRenderers\"},{\"attributes\":{\"data_source\":{\"id\":\"20219\"},\"glyph\":{\"id\":\"20220\"},\"hover_glyph\":null,\"muted_glyph\":null,\"nonselection_glyph\":{\"id\":\"20221\"},\"view\":{\"id\":\"20223\"}},\"id\":\"20222\",\"type\":\"GlyphRenderer\"},{\"attributes\":{\"data_source\":{\"id\":\"20214\"},\"glyph\":{\"id\":\"20215\"},\"hover_glyph\":null,\"muted_glyph\":null,\"nonselection_glyph\":{\"id\":\"20216\"},\"view\":{\"id\":\"20218\"}},\"id\":\"20217\",\"type\":\"GlyphRenderer\"},{\"attributes\":{\"items\":[{\"id\":\"20244\"}]},\"id\":\"20243\",\"type\":\"Legend\"},{\"attributes\":{},\"id\":\"20207\",\"type\":\"BasicTicker\"},{\"attributes\":{\"source\":{\"id\":\"20194\"}},\"id\":\"20229\",\"type\":\"CDSView\"}],\"root_ids\":[\"20196\"]},\"title\":\"Bokeh Application\",\"version\":\"2.3.2\"}};\n",
       "  var render_items = [{\"docid\":\"263acf33-810c-412a-aac0-322c7049440e\",\"root_ids\":[\"20196\"],\"roots\":{\"20196\":\"b7b6f87e-7ab6-493b-926b-376e3478d5ba\"}}];\n",
       "  root.Bokeh.embed.embed_items_notebook(docs_json, render_items);\n",
       "\n",
       "  }\n",
       "  if (root.Bokeh !== undefined) {\n",
       "    embed_document(root);\n",
       "  } else {\n",
       "    var attempts = 0;\n",
       "    var timer = setInterval(function(root) {\n",
       "      if (root.Bokeh !== undefined) {\n",
       "        clearInterval(timer);\n",
       "        embed_document(root);\n",
       "      } else {\n",
       "        attempts++;\n",
       "        if (attempts > 100) {\n",
       "          clearInterval(timer);\n",
       "          console.log(\"Bokeh: ERROR: Unable to run BokehJS code because BokehJS library is missing\");\n",
       "        }\n",
       "      }\n",
       "    }, 10, root)\n",
       "  }\n",
       "})(window);"
      ],
      "application/vnd.bokehjs_exec.v0+json": ""
     },
     "metadata": {
      "application/vnd.bokehjs_exec.v0+json": {
       "id": "20196"
      }
     },
     "output_type": "display_data"
    }
   ],
   "source": [
    "show(p)"
   ]
  },
  {
   "cell_type": "code",
   "execution_count": 27,
   "id": "97e9c04f",
   "metadata": {},
   "outputs": [
    {
     "ename": "SyntaxError",
     "evalue": "invalid syntax (<ipython-input-27-54c7cb717ea1>, line 11)",
     "output_type": "error",
     "traceback": [
      "\u001b[0;36m  File \u001b[0;32m\"<ipython-input-27-54c7cb717ea1>\"\u001b[0;36m, line \u001b[0;32m11\u001b[0m\n\u001b[0;31m    counts = sum(zip(00data['2015'], data['2016'], data['2017']), ())\u001b[0m\n\u001b[0m                       ^\u001b[0m\n\u001b[0;31mSyntaxError\u001b[0m\u001b[0;31m:\u001b[0m invalid syntax\n"
     ]
    }
   ],
   "source": [
    "fruits = ['Apples', 'Pears', 'Nectarines', 'Plums', 'Grapes', 'Strawberries']\n",
    "years = ['2015', '2016', '2017']\n",
    "\n",
    "data = {'fruits' : fruits,\n",
    "        '2015'   : [2, 1, 4, 3, 2, 4],\n",
    "        '2016'   : [5, 3, 3, 2, 4, 6],\n",
    "        '2017'   : [3, 2, 4, 4, 5, 3]}\n",
    "\n",
    "# this creates [ (\"Apples\", \"2015\"), (\"Apples\", \"2016\"), (\"Apples\", \"2017\"), (\"Pears\", \"2015), ... ]\n",
    "x = [ (fruit, year) for fruit in fruits for year in years ]\n",
    "counts = sum(zip(00data['2015'], data['2016'], data['2017']), ())"
   ]
  },
  {
   "cell_type": "code",
   "execution_count": 69,
   "id": "fe976a7b",
   "metadata": {},
   "outputs": [
    {
     "data": {
      "text/html": [
       "<div style=\"display: table;\"><div style=\"display: table-row;\"><div style=\"display: table-cell;\"><b title=\"bokeh.models.labeling.AllLabels\">AllLabels</b>(</div><div style=\"display: table-cell;\">id&nbsp;=&nbsp;'4294', <span id=\"4574\" style=\"cursor: pointer;\">&hellip;)</span></div></div><div class=\"4573\" style=\"display: none;\"><div style=\"display: table-cell;\"></div><div style=\"display: table-cell;\">js_event_callbacks&nbsp;=&nbsp;{},</div></div><div class=\"4573\" style=\"display: none;\"><div style=\"display: table-cell;\"></div><div style=\"display: table-cell;\">js_property_callbacks&nbsp;=&nbsp;{},</div></div><div class=\"4573\" style=\"display: none;\"><div style=\"display: table-cell;\"></div><div style=\"display: table-cell;\">name&nbsp;=&nbsp;None,</div></div><div class=\"4573\" style=\"display: none;\"><div style=\"display: table-cell;\"></div><div style=\"display: table-cell;\">subscribed_events&nbsp;=&nbsp;[],</div></div><div class=\"4573\" style=\"display: none;\"><div style=\"display: table-cell;\"></div><div style=\"display: table-cell;\">syncable&nbsp;=&nbsp;True,</div></div><div class=\"4573\" style=\"display: none;\"><div style=\"display: table-cell;\"></div><div style=\"display: table-cell;\">tags&nbsp;=&nbsp;[])</div></div></div>\n",
       "<script>\n",
       "(function() {\n",
       "  var expanded = false;\n",
       "  var ellipsis = document.getElementById(\"4574\");\n",
       "  ellipsis.addEventListener(\"click\", function() {\n",
       "    var rows = document.getElementsByClassName(\"4573\");\n",
       "    for (var i = 0; i < rows.length; i++) {\n",
       "      var el = rows[i];\n",
       "      el.style.display = expanded ? \"none\" : \"table-row\";\n",
       "    }\n",
       "    ellipsis.innerHTML = expanded ? \"&hellip;)\" : \"&lsaquo;&lsaquo;&lsaquo;\";\n",
       "    expanded = !expanded;\n",
       "  });\n",
       "})();\n",
       "</script>\n"
      ],
      "text/plain": [
       "AllLabels(id='4294', ...)"
      ]
     },
     "execution_count": 69,
     "metadata": {},
     "output_type": "execute_result"
    }
   ],
   "source": [
    "p.yaxis.__dict__[\"_unstable_default_values\"][\"major_label_policy\"]"
   ]
  },
  {
   "cell_type": "code",
   "execution_count": 13,
   "id": "194a98dc",
   "metadata": {},
   "outputs": [
    {
     "data": {
      "text/plain": [
       "(2, 5, 3, 1, 3, 2, 4, 3, 4, 3, 2, 4, 2, 4, 5, 4, 6, 3)"
      ]
     },
     "execution_count": 13,
     "metadata": {},
     "output_type": "execute_result"
    }
   ],
   "source": [
    "counts"
   ]
  },
  {
   "cell_type": "code",
   "execution_count": 36,
   "id": "e2ffe8fd",
   "metadata": {},
   "outputs": [],
   "source": [
    "fruits = ['Apples', 'Pears', 'Nectarines', 'Plums', 'Grapes', 'Strawberries']\n",
    "years = ['2015', '2016', '2017']\n",
    "\n",
    "data = {'fruits' : fruits,\n",
    "        '2015'   : [2, 1, 4, 3, 2, 4],\n",
    "        '2016'   : [5, 3, 3, 2, 4, 6],\n",
    "        '2017'   : [3, 2, 4, 4, 5, 3]}\n",
    "\n",
    "new_source = ColumnDataSource(data=data)"
   ]
  },
  {
   "cell_type": "code",
   "execution_count": 38,
   "id": "c85c84f9",
   "metadata": {},
   "outputs": [
    {
     "data": {
      "text/plain": [
       "{'_id': '2922',\n",
       " '_document': None,\n",
       " '_temp_document': None,\n",
       " '_event_callbacks': {},\n",
       " '_callbacks': {},\n",
       " '_property_values': {'data': {'fruits': ['Apples',\n",
       "    'Pears',\n",
       "    'Nectarines',\n",
       "    'Plums',\n",
       "    'Grapes',\n",
       "    'Strawberries'],\n",
       "   '2015': [2, 1, 4, 3, 2, 4],\n",
       "   '2016': [5, 3, 3, 2, 4, 6],\n",
       "   '2017': [3, 2, 4, 4, 5, 3]}},\n",
       " '_unstable_default_values': {'tags': [],\n",
       "  'subscribed_events': [],\n",
       "  'selection_policy': UnionRenderers(id='2925', ...),\n",
       "  'js_property_callbacks': {},\n",
       "  'selected': Selection(id='2926', ...),\n",
       "  'js_event_callbacks': {}},\n",
       " '_unstable_themed_values': {},\n",
       " '_initialized': True}"
      ]
     },
     "execution_count": 38,
     "metadata": {},
     "output_type": "execute_result"
    }
   ],
   "source": [
    "new_source.__dict__"
   ]
  },
  {
   "cell_type": "code",
   "execution_count": 19,
   "id": "6c566788",
   "metadata": {},
   "outputs": [
    {
     "ename": "KeyError",
     "evalue": "'exp_cond'",
     "output_type": "error",
     "traceback": [
      "\u001b[0;31m---------------------------------------------------------------------------\u001b[0m",
      "\u001b[0;31mKeyError\u001b[0m                                  Traceback (most recent call last)",
      "\u001b[0;32m<ipython-input-19-2f6ef7f019f7>\u001b[0m in \u001b[0;36m<module>\u001b[0;34m\u001b[0m\n\u001b[1;32m     17\u001b[0m \u001b[0;34m\u001b[0m\u001b[0m\n\u001b[1;32m     18\u001b[0m p = figure(\n\u001b[0;32m---> 19\u001b[0;31m     \u001b[0my_range\u001b[0m\u001b[0;34m=\u001b[0m\u001b[0msource\u001b[0m\u001b[0;34m.\u001b[0m\u001b[0mdata\u001b[0m\u001b[0;34m[\u001b[0m\u001b[0;34m\"exp_cond\"\u001b[0m\u001b[0;34m]\u001b[0m\u001b[0;34m,\u001b[0m \u001b[0mheight\u001b[0m\u001b[0;34m=\u001b[0m\u001b[0;36m250\u001b[0m\u001b[0;34m,\u001b[0m \u001b[0mx_range\u001b[0m\u001b[0;34m=\u001b[0m\u001b[0;34m(\u001b[0m\u001b[0;34m-\u001b[0m\u001b[0;36m16\u001b[0m\u001b[0;34m,\u001b[0m \u001b[0;36m16\u001b[0m\u001b[0;34m)\u001b[0m\u001b[0;34m,\u001b[0m \u001b[0mtitle\u001b[0m\u001b[0;34m=\u001b[0m\u001b[0;34m\"Fruit import/export, by year\"\u001b[0m\u001b[0;34m,\u001b[0m\u001b[0;34m\u001b[0m\u001b[0;34m\u001b[0m\u001b[0m\n\u001b[0m\u001b[1;32m     20\u001b[0m     toolbar_location=None)\n\u001b[1;32m     21\u001b[0m \u001b[0;34m\u001b[0m\u001b[0m\n",
      "\u001b[0;31mKeyError\u001b[0m: 'exp_cond'"
     ]
    }
   ],
   "source": [
    "from bokeh.palettes import GnBu3, OrRd3\n",
    "\n",
    "fruits = ['Apples', 'Pears', 'Nectarines', 'Plums', 'Grapes', 'Strawberries']\n",
    "years = [\"2015\", \"2016\", \"2017\"]\n",
    "\n",
    "exports = {'fruits' : fruits,\n",
    "           '2015'   : [2, 1, 4, 3, 2, 4],\n",
    "           '2016'   : [5, 3, 4, 2, 4, 6],\n",
    "           '2017'   : [3, 2, 4, 4, 5, 3]}\n",
    "imports = {'fruits' : fruits,\n",
    "           '2015'   : [-1, 0, -1, -3, -2, -1],\n",
    "           '2016'   : [-2, -1, -3, -1, -2, -2],\n",
    "           '2017'   : [-1, -2, -1, 0, -2, -2]}\n",
    "\n",
    "# p = figure(y_range=fruits, height=250, x_range=(-16, 16), title=\"Fruit import/export, by year\",\n",
    "#            toolbar_location=None)\n",
    "\n",
    "p = figure(\n",
    "    y_range=source.data[\"exp_cond\"], height=250, x_range=(-16, 16), title=\"Fruit import/export, by year\",\n",
    "    toolbar_location=None)\n",
    "\n",
    "p.hbar_stack(years, y='fruits', height=0.9, color=GnBu3, source=ColumnDataSource(exports),\n",
    "             legend_label=[\"%s exports\" % x for x in years])\n",
    "\n",
    "p.y_range.range_padding = 0.1\n",
    "p.ygrid.grid_line_color = None\n",
    "p.legend.location = \"top_left\"\n",
    "p.axis.minor_tick_line_color = None\n",
    "p.outline_line_color = None"
   ]
  },
  {
   "cell_type": "code",
   "execution_count": 16,
   "id": "877f6680",
   "metadata": {},
   "outputs": [
    {
     "data": {
      "text/html": [
       "\n",
       "\n",
       "\n",
       "\n",
       "\n",
       "\n",
       "  <div class=\"bk-root\" id=\"05b08aeb-c400-4b81-b1bd-ebabd46d70f2\" data-root-id=\"1438\"></div>\n"
      ]
     },
     "metadata": {},
     "output_type": "display_data"
    },
    {
     "data": {
      "application/javascript": [
       "(function(root) {\n",
       "  function embed_document(root) {\n",
       "    \n",
       "  var docs_json = {\"253185ba-f591-4186-8049-66cacc2f1451\":{\"defs\":[],\"roots\":{\"references\":[{\"attributes\":{\"below\":[{\"id\":\"1449\"}],\"center\":[{\"id\":\"1452\"},{\"id\":\"1455\"},{\"id\":\"1492\"}],\"height\":250,\"left\":[{\"id\":\"1453\"}],\"outline_line_color\":null,\"renderers\":[{\"id\":\"1480\"},{\"id\":\"1497\"},{\"id\":\"1513\"}],\"title\":{\"id\":\"1439\"},\"toolbar\":{\"id\":\"1463\"},\"toolbar_location\":null,\"x_range\":{\"id\":\"1441\"},\"x_scale\":{\"id\":\"1445\"},\"y_range\":{\"id\":\"1443\"},\"y_scale\":{\"id\":\"1447\"}},\"id\":\"1438\",\"subtype\":\"Figure\",\"type\":\"Plot\"},{\"attributes\":{\"label\":{\"value\":\"2017 exports\"},\"renderers\":[{\"id\":\"1513\"}]},\"id\":\"1525\",\"type\":\"LegendItem\"},{\"attributes\":{\"data\":{\"2015\":[2,1,4,3,2,4],\"2016\":[5,3,4,2,4,6],\"2017\":[3,2,4,4,5,3],\"fruits\":[\"Apples\",\"Pears\",\"Nectarines\",\"Plums\",\"Grapes\",\"Strawberries\"]},\"selected\":{\"id\":\"1489\"},\"selection_policy\":{\"id\":\"1490\"}},\"id\":\"1470\",\"type\":\"ColumnDataSource\"},{\"attributes\":{\"data_source\":{\"id\":\"1470\"},\"glyph\":{\"id\":\"1511\"},\"hover_glyph\":null,\"muted_glyph\":null,\"name\":\"2017\",\"nonselection_glyph\":{\"id\":\"1512\"},\"view\":{\"id\":\"1514\"}},\"id\":\"1513\",\"type\":\"GlyphRenderer\"},{\"attributes\":{\"fill_alpha\":{\"value\":0.1},\"fill_color\":{\"value\":\"#e0f3db\"},\"height\":{\"value\":0.9},\"left\":{\"expr\":{\"id\":\"1475\"}},\"line_alpha\":{\"value\":0.1},\"line_color\":{\"value\":\"#e0f3db\"},\"right\":{\"expr\":{\"id\":\"1476\"}},\"y\":{\"field\":\"fruits\"}},\"id\":\"1512\",\"type\":\"HBar\"},{\"attributes\":{},\"id\":\"1489\",\"type\":\"Selection\"},{\"attributes\":{\"source\":{\"id\":\"1470\"}},\"id\":\"1514\",\"type\":\"CDSView\"},{\"attributes\":{},\"id\":\"1490\",\"type\":\"UnionRenderers\"},{\"attributes\":{\"bottom_units\":\"screen\",\"fill_alpha\":0.5,\"fill_color\":\"lightgrey\",\"left_units\":\"screen\",\"level\":\"overlay\",\"line_alpha\":1.0,\"line_color\":\"black\",\"line_dash\":[4,4],\"line_width\":2,\"right_units\":\"screen\",\"syncable\":false,\"top_units\":\"screen\"},\"id\":\"1462\",\"type\":\"BoxAnnotation\"},{\"attributes\":{},\"id\":\"1483\",\"type\":\"BasicTickFormatter\"},{\"attributes\":{},\"id\":\"1486\",\"type\":\"CategoricalTickFormatter\"},{\"attributes\":{},\"id\":\"1460\",\"type\":\"ResetTool\"},{\"attributes\":{\"fill_alpha\":{\"value\":0.1},\"fill_color\":{\"value\":\"#43a2ca\"},\"height\":{\"value\":0.9},\"left\":{\"expr\":{\"id\":\"1471\"}},\"line_alpha\":{\"value\":0.1},\"line_color\":{\"value\":\"#43a2ca\"},\"right\":{\"expr\":{\"id\":\"1472\"}},\"y\":{\"field\":\"fruits\"}},\"id\":\"1479\",\"type\":\"HBar\"},{\"attributes\":{},\"id\":\"1459\",\"type\":\"SaveTool\"},{\"attributes\":{\"overlay\":{\"id\":\"1462\"}},\"id\":\"1458\",\"type\":\"BoxZoomTool\"},{\"attributes\":{},\"id\":\"1456\",\"type\":\"PanTool\"},{\"attributes\":{},\"id\":\"1488\",\"type\":\"AllLabels\"},{\"attributes\":{},\"id\":\"1457\",\"type\":\"WheelZoomTool\"},{\"attributes\":{\"active_multi\":null,\"tools\":[{\"id\":\"1456\"},{\"id\":\"1457\"},{\"id\":\"1458\"},{\"id\":\"1459\"},{\"id\":\"1460\"},{\"id\":\"1461\"}]},\"id\":\"1463\",\"type\":\"Toolbar\"},{\"attributes\":{},\"id\":\"1450\",\"type\":\"BasicTicker\"},{\"attributes\":{\"axis\":{\"id\":\"1453\"},\"dimension\":1,\"grid_line_color\":null,\"ticker\":null},\"id\":\"1455\",\"type\":\"Grid\"},{\"attributes\":{\"axis\":{\"id\":\"1449\"},\"ticker\":null},\"id\":\"1452\",\"type\":\"Grid\"},{\"attributes\":{\"data_source\":{\"id\":\"1470\"},\"glyph\":{\"id\":\"1478\"},\"hover_glyph\":null,\"muted_glyph\":null,\"name\":\"2015\",\"nonselection_glyph\":{\"id\":\"1479\"},\"view\":{\"id\":\"1481\"}},\"id\":\"1480\",\"type\":\"GlyphRenderer\"},{\"attributes\":{},\"id\":\"1454\",\"type\":\"CategoricalTicker\"},{\"attributes\":{},\"id\":\"1461\",\"type\":\"HelpTool\"},{\"attributes\":{},\"id\":\"1445\",\"type\":\"LinearScale\"},{\"attributes\":{},\"id\":\"1447\",\"type\":\"CategoricalScale\"},{\"attributes\":{},\"id\":\"1485\",\"type\":\"AllLabels\"},{\"attributes\":{\"fill_color\":{\"value\":\"#a8ddb5\"},\"height\":{\"value\":0.9},\"left\":{\"expr\":{\"id\":\"1473\"}},\"line_color\":{\"value\":\"#a8ddb5\"},\"right\":{\"expr\":{\"id\":\"1474\"}},\"y\":{\"field\":\"fruits\"}},\"id\":\"1495\",\"type\":\"HBar\"},{\"attributes\":{\"factors\":[\"Apples\",\"Pears\",\"Nectarines\",\"Plums\",\"Grapes\",\"Strawberries\"],\"range_padding\":0.1},\"id\":\"1443\",\"type\":\"FactorRange\"},{\"attributes\":{\"fields\":[\"2015\",\"2016\"]},\"id\":\"1474\",\"type\":\"Stack\"},{\"attributes\":{\"source\":{\"id\":\"1470\"}},\"id\":\"1498\",\"type\":\"CDSView\"},{\"attributes\":{\"label\":{\"value\":\"2015 exports\"},\"renderers\":[{\"id\":\"1480\"}]},\"id\":\"1493\",\"type\":\"LegendItem\"},{\"attributes\":{\"formatter\":{\"id\":\"1486\"},\"major_label_policy\":{\"id\":\"1488\"},\"minor_tick_line_color\":null,\"ticker\":{\"id\":\"1454\"}},\"id\":\"1453\",\"type\":\"CategoricalAxis\"},{\"attributes\":{},\"id\":\"1441\",\"type\":\"DataRange1d\"},{\"attributes\":{\"fields\":[\"2015\"]},\"id\":\"1473\",\"type\":\"Stack\"},{\"attributes\":{\"formatter\":{\"id\":\"1483\"},\"major_label_policy\":{\"id\":\"1485\"},\"minor_tick_line_color\":null,\"ticker\":{\"id\":\"1450\"}},\"id\":\"1449\",\"type\":\"LinearAxis\"},{\"attributes\":{\"fill_alpha\":{\"value\":0.1},\"fill_color\":{\"value\":\"#a8ddb5\"},\"height\":{\"value\":0.9},\"left\":{\"expr\":{\"id\":\"1473\"}},\"line_alpha\":{\"value\":0.1},\"line_color\":{\"value\":\"#a8ddb5\"},\"right\":{\"expr\":{\"id\":\"1474\"}},\"y\":{\"field\":\"fruits\"}},\"id\":\"1496\",\"type\":\"HBar\"},{\"attributes\":{\"fields\":[\"2015\",\"2016\"]},\"id\":\"1475\",\"type\":\"Stack\"},{\"attributes\":{\"text\":\"Fruit import/export, by year\"},\"id\":\"1439\",\"type\":\"Title\"},{\"attributes\":{\"items\":[{\"id\":\"1493\"},{\"id\":\"1509\"},{\"id\":\"1525\"}],\"location\":\"top_left\"},\"id\":\"1492\",\"type\":\"Legend\"},{\"attributes\":{\"label\":{\"value\":\"2016 exports\"},\"renderers\":[{\"id\":\"1497\"}]},\"id\":\"1509\",\"type\":\"LegendItem\"},{\"attributes\":{\"fields\":[\"2015\",\"2016\",\"2017\"]},\"id\":\"1476\",\"type\":\"Stack\"},{\"attributes\":{\"fields\":[\"2015\"]},\"id\":\"1472\",\"type\":\"Stack\"},{\"attributes\":{\"fill_color\":{\"value\":\"#43a2ca\"},\"height\":{\"value\":0.9},\"left\":{\"expr\":{\"id\":\"1471\"}},\"line_color\":{\"value\":\"#43a2ca\"},\"right\":{\"expr\":{\"id\":\"1472\"}},\"y\":{\"field\":\"fruits\"}},\"id\":\"1478\",\"type\":\"HBar\"},{\"attributes\":{\"source\":{\"id\":\"1470\"}},\"id\":\"1481\",\"type\":\"CDSView\"},{\"attributes\":{\"fill_color\":{\"value\":\"#e0f3db\"},\"height\":{\"value\":0.9},\"left\":{\"expr\":{\"id\":\"1475\"}},\"line_color\":{\"value\":\"#e0f3db\"},\"right\":{\"expr\":{\"id\":\"1476\"}},\"y\":{\"field\":\"fruits\"}},\"id\":\"1511\",\"type\":\"HBar\"},{\"attributes\":{\"data_source\":{\"id\":\"1470\"},\"glyph\":{\"id\":\"1495\"},\"hover_glyph\":null,\"muted_glyph\":null,\"name\":\"2016\",\"nonselection_glyph\":{\"id\":\"1496\"},\"view\":{\"id\":\"1498\"}},\"id\":\"1497\",\"type\":\"GlyphRenderer\"},{\"attributes\":{\"fields\":[]},\"id\":\"1471\",\"type\":\"Stack\"}],\"root_ids\":[\"1438\"]},\"title\":\"Bokeh Application\",\"version\":\"2.3.2\"}};\n",
       "  var render_items = [{\"docid\":\"253185ba-f591-4186-8049-66cacc2f1451\",\"root_ids\":[\"1438\"],\"roots\":{\"1438\":\"05b08aeb-c400-4b81-b1bd-ebabd46d70f2\"}}];\n",
       "  root.Bokeh.embed.embed_items_notebook(docs_json, render_items);\n",
       "\n",
       "  }\n",
       "  if (root.Bokeh !== undefined) {\n",
       "    embed_document(root);\n",
       "  } else {\n",
       "    var attempts = 0;\n",
       "    var timer = setInterval(function(root) {\n",
       "      if (root.Bokeh !== undefined) {\n",
       "        clearInterval(timer);\n",
       "        embed_document(root);\n",
       "      } else {\n",
       "        attempts++;\n",
       "        if (attempts > 100) {\n",
       "          clearInterval(timer);\n",
       "          console.log(\"Bokeh: ERROR: Unable to run BokehJS code because BokehJS library is missing\");\n",
       "        }\n",
       "      }\n",
       "    }, 10, root)\n",
       "  }\n",
       "})(window);"
      ],
      "application/vnd.bokehjs_exec.v0+json": ""
     },
     "metadata": {
      "application/vnd.bokehjs_exec.v0+json": {
       "id": "1438"
      }
     },
     "output_type": "display_data"
    }
   ],
   "source": [
    "show(p)"
   ]
  },
  {
   "cell_type": "code",
   "execution_count": 9,
   "id": "de64cec3",
   "metadata": {},
   "outputs": [
    {
     "data": {
      "text/html": [
       "<div>\n",
       "<style scoped>\n",
       "    .dataframe tbody tr th:only-of-type {\n",
       "        vertical-align: middle;\n",
       "    }\n",
       "\n",
       "    .dataframe tbody tr th {\n",
       "        vertical-align: top;\n",
       "    }\n",
       "\n",
       "    .dataframe thead th {\n",
       "        text-align: right;\n",
       "    }\n",
       "</style>\n",
       "<table border=\"1\" class=\"dataframe\">\n",
       "  <thead>\n",
       "    <tr style=\"text-align: right;\">\n",
       "      <th></th>\n",
       "      <th>n_user_sessions_est</th>\n",
       "      <th>n_user_sessions_ci</th>\n",
       "      <th>pct_user_sessions_est</th>\n",
       "      <th>pct_user_sessions_ci</th>\n",
       "      <th>n_incident_views_est</th>\n",
       "      <th>n_incident_views_ci</th>\n",
       "      <th>pct_incident_views_est</th>\n",
       "      <th>pct_incident_views_ci</th>\n",
       "    </tr>\n",
       "    <tr>\n",
       "      <th>exp_cond</th>\n",
       "      <th></th>\n",
       "      <th></th>\n",
       "      <th></th>\n",
       "      <th></th>\n",
       "      <th></th>\n",
       "      <th></th>\n",
       "      <th></th>\n",
       "      <th></th>\n",
       "    </tr>\n",
       "  </thead>\n",
       "  <tbody>\n",
       "    <tr>\n",
       "      <th>Video01</th>\n",
       "      <td>0.014278</td>\n",
       "      <td>0.129386</td>\n",
       "      <td>0.009449</td>\n",
       "      <td>0.014208</td>\n",
       "      <td>-0.057878</td>\n",
       "      <td>0.257236</td>\n",
       "      <td>-0.022610</td>\n",
       "      <td>0.022717</td>\n",
       "    </tr>\n",
       "    <tr>\n",
       "      <th>Video02</th>\n",
       "      <td>-0.000352</td>\n",
       "      <td>0.120714</td>\n",
       "      <td>0.010173</td>\n",
       "      <td>0.014163</td>\n",
       "      <td>0.007581</td>\n",
       "      <td>0.252930</td>\n",
       "      <td>-0.010829</td>\n",
       "      <td>0.022644</td>\n",
       "    </tr>\n",
       "    <tr>\n",
       "      <th>Carousel01</th>\n",
       "      <td>0.054603</td>\n",
       "      <td>0.134133</td>\n",
       "      <td>0.003818</td>\n",
       "      <td>0.014449</td>\n",
       "      <td>0.037021</td>\n",
       "      <td>0.261597</td>\n",
       "      <td>-0.011375</td>\n",
       "      <td>0.022812</td>\n",
       "    </tr>\n",
       "    <tr>\n",
       "      <th>Carousel02</th>\n",
       "      <td>0.038948</td>\n",
       "      <td>0.126054</td>\n",
       "      <td>0.004240</td>\n",
       "      <td>0.014351</td>\n",
       "      <td>0.075103</td>\n",
       "      <td>0.286406</td>\n",
       "      <td>-0.000452</td>\n",
       "      <td>0.022638</td>\n",
       "    </tr>\n",
       "    <tr>\n",
       "      <th>Carousel03</th>\n",
       "      <td>0.007345</td>\n",
       "      <td>0.121366</td>\n",
       "      <td>0.007085</td>\n",
       "      <td>0.014365</td>\n",
       "      <td>0.043831</td>\n",
       "      <td>0.285989</td>\n",
       "      <td>-0.007804</td>\n",
       "      <td>0.022819</td>\n",
       "    </tr>\n",
       "  </tbody>\n",
       "</table>\n",
       "</div>"
      ],
      "text/plain": [
       "            n_user_sessions_est  n_user_sessions_ci  pct_user_sessions_est  \\\n",
       "exp_cond                                                                     \n",
       "Video01                0.014278            0.129386               0.009449   \n",
       "Video02               -0.000352            0.120714               0.010173   \n",
       "Carousel01             0.054603            0.134133               0.003818   \n",
       "Carousel02             0.038948            0.126054               0.004240   \n",
       "Carousel03             0.007345            0.121366               0.007085   \n",
       "\n",
       "            pct_user_sessions_ci  n_incident_views_est  n_incident_views_ci  \\\n",
       "exp_cond                                                                      \n",
       "Video01                 0.014208             -0.057878             0.257236   \n",
       "Video02                 0.014163              0.007581             0.252930   \n",
       "Carousel01              0.014449              0.037021             0.261597   \n",
       "Carousel02              0.014351              0.075103             0.286406   \n",
       "Carousel03              0.014365              0.043831             0.285989   \n",
       "\n",
       "            pct_incident_views_est  pct_incident_views_ci  \n",
       "exp_cond                                                   \n",
       "Video01                  -0.022610               0.022717  \n",
       "Video02                  -0.010829               0.022644  \n",
       "Carousel01               -0.011375               0.022812  \n",
       "Carousel02               -0.000452               0.022638  \n",
       "Carousel03               -0.007804               0.022819  "
      ]
     },
     "execution_count": 9,
     "metadata": {},
     "output_type": "execute_result"
    }
   ],
   "source": [
    "df.head()"
   ]
  },
  {
   "cell_type": "code",
   "execution_count": 31,
   "id": "cab33ddc",
   "metadata": {},
   "outputs": [
    {
     "data": {
      "text/html": [
       "<div style=\"display: table;\"><div style=\"display: table-row;\"><div style=\"display: table-cell;\"><b title=\"bokeh.models.renderers.GlyphRenderer\">GlyphRenderer</b>(</div><div style=\"display: table-cell;\">id&nbsp;=&nbsp;'1858', <span id=\"1861\" style=\"cursor: pointer;\">&hellip;)</span></div></div><div class=\"1860\" style=\"display: none;\"><div style=\"display: table-cell;\"></div><div style=\"display: table-cell;\">data_source&nbsp;=&nbsp;ColumnDataSource(id='1855', ...),</div></div><div class=\"1860\" style=\"display: none;\"><div style=\"display: table-cell;\"></div><div style=\"display: table-cell;\">glyph&nbsp;=&nbsp;Segment(id='1856', ...),</div></div><div class=\"1860\" style=\"display: none;\"><div style=\"display: table-cell;\"></div><div style=\"display: table-cell;\">hover_glyph&nbsp;=&nbsp;None,</div></div><div class=\"1860\" style=\"display: none;\"><div style=\"display: table-cell;\"></div><div style=\"display: table-cell;\">js_event_callbacks&nbsp;=&nbsp;{},</div></div><div class=\"1860\" style=\"display: none;\"><div style=\"display: table-cell;\"></div><div style=\"display: table-cell;\">js_property_callbacks&nbsp;=&nbsp;{},</div></div><div class=\"1860\" style=\"display: none;\"><div style=\"display: table-cell;\"></div><div style=\"display: table-cell;\">level&nbsp;=&nbsp;'glyph',</div></div><div class=\"1860\" style=\"display: none;\"><div style=\"display: table-cell;\"></div><div style=\"display: table-cell;\">muted&nbsp;=&nbsp;False,</div></div><div class=\"1860\" style=\"display: none;\"><div style=\"display: table-cell;\"></div><div style=\"display: table-cell;\">muted_glyph&nbsp;=&nbsp;None,</div></div><div class=\"1860\" style=\"display: none;\"><div style=\"display: table-cell;\"></div><div style=\"display: table-cell;\">name&nbsp;=&nbsp;None,</div></div><div class=\"1860\" style=\"display: none;\"><div style=\"display: table-cell;\"></div><div style=\"display: table-cell;\">nonselection_glyph&nbsp;=&nbsp;Segment(id='1857', ...),</div></div><div class=\"1860\" style=\"display: none;\"><div style=\"display: table-cell;\"></div><div style=\"display: table-cell;\">selection_glyph&nbsp;=&nbsp;'auto',</div></div><div class=\"1860\" style=\"display: none;\"><div style=\"display: table-cell;\"></div><div style=\"display: table-cell;\">subscribed_events&nbsp;=&nbsp;[],</div></div><div class=\"1860\" style=\"display: none;\"><div style=\"display: table-cell;\"></div><div style=\"display: table-cell;\">syncable&nbsp;=&nbsp;True,</div></div><div class=\"1860\" style=\"display: none;\"><div style=\"display: table-cell;\"></div><div style=\"display: table-cell;\">tags&nbsp;=&nbsp;[],</div></div><div class=\"1860\" style=\"display: none;\"><div style=\"display: table-cell;\"></div><div style=\"display: table-cell;\">view&nbsp;=&nbsp;CDSView(id='1859', ...),</div></div><div class=\"1860\" style=\"display: none;\"><div style=\"display: table-cell;\"></div><div style=\"display: table-cell;\">visible&nbsp;=&nbsp;True,</div></div><div class=\"1860\" style=\"display: none;\"><div style=\"display: table-cell;\"></div><div style=\"display: table-cell;\">x_range_name&nbsp;=&nbsp;'default',</div></div><div class=\"1860\" style=\"display: none;\"><div style=\"display: table-cell;\"></div><div style=\"display: table-cell;\">y_range_name&nbsp;=&nbsp;'default')</div></div></div>\n",
       "<script>\n",
       "(function() {\n",
       "  var expanded = false;\n",
       "  var ellipsis = document.getElementById(\"1861\");\n",
       "  ellipsis.addEventListener(\"click\", function() {\n",
       "    var rows = document.getElementsByClassName(\"1860\");\n",
       "    for (var i = 0; i < rows.length; i++) {\n",
       "      var el = rows[i];\n",
       "      el.style.display = expanded ? \"none\" : \"table-row\";\n",
       "    }\n",
       "    ellipsis.innerHTML = expanded ? \"&hellip;)\" : \"&lsaquo;&lsaquo;&lsaquo;\";\n",
       "    expanded = !expanded;\n",
       "  });\n",
       "})();\n",
       "</script>\n"
      ],
      "text/plain": [
       "GlyphRenderer(id='1858', ...)"
      ]
     },
     "execution_count": 31,
     "metadata": {},
     "output_type": "execute_result"
    }
   ],
   "source": [
    "from math import pi\n",
    "\n",
    "TOOLS = \"pan,wheel_zoom,box_zoom,reset,save\"\n",
    "\n",
    "p = figure(tools=TOOLS, width=1000, title = \"Look at our beautiful baby boy\")\n",
    "p.xaxis.major_label_orientation = pi/4\n",
    "p.grid.grid_line_alpha=0.3\n",
    "\n",
    "p.segment(df.index, df.high, df.date, df.low, color=\"black\")\n",
    "# w = 12*60*60*1000 # half day in ms\n",
    "# p.vbar(df.date[inc], w, df.open[inc], df.close[inc], fill_color=\"#D5E1DD\", line_color=\"black\")\n",
    "# p.vbar(df.date[dec], w, df.open[dec], df.close[dec], fill_color=\"#F2583E\", line_color=\"black\")"
   ]
  },
  {
   "cell_type": "code",
   "execution_count": 32,
   "id": "85a89859",
   "metadata": {},
   "outputs": [
    {
     "data": {
      "text/plain": [
       "RangeIndex(start=0, stop=50, step=1)"
      ]
     },
     "execution_count": 32,
     "metadata": {},
     "output_type": "execute_result"
    }
   ],
   "source": [
    "df.index"
   ]
  },
  {
   "cell_type": "code",
   "execution_count": 33,
   "id": "2740d3a9",
   "metadata": {},
   "outputs": [
    {
     "data": {
      "text/html": [
       "\n",
       "\n",
       "\n",
       "\n",
       "\n",
       "\n",
       "  <div class=\"bk-root\" id=\"77a2840d-2d1f-4630-bff4-8ff163e69348\" data-root-id=\"1824\"></div>\n"
      ]
     },
     "metadata": {},
     "output_type": "display_data"
    },
    {
     "data": {
      "application/javascript": [
       "(function(root) {\n",
       "  function embed_document(root) {\n",
       "    \n",
       "  var docs_json = {\"eb049903-eea9-4e95-bac2-01953c92b0bb\":{\"defs\":[],\"roots\":{\"references\":[{\"attributes\":{\"below\":[{\"id\":\"1835\"}],\"center\":[{\"id\":\"1838\"},{\"id\":\"1842\"}],\"left\":[{\"id\":\"1839\"}],\"renderers\":[{\"id\":\"1858\"}],\"title\":{\"id\":\"1825\"},\"toolbar\":{\"id\":\"1849\"},\"width\":1000,\"x_range\":{\"id\":\"1827\"},\"x_scale\":{\"id\":\"1831\"},\"y_range\":{\"id\":\"1829\"},\"y_scale\":{\"id\":\"1833\"}},\"id\":\"1824\",\"subtype\":\"Figure\",\"type\":\"Plot\"},{\"attributes\":{\"formatter\":{\"id\":\"1950\"},\"major_label_policy\":{\"id\":\"1948\"},\"ticker\":{\"id\":\"1840\"}},\"id\":\"1839\",\"type\":\"LinearAxis\"},{\"attributes\":{},\"id\":\"1833\",\"type\":\"LinearScale\"},{\"attributes\":{\"formatter\":{\"id\":\"1953\"},\"major_label_orientation\":0.7853981633974483,\"major_label_policy\":{\"id\":\"1951\"},\"ticker\":{\"id\":\"1836\"}},\"id\":\"1835\",\"type\":\"LinearAxis\"},{\"attributes\":{},\"id\":\"1829\",\"type\":\"DataRange1d\"},{\"attributes\":{},\"id\":\"1954\",\"type\":\"Selection\"},{\"attributes\":{},\"id\":\"1955\",\"type\":\"UnionRenderers\"},{\"attributes\":{\"x0\":{\"field\":\"x0\"},\"x1\":{\"field\":\"x1\"},\"y0\":{\"field\":\"y0\"},\"y1\":{\"field\":\"y1\"}},\"id\":\"1856\",\"type\":\"Segment\"},{\"attributes\":{},\"id\":\"1831\",\"type\":\"LinearScale\"},{\"attributes\":{},\"id\":\"1827\",\"type\":\"DataRange1d\"},{\"attributes\":{\"bottom_units\":\"screen\",\"fill_alpha\":0.5,\"fill_color\":\"lightgrey\",\"left_units\":\"screen\",\"level\":\"overlay\",\"line_alpha\":1.0,\"line_color\":\"black\",\"line_dash\":[4,4],\"line_width\":2,\"right_units\":\"screen\",\"syncable\":false,\"top_units\":\"screen\"},\"id\":\"1848\",\"type\":\"BoxAnnotation\"},{\"attributes\":{},\"id\":\"1948\",\"type\":\"AllLabels\"},{\"attributes\":{},\"id\":\"1953\",\"type\":\"BasicTickFormatter\"},{\"attributes\":{},\"id\":\"1836\",\"type\":\"BasicTicker\"},{\"attributes\":{\"axis\":{\"id\":\"1835\"},\"grid_line_alpha\":0.3,\"ticker\":null},\"id\":\"1838\",\"type\":\"Grid\"},{\"attributes\":{},\"id\":\"1950\",\"type\":\"BasicTickFormatter\"},{\"attributes\":{\"text\":\"Look at our beautiful baby boy\"},\"id\":\"1825\",\"type\":\"Title\"},{\"attributes\":{\"active_multi\":null,\"tools\":[{\"id\":\"1843\"},{\"id\":\"1844\"},{\"id\":\"1845\"},{\"id\":\"1846\"},{\"id\":\"1847\"}]},\"id\":\"1849\",\"type\":\"Toolbar\"},{\"attributes\":{},\"id\":\"1843\",\"type\":\"PanTool\"},{\"attributes\":{},\"id\":\"1846\",\"type\":\"ResetTool\"},{\"attributes\":{\"source\":{\"id\":\"1855\"}},\"id\":\"1859\",\"type\":\"CDSView\"},{\"attributes\":{\"axis\":{\"id\":\"1839\"},\"dimension\":1,\"grid_line_alpha\":0.3,\"ticker\":null},\"id\":\"1842\",\"type\":\"Grid\"},{\"attributes\":{},\"id\":\"1844\",\"type\":\"WheelZoomTool\"},{\"attributes\":{},\"id\":\"1951\",\"type\":\"AllLabels\"},{\"attributes\":{\"data\":{\"x0\":[0,1,2,3,4,5,6,7,8,9,10,11,12,13,14,15,16,17,18,19,20,21,22,23,24,25,26,27,28,29,30,31,32,33,34,35,36,37,38,39,40,41,42,43,44,45,46,47,48,49],\"x1\":{\"__ndarray__\":\"AACAp/mza0IAAABznrRrQgAAgD5DtWtCAAAAoTG3a0IAAIBs1rdrQgAAADh7uGtCAACAAyC5a0IAAADPxLlrQgAAgDGzu2tCAAAA/Ve8a0IAAIDI/LxrQgAAAJShvWtCAACAX0a+a0IAAADCNMBrQgAAgI3ZwGtCAAAAWX7Ba0IAAIAkI8JrQgAAAPDHwmtCAACAUrbEa0IAAAAeW8VrQgAAgOn/xWtCAAAAtaTGa0IAAICAScdrQgAAAOM3yWtCAACArtzJa0IAAAB6gcprQgAAgEUmy2tCAAAAEcvLa0IAAIBzuc1rQgAAAD9ezmtCAACACgPPa0IAAADWp89rQgAAgKFM0GtCAAAABDvSa0IAAIDP39JrQgAAAJuE02tCAACAZinUa0IAAICUvNZrQgAAAGBh12tCAACAKwbYa0IAAAD3qthrQgAAgMJP2WtCAAAAJT7ba0IAAIDw4ttrQgAAALyH3GtCAACAhyzda0IAAABT0d1rQgAAgLW/32tCAAAAgWTga0IAAIBMCeFrQg==\",\"dtype\":\"float64\",\"order\":\"little\",\"shape\":[50]},\"y0\":{\"__ndarray__\":\"9ihcj8KFV0BI4XoUrtdXQEjhehSut1hASOF6FK5XWEAAAAAAAGBYQFyPwvUoDFhAAAAAAAAAWUAAAAAAAKBZQAAAAAAAEFlAAAAAAADQWEBI4XoUridYQFyPwvUoLFhAAAAAAADgWEAAAAAAAPBYQEjhehSux1lASOF6FK5nWkBI4XoUrjdcQAAAAAAAwFxAAAAAAAAQW0Bcj8L1KNxaQFyPwvUoPFtASOF6FK4nW0AAAAAAABBbQAAAAAAAIFhAAAAAAAAAV0AAAAAAACBWQAAAAAAAAFZASOF6FK5XVkBI4XoUridWQKRwPQrXg1VAAAAAAACQVEAAAAAAAJBUQAAAAAAA4FNAAAAAAAAAU0Bcj8L1KHxUQAAAAAAAYFRASOF6FK73U0AAAAAAAABRQAAAAAAAYFFASOF6FK7HUUBcj8L1KHxRQAAAAAAAwFFAAAAAAACAUkAAAAAAAGBSQKRwPQrXs1FAAAAAAADQUUCkcD0K1/NRQEjhehSu11FAXI/C9SicUUBI4XoUrvdQQA==\",\"dtype\":\"float64\",\"order\":\"little\",\"shape\":[50]},\"y1\":{\"__ndarray__\":\"XI/C9Sg8VkBI4XoUrsdWQEjhehSud1dASOF6FK6HVkBcj8L1KPxWQAAAAAAAwFZAAAAAAADAV0AAAAAAAOBYQAAAAAAAYFhASOF6FK7HV0Bcj8L1KGxXQAAAAAAAUFdAAAAAAACgV0AAAAAAACBYQAAAAAAAIFhASOF6FK5HWUBI4XoUrqdaQKRwPQrXY1tAXI/C9Sj8WUBI4XoUrpdZQEjhehSuR1pAAAAAAACgWUBI4XoUrgdaQAAAAAAAgFZAXI/C9Sg8VUBI4XoUrndVQOF6FK5HUVVAAAAAAABAVUAAAAAAAIBVQAAAAAAA4FRAAAAAAACwU0AAAAAAAMBTQAAAAAAAUFJAAAAAAABAUkBI4XoUrvdSQEjhehSuh1NAAAAAAABgU0AAAAAAAEBQQEjhehSu51BASOF6FK7XUEBI4XoUrtdQQAAAAAAAEFFAXI/C9SjsUUAAAAAAAGBRQKRwPQrXM1FApHA9CtdTUUBI4XoUrndRQFyPwvUobFFAAAAAAADgUEAAAAAAAHBQQA==\",\"dtype\":\"float64\",\"order\":\"little\",\"shape\":[50]}},\"selected\":{\"id\":\"1954\"},\"selection_policy\":{\"id\":\"1955\"}},\"id\":\"1855\",\"type\":\"ColumnDataSource\"},{\"attributes\":{},\"id\":\"1840\",\"type\":\"BasicTicker\"},{\"attributes\":{},\"id\":\"1847\",\"type\":\"SaveTool\"},{\"attributes\":{\"data_source\":{\"id\":\"1855\"},\"glyph\":{\"id\":\"1856\"},\"hover_glyph\":null,\"muted_glyph\":null,\"nonselection_glyph\":{\"id\":\"1857\"},\"view\":{\"id\":\"1859\"}},\"id\":\"1858\",\"type\":\"GlyphRenderer\"},{\"attributes\":{\"line_alpha\":{\"value\":0.1},\"x0\":{\"field\":\"x0\"},\"x1\":{\"field\":\"x1\"},\"y0\":{\"field\":\"y0\"},\"y1\":{\"field\":\"y1\"}},\"id\":\"1857\",\"type\":\"Segment\"},{\"attributes\":{\"overlay\":{\"id\":\"1848\"}},\"id\":\"1845\",\"type\":\"BoxZoomTool\"}],\"root_ids\":[\"1824\"]},\"title\":\"Bokeh Application\",\"version\":\"2.3.2\"}};\n",
       "  var render_items = [{\"docid\":\"eb049903-eea9-4e95-bac2-01953c92b0bb\",\"root_ids\":[\"1824\"],\"roots\":{\"1824\":\"77a2840d-2d1f-4630-bff4-8ff163e69348\"}}];\n",
       "  root.Bokeh.embed.embed_items_notebook(docs_json, render_items);\n",
       "\n",
       "  }\n",
       "  if (root.Bokeh !== undefined) {\n",
       "    embed_document(root);\n",
       "  } else {\n",
       "    var attempts = 0;\n",
       "    var timer = setInterval(function(root) {\n",
       "      if (root.Bokeh !== undefined) {\n",
       "        clearInterval(timer);\n",
       "        embed_document(root);\n",
       "      } else {\n",
       "        attempts++;\n",
       "        if (attempts > 100) {\n",
       "          clearInterval(timer);\n",
       "          console.log(\"Bokeh: ERROR: Unable to run BokehJS code because BokehJS library is missing\");\n",
       "        }\n",
       "      }\n",
       "    }, 10, root)\n",
       "  }\n",
       "})(window);"
      ],
      "application/vnd.bokehjs_exec.v0+json": ""
     },
     "metadata": {
      "application/vnd.bokehjs_exec.v0+json": {
       "id": "1824"
      }
     },
     "output_type": "display_data"
    }
   ],
   "source": [
    "show(p)"
   ]
  },
  {
   "cell_type": "code",
   "execution_count": null,
   "id": "4c261db6",
   "metadata": {},
   "outputs": [],
   "source": []
  },
  {
   "cell_type": "code",
   "execution_count": 28,
   "id": "60f481c3",
   "metadata": {},
   "outputs": [
    {
     "data": {
      "text/plain": [
       "0      True\n",
       "1      True\n",
       "2      True\n",
       "3     False\n",
       "4     False\n",
       "5      True\n",
       "6      True\n",
       "7      True\n",
       "8      True\n",
       "9     False\n",
       "10     True\n",
       "11    False\n",
       "12     True\n",
       "13    False\n",
       "14     True\n",
       "15     True\n",
       "16     True\n",
       "17    False\n",
       "18    False\n",
       "19     True\n",
       "20     True\n",
       "21    False\n",
       "22     True\n",
       "23    False\n",
       "24    False\n",
       "25    False\n",
       "26    False\n",
       "27     True\n",
       "28    False\n",
       "29    False\n",
       "30    False\n",
       "31    False\n",
       "32    False\n",
       "33     True\n",
       "34     True\n",
       "35    False\n",
       "36     True\n",
       "37    False\n",
       "38     True\n",
       "39    False\n",
       "40     True\n",
       "41    False\n",
       "42     True\n",
       "43    False\n",
       "44     True\n",
       "45     True\n",
       "46     True\n",
       "47    False\n",
       "48    False\n",
       "49    False\n",
       "dtype: bool"
      ]
     },
     "execution_count": 28,
     "metadata": {},
     "output_type": "execute_result"
    }
   ],
   "source": [
    "inc"
   ]
  },
  {
   "cell_type": "code",
   "execution_count": null,
   "id": "d9758004",
   "metadata": {},
   "outputs": [],
   "source": []
  }
 ],
 "metadata": {
  "kernelspec": {
   "display_name": "Python 3",
   "language": "python",
   "name": "python3"
  },
  "language_info": {
   "codemirror_mode": {
    "name": "ipython",
    "version": 3
   },
   "file_extension": ".py",
   "mimetype": "text/x-python",
   "name": "python",
   "nbconvert_exporter": "python",
   "pygments_lexer": "ipython3",
   "version": "3.9.2"
  }
 },
 "nbformat": 4,
 "nbformat_minor": 5
}
