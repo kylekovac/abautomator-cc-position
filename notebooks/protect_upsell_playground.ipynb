{
 "cells": [
  {
   "cell_type": "code",
   "execution_count": 1,
   "id": "c8ddc789",
   "metadata": {},
   "outputs": [
    {
     "data": {
      "text/html": [
       "\n",
       "    <div class=\"bk-root\">\n",
       "        <a href=\"https://bokeh.org\" target=\"_blank\" class=\"bk-logo bk-logo-small bk-logo-notebook\"></a>\n",
       "        <span id=\"1002\">Loading BokehJS ...</span>\n",
       "    </div>"
      ]
     },
     "metadata": {},
     "output_type": "display_data"
    },
    {
     "data": {
      "application/javascript": [
       "\n",
       "(function(root) {\n",
       "  function now() {\n",
       "    return new Date();\n",
       "  }\n",
       "\n",
       "  var force = true;\n",
       "\n",
       "  if (typeof root._bokeh_onload_callbacks === \"undefined\" || force === true) {\n",
       "    root._bokeh_onload_callbacks = [];\n",
       "    root._bokeh_is_loading = undefined;\n",
       "  }\n",
       "\n",
       "  var JS_MIME_TYPE = 'application/javascript';\n",
       "  var HTML_MIME_TYPE = 'text/html';\n",
       "  var EXEC_MIME_TYPE = 'application/vnd.bokehjs_exec.v0+json';\n",
       "  var CLASS_NAME = 'output_bokeh rendered_html';\n",
       "\n",
       "  /**\n",
       "   * Render data to the DOM node\n",
       "   */\n",
       "  function render(props, node) {\n",
       "    var script = document.createElement(\"script\");\n",
       "    node.appendChild(script);\n",
       "  }\n",
       "\n",
       "  /**\n",
       "   * Handle when an output is cleared or removed\n",
       "   */\n",
       "  function handleClearOutput(event, handle) {\n",
       "    var cell = handle.cell;\n",
       "\n",
       "    var id = cell.output_area._bokeh_element_id;\n",
       "    var server_id = cell.output_area._bokeh_server_id;\n",
       "    // Clean up Bokeh references\n",
       "    if (id != null && id in Bokeh.index) {\n",
       "      Bokeh.index[id].model.document.clear();\n",
       "      delete Bokeh.index[id];\n",
       "    }\n",
       "\n",
       "    if (server_id !== undefined) {\n",
       "      // Clean up Bokeh references\n",
       "      var cmd = \"from bokeh.io.state import curstate; print(curstate().uuid_to_server['\" + server_id + \"'].get_sessions()[0].document.roots[0]._id)\";\n",
       "      cell.notebook.kernel.execute(cmd, {\n",
       "        iopub: {\n",
       "          output: function(msg) {\n",
       "            var id = msg.content.text.trim();\n",
       "            if (id in Bokeh.index) {\n",
       "              Bokeh.index[id].model.document.clear();\n",
       "              delete Bokeh.index[id];\n",
       "            }\n",
       "          }\n",
       "        }\n",
       "      });\n",
       "      // Destroy server and session\n",
       "      var cmd = \"import bokeh.io.notebook as ion; ion.destroy_server('\" + server_id + \"')\";\n",
       "      cell.notebook.kernel.execute(cmd);\n",
       "    }\n",
       "  }\n",
       "\n",
       "  /**\n",
       "   * Handle when a new output is added\n",
       "   */\n",
       "  function handleAddOutput(event, handle) {\n",
       "    var output_area = handle.output_area;\n",
       "    var output = handle.output;\n",
       "\n",
       "    // limit handleAddOutput to display_data with EXEC_MIME_TYPE content only\n",
       "    if ((output.output_type != \"display_data\") || (!Object.prototype.hasOwnProperty.call(output.data, EXEC_MIME_TYPE))) {\n",
       "      return\n",
       "    }\n",
       "\n",
       "    var toinsert = output_area.element.find(\".\" + CLASS_NAME.split(' ')[0]);\n",
       "\n",
       "    if (output.metadata[EXEC_MIME_TYPE][\"id\"] !== undefined) {\n",
       "      toinsert[toinsert.length - 1].firstChild.textContent = output.data[JS_MIME_TYPE];\n",
       "      // store reference to embed id on output_area\n",
       "      output_area._bokeh_element_id = output.metadata[EXEC_MIME_TYPE][\"id\"];\n",
       "    }\n",
       "    if (output.metadata[EXEC_MIME_TYPE][\"server_id\"] !== undefined) {\n",
       "      var bk_div = document.createElement(\"div\");\n",
       "      bk_div.innerHTML = output.data[HTML_MIME_TYPE];\n",
       "      var script_attrs = bk_div.children[0].attributes;\n",
       "      for (var i = 0; i < script_attrs.length; i++) {\n",
       "        toinsert[toinsert.length - 1].firstChild.setAttribute(script_attrs[i].name, script_attrs[i].value);\n",
       "        toinsert[toinsert.length - 1].firstChild.textContent = bk_div.children[0].textContent\n",
       "      }\n",
       "      // store reference to server id on output_area\n",
       "      output_area._bokeh_server_id = output.metadata[EXEC_MIME_TYPE][\"server_id\"];\n",
       "    }\n",
       "  }\n",
       "\n",
       "  function register_renderer(events, OutputArea) {\n",
       "\n",
       "    function append_mime(data, metadata, element) {\n",
       "      // create a DOM node to render to\n",
       "      var toinsert = this.create_output_subarea(\n",
       "        metadata,\n",
       "        CLASS_NAME,\n",
       "        EXEC_MIME_TYPE\n",
       "      );\n",
       "      this.keyboard_manager.register_events(toinsert);\n",
       "      // Render to node\n",
       "      var props = {data: data, metadata: metadata[EXEC_MIME_TYPE]};\n",
       "      render(props, toinsert[toinsert.length - 1]);\n",
       "      element.append(toinsert);\n",
       "      return toinsert\n",
       "    }\n",
       "\n",
       "    /* Handle when an output is cleared or removed */\n",
       "    events.on('clear_output.CodeCell', handleClearOutput);\n",
       "    events.on('delete.Cell', handleClearOutput);\n",
       "\n",
       "    /* Handle when a new output is added */\n",
       "    events.on('output_added.OutputArea', handleAddOutput);\n",
       "\n",
       "    /**\n",
       "     * Register the mime type and append_mime function with output_area\n",
       "     */\n",
       "    OutputArea.prototype.register_mime_type(EXEC_MIME_TYPE, append_mime, {\n",
       "      /* Is output safe? */\n",
       "      safe: true,\n",
       "      /* Index of renderer in `output_area.display_order` */\n",
       "      index: 0\n",
       "    });\n",
       "  }\n",
       "\n",
       "  // register the mime type if in Jupyter Notebook environment and previously unregistered\n",
       "  if (root.Jupyter !== undefined) {\n",
       "    var events = require('base/js/events');\n",
       "    var OutputArea = require('notebook/js/outputarea').OutputArea;\n",
       "\n",
       "    if (OutputArea.prototype.mime_types().indexOf(EXEC_MIME_TYPE) == -1) {\n",
       "      register_renderer(events, OutputArea);\n",
       "    }\n",
       "  }\n",
       "\n",
       "  \n",
       "  if (typeof (root._bokeh_timeout) === \"undefined\" || force === true) {\n",
       "    root._bokeh_timeout = Date.now() + 5000;\n",
       "    root._bokeh_failed_load = false;\n",
       "  }\n",
       "\n",
       "  var NB_LOAD_WARNING = {'data': {'text/html':\n",
       "     \"<div style='background-color: #fdd'>\\n\"+\n",
       "     \"<p>\\n\"+\n",
       "     \"BokehJS does not appear to have successfully loaded. If loading BokehJS from CDN, this \\n\"+\n",
       "     \"may be due to a slow or bad network connection. Possible fixes:\\n\"+\n",
       "     \"</p>\\n\"+\n",
       "     \"<ul>\\n\"+\n",
       "     \"<li>re-rerun `output_notebook()` to attempt to load from CDN again, or</li>\\n\"+\n",
       "     \"<li>use INLINE resources instead, as so:</li>\\n\"+\n",
       "     \"</ul>\\n\"+\n",
       "     \"<code>\\n\"+\n",
       "     \"from bokeh.resources import INLINE\\n\"+\n",
       "     \"output_notebook(resources=INLINE)\\n\"+\n",
       "     \"</code>\\n\"+\n",
       "     \"</div>\"}};\n",
       "\n",
       "  function display_loaded() {\n",
       "    var el = document.getElementById(\"1002\");\n",
       "    if (el != null) {\n",
       "      el.textContent = \"BokehJS is loading...\";\n",
       "    }\n",
       "    if (root.Bokeh !== undefined) {\n",
       "      if (el != null) {\n",
       "        el.textContent = \"BokehJS \" + root.Bokeh.version + \" successfully loaded.\";\n",
       "      }\n",
       "    } else if (Date.now() < root._bokeh_timeout) {\n",
       "      setTimeout(display_loaded, 100)\n",
       "    }\n",
       "  }\n",
       "\n",
       "\n",
       "  function run_callbacks() {\n",
       "    try {\n",
       "      root._bokeh_onload_callbacks.forEach(function(callback) {\n",
       "        if (callback != null)\n",
       "          callback();\n",
       "      });\n",
       "    } finally {\n",
       "      delete root._bokeh_onload_callbacks\n",
       "    }\n",
       "    console.debug(\"Bokeh: all callbacks have finished\");\n",
       "  }\n",
       "\n",
       "  function load_libs(css_urls, js_urls, callback) {\n",
       "    if (css_urls == null) css_urls = [];\n",
       "    if (js_urls == null) js_urls = [];\n",
       "\n",
       "    root._bokeh_onload_callbacks.push(callback);\n",
       "    if (root._bokeh_is_loading > 0) {\n",
       "      console.debug(\"Bokeh: BokehJS is being loaded, scheduling callback at\", now());\n",
       "      return null;\n",
       "    }\n",
       "    if (js_urls == null || js_urls.length === 0) {\n",
       "      run_callbacks();\n",
       "      return null;\n",
       "    }\n",
       "    console.debug(\"Bokeh: BokehJS not loaded, scheduling load and callback at\", now());\n",
       "    root._bokeh_is_loading = css_urls.length + js_urls.length;\n",
       "\n",
       "    function on_load() {\n",
       "      root._bokeh_is_loading--;\n",
       "      if (root._bokeh_is_loading === 0) {\n",
       "        console.debug(\"Bokeh: all BokehJS libraries/stylesheets loaded\");\n",
       "        run_callbacks()\n",
       "      }\n",
       "    }\n",
       "\n",
       "    function on_error(url) {\n",
       "      console.error(\"failed to load \" + url);\n",
       "    }\n",
       "\n",
       "    for (let i = 0; i < css_urls.length; i++) {\n",
       "      const url = css_urls[i];\n",
       "      const element = document.createElement(\"link\");\n",
       "      element.onload = on_load;\n",
       "      element.onerror = on_error.bind(null, url);\n",
       "      element.rel = \"stylesheet\";\n",
       "      element.type = \"text/css\";\n",
       "      element.href = url;\n",
       "      console.debug(\"Bokeh: injecting link tag for BokehJS stylesheet: \", url);\n",
       "      document.body.appendChild(element);\n",
       "    }\n",
       "\n",
       "    const hashes = {\"https://cdn.bokeh.org/bokeh/release/bokeh-2.3.2.min.js\": \"XypntL49z55iwGVUW4qsEu83zKL3XEcz0MjuGOQ9SlaaQ68X/g+k1FcioZi7oQAc\", \"https://cdn.bokeh.org/bokeh/release/bokeh-tables-2.3.2.min.js\": \"bEsM86IHGDTLCS0Zod8a8WM6Y4+lafAL/eSiyQcuPzinmWNgNO2/olUF0Z2Dkn5i\", \"https://cdn.bokeh.org/bokeh/release/bokeh-widgets-2.3.2.min.js\": \"TX0gSQTdXTTeScqxj6PVQxTiRW8DOoGVwinyi1D3kxv7wuxQ02XkOxv0xwiypcAH\"};\n",
       "\n",
       "    for (let i = 0; i < js_urls.length; i++) {\n",
       "      const url = js_urls[i];\n",
       "      const element = document.createElement('script');\n",
       "      element.onload = on_load;\n",
       "      element.onerror = on_error.bind(null, url);\n",
       "      element.async = false;\n",
       "      element.src = url;\n",
       "      if (url in hashes) {\n",
       "        element.crossOrigin = \"anonymous\";\n",
       "        element.integrity = \"sha384-\" + hashes[url];\n",
       "      }\n",
       "      console.debug(\"Bokeh: injecting script tag for BokehJS library: \", url);\n",
       "      document.head.appendChild(element);\n",
       "    }\n",
       "  };\n",
       "\n",
       "  function inject_raw_css(css) {\n",
       "    const element = document.createElement(\"style\");\n",
       "    element.appendChild(document.createTextNode(css));\n",
       "    document.body.appendChild(element);\n",
       "  }\n",
       "\n",
       "  \n",
       "  var js_urls = [\"https://cdn.bokeh.org/bokeh/release/bokeh-2.3.2.min.js\", \"https://cdn.bokeh.org/bokeh/release/bokeh-widgets-2.3.2.min.js\", \"https://cdn.bokeh.org/bokeh/release/bokeh-tables-2.3.2.min.js\"];\n",
       "  var css_urls = [];\n",
       "  \n",
       "\n",
       "  var inline_js = [\n",
       "    function(Bokeh) {\n",
       "      Bokeh.set_log_level(\"info\");\n",
       "    },\n",
       "    function(Bokeh) {\n",
       "    \n",
       "    \n",
       "    }\n",
       "  ];\n",
       "\n",
       "  function run_inline_js() {\n",
       "    \n",
       "    if (root.Bokeh !== undefined || force === true) {\n",
       "      \n",
       "    for (var i = 0; i < inline_js.length; i++) {\n",
       "      inline_js[i].call(root, root.Bokeh);\n",
       "    }\n",
       "    if (force === true) {\n",
       "        display_loaded();\n",
       "      }} else if (Date.now() < root._bokeh_timeout) {\n",
       "      setTimeout(run_inline_js, 100);\n",
       "    } else if (!root._bokeh_failed_load) {\n",
       "      console.log(\"Bokeh: BokehJS failed to load within specified timeout.\");\n",
       "      root._bokeh_failed_load = true;\n",
       "    } else if (force !== true) {\n",
       "      var cell = $(document.getElementById(\"1002\")).parents('.cell').data().cell;\n",
       "      cell.output_area.append_execute_result(NB_LOAD_WARNING)\n",
       "    }\n",
       "\n",
       "  }\n",
       "\n",
       "  if (root._bokeh_is_loading === 0) {\n",
       "    console.debug(\"Bokeh: BokehJS loaded, going straight to plotting\");\n",
       "    run_inline_js();\n",
       "  } else {\n",
       "    load_libs(css_urls, js_urls, function() {\n",
       "      console.debug(\"Bokeh: BokehJS plotting callback run at\", now());\n",
       "      run_inline_js();\n",
       "    });\n",
       "  }\n",
       "}(window));"
      ],
      "application/vnd.bokehjs_load.v0+json": "\n(function(root) {\n  function now() {\n    return new Date();\n  }\n\n  var force = true;\n\n  if (typeof root._bokeh_onload_callbacks === \"undefined\" || force === true) {\n    root._bokeh_onload_callbacks = [];\n    root._bokeh_is_loading = undefined;\n  }\n\n  \n\n  \n  if (typeof (root._bokeh_timeout) === \"undefined\" || force === true) {\n    root._bokeh_timeout = Date.now() + 5000;\n    root._bokeh_failed_load = false;\n  }\n\n  var NB_LOAD_WARNING = {'data': {'text/html':\n     \"<div style='background-color: #fdd'>\\n\"+\n     \"<p>\\n\"+\n     \"BokehJS does not appear to have successfully loaded. If loading BokehJS from CDN, this \\n\"+\n     \"may be due to a slow or bad network connection. Possible fixes:\\n\"+\n     \"</p>\\n\"+\n     \"<ul>\\n\"+\n     \"<li>re-rerun `output_notebook()` to attempt to load from CDN again, or</li>\\n\"+\n     \"<li>use INLINE resources instead, as so:</li>\\n\"+\n     \"</ul>\\n\"+\n     \"<code>\\n\"+\n     \"from bokeh.resources import INLINE\\n\"+\n     \"output_notebook(resources=INLINE)\\n\"+\n     \"</code>\\n\"+\n     \"</div>\"}};\n\n  function display_loaded() {\n    var el = document.getElementById(\"1002\");\n    if (el != null) {\n      el.textContent = \"BokehJS is loading...\";\n    }\n    if (root.Bokeh !== undefined) {\n      if (el != null) {\n        el.textContent = \"BokehJS \" + root.Bokeh.version + \" successfully loaded.\";\n      }\n    } else if (Date.now() < root._bokeh_timeout) {\n      setTimeout(display_loaded, 100)\n    }\n  }\n\n\n  function run_callbacks() {\n    try {\n      root._bokeh_onload_callbacks.forEach(function(callback) {\n        if (callback != null)\n          callback();\n      });\n    } finally {\n      delete root._bokeh_onload_callbacks\n    }\n    console.debug(\"Bokeh: all callbacks have finished\");\n  }\n\n  function load_libs(css_urls, js_urls, callback) {\n    if (css_urls == null) css_urls = [];\n    if (js_urls == null) js_urls = [];\n\n    root._bokeh_onload_callbacks.push(callback);\n    if (root._bokeh_is_loading > 0) {\n      console.debug(\"Bokeh: BokehJS is being loaded, scheduling callback at\", now());\n      return null;\n    }\n    if (js_urls == null || js_urls.length === 0) {\n      run_callbacks();\n      return null;\n    }\n    console.debug(\"Bokeh: BokehJS not loaded, scheduling load and callback at\", now());\n    root._bokeh_is_loading = css_urls.length + js_urls.length;\n\n    function on_load() {\n      root._bokeh_is_loading--;\n      if (root._bokeh_is_loading === 0) {\n        console.debug(\"Bokeh: all BokehJS libraries/stylesheets loaded\");\n        run_callbacks()\n      }\n    }\n\n    function on_error(url) {\n      console.error(\"failed to load \" + url);\n    }\n\n    for (let i = 0; i < css_urls.length; i++) {\n      const url = css_urls[i];\n      const element = document.createElement(\"link\");\n      element.onload = on_load;\n      element.onerror = on_error.bind(null, url);\n      element.rel = \"stylesheet\";\n      element.type = \"text/css\";\n      element.href = url;\n      console.debug(\"Bokeh: injecting link tag for BokehJS stylesheet: \", url);\n      document.body.appendChild(element);\n    }\n\n    const hashes = {\"https://cdn.bokeh.org/bokeh/release/bokeh-2.3.2.min.js\": \"XypntL49z55iwGVUW4qsEu83zKL3XEcz0MjuGOQ9SlaaQ68X/g+k1FcioZi7oQAc\", \"https://cdn.bokeh.org/bokeh/release/bokeh-tables-2.3.2.min.js\": \"bEsM86IHGDTLCS0Zod8a8WM6Y4+lafAL/eSiyQcuPzinmWNgNO2/olUF0Z2Dkn5i\", \"https://cdn.bokeh.org/bokeh/release/bokeh-widgets-2.3.2.min.js\": \"TX0gSQTdXTTeScqxj6PVQxTiRW8DOoGVwinyi1D3kxv7wuxQ02XkOxv0xwiypcAH\"};\n\n    for (let i = 0; i < js_urls.length; i++) {\n      const url = js_urls[i];\n      const element = document.createElement('script');\n      element.onload = on_load;\n      element.onerror = on_error.bind(null, url);\n      element.async = false;\n      element.src = url;\n      if (url in hashes) {\n        element.crossOrigin = \"anonymous\";\n        element.integrity = \"sha384-\" + hashes[url];\n      }\n      console.debug(\"Bokeh: injecting script tag for BokehJS library: \", url);\n      document.head.appendChild(element);\n    }\n  };\n\n  function inject_raw_css(css) {\n    const element = document.createElement(\"style\");\n    element.appendChild(document.createTextNode(css));\n    document.body.appendChild(element);\n  }\n\n  \n  var js_urls = [\"https://cdn.bokeh.org/bokeh/release/bokeh-2.3.2.min.js\", \"https://cdn.bokeh.org/bokeh/release/bokeh-widgets-2.3.2.min.js\", \"https://cdn.bokeh.org/bokeh/release/bokeh-tables-2.3.2.min.js\"];\n  var css_urls = [];\n  \n\n  var inline_js = [\n    function(Bokeh) {\n      Bokeh.set_log_level(\"info\");\n    },\n    function(Bokeh) {\n    \n    \n    }\n  ];\n\n  function run_inline_js() {\n    \n    if (root.Bokeh !== undefined || force === true) {\n      \n    for (var i = 0; i < inline_js.length; i++) {\n      inline_js[i].call(root, root.Bokeh);\n    }\n    if (force === true) {\n        display_loaded();\n      }} else if (Date.now() < root._bokeh_timeout) {\n      setTimeout(run_inline_js, 100);\n    } else if (!root._bokeh_failed_load) {\n      console.log(\"Bokeh: BokehJS failed to load within specified timeout.\");\n      root._bokeh_failed_load = true;\n    } else if (force !== true) {\n      var cell = $(document.getElementById(\"1002\")).parents('.cell').data().cell;\n      cell.output_area.append_execute_result(NB_LOAD_WARNING)\n    }\n\n  }\n\n  if (root._bokeh_is_loading === 0) {\n    console.debug(\"Bokeh: BokehJS loaded, going straight to plotting\");\n    run_inline_js();\n  } else {\n    load_libs(css_urls, js_urls, function() {\n      console.debug(\"Bokeh: BokehJS plotting callback run at\", now());\n      run_inline_js();\n    });\n  }\n}(window));"
     },
     "metadata": {},
     "output_type": "display_data"
    }
   ],
   "source": [
    "from datetime import date, timedelta\n",
    "import os\n",
    "import dill as pickle\n",
    "import sys\n",
    "import pandas as pd\n",
    "import numpy as np\n",
    "sys.path.append(\"..\")\n",
    "\n",
    "from abautomator.visualizer import BasicVisualizer, AbsDiffVisualizer, RelDiffVisualizer, utils\n",
    "from abautomator import config, describer, analyzer\n",
    "\n",
    "from bokeh.io import output_notebook\n",
    "from bokeh.plotting import show, save\n",
    "# from bokeh.models import MultiChoice, CustomJS, Button\n",
    "from bokeh.layouts import column, row\n",
    "\n",
    "output_notebook()\n",
    "pd.set_option('display.max_colwidth', None)"
   ]
  },
  {
   "cell_type": "code",
   "execution_count": 2,
   "id": "5a32dfe8",
   "metadata": {},
   "outputs": [],
   "source": [
    "EXP_NAME = \"ProtedtUpSellExp20224023_\"\n",
    "CTRL_NAME = 'ctrl'\n",
    "COND_ORDER = [\"tx_w_protect_upsell\"]"
   ]
  },
  {
   "cell_type": "code",
   "execution_count": 3,
   "id": "cad7aa48",
   "metadata": {},
   "outputs": [],
   "source": [
    "def filter_coll_metrics(coll, column, value):\n",
    "    for metric in coll.metrics:\n",
    "        metric.user_metric_df = metric.user_metric_df[metric.user_metric_df[column] == value]\n",
    "    \n",
    "    return coll"
   ]
  },
  {
   "cell_type": "code",
   "execution_count": 4,
   "id": "caa710e0",
   "metadata": {},
   "outputs": [],
   "source": [
    "local_coll = pickle.load(\n",
    "    open(os.path.join(\"..\", \"tests\", \"cache\", f\"{EXP_NAME}_coll.p\"), \"rb\" )\n",
    ")"
   ]
  },
  {
   "cell_type": "code",
   "execution_count": 5,
   "id": "6b9606c5",
   "metadata": {},
   "outputs": [
    {
     "name": "stdout",
     "output_type": "stream",
     "text": [
      "describing data for all\n",
      "analyzing data for all\n"
     ]
    }
   ],
   "source": [
    "import copy\n",
    "\n",
    "for mapping in [\n",
    "        (None, \"all\"),\n",
    "#         (\"device_type\",\"android\"),\n",
    "#         (\"device_type\", \"ios\"),\n",
    "#         (\"user_type\",\"new\"),\n",
    "#         (\"user_type\", \"existing\"),\n",
    "    ]:\n",
    "    curr_coll = copy.deepcopy(local_coll)\n",
    "    column, value = mapping\n",
    "    if value != \"all\":\n",
    "        column, value = mapping\n",
    "        curr_coll = filter_coll_metrics(curr_coll, column=column, value=value)\n",
    "\n",
    "    print(f\"describing data for {value}\")\n",
    "    desc = describer.Describer(\n",
    "        metrics=curr_coll.metrics\n",
    "    )\n",
    "    outcomes_dict = desc.describe_data(exp_name=EXP_NAME)\n",
    "    \n",
    "    print(f\"analyzing data for {value}\")\n",
    "    analy =  analyzer.Analyzer(\n",
    "        outcomes=outcomes_dict,\n",
    "        ctrl_name=CTRL_NAME,\n",
    "    )\n",
    "\n",
    "    pickle.dump(\n",
    "        analy, open(f\"{EXP_NAME}_analy_{value}.p\", \"wb\" )\n",
    "    )"
   ]
  },
  {
   "cell_type": "code",
   "execution_count": 6,
   "id": "a5db875d",
   "metadata": {},
   "outputs": [],
   "source": [
    "PRIMARY_METRIC_LIST = [\n",
    "    'n_feed_views',\n",
    "    'pct_feed_views',\n",
    "    'n_feed_taps',\n",
    "    'pct_feed_taps',\n",
    "    'n_all_feed_shares',\n",
    "    'pct_all_feed_shares',\n",
    "    'n_direct_feed_shares',\n",
    "    'pct_direct_feed_shares',\n",
    "    'n_indirect_feed_shares',\n",
    "    'pct_indirect_feed_shares',\n",
    "    #  'n_signup_activation',\n",
    "    'pct_signup_activation',\n",
    "    'n_trial_starts',\n",
    "    'n_protect_cancellations',\n",
    "'                       '\n",
    "]\n",
    " \n",
    "SECONDARY_METRIC_LIST = [\n",
    " 'n_all_sessions',\n",
    " 'pct_all_sessions',\n",
    " 'n_organic_sessions',\n",
    " 'pct_organic_sessions',\n",
    " 'n_push_driven_sessions',\n",
    " 'pct_push_driven_sessions',\n",
    " 'n_incident_views',\n",
    " 'pct_incident_views',\n",
    " 'n_incident_share_attempts',\n",
    " 'pct_incident_share_attempts',\n",
    "]\n",
    "\n",
    "GUARDRAIL_METRIC_LIST = [\n",
    " 'n_chats',\n",
    " 'pct_chats',\n",
    " 'n_friend_invites',\n",
    " 'pct_friend_invites',\n",
    " 'n_trial_starts',\n",
    " 'pct_trial_starts',\n",
    "]"
   ]
  },
  {
   "cell_type": "code",
   "execution_count": 7,
   "id": "a5ea865c",
   "metadata": {},
   "outputs": [],
   "source": [
    "def process_metric_set(metric_list, metric_list_label):\n",
    "    for mapping in [\n",
    "                (None, \"all\"),\n",
    "#                 (\"device_type\",\"android\"),\n",
    "#                 (\"device_type\", \"ios\"),\n",
    "#                 (\"user_type\",\"new\"),\n",
    "#                 (\"user_type\", \"existing\"),\n",
    "            ]:\n",
    "        _, value = mapping\n",
    "\n",
    "        local_analy = pickle.load(\n",
    "            open(f\"{EXP_NAME}_analy_{value}.p\", \"rb\" )\n",
    "        )\n",
    "        output_df = local_analy.get_rel_diff_confidence_intervals()\n",
    "        print(output_df)\n",
    "        df = utils.order_categories(output_df, metric_list, COND_ORDER)\n",
    "        df = utils.remove_categories_w_no_order(df)\n",
    "        source = utils.convert_df_to_source(df)\n",
    "\n",
    "        vis = RelDiffVisualizer(source, title=f\"{metric_list_label.title()} - {value.title()}\")\n",
    "        fig = vis.get_figure()\n",
    "        to_show = vis.get_layout()\n",
    "        show(to_show)\n",
    "\n",
    "        save(to_show, f\"/home/jovyan/work/notebooks/{value}-{metric_list_label.replace(' ', '-')}.html\")"
   ]
  },
  {
   "cell_type": "code",
   "execution_count": 8,
   "id": "342d9edb",
   "metadata": {},
   "outputs": [
    {
     "name": "stderr",
     "output_type": "stream",
     "text": [
      "NaN values found!\n"
     ]
    },
    {
     "name": "stdout",
     "output_type": "stream",
     "text": [
      "               exp_cond                       metric    tx_mean      tx_std  \\\n",
      "0   tx_w_protect_upsell                 n_feed_views  58.230490  185.393930   \n",
      "1   tx_w_protect_upsell               pct_feed_views   0.995732    0.065193   \n",
      "2   tx_w_protect_upsell                  n_feed_taps   1.360856    4.896637   \n",
      "3   tx_w_protect_upsell                pct_feed_taps   0.423355    0.494091   \n",
      "4   tx_w_protect_upsell            n_all_feed_shares   0.069615    0.789491   \n",
      "5   tx_w_protect_upsell          pct_all_feed_shares   0.035267    0.184455   \n",
      "6   tx_w_protect_upsell         n_direct_feed_shares   0.011657    0.338184   \n",
      "7   tx_w_protect_upsell       pct_direct_feed_shares   0.009000    0.094443   \n",
      "8   tx_w_protect_upsell       n_indirect_feed_shares   0.057958    0.644148   \n",
      "9   tx_w_protect_upsell     pct_indirect_feed_shares   0.028147    0.165394   \n",
      "10  tx_w_protect_upsell          n_signup_activation   0.016138    0.126007   \n",
      "11  tx_w_protect_upsell        pct_signup_activation   0.016138    0.126007   \n",
      "12  tx_w_protect_upsell               n_trial_starts   0.011193    0.105545   \n",
      "13  tx_w_protect_upsell             pct_trial_starts   0.011157    0.105038   \n",
      "14  tx_w_protect_upsell      n_protect_cancellations   0.008372    0.091548   \n",
      "15  tx_w_protect_upsell    pct_protect_cancellations   0.008332    0.090898   \n",
      "16  tx_w_protect_upsell               n_all_sessions   6.682266   10.337773   \n",
      "17  tx_w_protect_upsell             pct_all_sessions   0.996504    0.059026   \n",
      "18  tx_w_protect_upsell           n_organic_sessions   2.744671    6.607677   \n",
      "19  tx_w_protect_upsell         pct_organic_sessions   0.769370    0.421236   \n",
      "20  tx_w_protect_upsell       n_push_driven_sessions   3.937594    6.000845   \n",
      "21  tx_w_protect_upsell     pct_push_driven_sessions   0.752000    0.431852   \n",
      "22  tx_w_protect_upsell             n_incident_views   8.371184   18.818665   \n",
      "23  tx_w_protect_upsell           pct_incident_views   0.880406    0.324487   \n",
      "24  tx_w_protect_upsell    n_incident_share_attempts   0.224851    1.259398   \n",
      "25  tx_w_protect_upsell  pct_incident_share_attempts   0.124360    0.329992   \n",
      "26  tx_w_protect_upsell                      n_chats   0.076170    1.114147   \n",
      "27  tx_w_protect_upsell                    pct_chats   0.030380    0.171631   \n",
      "28  tx_w_protect_upsell             n_friend_invites   0.024504    0.711321   \n",
      "29  tx_w_protect_upsell           pct_friend_invites   0.009804    0.098530   \n",
      "\n",
      "    tx_count      tx_sum  ctrl_mean    ctrl_std  ctrl_count    ctrl_sum  \\\n",
      "0   502533.0  29262743.0  58.230662  172.531815    504128.0  29355707.0   \n",
      "1   502533.0    500388.0   0.995654    0.065782    504128.0    501937.0   \n",
      "2   502533.0    683875.0   1.380768    4.300486    504128.0    696084.0   \n",
      "3   502533.0    212750.0   0.427312    0.494689    504128.0    215420.0   \n",
      "4   502533.0     34984.0   0.073305    0.963270    504128.0     36955.0   \n",
      "5   502533.0     17723.0   0.035747    0.185659    504128.0     18021.0   \n",
      "6   502533.0      5858.0   0.011202    0.249236    504128.0      5647.0   \n",
      "7   502533.0      4523.0   0.009313    0.096054    504128.0      4695.0   \n",
      "8   502533.0     29126.0   0.062103    0.878222    504128.0     31308.0   \n",
      "9   502533.0     14145.0   0.028352    0.165976    504128.0     14293.0   \n",
      "10  502533.0      8110.0   0.016533    0.127515    504128.0      8335.0   \n",
      "11  502533.0      8110.0   0.016533    0.127515    504128.0      8335.0   \n",
      "12  502533.0      5625.0   0.011114    0.105290    504128.0      5603.0   \n",
      "13  502533.0      5607.0   0.011067    0.104614    504128.0      5579.0   \n",
      "14  502533.0      4207.0   0.008307    0.091202    504128.0      4188.0   \n",
      "15  502533.0      4187.0   0.008268    0.090551    504128.0      4168.0   \n",
      "16  502533.0   3358059.0   6.688585   10.427537    504128.0   3371903.0   \n",
      "17  502533.0    500776.0   0.996332    0.060451    504128.0    502279.0   \n",
      "18  502533.0   1379288.0   2.742581    6.587015    504128.0   1382612.0   \n",
      "19  502533.0    386634.0   0.768959    0.421499    504128.0    387654.0   \n",
      "20  502533.0   1978771.0   3.946004    6.070811    504128.0   1989291.0   \n",
      "21  502533.0    377905.0   0.752735    0.431422    504128.0    379475.0   \n",
      "22  502533.0   4206796.0   8.448503   18.847268    504128.0   4259127.0   \n",
      "23  502533.0    442433.0   0.881528    0.323166    504128.0    444403.0   \n",
      "24  502533.0    112995.0   0.230608    1.618316    504128.0    116256.0   \n",
      "25  502533.0     62495.0   0.124337    0.329966    504128.0     62682.0   \n",
      "26  502533.0     38278.0   0.079692    1.197508    504128.0     40175.0   \n",
      "27  502533.0     15267.0   0.030556    0.172111    504128.0     15404.0   \n",
      "28  502533.0     12314.0   0.027358    1.145303    504128.0     13792.0   \n",
      "29  502533.0      4927.0   0.010039    0.099691    504128.0      5061.0   \n",
      "\n",
      "    abs_mean   abs_std       p_value  upper_68_ci  lower_68_ci  upper_95_ci  \\\n",
      "0  -0.000171  0.356950  9.996170e-01     0.612699    -0.613287     1.201172   \n",
      "1   0.000078  0.000065  1.168160e-01     0.014364     0.001252     0.020657   \n",
      "2  -0.019912  0.009185  3.016311e-02    -0.776924    -2.107336    -0.138326   \n",
      "3  -0.003957  0.000493  4.873495e-16    -0.810666    -1.041296    -0.699963   \n",
      "4  -0.003689  0.001756  3.561398e-02    -2.637854    -7.428246    -0.338466   \n",
      "5  -0.000480  0.000184  4.662649e-03    -0.825506    -1.857459    -0.330169   \n",
      "6   0.000455  0.000592  4.417224e-01     9.350827    -1.219330    14.424503   \n",
      "7  -0.000313  0.000095  4.941760e-04    -2.338312    -4.377103    -1.359692   \n",
      "8  -0.004145  0.001536  6.947897e-03    -4.201662    -9.146724    -1.828033   \n",
      "9  -0.000205  0.000165  1.077660e-01    -0.138913    -1.303820     0.420242   \n",
      "10 -0.000395  0.000253  1.177722e-01    -0.862286    -3.918985     0.604929   \n",
      "11 -0.000395  0.000126  8.788278e-04    -1.626462    -3.154810    -0.892855   \n",
      "12  0.000079  0.000210  7.067652e-01     2.601974    -1.179404     4.417036   \n",
      "13  0.000091  0.000104  1.922917e-01     1.764954    -0.123220     2.671278   \n",
      "14  0.000064  0.000182  7.245887e-01     2.965064    -1.420046     5.069917   \n",
      "15  0.000064  0.000090  2.393698e-01     1.868381    -0.318995     2.918321   \n",
      "16 -0.006319  0.020697  7.601138e-01     0.214955    -0.403916     0.512013   \n",
      "17  0.000171  0.000060  1.994750e-03     0.023183     0.011230     0.028920   \n",
      "18  0.002090  0.013151  8.737143e-01     0.555725    -0.403296     1.016055   \n",
      "19  0.000411  0.000420  1.639385e-01     0.108051    -0.001180     0.160482   \n",
      "20 -0.008410  0.012032  4.845890e-01     0.091798    -0.518034     0.384516   \n",
      "21 -0.000735  0.000430  4.376254e-02    -0.040498    -0.154803     0.014368   \n",
      "22 -0.077320  0.037541  3.943784e-02    -0.470833    -1.359540    -0.044254   \n",
      "23 -0.001122  0.000323  2.534489e-04    -0.090693    -0.163919    -0.055545   \n",
      "24 -0.005757  0.002891  4.643251e-02    -1.242900    -3.750155    -0.039417   \n",
      "25  0.000023  0.000329  4.727013e-01     0.282624    -0.246396     0.536554   \n",
      "26 -0.003522  0.002306  1.266267e-01    -1.526267    -7.312606     1.251175   \n",
      "27 -0.000176  0.000171  1.526084e-01    -0.014189    -1.135431     0.524006   \n",
      "28 -0.002854  0.001901  1.332424e-01    -3.484325   -17.381632     3.186383   \n",
      "29 -0.000235  0.000099  8.733277e-03    -1.354709    -3.322710    -0.410069   \n",
      "\n",
      "    lower_95_ci       mean       std  \n",
      "0     -1.201761  -0.000294  0.612993  \n",
      "1     -0.005041   0.007808  0.006556  \n",
      "2     -2.745933  -1.442130  0.665206  \n",
      "3     -1.151999  -0.925981  0.115315  \n",
      "4     -9.727634  -5.033050  2.395196  \n",
      "5     -2.352796  -1.341483  0.515976  \n",
      "6     -6.293006   4.065749  5.285079  \n",
      "7     -5.355723  -3.357707  1.019396  \n",
      "8    -11.520353  -6.674193  2.472531  \n",
      "9     -1.862975  -0.721366  0.582453  \n",
      "10    -5.386201  -2.390636  1.528350  \n",
      "11    -3.888417  -2.390636  0.764174  \n",
      "12    -2.994466   0.711285  1.890689  \n",
      "13    -1.029544   0.820867  0.944087  \n",
      "14    -3.524898   0.772509  2.192555  \n",
      "15    -1.368935   0.774693  1.093688  \n",
      "16    -0.700974  -0.094480  0.309435  \n",
      "17     0.005492   0.017206  0.005976  \n",
      "18    -0.863626   0.076215  0.479510  \n",
      "19    -0.053611   0.053436  0.054615  \n",
      "20    -0.810752  -0.213118  0.304916  \n",
      "21    -0.209669  -0.097651  0.057152  \n",
      "22    -1.786119  -0.915187  0.444353  \n",
      "23    -0.199068  -0.127306  0.036613  \n",
      "24    -4.953637  -2.496527  1.253628  \n",
      "25    -0.500326   0.018114  0.264510  \n",
      "26   -10.090049  -4.419437  2.893169  \n",
      "27    -1.673627  -0.574810  0.560621  \n",
      "28   -24.052339 -10.432978  6.948654  \n",
      "29    -4.267350  -2.338710  0.984000  \n"
     ]
    },
    {
     "data": {
      "text/html": [
       "\n",
       "\n",
       "\n",
       "\n",
       "\n",
       "\n",
       "  <div class=\"bk-root\" id=\"ddca45c7-9820-4b89-9782-3ae296fedd50\" data-root-id=\"1174\"></div>\n"
      ]
     },
     "metadata": {},
     "output_type": "display_data"
    },
    {
     "data": {
      "application/javascript": [
       "(function(root) {\n",
       "  function embed_document(root) {\n",
       "    \n",
       "  var docs_json = {\"a38fe277-eb50-44fc-848f-2fc9b5c4811e\":{\"defs\":[],\"roots\":{\"references\":[{\"attributes\":{\"children\":[{\"id\":\"1091\"},{\"id\":\"1173\"}]},\"id\":\"1174\",\"type\":\"Row\"},{\"attributes\":{\"label\":{\"value\":\"tx_w_protect_upsell\"},\"renderers\":[{\"id\":\"1131\"}]},\"id\":\"1144\",\"type\":\"LegendItem\"},{\"attributes\":{\"bottom_units\":\"screen\",\"fill_alpha\":0.5,\"fill_color\":\"lightgrey\",\"left_units\":\"screen\",\"level\":\"overlay\",\"line_alpha\":1.0,\"line_color\":\"black\",\"line_dash\":[4,4],\"line_width\":2,\"right_units\":\"screen\",\"syncable\":false,\"top_units\":\"screen\"},\"id\":\"1106\",\"type\":\"BoxAnnotation\"},{\"attributes\":{\"axis\":{\"id\":\"1099\"},\"ticker\":null},\"id\":\"1102\",\"type\":\"Grid\"},{\"attributes\":{\"formatter\":{\"id\":\"1138\"},\"group_label_orientation\":\"horizontal\",\"major_label_policy\":{\"id\":\"1137\"},\"major_label_text_alpha\":0.0,\"major_label_text_font_size\":\"1px\",\"major_tick_in\":0,\"major_tick_out\":0,\"minor_tick_line_color\":\"yellow\",\"separator_line_alpha\":0,\"ticker\":{\"id\":\"1104\"}},\"id\":\"1103\",\"type\":\"CategoricalAxis\"},{\"attributes\":{},\"id\":\"1100\",\"type\":\"BasicTicker\"},{\"attributes\":{\"data_source\":{\"id\":\"1003\"},\"glyph\":{\"id\":\"1128\"},\"hover_glyph\":null,\"js_property_callbacks\":{\"change:muted\":[{\"id\":\"1145\"},{\"id\":\"1146\"}]},\"muted_glyph\":{\"id\":\"1130\"},\"nonselection_glyph\":{\"id\":\"1129\"},\"view\":{\"id\":\"1116\"}},\"id\":\"1131\",\"type\":\"GlyphRenderer\"},{\"attributes\":{\"line_alpha\":{\"value\":0.2},\"x0\":{\"field\":\"upper_95_ci\"},\"x1\":{\"field\":\"upper_68_ci\"},\"y0\":{\"field\":\"factor_label\"},\"y1\":{\"field\":\"factor_label\"}},\"id\":\"1120\",\"type\":\"Segment\"},{\"attributes\":{\"filters\":[{\"id\":\"1147\"}],\"source\":{\"id\":\"1003\"}},\"id\":\"1148\",\"type\":\"CDSView\"},{\"attributes\":{\"x0\":{\"field\":\"upper_95_ci\"},\"x1\":{\"field\":\"upper_68_ci\"},\"y0\":{\"field\":\"factor_label\"},\"y1\":{\"field\":\"factor_label\"}},\"id\":\"1150\",\"type\":\"Segment\"},{\"attributes\":{\"callback\":null,\"tooltips\":[[\"Tx Label\",\"@{exp_cond}\"],[\"Rel Diff Tx vs Ctrl\",\"@{mean}\\u00b1@{std}\"],[\"P-Value\",\"@p_value{1.11111}\"],[\"Abs Diff Tx - Ctrl\",\"@{abs_mean}\\u00b1@{abs_std}\"],[\"Ctrl x\\u0304\",\"@{ctrl_mean}\\u00b1@{ctrl_std}\"],[\"Tx x\\u0304\",\"@{tx_mean}\\u00b1@{tx_std}\"],[\"Ctrl/Tx n\",\"@{ctrl_count}/@{tx_count}\"],[\"Ctrl/Tx Metric Total\",\"@{ctrl_sum}/@{tx_sum}\"]]},\"id\":\"1107\",\"type\":\"HoverTool\"},{\"attributes\":{\"line_alpha\":{\"value\":0.1},\"x0\":{\"field\":\"lower_68_ci\"},\"x1\":{\"field\":\"lower_95_ci\"},\"y0\":{\"field\":\"factor_label\"},\"y1\":{\"field\":\"factor_label\"}},\"id\":\"1155\",\"type\":\"Segment\"},{\"attributes\":{\"axis\":{\"id\":\"1103\"},\"dimension\":1,\"grid_line_color\":null,\"ticker\":null},\"id\":\"1105\",\"type\":\"Grid\"},{\"attributes\":{\"line_alpha\":{\"value\":0.1},\"x0\":{\"field\":\"upper_95_ci\"},\"x1\":{\"field\":\"upper_68_ci\"},\"y0\":{\"field\":\"factor_label\"},\"y1\":{\"field\":\"factor_label\"}},\"id\":\"1151\",\"type\":\"Segment\"},{\"attributes\":{\"data_source\":{\"id\":\"1003\"},\"glyph\":{\"id\":\"1150\"},\"hover_glyph\":null,\"muted_glyph\":null,\"nonselection_glyph\":{\"id\":\"1151\"},\"view\":{\"id\":\"1148\"},\"visible\":false},\"id\":\"1152\",\"type\":\"GlyphRenderer\"},{\"attributes\":{},\"id\":\"1104\",\"type\":\"CategoricalTicker\"},{\"attributes\":{\"end\":17.018988709334614,\"start\":-14.114838838966298},\"id\":\"1164\",\"type\":\"Range1d\"},{\"attributes\":{\"button_type\":\"success\",\"icon\":null,\"js_event_callbacks\":{\"button_click\":[{\"id\":\"1172\"}]},\"label\":\"Reset Metrics/Conditions\"},\"id\":\"1171\",\"type\":\"Button\"},{\"attributes\":{\"align\":\"center\",\"text\":\"Primary Metrics - All\"},\"id\":\"1165\",\"type\":\"Title\"},{\"attributes\":{\"args\":{\"condWidget\":{\"id\":\"1167\"},\"metricWidget\":{\"id\":\"1166\"}},\"code\":\"\\n        metricWidget.value = metricWidget.options\\n        condWidget.value = condWidget.options\\n        \"},\"id\":\"1172\",\"type\":\"CustomJS\"},{\"attributes\":{\"data_source\":{\"id\":\"1003\"},\"glyph\":{\"id\":\"1118\"},\"hover_glyph\":null,\"muted_glyph\":{\"id\":\"1120\"},\"nonselection_glyph\":{\"id\":\"1119\"},\"view\":{\"id\":\"1116\"}},\"id\":\"1121\",\"type\":\"GlyphRenderer\"},{\"attributes\":{\"x0\":{\"field\":\"lower_68_ci\"},\"x1\":{\"field\":\"lower_95_ci\"},\"y0\":{\"field\":\"factor_label\"},\"y1\":{\"field\":\"factor_label\"}},\"id\":\"1154\",\"type\":\"Segment\"},{\"attributes\":{\"fill_alpha\":{\"value\":0.8},\"fill_color\":{\"value\":\"#0072B2\"},\"height\":{\"value\":0.6},\"left\":{\"field\":\"lower_68_ci\"},\"line_color\":{\"value\":null},\"right\":{\"field\":\"upper_68_ci\"},\"y\":{\"field\":\"factor_label\"}},\"id\":\"1128\",\"type\":\"HBar\"},{\"attributes\":{},\"id\":\"1137\",\"type\":\"AllLabels\"},{\"attributes\":{\"data_source\":{\"id\":\"1003\"},\"glyph\":{\"id\":\"1154\"},\"hover_glyph\":null,\"muted_glyph\":null,\"nonselection_glyph\":{\"id\":\"1155\"},\"view\":{\"id\":\"1148\"},\"visible\":false},\"id\":\"1156\",\"type\":\"GlyphRenderer\"},{\"attributes\":{\"fill_alpha\":{\"value\":0.1},\"fill_color\":{\"value\":\"#0072B2\"},\"height\":{\"value\":0.6},\"left\":{\"field\":\"lower_68_ci\"},\"line_alpha\":{\"value\":0.1},\"line_color\":{\"value\":null},\"right\":{\"field\":\"upper_68_ci\"},\"y\":{\"field\":\"factor_label\"}},\"id\":\"1159\",\"type\":\"HBar\"},{\"attributes\":{\"booleans\":[false,false,true,false,true,true,false,true,true,true,true,false,false]},\"id\":\"1147\",\"type\":\"BooleanFilter\"},{\"attributes\":{},\"id\":\"1132\",\"type\":\"Title\"},{\"attributes\":{},\"id\":\"1138\",\"type\":\"CategoricalTickFormatter\"},{\"attributes\":{\"click_policy\":\"mute\",\"items\":[{\"id\":\"1144\"}]},\"id\":\"1143\",\"type\":\"Legend\"},{\"attributes\":{\"filters\":[{\"id\":\"1115\"}],\"source\":{\"id\":\"1003\"}},\"id\":\"1116\",\"type\":\"CDSView\"},{\"attributes\":{\"fill_alpha\":{\"value\":0.8},\"fill_color\":{\"value\":\"#0072B2\"},\"height\":{\"value\":0.6},\"left\":{\"field\":\"lower_68_ci\"},\"line_color\":{\"value\":null},\"right\":{\"field\":\"upper_68_ci\"},\"y\":{\"field\":\"factor_label\"}},\"id\":\"1158\",\"type\":\"HBar\"},{\"attributes\":{\"fill_alpha\":{\"value\":0.1},\"fill_color\":{\"value\":\"#0072B2\"},\"height\":{\"value\":0.6},\"left\":{\"field\":\"lower_68_ci\"},\"line_alpha\":{\"value\":0.1},\"line_color\":{\"value\":null},\"right\":{\"field\":\"upper_68_ci\"},\"y\":{\"field\":\"factor_label\"}},\"id\":\"1129\",\"type\":\"HBar\"},{\"attributes\":{\"args\":{\"glyphs\":[{\"id\":\"1121\"},{\"id\":\"1126\"},{\"id\":\"1131\"},{\"id\":\"1152\"},{\"id\":\"1156\"},{\"id\":\"1160\"}]},\"code\":\"\\n        for (const glyph of glyphs){\\n            if (glyph.tags.includes(\\\"stat_sig\\\")) {\\n                var stat_sig_visible = glyph.visible;\\n            }\\n        }\\n\\n        if (stat_sig_visible) {\\n            var muted = false;\\n        } else {\\n            var muted = true;\\n        }\\n\\n        for (const glyph of glyphs){\\n            if (glyph.tags.includes(\\\"stat_sig\\\")) {\\n                glyph.visible = !glyph.visible;\\n            } else {\\n                glyph.muted = muted;\\n            }\\n        }\\n        \"},\"id\":\"1170\",\"type\":\"CustomJS\"},{\"attributes\":{\"fill_alpha\":{\"value\":0.2},\"fill_color\":{\"value\":\"#0072B2\"},\"height\":{\"value\":0.6},\"left\":{\"field\":\"lower_68_ci\"},\"line_alpha\":{\"value\":0.2},\"line_color\":{\"value\":\"#0072B2\"},\"right\":{\"field\":\"upper_68_ci\"},\"y\":{\"field\":\"factor_label\"}},\"id\":\"1130\",\"type\":\"HBar\"},{\"attributes\":{},\"id\":\"1135\",\"type\":\"BasicTickFormatter\"},{\"attributes\":{\"args\":{\"other\":{\"id\":\"1152\"}},\"code\":\"other.visible = this.visible\"},\"id\":\"1162\",\"type\":\"CustomJS\"},{\"attributes\":{},\"id\":\"1134\",\"type\":\"AllLabels\"},{\"attributes\":{\"line_alpha\":{\"value\":0.2},\"x0\":{\"field\":\"lower_68_ci\"},\"x1\":{\"field\":\"lower_95_ci\"},\"y0\":{\"field\":\"factor_label\"},\"y1\":{\"field\":\"factor_label\"}},\"id\":\"1125\",\"type\":\"Segment\"},{\"attributes\":{\"args\":{\"other\":{\"id\":\"1156\"}},\"code\":\"other.visible = this.visible\"},\"id\":\"1161\",\"type\":\"CustomJS\"},{\"attributes\":{\"dimension\":\"height\",\"line_alpha\":0.8,\"line_color\":\"grey\",\"line_dash\":[6],\"line_width\":1.5,\"location\":0},\"id\":\"1163\",\"type\":\"Span\"},{\"attributes\":{\"data_source\":{\"id\":\"1003\"},\"glyph\":{\"id\":\"1158\"},\"hover_glyph\":null,\"js_property_callbacks\":{\"change:visible\":[{\"id\":\"1161\"},{\"id\":\"1162\"}]},\"muted_glyph\":null,\"nonselection_glyph\":{\"id\":\"1159\"},\"tags\":[\"stat_sig\"],\"view\":{\"id\":\"1148\"},\"visible\":false},\"id\":\"1160\",\"type\":\"GlyphRenderer\"},{\"attributes\":{\"js_property_callbacks\":{\"change:value\":[{\"id\":\"1168\"}]},\"options\":[\"tx_w_protect_upsell\"],\"value\":[\"tx_w_protect_upsell\"]},\"id\":\"1167\",\"type\":\"MultiChoice\"},{\"attributes\":{\"button_type\":\"danger\",\"icon\":null,\"js_property_callbacks\":{\"change:active\":[{\"id\":\"1170\"}]},\"label\":\"Toggle Stat Sig\"},\"id\":\"1169\",\"type\":\"Toggle\"},{\"attributes\":{},\"id\":\"1090\",\"type\":\"SaveTool\"},{\"attributes\":{\"data_source\":{\"id\":\"1003\"},\"glyph\":{\"id\":\"1123\"},\"hover_glyph\":null,\"muted_glyph\":{\"id\":\"1125\"},\"nonselection_glyph\":{\"id\":\"1124\"},\"view\":{\"id\":\"1116\"}},\"id\":\"1126\",\"type\":\"GlyphRenderer\"},{\"attributes\":{},\"id\":\"1087\",\"type\":\"WheelZoomTool\"},{\"attributes\":{\"factors\":[[\"N Protect Cancellations\",\"tx_w_protect_upsell\"],[\"N Trial Starts\",\"tx_w_protect_upsell\"],[\"% Signup Activation\",\"tx_w_protect_upsell\"],[\"% Indirect Feed Shares\",\"tx_w_protect_upsell\"],[\"N Indirect Feed Shares\",\"tx_w_protect_upsell\"],[\"% Direct Feed Shares\",\"tx_w_protect_upsell\"],[\"N Direct Feed Shares\",\"tx_w_protect_upsell\"],[\"% All Feed Shares\",\"tx_w_protect_upsell\"],[\"N All Feed Shares\",\"tx_w_protect_upsell\"],[\"% Feed Taps\",\"tx_w_protect_upsell\"],[\"N Feed Taps\",\"tx_w_protect_upsell\"],[\"% Feed Views\",\"tx_w_protect_upsell\"],[\"N Feed Views\",\"tx_w_protect_upsell\"]]},\"id\":\"1085\",\"type\":\"FactorRange\"},{\"attributes\":{\"data\":{\"abs_mean\":{\"__ndarray__\":\"gOEqVr/SED+A0UtdOLkUP4A0QZxK5zm/gFWhKJjOKr+QtoQdPPpwv0AuM1lafjS/QCtCVMbYPT8ALYCYUG0/v6AngXBfOW6/QOYqNwk1cL9Afihl72OUvwAgFhguYRQ/AAAwnJd0Jr8=\",\"dtype\":\"float64\",\"order\":\"little\",\"shape\":[13]},\"abs_std\":{\"__ndarray__\":\"N0iaPMLfJz9Gec19/IorP9sa+75sjyA/F1ywbRGlJT+ucefBcihZP/mGiNkk4xg/MRE6AiJmQz9Yw9Wu9SwoP98Ds85UxFw/EQXGj4glQD9UthN8j8+CP0INlQRNHBE/vsJZ1UTY1j8=\",\"dtype\":\"float64\",\"order\":\"little\",\"shape\":[13]},\"cond_order\":[0,0,0,0,0,0,0,0,0,0,0,0,0],\"ctrl_count\":{\"__ndarray__\":\"AAAAAADFHkEAAAAAAMUeQQAAAAAAxR5BAAAAAADFHkEAAAAAAMUeQQAAAAAAxR5BAAAAAADFHkEAAAAAAMUeQQAAAAAAxR5BAAAAAADFHkEAAAAAAMUeQQAAAAAAxR5BAAAAAADFHkE=\",\"dtype\":\"float64\",\"order\":\"little\",\"shape\":[13]},\"ctrl_mean\":{\"__ndarray__\":\"WOQ2O3oDgT8K5/8mEMOGP4HOVl0o7pA/DcpLlEkInT/ImEchAMyvPxCp1pfAEoM/PNESmdLwhj8bF+ULak2iP4smxmMaxLI/jC+15RRZ2z+98reUoBf2P/gZbYdl3O8/+mQ5UoYdTUA=\",\"dtype\":\"float64\",\"order\":\"little\",\"shape\":[13]},\"ctrl_std\":{\"__ndarray__\":\"sI1Jvv9Ytz+yW+diRvS6P60PM6JsUsA/hqe/jbY+xT8PerJFZBrsP5raD9QAl7g/L6ipGfrmzz8ymfvuqMPHP7P5tsUb0+4/ZTFY/fqo3z/GeW+XsjMRQFViiJUS17A/GQy1oASRZUA=\",\"dtype\":\"float64\",\"order\":\"little\",\"shape\":[13]},\"ctrl_sum\":{\"__ndarray__\":\"AAAAAABcsEAAAAAAAOO1QAAAAACAR8BAAAAAAIDqy0AAAAAAAJPeQAAAAAAAV7JAAAAAAAAPtkAAAAAAQJnRQAAAAABgC+JAAAAAAOBLCkEAAAAAKD4lQQAAAADEoh5BAAAAsOv+e0E=\",\"dtype\":\"float64\",\"order\":\"little\",\"shape\":[13]},\"display_metric\":[\"N Protect Cancellations\",\"N Trial Starts\",\"% Signup Activation\",\"% Indirect Feed Shares\",\"N Indirect Feed Shares\",\"% Direct Feed Shares\",\"N Direct Feed Shares\",\"% All Feed Shares\",\"N All Feed Shares\",\"% Feed Taps\",\"N Feed Taps\",\"% Feed Views\",\"N Feed Views\"],\"exp_cond\":[\"tx_w_protect_upsell\",\"tx_w_protect_upsell\",\"tx_w_protect_upsell\",\"tx_w_protect_upsell\",\"tx_w_protect_upsell\",\"tx_w_protect_upsell\",\"tx_w_protect_upsell\",\"tx_w_protect_upsell\",\"tx_w_protect_upsell\",\"tx_w_protect_upsell\",\"tx_w_protect_upsell\",\"tx_w_protect_upsell\",\"tx_w_protect_upsell\"],\"factor_label\":[[\"N Protect Cancellations\",\"tx_w_protect_upsell\"],[\"N Trial Starts\",\"tx_w_protect_upsell\"],[\"% Signup Activation\",\"tx_w_protect_upsell\"],[\"% Indirect Feed Shares\",\"tx_w_protect_upsell\"],[\"N Indirect Feed Shares\",\"tx_w_protect_upsell\"],[\"% Direct Feed Shares\",\"tx_w_protect_upsell\"],[\"N Direct Feed Shares\",\"tx_w_protect_upsell\"],[\"% All Feed Shares\",\"tx_w_protect_upsell\"],[\"N All Feed Shares\",\"tx_w_protect_upsell\"],[\"% Feed Taps\",\"tx_w_protect_upsell\"],[\"N Feed Taps\",\"tx_w_protect_upsell\"],[\"% Feed Views\",\"tx_w_protect_upsell\"],[\"N Feed Views\",\"tx_w_protect_upsell\"]],\"index\":[14,12,11,9,8,7,6,5,4,3,2,1,0],\"lower_68_ci\":{\"__ndarray__\":\"6XtTvIG49r8IJIj21t7yv1wm6fcMPQnAjJDV1nHc9L8d8uVgH0siwAJlBUAnghHA3JC3QGCC87/eUnjeJrj9v26teQSGth3A/xWgLCap8L9AjYzS0tsAwEQ4TpxThVQ/YEH78wyg478=\",\"dtype\":\"float64\",\"order\":\"little\",\"shape\":[13]},\"lower_95_ci\":{\"__ndarray__\":\"TGYO1f0yDMBiJ+iVqvQHwCBBXFZ6Gw/AbepAaL7O/b/hIWa8awonwL0+Mo1CbBXAsYg0rwksGcBgVl7GhtICwAXZEGSMdCPAkCR9M5Zu8r9gIS7qq/cFwLAkLdzMpXS/0v2cpmk6878=\",\"dtype\":\"float64\",\"order\":\"little\",\"shape\":[13]},\"mean\":{\"__ndarray__\":\"RnC8NmW46D+nu/AB2cLmPyWVhrUFIAPALnsL1G4V579hK9atX7IawBavQp+V3ArAybEjoFNDEECVypuTtnb1v/f9/83XIRTApU2e9aKh7b+T0N2z9hL3v0ZIzGdt+38/3NH6eQ1IM78=\",\"dtype\":\"float64\",\"order\":\"little\",\"shape\":[13]},\"metric\":[\"n_protect_cancellations\",\"n_trial_starts\",\"pct_signup_activation\",\"pct_indirect_feed_shares\",\"n_indirect_feed_shares\",\"pct_direct_feed_shares\",\"n_direct_feed_shares\",\"pct_all_feed_shares\",\"n_all_feed_shares\",\"pct_feed_taps\",\"n_feed_taps\",\"pct_feed_views\",\"n_feed_views\"],\"metric_order\":{\"__ndarray__\":\"AAAAAAAAKEAAAAAAAAAmQAAAAAAAACRAAAAAAAAAIkAAAAAAAAAgQAAAAAAAABxAAAAAAAAAGEAAAAAAAAAUQAAAAAAAABBAAAAAAAAACEAAAAAAAAAAQAAAAAAAAPA/AAAAAAAAAAA=\",\"dtype\":\"float64\",\"order\":\"little\",\"shape\":[13]},\"p_value\":{\"__ndarray__\":\"Gr7ZndQv5z+qbhUf0p3mP26VFzkkzEw/zOuTFo2Wuz+TqmMCZnV8PwTBddpyMUA/Jo3vIi5F3D9Chc9LJBlzPwmUyNP+O6I/3Z/AYQGPwTxWiWC3E+OeP5QrKJim570/Q2JM5Nz87z8=\",\"dtype\":\"float64\",\"order\":\"little\",\"shape\":[13]},\"std\":{\"__ndarray__\":\"BtrYK1qKAUDbgYB3Q0D+P9xEigkddOg/6qWf2XSj4j+xcesnvscDQN41kMFxT/A/AJZRsOsjFUCTELmV4ILgP+9e82xcKQNAyPIOHUuFvT/ak3biXUnlPzW6uIAY2no/BgJM8qOd4z8=\",\"dtype\":\"float64\",\"order\":\"little\",\"shape\":[13]},\"tx_count\":{\"__ndarray__\":\"AAAAABSsHkEAAAAAFKweQQAAAAAUrB5BAAAAABSsHkEAAAAAFKweQQAAAAAUrB5BAAAAABSsHkEAAAAAFKweQQAAAAAUrB5BAAAAABSsHkEAAAAAFKweQQAAAAAUrB5BAAAAABSsHkE=\",\"dtype\":\"float64\",\"order\":\"little\",\"shape\":[13]},\"tx_mean\":{\"__ndarray__\":\"GzrjuR8lgT+tfrqXguyGP6/J5TKLhpA/Yof6Y6zSnD/2AZeduKytP54PDcXNboI/luK0y5jfhz/BFrRqjw6iP04dQmhP0rE/84PYwEAY2z/EUCPXEMb1P6na3ZAI3e8/7n0TtYAdTUA=\",\"dtype\":\"float64\",\"order\":\"little\",\"shape\":[13]},\"tx_std\":{\"__ndarray__\":\"w/qPMLhvtz929YWt+AS7P0NBAJoBIcA/g1eNoqErxT9qAGE53JzkPyknvsNkLbg/PY5xkM2k1T86psAJOJzHP7TyCJ2DQ+k/0andhTCf3z/Vt07yJ5YTQLWLpgGCsLA/ocprEpssZ0A=\",\"dtype\":\"float64\",\"order\":\"little\",\"shape\":[13]},\"tx_sum\":{\"__ndarray__\":\"AAAAAABvsEAAAAAAAPm1QP//////rb9AAAAAAICgy0AAAAAAgHHcQAAAAAAAq7FAAAAAAADitkAAAAAAwE7RQAAAAAAAFeFAAAAAAHD4CUEAAAAAxt4kQQAAAACQih5BAAAAcDnoe0E=\",\"dtype\":\"float64\",\"order\":\"little\",\"shape\":[13]},\"upper_68_ci\":{\"__ndarray__\":\"GPaHeXO4B0DXbzz819AEQNwHSOb8Bfq/EFWv6efHwb+IcuCZgM4QwCeUer7ctALA5KM6qJ+zIkCXhH6RjGrqv/+cDC9TGgXATG/8kfnw6b9MDUWFj9zovz6BQvTCao0/rMKc8Dqb4z8=\",\"dtype\":\"float64\",\"order\":\"little\",\"shape\":[13]},\"upper_95_ci\":{\"__ndarray__\":\"OE82OJhHFECbQnCLC6sRQKikw1JEkuy//LzVUD7l2j8ATICLnz/9v2XBQUhMwfW/Iva9d1jZLECsoetpfiHVv0Ce5D1tqdW/KlJChBlm5r8w8/qarLTBv09t8eopJ5U/eL7tpAA48z8=\",\"dtype\":\"float64\",\"order\":\"little\",\"shape\":[13]}},\"selected\":{\"id\":\"1059\"},\"selection_policy\":{\"id\":\"1060\"}},\"id\":\"1003\",\"type\":\"ColumnDataSource\"},{\"attributes\":{\"args\":{\"condWidget\":{\"id\":\"1167\"},\"metricWidget\":{\"id\":\"1166\"},\"source\":{\"id\":\"1003\"},\"yRange\":{\"id\":\"1085\"}},\"code\":\"\\n        // Filter y-axis labels\\n        let tempList = source.data[\\\"factor_label\\\"].filter(function (currentElement) {\\n          return metricWidget.value.includes(currentElement[0]) && condWidget.value.includes(currentElement[1]);\\n        });\\n        yRange.factors = tempList;\\n        \"},\"id\":\"1168\",\"type\":\"CustomJS\"},{\"attributes\":{},\"id\":\"1059\",\"type\":\"Selection\"},{\"attributes\":{\"x0\":{\"field\":\"lower_68_ci\"},\"x1\":{\"field\":\"lower_95_ci\"},\"y0\":{\"field\":\"factor_label\"},\"y1\":{\"field\":\"factor_label\"}},\"id\":\"1123\",\"type\":\"Segment\"},{\"attributes\":{\"overlay\":{\"id\":\"1106\"}},\"id\":\"1086\",\"type\":\"BoxZoomTool\"},{\"attributes\":{},\"id\":\"1089\",\"type\":\"ResetTool\"},{\"attributes\":{},\"id\":\"1060\",\"type\":\"UnionRenderers\"},{\"attributes\":{\"args\":{\"other\":{\"id\":\"1126\"}},\"code\":\"other.muted = this.muted\"},\"id\":\"1145\",\"type\":\"CustomJS\"},{\"attributes\":{},\"id\":\"1088\",\"type\":\"PanTool\"},{\"attributes\":{\"above\":[{\"id\":\"1165\"}],\"below\":[{\"id\":\"1099\"}],\"center\":[{\"id\":\"1102\"},{\"id\":\"1105\"},{\"id\":\"1143\"},{\"id\":\"1163\"}],\"height\":450,\"left\":[{\"id\":\"1103\"}],\"renderers\":[{\"id\":\"1121\"},{\"id\":\"1126\"},{\"id\":\"1131\"},{\"id\":\"1152\"},{\"id\":\"1156\"},{\"id\":\"1160\"}],\"title\":{\"id\":\"1132\"},\"toolbar\":{\"id\":\"1108\"},\"width\":650,\"x_range\":{\"id\":\"1164\"},\"x_scale\":{\"id\":\"1095\"},\"y_range\":{\"id\":\"1085\"},\"y_scale\":{\"id\":\"1097\"}},\"id\":\"1091\",\"subtype\":\"Figure\",\"type\":\"Plot\"},{\"attributes\":{\"booleans\":[true,true,true,true,true,true,true,true,true,true,true,true,true]},\"id\":\"1115\",\"type\":\"BooleanFilter\"},{\"attributes\":{\"js_property_callbacks\":{\"change:value\":[{\"id\":\"1168\"}]},\"options\":[\"N Feed Views\",\"% Feed Views\",\"N Feed Taps\",\"% Feed Taps\",\"N All Feed Shares\",\"% All Feed Shares\",\"N Direct Feed Shares\",\"% Direct Feed Shares\",\"N Indirect Feed Shares\",\"% Indirect Feed Shares\",\"% Signup Activation\",\"N Trial Starts\",\"N Protect Cancellations\"],\"value\":[\"N Feed Views\",\"% Feed Views\",\"N Feed Taps\",\"% Feed Taps\",\"N All Feed Shares\",\"% All Feed Shares\",\"N Direct Feed Shares\",\"% Direct Feed Shares\",\"N Indirect Feed Shares\",\"% Indirect Feed Shares\",\"% Signup Activation\",\"N Trial Starts\",\"N Protect Cancellations\"]},\"id\":\"1166\",\"type\":\"MultiChoice\"},{\"attributes\":{\"line_alpha\":{\"value\":0.1},\"x0\":{\"field\":\"upper_95_ci\"},\"x1\":{\"field\":\"upper_68_ci\"},\"y0\":{\"field\":\"factor_label\"},\"y1\":{\"field\":\"factor_label\"}},\"id\":\"1119\",\"type\":\"Segment\"},{\"attributes\":{\"x0\":{\"field\":\"upper_95_ci\"},\"x1\":{\"field\":\"upper_68_ci\"},\"y0\":{\"field\":\"factor_label\"},\"y1\":{\"field\":\"factor_label\"}},\"id\":\"1118\",\"type\":\"Segment\"},{\"attributes\":{\"children\":[{\"id\":\"1166\"},{\"id\":\"1167\"},{\"id\":\"1169\"},{\"id\":\"1171\"}]},\"id\":\"1173\",\"type\":\"Column\"},{\"attributes\":{},\"id\":\"1097\",\"type\":\"CategoricalScale\"},{\"attributes\":{\"args\":{\"other\":{\"id\":\"1121\"}},\"code\":\"other.muted = this.muted\"},\"id\":\"1146\",\"type\":\"CustomJS\"},{\"attributes\":{\"line_alpha\":{\"value\":0.1},\"x0\":{\"field\":\"lower_68_ci\"},\"x1\":{\"field\":\"lower_95_ci\"},\"y0\":{\"field\":\"factor_label\"},\"y1\":{\"field\":\"factor_label\"}},\"id\":\"1124\",\"type\":\"Segment\"},{\"attributes\":{\"axis_label\":\"Relative Difference of Tx vs Ctrl Population (%)\",\"formatter\":{\"id\":\"1135\"},\"major_label_policy\":{\"id\":\"1134\"},\"ticker\":{\"id\":\"1100\"}},\"id\":\"1099\",\"type\":\"LinearAxis\"},{\"attributes\":{\"active_multi\":null,\"tools\":[{\"id\":\"1086\"},{\"id\":\"1087\"},{\"id\":\"1088\"},{\"id\":\"1089\"},{\"id\":\"1090\"},{\"id\":\"1107\"}]},\"id\":\"1108\",\"type\":\"Toolbar\"},{\"attributes\":{},\"id\":\"1095\",\"type\":\"LinearScale\"}],\"root_ids\":[\"1174\"]},\"title\":\"Bokeh Application\",\"version\":\"2.3.2\"}};\n",
       "  var render_items = [{\"docid\":\"a38fe277-eb50-44fc-848f-2fc9b5c4811e\",\"root_ids\":[\"1174\"],\"roots\":{\"1174\":\"ddca45c7-9820-4b89-9782-3ae296fedd50\"}}];\n",
       "  root.Bokeh.embed.embed_items_notebook(docs_json, render_items);\n",
       "\n",
       "  }\n",
       "  if (root.Bokeh !== undefined) {\n",
       "    embed_document(root);\n",
       "  } else {\n",
       "    var attempts = 0;\n",
       "    var timer = setInterval(function(root) {\n",
       "      if (root.Bokeh !== undefined) {\n",
       "        clearInterval(timer);\n",
       "        embed_document(root);\n",
       "      } else {\n",
       "        attempts++;\n",
       "        if (attempts > 100) {\n",
       "          clearInterval(timer);\n",
       "          console.log(\"Bokeh: ERROR: Unable to run BokehJS code because BokehJS library is missing\");\n",
       "        }\n",
       "      }\n",
       "    }, 10, root)\n",
       "  }\n",
       "})(window);"
      ],
      "application/vnd.bokehjs_exec.v0+json": ""
     },
     "metadata": {
      "application/vnd.bokehjs_exec.v0+json": {
       "id": "1174"
      }
     },
     "output_type": "display_data"
    },
    {
     "name": "stderr",
     "output_type": "stream",
     "text": [
      "/opt/conda/lib/python3.9/site-packages/bokeh/io/saving.py:126: UserWarning: save() called but no resources were supplied and output_file(...) was never called, defaulting to resources.CDN\n",
      "  warn(\"save() called but no resources were supplied and output_file(...) was never called, defaulting to resources.CDN\")\n",
      "/opt/conda/lib/python3.9/site-packages/bokeh/io/saving.py:139: UserWarning: save() called but no title was supplied and output_file(...) was never called, using default title 'Bokeh Plot'\n",
      "  warn(\"save() called but no title was supplied and output_file(...) was never called, using default title 'Bokeh Plot'\")\n"
     ]
    }
   ],
   "source": [
    "process_metric_set(PRIMARY_METRIC_LIST, \"primary metrics\")"
   ]
  },
  {
   "cell_type": "code",
   "execution_count": 20,
   "id": "593681c2",
   "metadata": {},
   "outputs": [
    {
     "name": "stderr",
     "output_type": "stream",
     "text": [
      "NaN values found!\n"
     ]
    },
    {
     "data": {
      "text/html": [
       "\n",
       "\n",
       "\n",
       "\n",
       "\n",
       "\n",
       "  <div class=\"bk-root\" id=\"553d1a70-87ac-4c53-99e1-6aa736848a41\" data-root-id=\"17714\"></div>\n"
      ]
     },
     "metadata": {},
     "output_type": "display_data"
    },
    {
     "data": {
      "application/javascript": [
       "(function(root) {\n",
       "  function embed_document(root) {\n",
       "    \n",
       "  var docs_json = {\"25bbe883-a71c-4dd9-9731-9effe6743cac\":{\"defs\":[],\"roots\":{\"references\":[{\"attributes\":{\"children\":[{\"id\":\"17631\"},{\"id\":\"17713\"}]},\"id\":\"17714\",\"type\":\"Row\"},{\"attributes\":{\"button_type\":\"danger\",\"icon\":null,\"js_property_callbacks\":{\"change:active\":[{\"id\":\"17710\"}]},\"label\":\"Toggle Stat Sig\"},\"id\":\"17709\",\"type\":\"Toggle\"},{\"attributes\":{\"line_alpha\":{\"value\":0.2},\"x0\":{\"field\":\"lower_68_ci\"},\"x1\":{\"field\":\"lower_95_ci\"},\"y0\":{\"field\":\"factor_label\"},\"y1\":{\"field\":\"factor_label\"}},\"id\":\"17665\",\"type\":\"Segment\"},{\"attributes\":{\"click_policy\":\"mute\",\"items\":[{\"id\":\"17684\"}]},\"id\":\"17683\",\"type\":\"Legend\"},{\"attributes\":{\"filters\":[{\"id\":\"17687\"}],\"source\":{\"id\":\"17543\"}},\"id\":\"17688\",\"type\":\"CDSView\"},{\"attributes\":{\"fill_alpha\":{\"value\":0.1},\"fill_color\":{\"value\":\"#0072B2\"},\"height\":{\"value\":0.6},\"left\":{\"field\":\"lower_68_ci\"},\"line_alpha\":{\"value\":0.1},\"line_color\":{\"value\":null},\"right\":{\"field\":\"upper_68_ci\"},\"y\":{\"field\":\"factor_label\"}},\"id\":\"17699\",\"type\":\"HBar\"},{\"attributes\":{\"args\":{\"other\":{\"id\":\"17661\"}},\"code\":\"other.muted = this.muted\"},\"id\":\"17686\",\"type\":\"CustomJS\"},{\"attributes\":{\"fill_alpha\":{\"value\":0.8},\"fill_color\":{\"value\":\"#0072B2\"},\"height\":{\"value\":0.6},\"left\":{\"field\":\"lower_68_ci\"},\"line_color\":{\"value\":null},\"right\":{\"field\":\"upper_68_ci\"},\"y\":{\"field\":\"factor_label\"}},\"id\":\"17668\",\"type\":\"HBar\"},{\"attributes\":{\"fill_alpha\":{\"value\":0.1},\"fill_color\":{\"value\":\"#0072B2\"},\"height\":{\"value\":0.6},\"left\":{\"field\":\"lower_68_ci\"},\"line_alpha\":{\"value\":0.1},\"line_color\":{\"value\":null},\"right\":{\"field\":\"upper_68_ci\"},\"y\":{\"field\":\"factor_label\"}},\"id\":\"17669\",\"type\":\"HBar\"},{\"attributes\":{\"args\":{\"other\":{\"id\":\"17692\"}},\"code\":\"other.visible = this.visible\"},\"id\":\"17702\",\"type\":\"CustomJS\"},{\"attributes\":{},\"id\":\"17672\",\"type\":\"Title\"},{\"attributes\":{\"x0\":{\"field\":\"lower_68_ci\"},\"x1\":{\"field\":\"lower_95_ci\"},\"y0\":{\"field\":\"factor_label\"},\"y1\":{\"field\":\"factor_label\"}},\"id\":\"17663\",\"type\":\"Segment\"},{\"attributes\":{\"x0\":{\"field\":\"upper_95_ci\"},\"x1\":{\"field\":\"upper_68_ci\"},\"y0\":{\"field\":\"factor_label\"},\"y1\":{\"field\":\"factor_label\"}},\"id\":\"17690\",\"type\":\"Segment\"},{\"attributes\":{\"label\":{\"value\":\"tx_w_protect_upsell\"},\"renderers\":[{\"id\":\"17671\"}]},\"id\":\"17684\",\"type\":\"LegendItem\"},{\"attributes\":{\"dimension\":\"height\",\"line_alpha\":0.8,\"line_color\":\"grey\",\"line_dash\":[6],\"line_width\":1.5,\"location\":0},\"id\":\"17703\",\"type\":\"Span\"},{\"attributes\":{\"line_alpha\":{\"value\":0.1},\"x0\":{\"field\":\"upper_95_ci\"},\"x1\":{\"field\":\"upper_68_ci\"},\"y0\":{\"field\":\"factor_label\"},\"y1\":{\"field\":\"factor_label\"}},\"id\":\"17691\",\"type\":\"Segment\"},{\"attributes\":{\"data_source\":{\"id\":\"17543\"},\"glyph\":{\"id\":\"17668\"},\"hover_glyph\":null,\"js_property_callbacks\":{\"change:muted\":[{\"id\":\"17685\"},{\"id\":\"17686\"}]},\"muted_glyph\":{\"id\":\"17670\"},\"nonselection_glyph\":{\"id\":\"17669\"},\"view\":{\"id\":\"17656\"}},\"id\":\"17671\",\"type\":\"GlyphRenderer\"},{\"attributes\":{\"data_source\":{\"id\":\"17543\"},\"glyph\":{\"id\":\"17690\"},\"hover_glyph\":null,\"muted_glyph\":null,\"nonselection_glyph\":{\"id\":\"17691\"},\"view\":{\"id\":\"17688\"},\"visible\":false},\"id\":\"17692\",\"type\":\"GlyphRenderer\"},{\"attributes\":{\"line_alpha\":{\"value\":0.1},\"x0\":{\"field\":\"lower_68_ci\"},\"x1\":{\"field\":\"lower_95_ci\"},\"y0\":{\"field\":\"factor_label\"},\"y1\":{\"field\":\"factor_label\"}},\"id\":\"17695\",\"type\":\"Segment\"},{\"attributes\":{\"fill_alpha\":{\"value\":0.2},\"fill_color\":{\"value\":\"#0072B2\"},\"height\":{\"value\":0.6},\"left\":{\"field\":\"lower_68_ci\"},\"line_alpha\":{\"value\":0.2},\"line_color\":{\"value\":\"#0072B2\"},\"right\":{\"field\":\"upper_68_ci\"},\"y\":{\"field\":\"factor_label\"}},\"id\":\"17670\",\"type\":\"HBar\"},{\"attributes\":{\"fill_alpha\":{\"value\":0.8},\"fill_color\":{\"value\":\"#0072B2\"},\"height\":{\"value\":0.6},\"left\":{\"field\":\"lower_68_ci\"},\"line_color\":{\"value\":null},\"right\":{\"field\":\"upper_68_ci\"},\"y\":{\"field\":\"factor_label\"}},\"id\":\"17698\",\"type\":\"HBar\"},{\"attributes\":{\"callback\":null,\"tooltips\":[[\"Tx Label\",\"@{exp_cond}\"],[\"Rel Diff Tx vs Ctrl\",\"@{mean}\\u00b1@{std}\"],[\"P-Value\",\"@p_value{1.11111}\"],[\"Abs Diff Tx - Ctrl\",\"@{abs_mean}\\u00b1@{abs_std}\"],[\"Ctrl x\\u0304\",\"@{ctrl_mean}\\u00b1@{ctrl_std}\"],[\"Tx x\\u0304\",\"@{tx_mean}\\u00b1@{tx_std}\"],[\"Ctrl/Tx n\",\"@{ctrl_count}/@{tx_count}\"]]},\"id\":\"17647\",\"type\":\"HoverTool\"},{\"attributes\":{\"booleans\":[true,true,true,true,true,true,true,true,true,true]},\"id\":\"17655\",\"type\":\"BooleanFilter\"},{\"attributes\":{\"data_source\":{\"id\":\"17543\"},\"glyph\":{\"id\":\"17694\"},\"hover_glyph\":null,\"muted_glyph\":null,\"nonselection_glyph\":{\"id\":\"17695\"},\"view\":{\"id\":\"17688\"},\"visible\":false},\"id\":\"17696\",\"type\":\"GlyphRenderer\"},{\"attributes\":{\"line_alpha\":{\"value\":0.1},\"x0\":{\"field\":\"upper_95_ci\"},\"x1\":{\"field\":\"upper_68_ci\"},\"y0\":{\"field\":\"factor_label\"},\"y1\":{\"field\":\"factor_label\"}},\"id\":\"17659\",\"type\":\"Segment\"},{\"attributes\":{},\"id\":\"17630\",\"type\":\"SaveTool\"},{\"attributes\":{},\"id\":\"17599\",\"type\":\"Selection\"},{\"attributes\":{},\"id\":\"17600\",\"type\":\"UnionRenderers\"},{\"attributes\":{},\"id\":\"17627\",\"type\":\"WheelZoomTool\"},{\"attributes\":{\"children\":[{\"id\":\"17706\"},{\"id\":\"17707\"},{\"id\":\"17709\"},{\"id\":\"17711\"}]},\"id\":\"17713\",\"type\":\"Column\"},{\"attributes\":{\"factors\":[[\"% Incident Share Attempts\",\"tx_w_protect_upsell\"],[\"N Incident Share Attempts\",\"tx_w_protect_upsell\"],[\"% Incident Views\",\"tx_w_protect_upsell\"],[\"N Incident Views\",\"tx_w_protect_upsell\"],[\"% Push Driven Sessions\",\"tx_w_protect_upsell\"],[\"N Push Driven Sessions\",\"tx_w_protect_upsell\"],[\"% Organic Sessions\",\"tx_w_protect_upsell\"],[\"N Organic Sessions\",\"tx_w_protect_upsell\"],[\"% All Sessions\",\"tx_w_protect_upsell\"],[\"N All Sessions\",\"tx_w_protect_upsell\"]]},\"id\":\"17625\",\"type\":\"FactorRange\"},{\"attributes\":{\"data_source\":{\"id\":\"17543\"},\"glyph\":{\"id\":\"17658\"},\"hover_glyph\":null,\"muted_glyph\":{\"id\":\"17660\"},\"nonselection_glyph\":{\"id\":\"17659\"},\"view\":{\"id\":\"17656\"}},\"id\":\"17661\",\"type\":\"GlyphRenderer\"},{\"attributes\":{\"active_multi\":null,\"tools\":[{\"id\":\"17626\"},{\"id\":\"17627\"},{\"id\":\"17628\"},{\"id\":\"17629\"},{\"id\":\"17630\"},{\"id\":\"17647\"}]},\"id\":\"17648\",\"type\":\"Toolbar\"},{\"attributes\":{\"overlay\":{\"id\":\"17646\"}},\"id\":\"17626\",\"type\":\"BoxZoomTool\"},{\"attributes\":{\"filters\":[{\"id\":\"17655\"}],\"source\":{\"id\":\"17543\"}},\"id\":\"17656\",\"type\":\"CDSView\"},{\"attributes\":{},\"id\":\"17629\",\"type\":\"ResetTool\"},{\"attributes\":{\"args\":{\"glyphs\":[{\"id\":\"17661\"},{\"id\":\"17666\"},{\"id\":\"17671\"},{\"id\":\"17692\"},{\"id\":\"17696\"},{\"id\":\"17700\"}]},\"code\":\"\\n        for (const glyph of glyphs){\\n            if (glyph.tags.includes(\\\"stat_sig\\\")) {\\n                var stat_sig_visible = glyph.visible;\\n            }\\n        }\\n\\n        if (stat_sig_visible) {\\n            var muted = false;\\n        } else {\\n            var muted = true;\\n        }\\n\\n        for (const glyph of glyphs){\\n            if (glyph.tags.includes(\\\"stat_sig\\\")) {\\n                glyph.visible = !glyph.visible;\\n            } else {\\n                glyph.muted = muted;\\n            }\\n        }\\n        \"},\"id\":\"17710\",\"type\":\"CustomJS\"},{\"attributes\":{\"data\":{\"abs_mean\":{\"__ndarray__\":\"AJAEntGd9z5gNggO25R3vwD4TBwEY1K/AKmEMTfLs78AoFNoDBZIvwD8pmUTOYG/AMhcLr7tOj8AzNG9jx9hPwDQuWZJeCY/ABBl7F7ieb8=\",\"dtype\":\"float64\",\"order\":\"little\",\"shape\":[10]},\"abs_std\":{\"__ndarray__\":\"eBqZH8iNNT/Kbpncy65nP50eo0rmJjU/GaK4GZo4oz+5Hxt0qTE8P6Orutw4pIg/AahravGFOz9IgM+h5O6KP1svWoEWOA8/4cGxd44xlT8=\",\"dtype\":\"float64\",\"order\":\"little\",\"shape\":[10]},\"cond_order\":[0,0,0,0,0,0,0,0,0,0],\"ctrl_count\":{\"__ndarray__\":\"AAAAAADFHkEAAAAAAMUeQQAAAAAAxR5BAAAAAADFHkEAAAAAAMUeQQAAAAAAxR5BAAAAAADFHkEAAAAAAMUeQQAAAAAAxR5BAAAAAADFHkE=\",\"dtype\":\"float64\",\"order\":\"little\",\"shape\":[10]},\"ctrl_mean\":{\"__ndarray__\":\"sSSrlpTUvz/TbtbykITNP4RJIm16New/gei2NKLlIEBSoH+VaBboP3Phu29qkQ9A+xtH5FCb6D8+uB9wzvAFQFJ9MDz04e8/2MztbxzBGkA=\",\"dtype\":\"float64\",\"order\":\"little\",\"shape\":[10]},\"ctrl_std\":{\"__ndarray__\":\"cdaEvCse1T8Og5LDn+T5P6p8whDCrtQ/lfQalObYMkB76WQrbJzbP79OnLOCSBhASMTVsNX52j8SEKFcGlkaQCQZEF5h864/4o6dIObaJEA=\",\"dtype\":\"float64\",\"order\":\"little\",\"shape\":[10]},\"display_metric\":[\"% Incident Share Attempts\",\"N Incident Share Attempts\",\"% Incident Views\",\"N Incident Views\",\"% Push Driven Sessions\",\"N Push Driven Sessions\",\"% Organic Sessions\",\"N Organic Sessions\",\"% All Sessions\",\"N All Sessions\"],\"exp_cond\":[\"tx_w_protect_upsell\",\"tx_w_protect_upsell\",\"tx_w_protect_upsell\",\"tx_w_protect_upsell\",\"tx_w_protect_upsell\",\"tx_w_protect_upsell\",\"tx_w_protect_upsell\",\"tx_w_protect_upsell\",\"tx_w_protect_upsell\",\"tx_w_protect_upsell\"],\"factor_label\":[[\"% Incident Share Attempts\",\"tx_w_protect_upsell\"],[\"N Incident Share Attempts\",\"tx_w_protect_upsell\"],[\"% Incident Views\",\"tx_w_protect_upsell\"],[\"N Incident Views\",\"tx_w_protect_upsell\"],[\"% Push Driven Sessions\",\"tx_w_protect_upsell\"],[\"N Push Driven Sessions\",\"tx_w_protect_upsell\"],[\"% Organic Sessions\",\"tx_w_protect_upsell\"],[\"N Organic Sessions\",\"tx_w_protect_upsell\"],[\"% All Sessions\",\"tx_w_protect_upsell\"],[\"N All Sessions\",\"tx_w_protect_upsell\"]],\"index\":[25,24,23,22,21,20,19,18,17,16],\"lower_68_ci\":{\"__ndarray__\":\"DbblaOqJz78bvnAtUQAOwHVJvV5N+8S/vV+PHK3A9b+9uFQLldDDvzq6qhe7k+C/4MKc5D9UU78kT6Pwmc/Zv6cCeAKi/4Y/FzdN38HZ2b8=\",\"dtype\":\"float64\",\"order\":\"little\",\"shape\":[10]},\"lower_95_ci\":{\"__ndarray__\":\"/toXL6wC4L9j2gtIhtATwNSvpogLe8m/vVbJ6/GT/L+cmXrEcNbKv5vpHymv8em/v49n29lyq7+Ve3gb06Lrv1Z/iWAif3Y/Si6C2mBu5r8=\",\"dtype\":\"float64\",\"order\":\"little\",\"shape\":[10]},\"mean\":{\"__ndarray__\":\"6ZDIxXaMkj/TJ1hR4/gDwCfUFPORS8C/4/xliTVJ7b/+3O9UoP+4v4OjQmtzR8u/TTVLhu1bqz+G/2Biy4KzPze0tm6EnpE/I8C5gt0vuL8=\",\"dtype\":\"float64\",\"order\":\"little\",\"shape\":[10]},\"metric\":[\"pct_incident_share_attempts\",\"n_incident_share_attempts\",\"pct_incident_views\",\"n_incident_views\",\"pct_push_driven_sessions\",\"n_push_driven_sessions\",\"pct_organic_sessions\",\"n_organic_sessions\",\"pct_all_sessions\",\"n_all_sessions\"],\"metric_order\":{\"__ndarray__\":\"AAAAAAAAIkAAAAAAAAAgQAAAAAAAABxAAAAAAAAAGEAAAAAAAAAUQAAAAAAAABBAAAAAAAAACEAAAAAAAAAAQAAAAAAAAPA/AAAAAAAAAAA=\",\"dtype\":\"float64\",\"order\":\"little\",\"shape\":[10]},\"p_value\":{\"__ndarray__\":\"UyCKHb1A3j9jceCIAManP84MOp0qnDA/mI0VYzIxpD9dQJIVC2imPwA5e5CBA98/Xu+FHvD7xD+QUaXHd/XrP6Kjo3ZLV2A/Ci1MQNpS6D8=\",\"dtype\":\"float64\",\"order\":\"little\",\"shape\":[10]},\"std\":{\"__ndarray__\":\"FWTPoLzt0D+QLDG42w70PzfVoa7tvqI/LYVxX0lw3D/4KHODE0OtP7MitHm8g9M/ZBtwhY/2qz8GjzvJTLDeP47L6rXNeng/DseefsrN0z8=\",\"dtype\":\"float64\",\"order\":\"little\",\"shape\":[10]},\"tx_count\":{\"__ndarray__\":\"AAAAABSsHkEAAAAAFKweQQAAAAAUrB5BAAAAABSsHkEAAAAAFKweQQAAAAAUrB5BAAAAABSsHkEAAAAAFKweQQAAAAAUrB5BAAAAABSsHkE=\",\"dtype\":\"float64\",\"order\":\"little\",\"shape\":[10]},\"tx_mean\":{\"__ndarray__\":\"+gTFcw7Wvz8gLWYa6sfMPwgjFOtILOw/L99Txgu+IEBqi2USYxDoP3c6VlwxgA9AlOcMnK6e6D+xLA9UFvUFQO/oxsBb4+8/lLMy2KO6GkA=\",\"dtype\":\"float64\",\"order\":\"little\",\"shape\":[10]},\"tx_std\":{\"__ndarray__\":\"0z8jSJce1T+9iyvOfib0P3M6F6tjxNQ/wnYXDZTRMkD/98O/dqPbP2V+ZYHdABhAL9lDyIj12j+13kvZQm4aQNcIRnuoOK4/IBTKjfCsJEA=\",\"dtype\":\"float64\",\"order\":\"little\",\"shape\":[10]},\"upper_68_ci\":{\"__ndarray__\":\"JO0rDYQW0j8WI3/q6uLzv7K92A6tN7e/mXRasyEi3r8EkWwmLbykv8ZDSxALgLc/WKjdhT6puz905+nQf8jhPxpnMdw3vZc/Cq7gO6aDyz8=\",\"dtype\":\"float64\",\"order\":\"little\",\"shape\":[10]},\"upper_95_ci\":{\"__ndarray__\":\"DGR0m3Mr4T8AuCamhC6kv+jhC3ZhcKy/wMSUs3Oopr/oyav4Bm2NP7Iv/ebqm9g/ln7/Oa2KxD+7XQj6wkHwP5gIS0VAnZ0/Qr7TeWli4D8=\",\"dtype\":\"float64\",\"order\":\"little\",\"shape\":[10]}},\"selected\":{\"id\":\"17599\"},\"selection_policy\":{\"id\":\"17600\"}},\"id\":\"17543\",\"type\":\"ColumnDataSource\"},{\"attributes\":{},\"id\":\"17628\",\"type\":\"PanTool\"},{\"attributes\":{\"above\":[{\"id\":\"17705\"}],\"below\":[{\"id\":\"17639\"}],\"center\":[{\"id\":\"17642\"},{\"id\":\"17645\"},{\"id\":\"17683\"},{\"id\":\"17703\"}],\"height\":450,\"left\":[{\"id\":\"17643\"}],\"renderers\":[{\"id\":\"17661\"},{\"id\":\"17666\"},{\"id\":\"17671\"},{\"id\":\"17692\"},{\"id\":\"17696\"},{\"id\":\"17700\"}],\"title\":{\"id\":\"17672\"},\"toolbar\":{\"id\":\"17648\"},\"width\":650,\"x_range\":{\"id\":\"17704\"},\"x_scale\":{\"id\":\"17635\"},\"y_range\":{\"id\":\"17625\"},\"y_scale\":{\"id\":\"17637\"}},\"id\":\"17631\",\"subtype\":\"Figure\",\"type\":\"Plot\"},{\"attributes\":{\"x0\":{\"field\":\"upper_95_ci\"},\"x1\":{\"field\":\"upper_68_ci\"},\"y0\":{\"field\":\"factor_label\"},\"y1\":{\"field\":\"factor_label\"}},\"id\":\"17658\",\"type\":\"Segment\"},{\"attributes\":{\"args\":{\"condWidget\":{\"id\":\"17707\"},\"metricWidget\":{\"id\":\"17706\"},\"source\":{\"id\":\"17543\"},\"yRange\":{\"id\":\"17625\"}},\"code\":\"\\n        // Filter y-axis labels\\n        let tempList = source.data[\\\"factor_label\\\"].filter(function (currentElement) {\\n          return metricWidget.value.includes(currentElement[0]) && condWidget.value.includes(currentElement[1]);\\n        });\\n        yRange.factors = tempList;\\n        \"},\"id\":\"17708\",\"type\":\"CustomJS\"},{\"attributes\":{\"bottom_units\":\"screen\",\"fill_alpha\":0.5,\"fill_color\":\"lightgrey\",\"left_units\":\"screen\",\"level\":\"overlay\",\"line_alpha\":1.0,\"line_color\":\"black\",\"line_dash\":[4,4],\"line_width\":2,\"right_units\":\"screen\",\"syncable\":false,\"top_units\":\"screen\"},\"id\":\"17646\",\"type\":\"BoxAnnotation\"},{\"attributes\":{\"line_alpha\":{\"value\":0.2},\"x0\":{\"field\":\"upper_95_ci\"},\"x1\":{\"field\":\"upper_68_ci\"},\"y0\":{\"field\":\"factor_label\"},\"y1\":{\"field\":\"factor_label\"}},\"id\":\"17660\",\"type\":\"Segment\"},{\"attributes\":{\"button_type\":\"success\",\"icon\":null,\"js_event_callbacks\":{\"button_click\":[{\"id\":\"17712\"}]},\"label\":\"Reset Metrics/Conditions\"},\"id\":\"17711\",\"type\":\"Button\"},{\"attributes\":{\"axis\":{\"id\":\"17639\"},\"ticker\":null},\"id\":\"17642\",\"type\":\"Grid\"},{\"attributes\":{\"line_alpha\":{\"value\":0.1},\"x0\":{\"field\":\"lower_68_ci\"},\"x1\":{\"field\":\"lower_95_ci\"},\"y0\":{\"field\":\"factor_label\"},\"y1\":{\"field\":\"factor_label\"}},\"id\":\"17664\",\"type\":\"Segment\"},{\"attributes\":{\"args\":{\"condWidget\":{\"id\":\"17707\"},\"metricWidget\":{\"id\":\"17706\"}},\"code\":\"\\n        metricWidget.value = metricWidget.options\\n        condWidget.value = condWidget.options\\n        \"},\"id\":\"17712\",\"type\":\"CustomJS\"},{\"attributes\":{},\"id\":\"17637\",\"type\":\"CategoricalScale\"},{\"attributes\":{},\"id\":\"17635\",\"type\":\"LinearScale\"},{\"attributes\":{\"formatter\":{\"id\":\"17674\"},\"group_label_orientation\":\"horizontal\",\"major_label_policy\":{\"id\":\"17675\"},\"major_label_text_alpha\":0.0,\"major_label_text_font_size\":\"1px\",\"major_tick_in\":0,\"major_tick_out\":0,\"minor_tick_line_color\":\"yellow\",\"separator_line_alpha\":0,\"ticker\":{\"id\":\"17644\"}},\"id\":\"17643\",\"type\":\"CategoricalAxis\"},{\"attributes\":{},\"id\":\"17640\",\"type\":\"BasicTicker\"},{\"attributes\":{\"axis_label\":\"Relative Difference of Tx vs Ctrl Population (%)\",\"formatter\":{\"id\":\"17677\"},\"major_label_policy\":{\"id\":\"17678\"},\"ticker\":{\"id\":\"17640\"}},\"id\":\"17639\",\"type\":\"LinearAxis\"},{\"attributes\":{\"end\":1.6130243176760848,\"start\":-5.550606475796523},\"id\":\"17704\",\"type\":\"Range1d\"},{\"attributes\":{},\"id\":\"17674\",\"type\":\"CategoricalTickFormatter\"},{\"attributes\":{\"js_property_callbacks\":{\"change:value\":[{\"id\":\"17708\"}]},\"options\":[\"tx_w_protect_upsell\"],\"value\":[\"tx_w_protect_upsell\"]},\"id\":\"17707\",\"type\":\"MultiChoice\"},{\"attributes\":{},\"id\":\"17675\",\"type\":\"AllLabels\"},{\"attributes\":{\"axis\":{\"id\":\"17643\"},\"dimension\":1,\"grid_line_color\":null,\"ticker\":null},\"id\":\"17645\",\"type\":\"Grid\"},{\"attributes\":{\"args\":{\"other\":{\"id\":\"17666\"}},\"code\":\"other.muted = this.muted\"},\"id\":\"17685\",\"type\":\"CustomJS\"},{\"attributes\":{},\"id\":\"17644\",\"type\":\"CategoricalTicker\"},{\"attributes\":{},\"id\":\"17677\",\"type\":\"BasicTickFormatter\"},{\"attributes\":{\"booleans\":[false,true,true,true,true,false,false,false,true,false]},\"id\":\"17687\",\"type\":\"BooleanFilter\"},{\"attributes\":{\"args\":{\"other\":{\"id\":\"17696\"}},\"code\":\"other.visible = this.visible\"},\"id\":\"17701\",\"type\":\"CustomJS\"},{\"attributes\":{\"align\":\"center\",\"text\":\"Secondary Metrics - All\"},\"id\":\"17705\",\"type\":\"Title\"},{\"attributes\":{},\"id\":\"17678\",\"type\":\"AllLabels\"},{\"attributes\":{\"x0\":{\"field\":\"lower_68_ci\"},\"x1\":{\"field\":\"lower_95_ci\"},\"y0\":{\"field\":\"factor_label\"},\"y1\":{\"field\":\"factor_label\"}},\"id\":\"17694\",\"type\":\"Segment\"},{\"attributes\":{\"data_source\":{\"id\":\"17543\"},\"glyph\":{\"id\":\"17698\"},\"hover_glyph\":null,\"js_property_callbacks\":{\"change:visible\":[{\"id\":\"17701\"},{\"id\":\"17702\"}]},\"muted_glyph\":null,\"nonselection_glyph\":{\"id\":\"17699\"},\"tags\":[\"stat_sig\"],\"view\":{\"id\":\"17688\"},\"visible\":false},\"id\":\"17700\",\"type\":\"GlyphRenderer\"},{\"attributes\":{\"data_source\":{\"id\":\"17543\"},\"glyph\":{\"id\":\"17663\"},\"hover_glyph\":null,\"muted_glyph\":{\"id\":\"17665\"},\"nonselection_glyph\":{\"id\":\"17664\"},\"view\":{\"id\":\"17656\"}},\"id\":\"17666\",\"type\":\"GlyphRenderer\"},{\"attributes\":{\"js_property_callbacks\":{\"change:value\":[{\"id\":\"17708\"}]},\"options\":[\"N All Sessions\",\"% All Sessions\",\"N Organic Sessions\",\"% Organic Sessions\",\"N Push Driven Sessions\",\"% Push Driven Sessions\",\"N Incident Views\",\"% Incident Views\",\"N Incident Share Attempts\",\"% Incident Share Attempts\"],\"value\":[\"N All Sessions\",\"% All Sessions\",\"N Organic Sessions\",\"% Organic Sessions\",\"N Push Driven Sessions\",\"% Push Driven Sessions\",\"N Incident Views\",\"% Incident Views\",\"N Incident Share Attempts\",\"% Incident Share Attempts\"]},\"id\":\"17706\",\"type\":\"MultiChoice\"}],\"root_ids\":[\"17714\"]},\"title\":\"Bokeh Application\",\"version\":\"2.3.2\"}};\n",
       "  var render_items = [{\"docid\":\"25bbe883-a71c-4dd9-9731-9effe6743cac\",\"root_ids\":[\"17714\"],\"roots\":{\"17714\":\"553d1a70-87ac-4c53-99e1-6aa736848a41\"}}];\n",
       "  root.Bokeh.embed.embed_items_notebook(docs_json, render_items);\n",
       "\n",
       "  }\n",
       "  if (root.Bokeh !== undefined) {\n",
       "    embed_document(root);\n",
       "  } else {\n",
       "    var attempts = 0;\n",
       "    var timer = setInterval(function(root) {\n",
       "      if (root.Bokeh !== undefined) {\n",
       "        clearInterval(timer);\n",
       "        embed_document(root);\n",
       "      } else {\n",
       "        attempts++;\n",
       "        if (attempts > 100) {\n",
       "          clearInterval(timer);\n",
       "          console.log(\"Bokeh: ERROR: Unable to run BokehJS code because BokehJS library is missing\");\n",
       "        }\n",
       "      }\n",
       "    }, 10, root)\n",
       "  }\n",
       "})(window);"
      ],
      "application/vnd.bokehjs_exec.v0+json": ""
     },
     "metadata": {
      "application/vnd.bokehjs_exec.v0+json": {
       "id": "17714"
      }
     },
     "output_type": "display_data"
    },
    {
     "name": "stderr",
     "output_type": "stream",
     "text": [
      "/opt/conda/lib/python3.9/site-packages/bokeh/io/saving.py:126: UserWarning: save() called but no resources were supplied and output_file(...) was never called, defaulting to resources.CDN\n",
      "  warn(\"save() called but no resources were supplied and output_file(...) was never called, defaulting to resources.CDN\")\n",
      "/opt/conda/lib/python3.9/site-packages/bokeh/io/saving.py:139: UserWarning: save() called but no title was supplied and output_file(...) was never called, using default title 'Bokeh Plot'\n",
      "  warn(\"save() called but no title was supplied and output_file(...) was never called, using default title 'Bokeh Plot'\")\n",
      "NaN values found!\n"
     ]
    },
    {
     "data": {
      "text/html": [
       "\n",
       "\n",
       "\n",
       "\n",
       "\n",
       "\n",
       "  <div class=\"bk-root\" id=\"edab8ce4-8f42-43b7-bc55-798a00e3b86e\" data-root-id=\"18448\"></div>\n"
      ]
     },
     "metadata": {},
     "output_type": "display_data"
    },
    {
     "data": {
      "application/javascript": [
       "(function(root) {\n",
       "  function embed_document(root) {\n",
       "    \n",
       "  var docs_json = {\"271d913b-b726-4eeb-ad53-f78f897c3b39\":{\"defs\":[],\"roots\":{\"references\":[{\"attributes\":{\"children\":[{\"id\":\"18365\"},{\"id\":\"18447\"}]},\"id\":\"18448\",\"type\":\"Row\"},{\"attributes\":{\"x0\":{\"field\":\"lower_68_ci\"},\"x1\":{\"field\":\"lower_95_ci\"},\"y0\":{\"field\":\"factor_label\"},\"y1\":{\"field\":\"factor_label\"}},\"id\":\"18397\",\"type\":\"Segment\"},{\"attributes\":{\"args\":{\"other\":{\"id\":\"18430\"}},\"code\":\"other.visible = this.visible\"},\"id\":\"18435\",\"type\":\"CustomJS\"},{\"attributes\":{\"data\":{\"abs_mean\":{\"__ndarray__\":\"AHjwXsDDH78gmRA/5j14vwAO+a2efVi/gE1qZZWEsj8A92YTmb1svwDHV6wj8q0/AAC/VSW5YT+AdaPdZSqvPwAAsROFmxI/QJ79xESOvj8=\",\"dtype\":\"float64\",\"order\":\"little\",\"shape\":[10]},\"abs_std\":{\"__ndarray__\":\"TqM0RnowSD+bsWDHjnF1P4IbFGxu2Ug/tZ99aUkltD+YOA4G/URRPyewHATPY58/5Ryx0ufATD8Ljn2mPcmgPy/slVYJxSI/+WaTZm1tqj8=\",\"dtype\":\"float64\",\"order\":\"little\",\"shape\":[10]},\"cond_order\":[0,0,0,0,0,0,0,0,0,0],\"ctrl_count\":{\"__ndarray__\":\"AAAAADBP80AAAAAAME/zQAAAAAAwT/NAAAAAADBP80AAAAAAME/zQAAAAAAwT/NAAAAAADBP80AAAAAAME/zQAAAAAAwT/NAAAAAADBP80A=\",\"dtype\":\"float64\",\"order\":\"little\",\"shape\":[10]},\"ctrl_mean\":{\"__ndarray__\":\"MteEVcliuD/nHrc7FSDIP8kTJfuzyew/63GnZB0dH0BhkX/EtMjoP6EoKJP4sRBAADLzu19t6z8xbSOFIUQNQFHCCuwR5e8/Od+5VQlUH0A=\",\"dtype\":\"float64\",\"order\":\"little\",\"shape\":[10]},\"ctrl_std\":{\"__ndarray__\":\"gsb2+uHJ0j+hEzCW8LLyP4Jb3JR6O9M/wNPdy1q9LkBCZhThGL/aPzBgrHaaGBhAtCYvwu9l1j8kkEGLB5AZQJG3DmzBTq0/bXHSy59DJEA=\",\"dtype\":\"float64\",\"order\":\"little\",\"shape\":[10]},\"display_metric\":[\"% Incident Share Attempts\",\"N Incident Share Attempts\",\"% Incident Views\",\"N Incident Views\",\"% Push Driven Sessions\",\"N Push Driven Sessions\",\"% Organic Sessions\",\"N Organic Sessions\",\"% All Sessions\",\"N All Sessions\"],\"exp_cond\":[\"tx_w_protect_upsell\",\"tx_w_protect_upsell\",\"tx_w_protect_upsell\",\"tx_w_protect_upsell\",\"tx_w_protect_upsell\",\"tx_w_protect_upsell\",\"tx_w_protect_upsell\",\"tx_w_protect_upsell\",\"tx_w_protect_upsell\",\"tx_w_protect_upsell\"],\"factor_label\":[[\"% Incident Share Attempts\",\"tx_w_protect_upsell\"],[\"N Incident Share Attempts\",\"tx_w_protect_upsell\"],[\"% Incident Views\",\"tx_w_protect_upsell\"],[\"N Incident Views\",\"tx_w_protect_upsell\"],[\"% Push Driven Sessions\",\"tx_w_protect_upsell\"],[\"N Push Driven Sessions\",\"tx_w_protect_upsell\"],[\"% Organic Sessions\",\"tx_w_protect_upsell\"],[\"N Organic Sessions\",\"tx_w_protect_upsell\"],[\"% All Sessions\",\"tx_w_protect_upsell\"],[\"N All Sessions\",\"tx_w_protect_upsell\"]],\"index\":[25,24,23,22,21,20,19,18,17,16],\"lower_68_ci\":{\"__ndarray__\":\"af8wu33e7L94pO+vvasXwDvYd4huB9C/0NZ1VynttL98Lmslvdniv+uu6ggAV+U/CmKDaX80wz9RasFPG5HoP6qsLjO3rX2/oy0ysoqt6z8=\",\"dtype\":\"float64\",\"order\":\"little\",\"shape\":[10]},\"lower_95_ci\":{\"__ndarray__\":\"K1NGPH1W+r/G5Bl5ISshwCbos3FJNdW/iMwkU/fY8L9GJs7gBQjnv6D1uf9NjqO/eHHVHsh/qj/gO56UGbe3v3R4ApwXi5W/8GyBjrK6zT8=\",\"dtype\":\"float64\",\"order\":\"little\",\"shape\":[10]},\"mean\":{\"__ndarray__\":\"IcZwgkRIwL+x+3vA5R4JwEuPslWqRMW/Spc6YCfC7T8QLsgZuP3cvzqgwj3Ha/Y/T6kHrZ4n0D9uFG02Yp/6P2JV4FaMK30/vQkFVi5i+D8=\",\"dtype\":\"float64\",\"order\":\"little\",\"shape\":[10]},\"metric\":[\"pct_incident_share_attempts\",\"n_incident_share_attempts\",\"pct_incident_views\",\"n_incident_views\",\"pct_push_driven_sessions\",\"n_push_driven_sessions\",\"pct_organic_sessions\",\"n_organic_sessions\",\"pct_all_sessions\",\"n_all_sessions\"],\"metric_order\":{\"__ndarray__\":\"AAAAAAAAIkAAAAAAAAAgQAAAAAAAABxAAAAAAAAAGEAAAAAAAAAUQAAAAAAAABBAAAAAAAAACEAAAAAAAAAAQAAAAAAAAPA/AAAAAAAAAAA=\",\"dtype\":\"float64\",\"order\":\"little\",\"shape\":[10]},\"p_value\":{\"__ndarray__\":\"lv1exuXT2z9qRPhNgofQP5eHLBRQ8Jg/SFSUeFbp1j+BurO/5Jw8P4guw9Sj36w/Y9UFpa8EfD8qmPARtTiwP2tj3n0G2NM/8DNZ1vRAlT8=\",\"dtype\":\"float64\",\"order\":\"little\",\"shape\":[10]},\"std\":{\"__ndarray__\":\"4c2UmmzM6D9ATWOflTgGQFVCenZllLU/EqmUReYv8D/OXRxihGvBP4mRmnKOgOc/J+EX4Xs1uj+Lvhgdqa3sPwaBB8WhbI0/1+XX+dEW5T8=\",\"dtype\":\"float64\",\"order\":\"little\",\"shape\":[10]},\"tx_count\":{\"__ndarray__\":\"AAAAALBH80AAAAAAsEfzQAAAAACwR/NAAAAAALBH80AAAAAAsEfzQAAAAACwR/NAAAAAALBH80AAAAAAsEfzQAAAAACwR/NAAAAAALBH80A=\",\"dtype\":\"float64\",\"order\":\"little\",\"shape\":[10]},\"tx_mean\":{\"__ndarray__\":\"FBttZdhauD8emr4JJl7HP0IXzit1vew/IRs9ui9nH0BqKmwr96voPy/YgNrc7RBAAPFI4Rh/6z8H+5kcy8ANQNlfM8im5e8/stXNaELOH0A=\",\"dtype\":\"float64\",\"order\":\"little\",\"shape\":[10]},\"tx_std\":{\"__ndarray__\":\"9IMS/CTH0j/cB7tpR57sPzPDXVzhW9M/AjWN7Q/TL0CaAdWJguTaP3AgXW1fphhAAZUC44pB1j+sgbM9/ZAaQKhjiJCT/aw/5+GvLWzGJEA=\",\"dtype\":\"float64\",\"order\":\"little\",\"shape\":[10]},\"upper_68_ci\":{\"__ndarray__\":\"WZz4eVu65D+Ic8UIgTLXv0Hc6jTv9LS/t/Sx9fkQ/z8p/7no9UfUv3/0hzsHFgFAmaFNpf201j/auXxiG3sEQNzVO/gzAZY/VH54qct2AUA=\",\"dtype\":\"float64\",\"order\":\"little\",\"shape\":[10]},\"upper_95_ci\":{\"__ndarray__\":\"oyGqG2xE9j+3m29jum4CQABKTv3HwU6/6bGvWY9NB0AmH+jjyNbHvxCIwXUAugZAb6Q0VkT/3D9NBhIDG10LQJNRueNuEKI/7vIcLYOGBkA=\",\"dtype\":\"float64\",\"order\":\"little\",\"shape\":[10]}},\"selected\":{\"id\":\"18333\"},\"selection_policy\":{\"id\":\"18334\"}},\"id\":\"18277\",\"type\":\"ColumnDataSource\"},{\"attributes\":{\"data_source\":{\"id\":\"18277\"},\"glyph\":{\"id\":\"18432\"},\"hover_glyph\":null,\"js_property_callbacks\":{\"change:visible\":[{\"id\":\"18435\"},{\"id\":\"18436\"}]},\"muted_glyph\":null,\"nonselection_glyph\":{\"id\":\"18433\"},\"tags\":[\"stat_sig\"],\"view\":{\"id\":\"18422\"},\"visible\":false},\"id\":\"18434\",\"type\":\"GlyphRenderer\"},{\"attributes\":{\"fill_alpha\":{\"value\":0.2},\"fill_color\":{\"value\":\"#0072B2\"},\"height\":{\"value\":0.6},\"left\":{\"field\":\"lower_68_ci\"},\"line_alpha\":{\"value\":0.2},\"line_color\":{\"value\":\"#0072B2\"},\"right\":{\"field\":\"upper_68_ci\"},\"y\":{\"field\":\"factor_label\"}},\"id\":\"18404\",\"type\":\"HBar\"},{\"attributes\":{\"data_source\":{\"id\":\"18277\"},\"glyph\":{\"id\":\"18397\"},\"hover_glyph\":null,\"muted_glyph\":{\"id\":\"18399\"},\"nonselection_glyph\":{\"id\":\"18398\"},\"view\":{\"id\":\"18390\"}},\"id\":\"18400\",\"type\":\"GlyphRenderer\"},{\"attributes\":{},\"id\":\"18334\",\"type\":\"UnionRenderers\"},{\"attributes\":{\"align\":\"center\",\"text\":\"Secondary Metrics - Android\"},\"id\":\"18439\",\"type\":\"Title\"},{\"attributes\":{\"args\":{\"glyphs\":[{\"id\":\"18395\"},{\"id\":\"18400\"},{\"id\":\"18405\"},{\"id\":\"18426\"},{\"id\":\"18430\"},{\"id\":\"18434\"}]},\"code\":\"\\n        for (const glyph of glyphs){\\n            if (glyph.tags.includes(\\\"stat_sig\\\")) {\\n                var stat_sig_visible = glyph.visible;\\n            }\\n        }\\n\\n        if (stat_sig_visible) {\\n            var muted = false;\\n        } else {\\n            var muted = true;\\n        }\\n\\n        for (const glyph of glyphs){\\n            if (glyph.tags.includes(\\\"stat_sig\\\")) {\\n                glyph.visible = !glyph.visible;\\n            } else {\\n                glyph.muted = muted;\\n            }\\n        }\\n        \"},\"id\":\"18444\",\"type\":\"CustomJS\"},{\"attributes\":{\"booleans\":[false,false,true,false,true,false,true,false,false,true]},\"id\":\"18421\",\"type\":\"BooleanFilter\"},{\"attributes\":{\"js_property_callbacks\":{\"change:value\":[{\"id\":\"18442\"}]},\"options\":[\"N All Sessions\",\"% All Sessions\",\"N Organic Sessions\",\"% Organic Sessions\",\"N Push Driven Sessions\",\"% Push Driven Sessions\",\"N Incident Views\",\"% Incident Views\",\"N Incident Share Attempts\",\"% Incident Share Attempts\"],\"value\":[\"N All Sessions\",\"% All Sessions\",\"N Organic Sessions\",\"% Organic Sessions\",\"N Push Driven Sessions\",\"% Push Driven Sessions\",\"N Incident Views\",\"% Incident Views\",\"N Incident Share Attempts\",\"% Incident Share Attempts\"]},\"id\":\"18440\",\"type\":\"MultiChoice\"},{\"attributes\":{\"end\":4.62093182070485,\"start\":-9.784709897280393},\"id\":\"18438\",\"type\":\"Range1d\"},{\"attributes\":{\"axis\":{\"id\":\"18373\"},\"ticker\":null},\"id\":\"18376\",\"type\":\"Grid\"},{\"attributes\":{\"formatter\":{\"id\":\"18408\"},\"group_label_orientation\":\"horizontal\",\"major_label_policy\":{\"id\":\"18409\"},\"major_label_text_alpha\":0.0,\"major_label_text_font_size\":\"1px\",\"major_tick_in\":0,\"major_tick_out\":0,\"minor_tick_line_color\":\"yellow\",\"separator_line_alpha\":0,\"ticker\":{\"id\":\"18378\"}},\"id\":\"18377\",\"type\":\"CategoricalAxis\"},{\"attributes\":{},\"id\":\"18408\",\"type\":\"CategoricalTickFormatter\"},{\"attributes\":{},\"id\":\"18364\",\"type\":\"SaveTool\"},{\"attributes\":{\"line_alpha\":{\"value\":0.1},\"x0\":{\"field\":\"lower_68_ci\"},\"x1\":{\"field\":\"lower_95_ci\"},\"y0\":{\"field\":\"factor_label\"},\"y1\":{\"field\":\"factor_label\"}},\"id\":\"18398\",\"type\":\"Segment\"},{\"attributes\":{},\"id\":\"18409\",\"type\":\"AllLabels\"},{\"attributes\":{},\"id\":\"18361\",\"type\":\"WheelZoomTool\"},{\"attributes\":{\"factors\":[[\"% Incident Share Attempts\",\"tx_w_protect_upsell\"],[\"N Incident Share Attempts\",\"tx_w_protect_upsell\"],[\"% Incident Views\",\"tx_w_protect_upsell\"],[\"N Incident Views\",\"tx_w_protect_upsell\"],[\"% Push Driven Sessions\",\"tx_w_protect_upsell\"],[\"N Push Driven Sessions\",\"tx_w_protect_upsell\"],[\"% Organic Sessions\",\"tx_w_protect_upsell\"],[\"N Organic Sessions\",\"tx_w_protect_upsell\"],[\"% All Sessions\",\"tx_w_protect_upsell\"],[\"N All Sessions\",\"tx_w_protect_upsell\"]]},\"id\":\"18359\",\"type\":\"FactorRange\"},{\"attributes\":{\"args\":{\"other\":{\"id\":\"18400\"}},\"code\":\"other.muted = this.muted\"},\"id\":\"18419\",\"type\":\"CustomJS\"},{\"attributes\":{},\"id\":\"18411\",\"type\":\"BasicTickFormatter\"},{\"attributes\":{\"children\":[{\"id\":\"18440\"},{\"id\":\"18441\"},{\"id\":\"18443\"},{\"id\":\"18445\"}]},\"id\":\"18447\",\"type\":\"Column\"},{\"attributes\":{\"active_multi\":null,\"tools\":[{\"id\":\"18360\"},{\"id\":\"18361\"},{\"id\":\"18362\"},{\"id\":\"18363\"},{\"id\":\"18364\"},{\"id\":\"18381\"}]},\"id\":\"18382\",\"type\":\"Toolbar\"},{\"attributes\":{\"overlay\":{\"id\":\"18380\"}},\"id\":\"18360\",\"type\":\"BoxZoomTool\"},{\"attributes\":{\"filters\":[{\"id\":\"18389\"}],\"source\":{\"id\":\"18277\"}},\"id\":\"18390\",\"type\":\"CDSView\"},{\"attributes\":{\"button_type\":\"success\",\"icon\":null,\"js_event_callbacks\":{\"button_click\":[{\"id\":\"18446\"}]},\"label\":\"Reset Metrics/Conditions\"},\"id\":\"18445\",\"type\":\"Button\"},{\"attributes\":{},\"id\":\"18412\",\"type\":\"AllLabels\"},{\"attributes\":{},\"id\":\"18363\",\"type\":\"ResetTool\"},{\"attributes\":{},\"id\":\"18362\",\"type\":\"PanTool\"},{\"attributes\":{},\"id\":\"18333\",\"type\":\"Selection\"},{\"attributes\":{\"above\":[{\"id\":\"18439\"}],\"below\":[{\"id\":\"18373\"}],\"center\":[{\"id\":\"18376\"},{\"id\":\"18379\"},{\"id\":\"18417\"},{\"id\":\"18437\"}],\"height\":450,\"left\":[{\"id\":\"18377\"}],\"renderers\":[{\"id\":\"18395\"},{\"id\":\"18400\"},{\"id\":\"18405\"},{\"id\":\"18426\"},{\"id\":\"18430\"},{\"id\":\"18434\"}],\"title\":{\"id\":\"18406\"},\"toolbar\":{\"id\":\"18382\"},\"width\":650,\"x_range\":{\"id\":\"18438\"},\"x_scale\":{\"id\":\"18369\"},\"y_range\":{\"id\":\"18359\"},\"y_scale\":{\"id\":\"18371\"}},\"id\":\"18365\",\"subtype\":\"Figure\",\"type\":\"Plot\"},{\"attributes\":{\"axis\":{\"id\":\"18377\"},\"dimension\":1,\"grid_line_color\":null,\"ticker\":null},\"id\":\"18379\",\"type\":\"Grid\"},{\"attributes\":{\"booleans\":[true,true,true,true,true,true,true,true,true,true]},\"id\":\"18389\",\"type\":\"BooleanFilter\"},{\"attributes\":{},\"id\":\"18378\",\"type\":\"CategoricalTicker\"},{\"attributes\":{\"bottom_units\":\"screen\",\"fill_alpha\":0.5,\"fill_color\":\"lightgrey\",\"left_units\":\"screen\",\"level\":\"overlay\",\"line_alpha\":1.0,\"line_color\":\"black\",\"line_dash\":[4,4],\"line_width\":2,\"right_units\":\"screen\",\"syncable\":false,\"top_units\":\"screen\"},\"id\":\"18380\",\"type\":\"BoxAnnotation\"},{\"attributes\":{\"filters\":[{\"id\":\"18421\"}],\"source\":{\"id\":\"18277\"}},\"id\":\"18422\",\"type\":\"CDSView\"},{\"attributes\":{\"line_alpha\":{\"value\":0.2},\"x0\":{\"field\":\"upper_95_ci\"},\"x1\":{\"field\":\"upper_68_ci\"},\"y0\":{\"field\":\"factor_label\"},\"y1\":{\"field\":\"factor_label\"}},\"id\":\"18394\",\"type\":\"Segment\"},{\"attributes\":{\"args\":{\"other\":{\"id\":\"18395\"}},\"code\":\"other.muted = this.muted\"},\"id\":\"18420\",\"type\":\"CustomJS\"},{\"attributes\":{\"fill_alpha\":{\"value\":0.8},\"fill_color\":{\"value\":\"#0072B2\"},\"height\":{\"value\":0.6},\"left\":{\"field\":\"lower_68_ci\"},\"line_color\":{\"value\":null},\"right\":{\"field\":\"upper_68_ci\"},\"y\":{\"field\":\"factor_label\"}},\"id\":\"18402\",\"type\":\"HBar\"},{\"attributes\":{\"data_source\":{\"id\":\"18277\"},\"glyph\":{\"id\":\"18392\"},\"hover_glyph\":null,\"muted_glyph\":{\"id\":\"18394\"},\"nonselection_glyph\":{\"id\":\"18393\"},\"view\":{\"id\":\"18390\"}},\"id\":\"18395\",\"type\":\"GlyphRenderer\"},{\"attributes\":{},\"id\":\"18371\",\"type\":\"CategoricalScale\"},{\"attributes\":{\"x0\":{\"field\":\"upper_95_ci\"},\"x1\":{\"field\":\"upper_68_ci\"},\"y0\":{\"field\":\"factor_label\"},\"y1\":{\"field\":\"factor_label\"}},\"id\":\"18424\",\"type\":\"Segment\"},{\"attributes\":{},\"id\":\"18369\",\"type\":\"LinearScale\"},{\"attributes\":{\"line_alpha\":{\"value\":0.1},\"x0\":{\"field\":\"lower_68_ci\"},\"x1\":{\"field\":\"lower_95_ci\"},\"y0\":{\"field\":\"factor_label\"},\"y1\":{\"field\":\"factor_label\"}},\"id\":\"18429\",\"type\":\"Segment\"},{\"attributes\":{\"line_alpha\":{\"value\":0.1},\"x0\":{\"field\":\"upper_95_ci\"},\"x1\":{\"field\":\"upper_68_ci\"},\"y0\":{\"field\":\"factor_label\"},\"y1\":{\"field\":\"factor_label\"}},\"id\":\"18425\",\"type\":\"Segment\"},{\"attributes\":{\"data_source\":{\"id\":\"18277\"},\"glyph\":{\"id\":\"18424\"},\"hover_glyph\":null,\"muted_glyph\":null,\"nonselection_glyph\":{\"id\":\"18425\"},\"view\":{\"id\":\"18422\"},\"visible\":false},\"id\":\"18426\",\"type\":\"GlyphRenderer\"},{\"attributes\":{},\"id\":\"18374\",\"type\":\"BasicTicker\"},{\"attributes\":{\"axis_label\":\"Relative Difference of Tx vs Ctrl Population (%)\",\"formatter\":{\"id\":\"18411\"},\"major_label_policy\":{\"id\":\"18412\"},\"ticker\":{\"id\":\"18374\"}},\"id\":\"18373\",\"type\":\"LinearAxis\"},{\"attributes\":{\"args\":{\"condWidget\":{\"id\":\"18441\"},\"metricWidget\":{\"id\":\"18440\"},\"source\":{\"id\":\"18277\"},\"yRange\":{\"id\":\"18359\"}},\"code\":\"\\n        // Filter y-axis labels\\n        let tempList = source.data[\\\"factor_label\\\"].filter(function (currentElement) {\\n          return metricWidget.value.includes(currentElement[0]) && condWidget.value.includes(currentElement[1]);\\n        });\\n        yRange.factors = tempList;\\n        \"},\"id\":\"18442\",\"type\":\"CustomJS\"},{\"attributes\":{\"x0\":{\"field\":\"lower_68_ci\"},\"x1\":{\"field\":\"lower_95_ci\"},\"y0\":{\"field\":\"factor_label\"},\"y1\":{\"field\":\"factor_label\"}},\"id\":\"18428\",\"type\":\"Segment\"},{\"attributes\":{\"args\":{\"other\":{\"id\":\"18426\"}},\"code\":\"other.visible = this.visible\"},\"id\":\"18436\",\"type\":\"CustomJS\"},{\"attributes\":{\"callback\":null,\"tooltips\":[[\"Tx Label\",\"@{exp_cond}\"],[\"Rel Diff Tx vs Ctrl\",\"@{mean}\\u00b1@{std}\"],[\"P-Value\",\"@p_value{1.11111}\"],[\"Abs Diff Tx - Ctrl\",\"@{abs_mean}\\u00b1@{abs_std}\"],[\"Ctrl x\\u0304\",\"@{ctrl_mean}\\u00b1@{ctrl_std}\"],[\"Tx x\\u0304\",\"@{tx_mean}\\u00b1@{tx_std}\"],[\"Ctrl/Tx n\",\"@{ctrl_count}/@{tx_count}\"]]},\"id\":\"18381\",\"type\":\"HoverTool\"},{\"attributes\":{\"line_alpha\":{\"value\":0.1},\"x0\":{\"field\":\"upper_95_ci\"},\"x1\":{\"field\":\"upper_68_ci\"},\"y0\":{\"field\":\"factor_label\"},\"y1\":{\"field\":\"factor_label\"}},\"id\":\"18393\",\"type\":\"Segment\"},{\"attributes\":{\"data_source\":{\"id\":\"18277\"},\"glyph\":{\"id\":\"18402\"},\"hover_glyph\":null,\"js_property_callbacks\":{\"change:muted\":[{\"id\":\"18419\"},{\"id\":\"18420\"}]},\"muted_glyph\":{\"id\":\"18404\"},\"nonselection_glyph\":{\"id\":\"18403\"},\"view\":{\"id\":\"18390\"}},\"id\":\"18405\",\"type\":\"GlyphRenderer\"},{\"attributes\":{\"data_source\":{\"id\":\"18277\"},\"glyph\":{\"id\":\"18428\"},\"hover_glyph\":null,\"muted_glyph\":null,\"nonselection_glyph\":{\"id\":\"18429\"},\"view\":{\"id\":\"18422\"},\"visible\":false},\"id\":\"18430\",\"type\":\"GlyphRenderer\"},{\"attributes\":{\"button_type\":\"danger\",\"icon\":null,\"js_property_callbacks\":{\"change:active\":[{\"id\":\"18444\"}]},\"label\":\"Toggle Stat Sig\"},\"id\":\"18443\",\"type\":\"Toggle\"},{\"attributes\":{\"line_alpha\":{\"value\":0.2},\"x0\":{\"field\":\"lower_68_ci\"},\"x1\":{\"field\":\"lower_95_ci\"},\"y0\":{\"field\":\"factor_label\"},\"y1\":{\"field\":\"factor_label\"}},\"id\":\"18399\",\"type\":\"Segment\"},{\"attributes\":{\"fill_alpha\":{\"value\":0.1},\"fill_color\":{\"value\":\"#0072B2\"},\"height\":{\"value\":0.6},\"left\":{\"field\":\"lower_68_ci\"},\"line_alpha\":{\"value\":0.1},\"line_color\":{\"value\":null},\"right\":{\"field\":\"upper_68_ci\"},\"y\":{\"field\":\"factor_label\"}},\"id\":\"18433\",\"type\":\"HBar\"},{\"attributes\":{\"dimension\":\"height\",\"line_alpha\":0.8,\"line_color\":\"grey\",\"line_dash\":[6],\"line_width\":1.5,\"location\":0},\"id\":\"18437\",\"type\":\"Span\"},{\"attributes\":{},\"id\":\"18406\",\"type\":\"Title\"},{\"attributes\":{\"js_property_callbacks\":{\"change:value\":[{\"id\":\"18442\"}]},\"options\":[\"tx_w_protect_upsell\"],\"value\":[\"tx_w_protect_upsell\"]},\"id\":\"18441\",\"type\":\"MultiChoice\"},{\"attributes\":{\"fill_alpha\":{\"value\":0.1},\"fill_color\":{\"value\":\"#0072B2\"},\"height\":{\"value\":0.6},\"left\":{\"field\":\"lower_68_ci\"},\"line_alpha\":{\"value\":0.1},\"line_color\":{\"value\":null},\"right\":{\"field\":\"upper_68_ci\"},\"y\":{\"field\":\"factor_label\"}},\"id\":\"18403\",\"type\":\"HBar\"},{\"attributes\":{\"fill_alpha\":{\"value\":0.8},\"fill_color\":{\"value\":\"#0072B2\"},\"height\":{\"value\":0.6},\"left\":{\"field\":\"lower_68_ci\"},\"line_color\":{\"value\":null},\"right\":{\"field\":\"upper_68_ci\"},\"y\":{\"field\":\"factor_label\"}},\"id\":\"18432\",\"type\":\"HBar\"},{\"attributes\":{\"args\":{\"condWidget\":{\"id\":\"18441\"},\"metricWidget\":{\"id\":\"18440\"}},\"code\":\"\\n        metricWidget.value = metricWidget.options\\n        condWidget.value = condWidget.options\\n        \"},\"id\":\"18446\",\"type\":\"CustomJS\"},{\"attributes\":{\"click_policy\":\"mute\",\"items\":[{\"id\":\"18418\"}]},\"id\":\"18417\",\"type\":\"Legend\"},{\"attributes\":{\"x0\":{\"field\":\"upper_95_ci\"},\"x1\":{\"field\":\"upper_68_ci\"},\"y0\":{\"field\":\"factor_label\"},\"y1\":{\"field\":\"factor_label\"}},\"id\":\"18392\",\"type\":\"Segment\"},{\"attributes\":{\"label\":{\"value\":\"tx_w_protect_upsell\"},\"renderers\":[{\"id\":\"18405\"}]},\"id\":\"18418\",\"type\":\"LegendItem\"}],\"root_ids\":[\"18448\"]},\"title\":\"Bokeh Application\",\"version\":\"2.3.2\"}};\n",
       "  var render_items = [{\"docid\":\"271d913b-b726-4eeb-ad53-f78f897c3b39\",\"root_ids\":[\"18448\"],\"roots\":{\"18448\":\"edab8ce4-8f42-43b7-bc55-798a00e3b86e\"}}];\n",
       "  root.Bokeh.embed.embed_items_notebook(docs_json, render_items);\n",
       "\n",
       "  }\n",
       "  if (root.Bokeh !== undefined) {\n",
       "    embed_document(root);\n",
       "  } else {\n",
       "    var attempts = 0;\n",
       "    var timer = setInterval(function(root) {\n",
       "      if (root.Bokeh !== undefined) {\n",
       "        clearInterval(timer);\n",
       "        embed_document(root);\n",
       "      } else {\n",
       "        attempts++;\n",
       "        if (attempts > 100) {\n",
       "          clearInterval(timer);\n",
       "          console.log(\"Bokeh: ERROR: Unable to run BokehJS code because BokehJS library is missing\");\n",
       "        }\n",
       "      }\n",
       "    }, 10, root)\n",
       "  }\n",
       "})(window);"
      ],
      "application/vnd.bokehjs_exec.v0+json": ""
     },
     "metadata": {
      "application/vnd.bokehjs_exec.v0+json": {
       "id": "18448"
      }
     },
     "output_type": "display_data"
    },
    {
     "name": "stderr",
     "output_type": "stream",
     "text": [
      "/opt/conda/lib/python3.9/site-packages/bokeh/io/saving.py:126: UserWarning: save() called but no resources were supplied and output_file(...) was never called, defaulting to resources.CDN\n",
      "  warn(\"save() called but no resources were supplied and output_file(...) was never called, defaulting to resources.CDN\")\n",
      "/opt/conda/lib/python3.9/site-packages/bokeh/io/saving.py:139: UserWarning: save() called but no title was supplied and output_file(...) was never called, using default title 'Bokeh Plot'\n",
      "  warn(\"save() called but no title was supplied and output_file(...) was never called, using default title 'Bokeh Plot'\")\n",
      "NaN values found!\n"
     ]
    },
    {
     "data": {
      "text/html": [
       "\n",
       "\n",
       "\n",
       "\n",
       "\n",
       "\n",
       "  <div class=\"bk-root\" id=\"2a36c8e9-ad85-4fc8-8821-e20baf6c2017\" data-root-id=\"19193\"></div>\n"
      ]
     },
     "metadata": {},
     "output_type": "display_data"
    },
    {
     "data": {
      "application/javascript": [
       "(function(root) {\n",
       "  function embed_document(root) {\n",
       "    \n",
       "  var docs_json = {\"2891197d-0a60-4c26-8d10-3a6234888ba9\":{\"defs\":[],\"roots\":{\"references\":[{\"attributes\":{\"children\":[{\"id\":\"19110\"},{\"id\":\"19192\"}]},\"id\":\"19193\",\"type\":\"Row\"},{\"attributes\":{},\"id\":\"19114\",\"type\":\"LinearScale\"},{\"attributes\":{\"line_alpha\":{\"value\":0.2},\"x0\":{\"field\":\"upper_95_ci\"},\"x1\":{\"field\":\"upper_68_ci\"},\"y0\":{\"field\":\"factor_label\"},\"y1\":{\"field\":\"factor_label\"}},\"id\":\"19139\",\"type\":\"Segment\"},{\"attributes\":{\"data_source\":{\"id\":\"19022\"},\"glyph\":{\"id\":\"19173\"},\"hover_glyph\":null,\"muted_glyph\":null,\"nonselection_glyph\":{\"id\":\"19174\"},\"view\":{\"id\":\"19167\"},\"visible\":false},\"id\":\"19175\",\"type\":\"GlyphRenderer\"},{\"attributes\":{\"label\":{\"value\":\"tx_w_protect_upsell\"},\"renderers\":[{\"id\":\"19150\"}]},\"id\":\"19163\",\"type\":\"LegendItem\"},{\"attributes\":{\"fill_alpha\":{\"value\":0.8},\"fill_color\":{\"value\":\"#0072B2\"},\"height\":{\"value\":0.6},\"left\":{\"field\":\"lower_68_ci\"},\"line_color\":{\"value\":null},\"right\":{\"field\":\"upper_68_ci\"},\"y\":{\"field\":\"factor_label\"}},\"id\":\"19147\",\"type\":\"HBar\"},{\"attributes\":{\"axis_label\":\"Relative Difference of Tx vs Ctrl Population (%)\",\"formatter\":{\"id\":\"19156\"},\"major_label_policy\":{\"id\":\"19157\"},\"ticker\":{\"id\":\"19119\"}},\"id\":\"19118\",\"type\":\"LinearAxis\"},{\"attributes\":{\"click_policy\":\"mute\",\"items\":[{\"id\":\"19163\"}]},\"id\":\"19162\",\"type\":\"Legend\"},{\"attributes\":{\"line_alpha\":{\"value\":0.1},\"x0\":{\"field\":\"upper_95_ci\"},\"x1\":{\"field\":\"upper_68_ci\"},\"y0\":{\"field\":\"factor_label\"},\"y1\":{\"field\":\"factor_label\"}},\"id\":\"19138\",\"type\":\"Segment\"},{\"attributes\":{\"fill_alpha\":{\"value\":0.1},\"fill_color\":{\"value\":\"#0072B2\"},\"height\":{\"value\":0.6},\"left\":{\"field\":\"lower_68_ci\"},\"line_alpha\":{\"value\":0.1},\"line_color\":{\"value\":null},\"right\":{\"field\":\"upper_68_ci\"},\"y\":{\"field\":\"factor_label\"}},\"id\":\"19178\",\"type\":\"HBar\"},{\"attributes\":{\"fill_alpha\":{\"value\":0.8},\"fill_color\":{\"value\":\"#0072B2\"},\"height\":{\"value\":0.6},\"left\":{\"field\":\"lower_68_ci\"},\"line_color\":{\"value\":null},\"right\":{\"field\":\"upper_68_ci\"},\"y\":{\"field\":\"factor_label\"}},\"id\":\"19177\",\"type\":\"HBar\"},{\"attributes\":{\"dimension\":\"height\",\"line_alpha\":0.8,\"line_color\":\"grey\",\"line_dash\":[6],\"line_width\":1.5,\"location\":0},\"id\":\"19182\",\"type\":\"Span\"},{\"attributes\":{\"data_source\":{\"id\":\"19022\"},\"glyph\":{\"id\":\"19137\"},\"hover_glyph\":null,\"muted_glyph\":{\"id\":\"19139\"},\"nonselection_glyph\":{\"id\":\"19138\"},\"view\":{\"id\":\"19135\"}},\"id\":\"19140\",\"type\":\"GlyphRenderer\"},{\"attributes\":{\"data_source\":{\"id\":\"19022\"},\"glyph\":{\"id\":\"19147\"},\"hover_glyph\":null,\"js_property_callbacks\":{\"change:muted\":[{\"id\":\"19164\"},{\"id\":\"19165\"}]},\"muted_glyph\":{\"id\":\"19149\"},\"nonselection_glyph\":{\"id\":\"19148\"},\"view\":{\"id\":\"19135\"}},\"id\":\"19150\",\"type\":\"GlyphRenderer\"},{\"attributes\":{\"button_type\":\"success\",\"icon\":null,\"js_event_callbacks\":{\"button_click\":[{\"id\":\"19191\"}]},\"label\":\"Reset Metrics/Conditions\"},\"id\":\"19190\",\"type\":\"Button\"},{\"attributes\":{\"fill_alpha\":{\"value\":0.1},\"fill_color\":{\"value\":\"#0072B2\"},\"height\":{\"value\":0.6},\"left\":{\"field\":\"lower_68_ci\"},\"line_alpha\":{\"value\":0.1},\"line_color\":{\"value\":null},\"right\":{\"field\":\"upper_68_ci\"},\"y\":{\"field\":\"factor_label\"}},\"id\":\"19148\",\"type\":\"HBar\"},{\"attributes\":{\"args\":{\"other\":{\"id\":\"19171\"}},\"code\":\"other.visible = this.visible\"},\"id\":\"19181\",\"type\":\"CustomJS\"},{\"attributes\":{\"fill_alpha\":{\"value\":0.2},\"fill_color\":{\"value\":\"#0072B2\"},\"height\":{\"value\":0.6},\"left\":{\"field\":\"lower_68_ci\"},\"line_alpha\":{\"value\":0.2},\"line_color\":{\"value\":\"#0072B2\"},\"right\":{\"field\":\"upper_68_ci\"},\"y\":{\"field\":\"factor_label\"}},\"id\":\"19149\",\"type\":\"HBar\"},{\"attributes\":{\"args\":{\"other\":{\"id\":\"19175\"}},\"code\":\"other.visible = this.visible\"},\"id\":\"19180\",\"type\":\"CustomJS\"},{\"attributes\":{\"args\":{\"glyphs\":[{\"id\":\"19140\"},{\"id\":\"19145\"},{\"id\":\"19150\"},{\"id\":\"19171\"},{\"id\":\"19175\"},{\"id\":\"19179\"}]},\"code\":\"\\n        for (const glyph of glyphs){\\n            if (glyph.tags.includes(\\\"stat_sig\\\")) {\\n                var stat_sig_visible = glyph.visible;\\n            }\\n        }\\n\\n        if (stat_sig_visible) {\\n            var muted = false;\\n        } else {\\n            var muted = true;\\n        }\\n\\n        for (const glyph of glyphs){\\n            if (glyph.tags.includes(\\\"stat_sig\\\")) {\\n                glyph.visible = !glyph.visible;\\n            } else {\\n                glyph.muted = muted;\\n            }\\n        }\\n        \"},\"id\":\"19189\",\"type\":\"CustomJS\"},{\"attributes\":{\"data_source\":{\"id\":\"19022\"},\"glyph\":{\"id\":\"19177\"},\"hover_glyph\":null,\"js_property_callbacks\":{\"change:visible\":[{\"id\":\"19180\"},{\"id\":\"19181\"}]},\"muted_glyph\":null,\"nonselection_glyph\":{\"id\":\"19178\"},\"tags\":[\"stat_sig\"],\"view\":{\"id\":\"19167\"},\"visible\":false},\"id\":\"19179\",\"type\":\"GlyphRenderer\"},{\"attributes\":{},\"id\":\"19151\",\"type\":\"Title\"},{\"attributes\":{\"button_type\":\"danger\",\"icon\":null,\"js_property_callbacks\":{\"change:active\":[{\"id\":\"19189\"}]},\"label\":\"Toggle Stat Sig\"},\"id\":\"19188\",\"type\":\"Toggle\"},{\"attributes\":{\"booleans\":[true,true,true,true,true,true,true,true,true,true]},\"id\":\"19134\",\"type\":\"BooleanFilter\"},{\"attributes\":{\"align\":\"center\",\"text\":\"Secondary Metrics - Ios\"},\"id\":\"19184\",\"type\":\"Title\"},{\"attributes\":{\"line_alpha\":{\"value\":0.2},\"x0\":{\"field\":\"lower_68_ci\"},\"x1\":{\"field\":\"lower_95_ci\"},\"y0\":{\"field\":\"factor_label\"},\"y1\":{\"field\":\"factor_label\"}},\"id\":\"19144\",\"type\":\"Segment\"},{\"attributes\":{\"x0\":{\"field\":\"upper_95_ci\"},\"x1\":{\"field\":\"upper_68_ci\"},\"y0\":{\"field\":\"factor_label\"},\"y1\":{\"field\":\"factor_label\"}},\"id\":\"19137\",\"type\":\"Segment\"},{\"attributes\":{\"js_property_callbacks\":{\"change:value\":[{\"id\":\"19187\"}]},\"options\":[\"N All Sessions\",\"% All Sessions\",\"N Organic Sessions\",\"% Organic Sessions\",\"N Push Driven Sessions\",\"% Push Driven Sessions\",\"N Incident Views\",\"% Incident Views\",\"N Incident Share Attempts\",\"% Incident Share Attempts\"],\"value\":[\"N All Sessions\",\"% All Sessions\",\"N Organic Sessions\",\"% Organic Sessions\",\"N Push Driven Sessions\",\"% Push Driven Sessions\",\"N Incident Views\",\"% Incident Views\",\"N Incident Share Attempts\",\"% Incident Share Attempts\"]},\"id\":\"19185\",\"type\":\"MultiChoice\"},{\"attributes\":{\"data\":{\"abs_mean\":{\"__ndarray__\":\"ANA/QytqDz9ANg9gOmV3vwD0YGVaW1G/ALfhwdDfur8AAPxWc5wtvwDFHWv3d5W/AICki6NCCz8AeSzn/tiCvwDQncgM6Cg/AAG03nbknr8=\",\"dtype\":\"float64\",\"order\":\"little\",\"shape\":[10]},\"abs_std\":{\"__ndarray__\":\"cqG9aXnoNz99zQPMne5qP6ziqyxnUDc/04dBGlCHpT93QuO1Ld0+P+1KqfrryIo/VJBla96yPj/7GI78d1WNP+F2TZdkJRE/HntGllcZlz8=\",\"dtype\":\"float64\",\"order\":\"little\",\"shape\":[10]},\"cond_order\":[0,0,0,0,0,0,0,0,0,0],\"ctrl_count\":{\"__ndarray__\":\"AAAAADTxGUEAAAAANPEZQQAAAAA08RlBAAAAADTxGUEAAAAANPEZQQAAAAA08RlBAAAAADTxGUEAAAAANPEZQQAAAAA08RlBAAAAADTxGUE=\",\"dtype\":\"float64\",\"order\":\"little\",\"shape\":[10]},\"ctrl_mean\":{\"__ndarray__\":\"lyCvBJubwD+7YVdocoXOPxGD2IHlGew/9v4wLHklIUAl2hgaO/XnP0yIrbyaOg9A8zyOivQU6D98rLhy2JMEQKQNI81f4e8/ZBqzlznnGUA=\",\"dtype\":\"float64\",\"order\":\"little\",\"shape\":[10]},\"ctrl_std\":{\"__ndarray__\":\"mcvrAXiB1T/NC9ah9AT7P4D96Yc079Q/tgYejVlsM0D2u6NM4cLbP+g1U1RtUBhADxTPMiCe2z8OGAIHjG8aQCtQDyAvP68/XgnS14fvJEA=\",\"dtype\":\"float64\",\"order\":\"little\",\"shape\":[10]},\"display_metric\":[\"% Incident Share Attempts\",\"N Incident Share Attempts\",\"% Incident Views\",\"N Incident Views\",\"% Push Driven Sessions\",\"N Push Driven Sessions\",\"% Organic Sessions\",\"N Organic Sessions\",\"% All Sessions\",\"N All Sessions\"],\"exp_cond\":[\"tx_w_protect_upsell\",\"tx_w_protect_upsell\",\"tx_w_protect_upsell\",\"tx_w_protect_upsell\",\"tx_w_protect_upsell\",\"tx_w_protect_upsell\",\"tx_w_protect_upsell\",\"tx_w_protect_upsell\",\"tx_w_protect_upsell\",\"tx_w_protect_upsell\"],\"factor_label\":[[\"% Incident Share Attempts\",\"tx_w_protect_upsell\"],[\"N Incident Share Attempts\",\"tx_w_protect_upsell\"],[\"% Incident Views\",\"tx_w_protect_upsell\"],[\"N Incident Views\",\"tx_w_protect_upsell\"],[\"% Push Driven Sessions\",\"tx_w_protect_upsell\"],[\"N Push Driven Sessions\",\"tx_w_protect_upsell\"],[\"% Organic Sessions\",\"tx_w_protect_upsell\"],[\"N Organic Sessions\",\"tx_w_protect_upsell\"],[\"% All Sessions\",\"tx_w_protect_upsell\"],[\"N All Sessions\",\"tx_w_protect_upsell\"]],\"index\":[25,24,23,22,21,20,19,18,17,16],\"lower_68_ci\":{\"__ndarray__\":\"e20lPPwTzr/EWRlAeTEOwO9qpWxvoMS/mGaK3Gtw+7+RgJj79tO3v4gsp0Fc6Ou//2aoSuhUrL9s89ZYrkTtv3N27KThnYk/RMXkFu0N6r8=\",\"dtype\":\"float64\",\"order\":\"little\",\"shape\":[10]},\"lower_95_ci\":{\"__ndarray__\":\"ldy1Iiwo4L8urdX5G2QUwJZBPVvGmsm/HwVVBH58AcASe0PRvqTDvy8avwKZGfO/Lx9NF4h2vb+4t4wl9C/3v+y5v2r3ank/NKAvya1g8r8=\",\"dtype\":\"float64\",\"order\":\"little\",\"shape\":[10]},\"mean\":{\"__ndarray__\":\"9QhQV/6kpz8kmbbvxykDwK3W4xL/4b6/zMY+WYCX87+zbYDhKuaevwovp5W9L+G/e3XxwLRMfD8kD05O+eXWv4AgOj/7h5M/p7TfAbTQ3b8=\",\"dtype\":\"float64\",\"order\":\"little\",\"shape\":[10]},\"metric\":[\"pct_incident_share_attempts\",\"n_incident_share_attempts\",\"pct_incident_views\",\"n_incident_views\",\"pct_push_driven_sessions\",\"n_push_driven_sessions\",\"pct_organic_sessions\",\"n_organic_sessions\",\"pct_all_sessions\",\"n_all_sessions\"],\"metric_order\":{\"__ndarray__\":\"AAAAAAAAIkAAAAAAAAAgQAAAAAAAABxAAAAAAAAAGEAAAAAAAAAUQAAAAAAAABBAAAAAAAAACEAAAAAAAAAAQAAAAAAAAPA/AAAAAAAAAAA=\",\"dtype\":\"float64\",\"order\":\"little\",\"shape\":[10]},\"p_value\":{\"__ndarray__\":\"vFgUNT7T2z+4yMjTJBO1P7pno4A6xlc/yyvzdd6tiT9USq+JvTTUP7aRMkOP4rs/U0vDA/cr3T9Q/ASAOKjgP6gwcZu8EF4/Grt17xsuxz8=\",\"dtype\":\"float64\",\"order\":\"little\",\"shape\":[10]},\"std\":{\"__ndarray__\":\"3Lf86J3+0T8/gcWgYg/2P2H+zYy/vaQ/MX8uDa5j3z8kZThDbBqwP/36/1c9cdU/rpXG4n7erz/a66+xsdHhPxqVD7Mp5Ho/4dXpKyZL1j8=\",\"dtype\":\"float64\",\"order\":\"little\",\"shape\":[10]},\"tx_count\":{\"__ndarray__\":\"AAAAACjaGUEAAAAAKNoZQQAAAAAo2hlBAAAAACjaGUEAAAAAKNoZQQAAAAAo2hlBAAAAACjaGUEAAAAAKNoZQQAAAAAo2hlBAAAAACjaGUE=\",\"dtype\":\"float64\",\"order\":\"little\",\"shape\":[10]},\"tx_mean\":{\"__ndarray__\":\"lFRjp5GdwD8J6FaVSMrNP5fSpdQ3Eew/iDutirnvIEBlauNSYfPnP8JM182qDw9AhWsclWEV6D8DgNFz/4AEQIGX703u4u8/Y2bUIFXIGUA=\",\"dtype\":\"float64\",\"order\":\"little\",\"shape\":[10]},\"tx_std\":{\"__ndarray__\":\"QBbw4IyC1T8iS5zeAQ/1P9qvv8U0A9U/45DyL4pPM0BSkN05AMXbPz4RUx/f3xdAO4YvjaCd2z/kbayKdlcaQBvhV/X7ca4/GNFSolefJEA=\",\"dtype\":\"float64\",\"order\":\"little\",\"shape\":[10]},\"upper_68_ci\":{\"__ndarray__\":\"+7jmsz3z1D8Jsac+LUTwv3zXfEwfg7S/AE7mqyl9579uk7AVw8GgPy7GnKZ73Mm/L2JyvQq0sT8gkSMq1HrJP8YF/qsFQZo/GHvXVzcWvr8=\",\"dtype\":\"float64\",\"order\":\"little\",\"shape\":[10]},\"upper_95_ci\":{\"__ndarray__\":\"s92f7csc4z+oQPGhQKXTP15Umt7iHKW/ag1OpxLY0L9Kv8YxaNa3P1CyftG2nb4/76a1Vw+AwD9MYMv87nnnP0Ip4lGcWqA/Bi/+QZ7Cyz8=\",\"dtype\":\"float64\",\"order\":\"little\",\"shape\":[10]}},\"selected\":{\"id\":\"19078\"},\"selection_policy\":{\"id\":\"19079\"}},\"id\":\"19022\",\"type\":\"ColumnDataSource\"},{\"attributes\":{\"end\":1.3167742094800268,\"start\":-5.6809027132104575},\"id\":\"19183\",\"type\":\"Range1d\"},{\"attributes\":{\"line_alpha\":{\"value\":0.1},\"x0\":{\"field\":\"lower_68_ci\"},\"x1\":{\"field\":\"lower_95_ci\"},\"y0\":{\"field\":\"factor_label\"},\"y1\":{\"field\":\"factor_label\"}},\"id\":\"19143\",\"type\":\"Segment\"},{\"attributes\":{\"data_source\":{\"id\":\"19022\"},\"glyph\":{\"id\":\"19142\"},\"hover_glyph\":null,\"muted_glyph\":{\"id\":\"19144\"},\"nonselection_glyph\":{\"id\":\"19143\"},\"view\":{\"id\":\"19135\"}},\"id\":\"19145\",\"type\":\"GlyphRenderer\"},{\"attributes\":{},\"id\":\"19153\",\"type\":\"CategoricalTickFormatter\"},{\"attributes\":{},\"id\":\"19109\",\"type\":\"SaveTool\"},{\"attributes\":{\"args\":{\"condWidget\":{\"id\":\"19186\"},\"metricWidget\":{\"id\":\"19185\"}},\"code\":\"\\n        metricWidget.value = metricWidget.options\\n        condWidget.value = condWidget.options\\n        \"},\"id\":\"19191\",\"type\":\"CustomJS\"},{\"attributes\":{\"booleans\":[false,false,true,true,false,false,false,false,true,false]},\"id\":\"19166\",\"type\":\"BooleanFilter\"},{\"attributes\":{},\"id\":\"19154\",\"type\":\"AllLabels\"},{\"attributes\":{},\"id\":\"19106\",\"type\":\"WheelZoomTool\"},{\"attributes\":{\"x0\":{\"field\":\"lower_68_ci\"},\"x1\":{\"field\":\"lower_95_ci\"},\"y0\":{\"field\":\"factor_label\"},\"y1\":{\"field\":\"factor_label\"}},\"id\":\"19142\",\"type\":\"Segment\"},{\"attributes\":{\"factors\":[[\"% Incident Share Attempts\",\"tx_w_protect_upsell\"],[\"N Incident Share Attempts\",\"tx_w_protect_upsell\"],[\"% Incident Views\",\"tx_w_protect_upsell\"],[\"N Incident Views\",\"tx_w_protect_upsell\"],[\"% Push Driven Sessions\",\"tx_w_protect_upsell\"],[\"N Push Driven Sessions\",\"tx_w_protect_upsell\"],[\"% Organic Sessions\",\"tx_w_protect_upsell\"],[\"N Organic Sessions\",\"tx_w_protect_upsell\"],[\"% All Sessions\",\"tx_w_protect_upsell\"],[\"N All Sessions\",\"tx_w_protect_upsell\"]]},\"id\":\"19104\",\"type\":\"FactorRange\"},{\"attributes\":{\"args\":{\"other\":{\"id\":\"19145\"}},\"code\":\"other.muted = this.muted\"},\"id\":\"19164\",\"type\":\"CustomJS\"},{\"attributes\":{},\"id\":\"19156\",\"type\":\"BasicTickFormatter\"},{\"attributes\":{\"children\":[{\"id\":\"19185\"},{\"id\":\"19186\"},{\"id\":\"19188\"},{\"id\":\"19190\"}]},\"id\":\"19192\",\"type\":\"Column\"},{\"attributes\":{\"active_multi\":null,\"tools\":[{\"id\":\"19105\"},{\"id\":\"19106\"},{\"id\":\"19107\"},{\"id\":\"19108\"},{\"id\":\"19109\"},{\"id\":\"19126\"}]},\"id\":\"19127\",\"type\":\"Toolbar\"},{\"attributes\":{\"overlay\":{\"id\":\"19125\"}},\"id\":\"19105\",\"type\":\"BoxZoomTool\"},{\"attributes\":{},\"id\":\"19157\",\"type\":\"AllLabels\"},{\"attributes\":{},\"id\":\"19108\",\"type\":\"ResetTool\"},{\"attributes\":{},\"id\":\"19107\",\"type\":\"PanTool\"},{\"attributes\":{},\"id\":\"19078\",\"type\":\"Selection\"},{\"attributes\":{},\"id\":\"19116\",\"type\":\"CategoricalScale\"},{\"attributes\":{\"above\":[{\"id\":\"19184\"}],\"below\":[{\"id\":\"19118\"}],\"center\":[{\"id\":\"19121\"},{\"id\":\"19124\"},{\"id\":\"19162\"},{\"id\":\"19182\"}],\"height\":450,\"left\":[{\"id\":\"19122\"}],\"renderers\":[{\"id\":\"19140\"},{\"id\":\"19145\"},{\"id\":\"19150\"},{\"id\":\"19171\"},{\"id\":\"19175\"},{\"id\":\"19179\"}],\"title\":{\"id\":\"19151\"},\"toolbar\":{\"id\":\"19127\"},\"width\":650,\"x_range\":{\"id\":\"19183\"},\"x_scale\":{\"id\":\"19114\"},\"y_range\":{\"id\":\"19104\"},\"y_scale\":{\"id\":\"19116\"}},\"id\":\"19110\",\"subtype\":\"Figure\",\"type\":\"Plot\"},{\"attributes\":{\"formatter\":{\"id\":\"19153\"},\"group_label_orientation\":\"horizontal\",\"major_label_policy\":{\"id\":\"19154\"},\"major_label_text_alpha\":0.0,\"major_label_text_font_size\":\"1px\",\"major_tick_in\":0,\"major_tick_out\":0,\"minor_tick_line_color\":\"yellow\",\"separator_line_alpha\":0,\"ticker\":{\"id\":\"19123\"}},\"id\":\"19122\",\"type\":\"CategoricalAxis\"},{\"attributes\":{\"axis\":{\"id\":\"19118\"},\"ticker\":null},\"id\":\"19121\",\"type\":\"Grid\"},{\"attributes\":{\"filters\":[{\"id\":\"19166\"}],\"source\":{\"id\":\"19022\"}},\"id\":\"19167\",\"type\":\"CDSView\"},{\"attributes\":{\"bottom_units\":\"screen\",\"fill_alpha\":0.5,\"fill_color\":\"lightgrey\",\"left_units\":\"screen\",\"level\":\"overlay\",\"line_alpha\":1.0,\"line_color\":\"black\",\"line_dash\":[4,4],\"line_width\":2,\"right_units\":\"screen\",\"syncable\":false,\"top_units\":\"screen\"},\"id\":\"19125\",\"type\":\"BoxAnnotation\"},{\"attributes\":{\"filters\":[{\"id\":\"19134\"}],\"source\":{\"id\":\"19022\"}},\"id\":\"19135\",\"type\":\"CDSView\"},{\"attributes\":{\"args\":{\"other\":{\"id\":\"19140\"}},\"code\":\"other.muted = this.muted\"},\"id\":\"19165\",\"type\":\"CustomJS\"},{\"attributes\":{},\"id\":\"19119\",\"type\":\"BasicTicker\"},{\"attributes\":{\"x0\":{\"field\":\"upper_95_ci\"},\"x1\":{\"field\":\"upper_68_ci\"},\"y0\":{\"field\":\"factor_label\"},\"y1\":{\"field\":\"factor_label\"}},\"id\":\"19169\",\"type\":\"Segment\"},{\"attributes\":{\"js_property_callbacks\":{\"change:value\":[{\"id\":\"19187\"}]},\"options\":[\"tx_w_protect_upsell\"],\"value\":[\"tx_w_protect_upsell\"]},\"id\":\"19186\",\"type\":\"MultiChoice\"},{\"attributes\":{\"callback\":null,\"tooltips\":[[\"Tx Label\",\"@{exp_cond}\"],[\"Rel Diff Tx vs Ctrl\",\"@{mean}\\u00b1@{std}\"],[\"P-Value\",\"@p_value{1.11111}\"],[\"Abs Diff Tx - Ctrl\",\"@{abs_mean}\\u00b1@{abs_std}\"],[\"Ctrl x\\u0304\",\"@{ctrl_mean}\\u00b1@{ctrl_std}\"],[\"Tx x\\u0304\",\"@{tx_mean}\\u00b1@{tx_std}\"],[\"Ctrl/Tx n\",\"@{ctrl_count}/@{tx_count}\"]]},\"id\":\"19126\",\"type\":\"HoverTool\"},{\"attributes\":{\"line_alpha\":{\"value\":0.1},\"x0\":{\"field\":\"upper_95_ci\"},\"x1\":{\"field\":\"upper_68_ci\"},\"y0\":{\"field\":\"factor_label\"},\"y1\":{\"field\":\"factor_label\"}},\"id\":\"19170\",\"type\":\"Segment\"},{\"attributes\":{\"axis\":{\"id\":\"19122\"},\"dimension\":1,\"grid_line_color\":null,\"ticker\":null},\"id\":\"19124\",\"type\":\"Grid\"},{\"attributes\":{\"data_source\":{\"id\":\"19022\"},\"glyph\":{\"id\":\"19169\"},\"hover_glyph\":null,\"muted_glyph\":null,\"nonselection_glyph\":{\"id\":\"19170\"},\"view\":{\"id\":\"19167\"},\"visible\":false},\"id\":\"19171\",\"type\":\"GlyphRenderer\"},{\"attributes\":{},\"id\":\"19079\",\"type\":\"UnionRenderers\"},{\"attributes\":{},\"id\":\"19123\",\"type\":\"CategoricalTicker\"},{\"attributes\":{\"x0\":{\"field\":\"lower_68_ci\"},\"x1\":{\"field\":\"lower_95_ci\"},\"y0\":{\"field\":\"factor_label\"},\"y1\":{\"field\":\"factor_label\"}},\"id\":\"19173\",\"type\":\"Segment\"},{\"attributes\":{\"line_alpha\":{\"value\":0.1},\"x0\":{\"field\":\"lower_68_ci\"},\"x1\":{\"field\":\"lower_95_ci\"},\"y0\":{\"field\":\"factor_label\"},\"y1\":{\"field\":\"factor_label\"}},\"id\":\"19174\",\"type\":\"Segment\"},{\"attributes\":{\"args\":{\"condWidget\":{\"id\":\"19186\"},\"metricWidget\":{\"id\":\"19185\"},\"source\":{\"id\":\"19022\"},\"yRange\":{\"id\":\"19104\"}},\"code\":\"\\n        // Filter y-axis labels\\n        let tempList = source.data[\\\"factor_label\\\"].filter(function (currentElement) {\\n          return metricWidget.value.includes(currentElement[0]) && condWidget.value.includes(currentElement[1]);\\n        });\\n        yRange.factors = tempList;\\n        \"},\"id\":\"19187\",\"type\":\"CustomJS\"}],\"root_ids\":[\"19193\"]},\"title\":\"Bokeh Application\",\"version\":\"2.3.2\"}};\n",
       "  var render_items = [{\"docid\":\"2891197d-0a60-4c26-8d10-3a6234888ba9\",\"root_ids\":[\"19193\"],\"roots\":{\"19193\":\"2a36c8e9-ad85-4fc8-8821-e20baf6c2017\"}}];\n",
       "  root.Bokeh.embed.embed_items_notebook(docs_json, render_items);\n",
       "\n",
       "  }\n",
       "  if (root.Bokeh !== undefined) {\n",
       "    embed_document(root);\n",
       "  } else {\n",
       "    var attempts = 0;\n",
       "    var timer = setInterval(function(root) {\n",
       "      if (root.Bokeh !== undefined) {\n",
       "        clearInterval(timer);\n",
       "        embed_document(root);\n",
       "      } else {\n",
       "        attempts++;\n",
       "        if (attempts > 100) {\n",
       "          clearInterval(timer);\n",
       "          console.log(\"Bokeh: ERROR: Unable to run BokehJS code because BokehJS library is missing\");\n",
       "        }\n",
       "      }\n",
       "    }, 10, root)\n",
       "  }\n",
       "})(window);"
      ],
      "application/vnd.bokehjs_exec.v0+json": ""
     },
     "metadata": {
      "application/vnd.bokehjs_exec.v0+json": {
       "id": "19193"
      }
     },
     "output_type": "display_data"
    },
    {
     "name": "stderr",
     "output_type": "stream",
     "text": [
      "/opt/conda/lib/python3.9/site-packages/bokeh/io/saving.py:126: UserWarning: save() called but no resources were supplied and output_file(...) was never called, defaulting to resources.CDN\n",
      "  warn(\"save() called but no resources were supplied and output_file(...) was never called, defaulting to resources.CDN\")\n",
      "/opt/conda/lib/python3.9/site-packages/bokeh/io/saving.py:139: UserWarning: save() called but no title was supplied and output_file(...) was never called, using default title 'Bokeh Plot'\n",
      "  warn(\"save() called but no title was supplied and output_file(...) was never called, using default title 'Bokeh Plot'\")\n",
      "NaN values found!\n"
     ]
    },
    {
     "data": {
      "text/html": [
       "\n",
       "\n",
       "\n",
       "\n",
       "\n",
       "\n",
       "  <div class=\"bk-root\" id=\"3b79287f-4b41-45fa-bc6f-2925197f5c74\" data-root-id=\"19949\"></div>\n"
      ]
     },
     "metadata": {},
     "output_type": "display_data"
    },
    {
     "data": {
      "application/javascript": [
       "(function(root) {\n",
       "  function embed_document(root) {\n",
       "    \n",
       "  var docs_json = {\"f27fdfe5-cbd4-459a-b05d-65ba36768fdd\":{\"defs\":[],\"roots\":{\"references\":[{\"attributes\":{\"children\":[{\"id\":\"19866\"},{\"id\":\"19948\"}]},\"id\":\"19949\",\"type\":\"Row\"},{\"attributes\":{\"label\":{\"value\":\"tx_w_protect_upsell\"},\"renderers\":[{\"id\":\"19906\"}]},\"id\":\"19919\",\"type\":\"LegendItem\"},{\"attributes\":{\"line_alpha\":{\"value\":0.2},\"x0\":{\"field\":\"lower_68_ci\"},\"x1\":{\"field\":\"lower_95_ci\"},\"y0\":{\"field\":\"factor_label\"},\"y1\":{\"field\":\"factor_label\"}},\"id\":\"19900\",\"type\":\"Segment\"},{\"attributes\":{\"args\":{\"condWidget\":{\"id\":\"19942\"},\"metricWidget\":{\"id\":\"19941\"}},\"code\":\"\\n        metricWidget.value = metricWidget.options\\n        condWidget.value = condWidget.options\\n        \"},\"id\":\"19947\",\"type\":\"CustomJS\"},{\"attributes\":{\"align\":\"center\",\"text\":\"Secondary Metrics - New\"},\"id\":\"19940\",\"type\":\"Title\"},{\"attributes\":{},\"id\":\"19862\",\"type\":\"WheelZoomTool\"},{\"attributes\":{},\"id\":\"19865\",\"type\":\"SaveTool\"},{\"attributes\":{\"js_property_callbacks\":{\"change:value\":[{\"id\":\"19943\"}]},\"options\":[\"N All Sessions\",\"% All Sessions\",\"N Organic Sessions\",\"% Organic Sessions\",\"N Push Driven Sessions\",\"% Push Driven Sessions\",\"N Incident Views\",\"% Incident Views\",\"N Incident Share Attempts\",\"% Incident Share Attempts\"],\"value\":[\"N All Sessions\",\"% All Sessions\",\"N Organic Sessions\",\"% Organic Sessions\",\"N Push Driven Sessions\",\"% Push Driven Sessions\",\"N Incident Views\",\"% Incident Views\",\"N Incident Share Attempts\",\"% Incident Share Attempts\"]},\"id\":\"19941\",\"type\":\"MultiChoice\"},{\"attributes\":{\"end\":7.205748407391715,\"start\":-7.859354567699782},\"id\":\"19939\",\"type\":\"Range1d\"},{\"attributes\":{\"booleans\":[true,false,false,false,true,false,false,false,false,false]},\"id\":\"19922\",\"type\":\"BooleanFilter\"},{\"attributes\":{\"above\":[{\"id\":\"19940\"}],\"below\":[{\"id\":\"19874\"}],\"center\":[{\"id\":\"19877\"},{\"id\":\"19880\"},{\"id\":\"19918\"},{\"id\":\"19938\"}],\"height\":450,\"left\":[{\"id\":\"19878\"}],\"renderers\":[{\"id\":\"19896\"},{\"id\":\"19901\"},{\"id\":\"19906\"},{\"id\":\"19927\"},{\"id\":\"19931\"},{\"id\":\"19935\"}],\"title\":{\"id\":\"19907\"},\"toolbar\":{\"id\":\"19883\"},\"width\":650,\"x_range\":{\"id\":\"19939\"},\"x_scale\":{\"id\":\"19870\"},\"y_range\":{\"id\":\"19860\"},\"y_scale\":{\"id\":\"19872\"}},\"id\":\"19866\",\"subtype\":\"Figure\",\"type\":\"Plot\"},{\"attributes\":{},\"id\":\"19909\",\"type\":\"CategoricalTickFormatter\"},{\"attributes\":{},\"id\":\"19864\",\"type\":\"ResetTool\"},{\"attributes\":{},\"id\":\"19910\",\"type\":\"AllLabels\"},{\"attributes\":{\"x0\":{\"field\":\"upper_95_ci\"},\"x1\":{\"field\":\"upper_68_ci\"},\"y0\":{\"field\":\"factor_label\"},\"y1\":{\"field\":\"factor_label\"}},\"id\":\"19893\",\"type\":\"Segment\"},{\"attributes\":{\"data_source\":{\"id\":\"19778\"},\"glyph\":{\"id\":\"19903\"},\"hover_glyph\":null,\"js_property_callbacks\":{\"change:muted\":[{\"id\":\"19920\"},{\"id\":\"19921\"}]},\"muted_glyph\":{\"id\":\"19905\"},\"nonselection_glyph\":{\"id\":\"19904\"},\"view\":{\"id\":\"19891\"}},\"id\":\"19906\",\"type\":\"GlyphRenderer\"},{\"attributes\":{\"axis\":{\"id\":\"19874\"},\"ticker\":null},\"id\":\"19877\",\"type\":\"Grid\"},{\"attributes\":{\"data\":{\"abs_mean\":{\"__ndarray__\":\"gAINwBMPeD8AWbKAVYRQvwCc4846K1m/wO3CmjTUzD8AuyIlLbRsP2Bu68jy2LA/AID5jW1uBr/AdZQSWMmgPwCQXA0mLjK/QKk10p49uT8=\",\"dtype\":\"float64\",\"order\":\"little\",\"shape\":[10]},\"abs_std\":{\"__ndarray__\":\"Hl4c+M4zWT9htKLenjuEP/OsxedYLVk/DflpQ8xYyD92Sryx+hdgP4chrn579Ko/a+59kDznPj+nPTOWZYSgP9DHyDpV7T0/K5PIXmsksz8=\",\"dtype\":\"float64\",\"order\":\"little\",\"shape\":[10]},\"cond_order\":[0,0,0,0,0,0,0,0,0,0],\"ctrl_count\":{\"__ndarray__\":\"AAAAAEDA20AAAAAAQMDbQAAAAABAwNtAAAAAAEDA20AAAAAAQMDbQAAAAABAwNtAAAAAAEDA20AAAAAAQMDbQAAAAABAwNtAAAAAAEDA20A=\",\"dtype\":\"float64\",\"order\":\"little\",\"shape\":[10]},\"ctrl_mean\":{\"__ndarray__\":\"ZIMHvprnwz8/sSWoF77TP/YnrFqv9+o/Fyzi7mszJECXhqSpcbflP5oUEZgQzg5Ao3JLSTiY7z9glTsqsJ0IQCIczRC3n+8//VQmYeC1G0A=\",\"dtype\":\"float64\",\"order\":\"little\",\"shape\":[10]},\"ctrl_std\":{\"__ndarray__\":\"e2y2ZW8x1z+bVwhTL2PzP5D6kCK1TNc/KZeBcebfNEC3rwnna+PdP/SdRytIzRhAZv/upZ2hvD+7h89blc8NQCvVuPU+l7s/KvjxbqFxIUA=\",\"dtype\":\"float64\",\"order\":\"little\",\"shape\":[10]},\"display_metric\":[\"% Incident Share Attempts\",\"N Incident Share Attempts\",\"% Incident Views\",\"N Incident Views\",\"% Push Driven Sessions\",\"N Push Driven Sessions\",\"% Organic Sessions\",\"N Organic Sessions\",\"% All Sessions\",\"N All Sessions\"],\"exp_cond\":[\"tx_w_protect_upsell\",\"tx_w_protect_upsell\",\"tx_w_protect_upsell\",\"tx_w_protect_upsell\",\"tx_w_protect_upsell\",\"tx_w_protect_upsell\",\"tx_w_protect_upsell\",\"tx_w_protect_upsell\",\"tx_w_protect_upsell\",\"tx_w_protect_upsell\"],\"factor_label\":[[\"% Incident Share Attempts\",\"tx_w_protect_upsell\"],[\"N Incident Share Attempts\",\"tx_w_protect_upsell\"],[\"% Incident Views\",\"tx_w_protect_upsell\"],[\"N Incident Views\",\"tx_w_protect_upsell\"],[\"% Push Driven Sessions\",\"tx_w_protect_upsell\"],[\"N Push Driven Sessions\",\"tx_w_protect_upsell\"],[\"% Organic Sessions\",\"tx_w_protect_upsell\"],[\"N Organic Sessions\",\"tx_w_protect_upsell\"],[\"% All Sessions\",\"tx_w_protect_upsell\"],[\"N All Sessions\",\"tx_w_protect_upsell\"]],\"index\":[25,24,23,22,21,20,19,18,17,16],\"lower_68_ci\":{\"__ndarray__\":\"GmWgxNxNBkD6WGDFPzwMwE8Vjt0eVte/HDzm/P0v1j+6hmJZkAjNP+RzyJ4Y4dU/fXdu5e+rqr/AKWJUdoGRPyKjQVnzA7O/AOHsZ/oB1j8=\",\"dtype\":\"float64\",\"order\":\"little\",\"shape\":[10]},\"lower_95_ci\":{\"__ndarray__\":\"h9fMSRtq/T8CIJZybGoawDl/vLQVReG/PtgeM/1g979AbxSEMCeqv+qPCcW5D++/7SVajL8Sub9avsTbIanvv3DOX7MeX76/jBZOMYIn5r8=\",\"dtype\":\"float64\",\"order\":\"little\",\"shape\":[10]},\"mean\":{\"__ndarray__\":\"1cishbQ3DkDSl193V+rUv5VvnZcjVce/+CeAXMPWAUAD9DjWloXgP3FLq6dqWPs/mSeD1dW/cb/PRNLoYgzxP2ot3sKYvpy/lj5kSZbF9j8=\",\"dtype\":\"float64\",\"order\":\"little\",\"shape\":[10]},\"metric\":[\"pct_incident_share_attempts\",\"n_incident_share_attempts\",\"pct_incident_views\",\"n_incident_views\",\"pct_push_driven_sessions\",\"n_push_driven_sessions\",\"pct_organic_sessions\",\"n_organic_sessions\",\"pct_all_sessions\",\"n_all_sessions\"],\"metric_order\":{\"__ndarray__\":\"AAAAAAAAIkAAAAAAAAAgQAAAAAAAABxAAAAAAAAAGEAAAAAAAAAUQAAAAAAAABBAAAAAAAAACEAAAAAAAAAAQAAAAAAAAPA/AAAAAAAAAAA=\",\"dtype\":\"float64\",\"order\":\"little\",\"shape\":[10]},\"p_value\":{\"__ndarray__\":\"nPghH/yYET80vy1QLmbtP87kM7drUcQ/wxvpRsFBzj8AOyOVQRKjP76EJC6GC8s/OfebScOv3T8FB2V6p87TP+LChG+WZNE/5VwE8eD5xz8=\",\"dtype\":\"float64\",\"order\":\"little\",\"shape\":[10]},\"std\":{\"__ndarray__\":\"6o4xBF+n7z8AZnTW9J4JQAm7fiMaV8c/6cDGOYch/j+ppMB/5YbSP3gu+X8k4PU/ihK+KvVzqD8ovIAPXcbwP44vFFGaqKc/VgZprxdF8T8=\",\"dtype\":\"float64\",\"order\":\"little\",\"shape\":[10]},\"tx_count\":{\"__ndarray__\":\"AAAAAABG20AAAAAAAEbbQAAAAAAARttAAAAAAABG20AAAAAAAEbbQAAAAAAARttAAAAAAABG20AAAAAAAEbbQAAAAAAARttAAAAAAABG20A=\",\"dtype\":\"float64\",\"order\":\"little\",\"shape\":[10]},\"tx_mean\":{\"__ndarray__\":\"eOsHXBOoxD/m/qRSk63TPyi2RL0Z6+o/zjdNwbymJEBSqcnWJdTlPw1wWC7YVA9AvTqVj96X7z8354WK1eAIQJBwC0xxne8/oitv3NYaHEA=\",\"dtype\":\"float64\",\"order\":\"little\",\"shape\":[10]},\"tx_std\":{\"__ndarray__\":\"r9sg5XWL1z9dDRWIVBnyP4GOCSVOZNc/1tgRinMuOEDvTx8lN83dPz6FRThjLxlAbYMDU9OtvD8IGT9rsXAPQFxYcusc6bs/GQlWwK0NIkA=\",\"dtype\":\"float64\",\"order\":\"little\",\"shape\":[10]},\"upper_68_ci\":{\"__ndarray__\":\"SJZcI8YQE0AGc4jnqQEHQABAtxS+aA8/NsSxfMNzEEBYRhmWCcnpP/Q80pNHnAhAl60NcPo7pj98gCn8X+kAQLIxSt+bkpI/dqJm/FYFBEA=\",\"dtype\":\"float64\",\"order\":\"little\",\"shape\":[10]},\"upper_95_ci\":{\"__ndarray__\":\"85I5sy3dFkAILaqDIc0XQLkdt6MPasY/CN5HqQKvF0B9l1la0FbxP7bXdowsjhFA+cCp0cTatj9mdMNfq/YIQHVv4aOk/68/OcS31XZPDEA=\",\"dtype\":\"float64\",\"order\":\"little\",\"shape\":[10]}},\"selected\":{\"id\":\"19834\"},\"selection_policy\":{\"id\":\"19835\"}},\"id\":\"19778\",\"type\":\"ColumnDataSource\"},{\"attributes\":{\"args\":{\"other\":{\"id\":\"19901\"}},\"code\":\"other.muted = this.muted\"},\"id\":\"19920\",\"type\":\"CustomJS\"},{\"attributes\":{},\"id\":\"19912\",\"type\":\"BasicTickFormatter\"},{\"attributes\":{\"click_policy\":\"mute\",\"items\":[{\"id\":\"19919\"}]},\"id\":\"19918\",\"type\":\"Legend\"},{\"attributes\":{\"children\":[{\"id\":\"19941\"},{\"id\":\"19942\"},{\"id\":\"19944\"},{\"id\":\"19946\"}]},\"id\":\"19948\",\"type\":\"Column\"},{\"attributes\":{},\"id\":\"19913\",\"type\":\"AllLabels\"},{\"attributes\":{\"booleans\":[true,true,true,true,true,true,true,true,true,true]},\"id\":\"19890\",\"type\":\"BooleanFilter\"},{\"attributes\":{\"active_multi\":null,\"tools\":[{\"id\":\"19861\"},{\"id\":\"19862\"},{\"id\":\"19863\"},{\"id\":\"19864\"},{\"id\":\"19865\"},{\"id\":\"19882\"}]},\"id\":\"19883\",\"type\":\"Toolbar\"},{\"attributes\":{},\"id\":\"19872\",\"type\":\"CategoricalScale\"},{\"attributes\":{},\"id\":\"19834\",\"type\":\"Selection\"},{\"attributes\":{},\"id\":\"19835\",\"type\":\"UnionRenderers\"},{\"attributes\":{},\"id\":\"19870\",\"type\":\"LinearScale\"},{\"attributes\":{\"bottom_units\":\"screen\",\"fill_alpha\":0.5,\"fill_color\":\"lightgrey\",\"left_units\":\"screen\",\"level\":\"overlay\",\"line_alpha\":1.0,\"line_color\":\"black\",\"line_dash\":[4,4],\"line_width\":2,\"right_units\":\"screen\",\"syncable\":false,\"top_units\":\"screen\"},\"id\":\"19881\",\"type\":\"BoxAnnotation\"},{\"attributes\":{\"formatter\":{\"id\":\"19909\"},\"group_label_orientation\":\"horizontal\",\"major_label_policy\":{\"id\":\"19910\"},\"major_label_text_alpha\":0.0,\"major_label_text_font_size\":\"1px\",\"major_tick_in\":0,\"major_tick_out\":0,\"minor_tick_line_color\":\"yellow\",\"separator_line_alpha\":0,\"ticker\":{\"id\":\"19879\"}},\"id\":\"19878\",\"type\":\"CategoricalAxis\"},{\"attributes\":{},\"id\":\"19875\",\"type\":\"BasicTicker\"},{\"attributes\":{\"filters\":[{\"id\":\"19922\"}],\"source\":{\"id\":\"19778\"}},\"id\":\"19923\",\"type\":\"CDSView\"},{\"attributes\":{\"factors\":[[\"% Incident Share Attempts\",\"tx_w_protect_upsell\"],[\"N Incident Share Attempts\",\"tx_w_protect_upsell\"],[\"% Incident Views\",\"tx_w_protect_upsell\"],[\"N Incident Views\",\"tx_w_protect_upsell\"],[\"% Push Driven Sessions\",\"tx_w_protect_upsell\"],[\"N Push Driven Sessions\",\"tx_w_protect_upsell\"],[\"% Organic Sessions\",\"tx_w_protect_upsell\"],[\"N Organic Sessions\",\"tx_w_protect_upsell\"],[\"% All Sessions\",\"tx_w_protect_upsell\"],[\"N All Sessions\",\"tx_w_protect_upsell\"]]},\"id\":\"19860\",\"type\":\"FactorRange\"},{\"attributes\":{\"axis_label\":\"Relative Difference of Tx vs Ctrl Population (%)\",\"formatter\":{\"id\":\"19912\"},\"major_label_policy\":{\"id\":\"19913\"},\"ticker\":{\"id\":\"19875\"}},\"id\":\"19874\",\"type\":\"LinearAxis\"},{\"attributes\":{\"line_alpha\":{\"value\":0.2},\"x0\":{\"field\":\"upper_95_ci\"},\"x1\":{\"field\":\"upper_68_ci\"},\"y0\":{\"field\":\"factor_label\"},\"y1\":{\"field\":\"factor_label\"}},\"id\":\"19895\",\"type\":\"Segment\"},{\"attributes\":{},\"id\":\"19907\",\"type\":\"Title\"},{\"attributes\":{\"args\":{\"other\":{\"id\":\"19896\"}},\"code\":\"other.muted = this.muted\"},\"id\":\"19921\",\"type\":\"CustomJS\"},{\"attributes\":{},\"id\":\"19863\",\"type\":\"PanTool\"},{\"attributes\":{\"x0\":{\"field\":\"upper_95_ci\"},\"x1\":{\"field\":\"upper_68_ci\"},\"y0\":{\"field\":\"factor_label\"},\"y1\":{\"field\":\"factor_label\"}},\"id\":\"19925\",\"type\":\"Segment\"},{\"attributes\":{\"line_alpha\":{\"value\":0.1},\"x0\":{\"field\":\"lower_68_ci\"},\"x1\":{\"field\":\"lower_95_ci\"},\"y0\":{\"field\":\"factor_label\"},\"y1\":{\"field\":\"factor_label\"}},\"id\":\"19930\",\"type\":\"Segment\"},{\"attributes\":{\"callback\":null,\"tooltips\":[[\"Tx Label\",\"@{exp_cond}\"],[\"Rel Diff Tx vs Ctrl\",\"@{mean}\\u00b1@{std}\"],[\"P-Value\",\"@p_value{1.11111}\"],[\"Abs Diff Tx - Ctrl\",\"@{abs_mean}\\u00b1@{abs_std}\"],[\"Ctrl x\\u0304\",\"@{ctrl_mean}\\u00b1@{ctrl_std}\"],[\"Tx x\\u0304\",\"@{tx_mean}\\u00b1@{tx_std}\"],[\"Ctrl/Tx n\",\"@{ctrl_count}/@{tx_count}\"]]},\"id\":\"19882\",\"type\":\"HoverTool\"},{\"attributes\":{\"overlay\":{\"id\":\"19881\"}},\"id\":\"19861\",\"type\":\"BoxZoomTool\"},{\"attributes\":{\"line_alpha\":{\"value\":0.1},\"x0\":{\"field\":\"upper_95_ci\"},\"x1\":{\"field\":\"upper_68_ci\"},\"y0\":{\"field\":\"factor_label\"},\"y1\":{\"field\":\"factor_label\"}},\"id\":\"19926\",\"type\":\"Segment\"},{\"attributes\":{\"axis\":{\"id\":\"19878\"},\"dimension\":1,\"grid_line_color\":null,\"ticker\":null},\"id\":\"19880\",\"type\":\"Grid\"},{\"attributes\":{\"data_source\":{\"id\":\"19778\"},\"glyph\":{\"id\":\"19925\"},\"hover_glyph\":null,\"muted_glyph\":null,\"nonselection_glyph\":{\"id\":\"19926\"},\"view\":{\"id\":\"19923\"},\"visible\":false},\"id\":\"19927\",\"type\":\"GlyphRenderer\"},{\"attributes\":{},\"id\":\"19879\",\"type\":\"CategoricalTicker\"},{\"attributes\":{\"args\":{\"condWidget\":{\"id\":\"19942\"},\"metricWidget\":{\"id\":\"19941\"},\"source\":{\"id\":\"19778\"},\"yRange\":{\"id\":\"19860\"}},\"code\":\"\\n        // Filter y-axis labels\\n        let tempList = source.data[\\\"factor_label\\\"].filter(function (currentElement) {\\n          return metricWidget.value.includes(currentElement[0]) && condWidget.value.includes(currentElement[1]);\\n        });\\n        yRange.factors = tempList;\\n        \"},\"id\":\"19943\",\"type\":\"CustomJS\"},{\"attributes\":{\"button_type\":\"danger\",\"icon\":null,\"js_property_callbacks\":{\"change:active\":[{\"id\":\"19945\"}]},\"label\":\"Toggle Stat Sig\"},\"id\":\"19944\",\"type\":\"Toggle\"},{\"attributes\":{\"line_alpha\":{\"value\":0.1},\"x0\":{\"field\":\"upper_95_ci\"},\"x1\":{\"field\":\"upper_68_ci\"},\"y0\":{\"field\":\"factor_label\"},\"y1\":{\"field\":\"factor_label\"}},\"id\":\"19894\",\"type\":\"Segment\"},{\"attributes\":{\"x0\":{\"field\":\"lower_68_ci\"},\"x1\":{\"field\":\"lower_95_ci\"},\"y0\":{\"field\":\"factor_label\"},\"y1\":{\"field\":\"factor_label\"}},\"id\":\"19929\",\"type\":\"Segment\"},{\"attributes\":{\"filters\":[{\"id\":\"19890\"}],\"source\":{\"id\":\"19778\"}},\"id\":\"19891\",\"type\":\"CDSView\"},{\"attributes\":{\"data_source\":{\"id\":\"19778\"},\"glyph\":{\"id\":\"19929\"},\"hover_glyph\":null,\"muted_glyph\":null,\"nonselection_glyph\":{\"id\":\"19930\"},\"view\":{\"id\":\"19923\"},\"visible\":false},\"id\":\"19931\",\"type\":\"GlyphRenderer\"},{\"attributes\":{\"args\":{\"glyphs\":[{\"id\":\"19896\"},{\"id\":\"19901\"},{\"id\":\"19906\"},{\"id\":\"19927\"},{\"id\":\"19931\"},{\"id\":\"19935\"}]},\"code\":\"\\n        for (const glyph of glyphs){\\n            if (glyph.tags.includes(\\\"stat_sig\\\")) {\\n                var stat_sig_visible = glyph.visible;\\n            }\\n        }\\n\\n        if (stat_sig_visible) {\\n            var muted = false;\\n        } else {\\n            var muted = true;\\n        }\\n\\n        for (const glyph of glyphs){\\n            if (glyph.tags.includes(\\\"stat_sig\\\")) {\\n                glyph.visible = !glyph.visible;\\n            } else {\\n                glyph.muted = muted;\\n            }\\n        }\\n        \"},\"id\":\"19945\",\"type\":\"CustomJS\"},{\"attributes\":{\"line_alpha\":{\"value\":0.1},\"x0\":{\"field\":\"lower_68_ci\"},\"x1\":{\"field\":\"lower_95_ci\"},\"y0\":{\"field\":\"factor_label\"},\"y1\":{\"field\":\"factor_label\"}},\"id\":\"19899\",\"type\":\"Segment\"},{\"attributes\":{\"fill_alpha\":{\"value\":0.1},\"fill_color\":{\"value\":\"#0072B2\"},\"height\":{\"value\":0.6},\"left\":{\"field\":\"lower_68_ci\"},\"line_alpha\":{\"value\":0.1},\"line_color\":{\"value\":null},\"right\":{\"field\":\"upper_68_ci\"},\"y\":{\"field\":\"factor_label\"}},\"id\":\"19934\",\"type\":\"HBar\"},{\"attributes\":{\"data_source\":{\"id\":\"19778\"},\"glyph\":{\"id\":\"19893\"},\"hover_glyph\":null,\"muted_glyph\":{\"id\":\"19895\"},\"nonselection_glyph\":{\"id\":\"19894\"},\"view\":{\"id\":\"19891\"}},\"id\":\"19896\",\"type\":\"GlyphRenderer\"},{\"attributes\":{\"fill_alpha\":{\"value\":0.8},\"fill_color\":{\"value\":\"#0072B2\"},\"height\":{\"value\":0.6},\"left\":{\"field\":\"lower_68_ci\"},\"line_color\":{\"value\":null},\"right\":{\"field\":\"upper_68_ci\"},\"y\":{\"field\":\"factor_label\"}},\"id\":\"19903\",\"type\":\"HBar\"},{\"attributes\":{\"fill_alpha\":{\"value\":0.8},\"fill_color\":{\"value\":\"#0072B2\"},\"height\":{\"value\":0.6},\"left\":{\"field\":\"lower_68_ci\"},\"line_color\":{\"value\":null},\"right\":{\"field\":\"upper_68_ci\"},\"y\":{\"field\":\"factor_label\"}},\"id\":\"19933\",\"type\":\"HBar\"},{\"attributes\":{\"fill_alpha\":{\"value\":0.1},\"fill_color\":{\"value\":\"#0072B2\"},\"height\":{\"value\":0.6},\"left\":{\"field\":\"lower_68_ci\"},\"line_alpha\":{\"value\":0.1},\"line_color\":{\"value\":null},\"right\":{\"field\":\"upper_68_ci\"},\"y\":{\"field\":\"factor_label\"}},\"id\":\"19904\",\"type\":\"HBar\"},{\"attributes\":{\"js_property_callbacks\":{\"change:value\":[{\"id\":\"19943\"}]},\"options\":[\"tx_w_protect_upsell\"],\"value\":[\"tx_w_protect_upsell\"]},\"id\":\"19942\",\"type\":\"MultiChoice\"},{\"attributes\":{\"x0\":{\"field\":\"lower_68_ci\"},\"x1\":{\"field\":\"lower_95_ci\"},\"y0\":{\"field\":\"factor_label\"},\"y1\":{\"field\":\"factor_label\"}},\"id\":\"19898\",\"type\":\"Segment\"},{\"attributes\":{\"fill_alpha\":{\"value\":0.2},\"fill_color\":{\"value\":\"#0072B2\"},\"height\":{\"value\":0.6},\"left\":{\"field\":\"lower_68_ci\"},\"line_alpha\":{\"value\":0.2},\"line_color\":{\"value\":\"#0072B2\"},\"right\":{\"field\":\"upper_68_ci\"},\"y\":{\"field\":\"factor_label\"}},\"id\":\"19905\",\"type\":\"HBar\"},{\"attributes\":{\"button_type\":\"success\",\"icon\":null,\"js_event_callbacks\":{\"button_click\":[{\"id\":\"19947\"}]},\"label\":\"Reset Metrics/Conditions\"},\"id\":\"19946\",\"type\":\"Button\"},{\"attributes\":{\"args\":{\"other\":{\"id\":\"19927\"}},\"code\":\"other.visible = this.visible\"},\"id\":\"19937\",\"type\":\"CustomJS\"},{\"attributes\":{\"dimension\":\"height\",\"line_alpha\":0.8,\"line_color\":\"grey\",\"line_dash\":[6],\"line_width\":1.5,\"location\":0},\"id\":\"19938\",\"type\":\"Span\"},{\"attributes\":{\"data_source\":{\"id\":\"19778\"},\"glyph\":{\"id\":\"19898\"},\"hover_glyph\":null,\"muted_glyph\":{\"id\":\"19900\"},\"nonselection_glyph\":{\"id\":\"19899\"},\"view\":{\"id\":\"19891\"}},\"id\":\"19901\",\"type\":\"GlyphRenderer\"},{\"attributes\":{\"args\":{\"other\":{\"id\":\"19931\"}},\"code\":\"other.visible = this.visible\"},\"id\":\"19936\",\"type\":\"CustomJS\"},{\"attributes\":{\"data_source\":{\"id\":\"19778\"},\"glyph\":{\"id\":\"19933\"},\"hover_glyph\":null,\"js_property_callbacks\":{\"change:visible\":[{\"id\":\"19936\"},{\"id\":\"19937\"}]},\"muted_glyph\":null,\"nonselection_glyph\":{\"id\":\"19934\"},\"tags\":[\"stat_sig\"],\"view\":{\"id\":\"19923\"},\"visible\":false},\"id\":\"19935\",\"type\":\"GlyphRenderer\"}],\"root_ids\":[\"19949\"]},\"title\":\"Bokeh Application\",\"version\":\"2.3.2\"}};\n",
       "  var render_items = [{\"docid\":\"f27fdfe5-cbd4-459a-b05d-65ba36768fdd\",\"root_ids\":[\"19949\"],\"roots\":{\"19949\":\"3b79287f-4b41-45fa-bc6f-2925197f5c74\"}}];\n",
       "  root.Bokeh.embed.embed_items_notebook(docs_json, render_items);\n",
       "\n",
       "  }\n",
       "  if (root.Bokeh !== undefined) {\n",
       "    embed_document(root);\n",
       "  } else {\n",
       "    var attempts = 0;\n",
       "    var timer = setInterval(function(root) {\n",
       "      if (root.Bokeh !== undefined) {\n",
       "        clearInterval(timer);\n",
       "        embed_document(root);\n",
       "      } else {\n",
       "        attempts++;\n",
       "        if (attempts > 100) {\n",
       "          clearInterval(timer);\n",
       "          console.log(\"Bokeh: ERROR: Unable to run BokehJS code because BokehJS library is missing\");\n",
       "        }\n",
       "      }\n",
       "    }, 10, root)\n",
       "  }\n",
       "})(window);"
      ],
      "application/vnd.bokehjs_exec.v0+json": ""
     },
     "metadata": {
      "application/vnd.bokehjs_exec.v0+json": {
       "id": "19949"
      }
     },
     "output_type": "display_data"
    },
    {
     "name": "stderr",
     "output_type": "stream",
     "text": [
      "/opt/conda/lib/python3.9/site-packages/bokeh/io/saving.py:126: UserWarning: save() called but no resources were supplied and output_file(...) was never called, defaulting to resources.CDN\n",
      "  warn(\"save() called but no resources were supplied and output_file(...) was never called, defaulting to resources.CDN\")\n",
      "/opt/conda/lib/python3.9/site-packages/bokeh/io/saving.py:139: UserWarning: save() called but no title was supplied and output_file(...) was never called, using default title 'Bokeh Plot'\n",
      "  warn(\"save() called but no title was supplied and output_file(...) was never called, using default title 'Bokeh Plot'\")\n",
      "NaN values found!\n"
     ]
    },
    {
     "data": {
      "text/html": [
       "\n",
       "\n",
       "\n",
       "\n",
       "\n",
       "\n",
       "  <div class=\"bk-root\" id=\"4edc10a0-497d-4a44-b039-ff5f0deb8c79\" data-root-id=\"20716\"></div>\n"
      ]
     },
     "metadata": {},
     "output_type": "display_data"
    },
    {
     "data": {
      "application/javascript": [
       "(function(root) {\n",
       "  function embed_document(root) {\n",
       "    \n",
       "  var docs_json = {\"5e3bf042-4c07-4bf9-b572-0fba7ff2dc48\":{\"defs\":[],\"roots\":{\"references\":[{\"attributes\":{\"children\":[{\"id\":\"20633\"},{\"id\":\"20715\"}]},\"id\":\"20716\",\"type\":\"Row\"},{\"attributes\":{\"fill_alpha\":{\"value\":0.8},\"fill_color\":{\"value\":\"#0072B2\"},\"height\":{\"value\":0.6},\"left\":{\"field\":\"lower_68_ci\"},\"line_color\":{\"value\":null},\"right\":{\"field\":\"upper_68_ci\"},\"y\":{\"field\":\"factor_label\"}},\"id\":\"20670\",\"type\":\"HBar\"},{\"attributes\":{\"args\":{\"condWidget\":{\"id\":\"20709\"},\"metricWidget\":{\"id\":\"20708\"}},\"code\":\"\\n        metricWidget.value = metricWidget.options\\n        condWidget.value = condWidget.options\\n        \"},\"id\":\"20714\",\"type\":\"CustomJS\"},{\"attributes\":{},\"id\":\"20674\",\"type\":\"Title\"},{\"attributes\":{\"args\":{\"other\":{\"id\":\"20694\"}},\"code\":\"other.visible = this.visible\"},\"id\":\"20704\",\"type\":\"CustomJS\"},{\"attributes\":{\"fill_alpha\":{\"value\":0.2},\"fill_color\":{\"value\":\"#0072B2\"},\"height\":{\"value\":0.6},\"left\":{\"field\":\"lower_68_ci\"},\"line_alpha\":{\"value\":0.2},\"line_color\":{\"value\":\"#0072B2\"},\"right\":{\"field\":\"upper_68_ci\"},\"y\":{\"field\":\"factor_label\"}},\"id\":\"20672\",\"type\":\"HBar\"},{\"attributes\":{\"fill_alpha\":{\"value\":0.1},\"fill_color\":{\"value\":\"#0072B2\"},\"height\":{\"value\":0.6},\"left\":{\"field\":\"lower_68_ci\"},\"line_alpha\":{\"value\":0.1},\"line_color\":{\"value\":null},\"right\":{\"field\":\"upper_68_ci\"},\"y\":{\"field\":\"factor_label\"}},\"id\":\"20701\",\"type\":\"HBar\"},{\"attributes\":{\"args\":{\"other\":{\"id\":\"20698\"}},\"code\":\"other.visible = this.visible\"},\"id\":\"20703\",\"type\":\"CustomJS\"},{\"attributes\":{\"data_source\":{\"id\":\"20545\"},\"glyph\":{\"id\":\"20700\"},\"hover_glyph\":null,\"js_property_callbacks\":{\"change:visible\":[{\"id\":\"20703\"},{\"id\":\"20704\"}]},\"muted_glyph\":null,\"nonselection_glyph\":{\"id\":\"20701\"},\"tags\":[\"stat_sig\"],\"view\":{\"id\":\"20690\"},\"visible\":false},\"id\":\"20702\",\"type\":\"GlyphRenderer\"},{\"attributes\":{\"x0\":{\"field\":\"lower_68_ci\"},\"x1\":{\"field\":\"lower_95_ci\"},\"y0\":{\"field\":\"factor_label\"},\"y1\":{\"field\":\"factor_label\"}},\"id\":\"20665\",\"type\":\"Segment\"},{\"attributes\":{\"align\":\"center\",\"text\":\"Secondary Metrics - Existing\"},\"id\":\"20707\",\"type\":\"Title\"},{\"attributes\":{\"data_source\":{\"id\":\"20545\"},\"glyph\":{\"id\":\"20670\"},\"hover_glyph\":null,\"js_property_callbacks\":{\"change:muted\":[{\"id\":\"20687\"},{\"id\":\"20688\"}]},\"muted_glyph\":{\"id\":\"20672\"},\"nonselection_glyph\":{\"id\":\"20671\"},\"view\":{\"id\":\"20658\"}},\"id\":\"20673\",\"type\":\"GlyphRenderer\"},{\"attributes\":{\"args\":{\"glyphs\":[{\"id\":\"20663\"},{\"id\":\"20668\"},{\"id\":\"20673\"},{\"id\":\"20694\"},{\"id\":\"20698\"},{\"id\":\"20702\"}]},\"code\":\"\\n        for (const glyph of glyphs){\\n            if (glyph.tags.includes(\\\"stat_sig\\\")) {\\n                var stat_sig_visible = glyph.visible;\\n            }\\n        }\\n\\n        if (stat_sig_visible) {\\n            var muted = false;\\n        } else {\\n            var muted = true;\\n        }\\n\\n        for (const glyph of glyphs){\\n            if (glyph.tags.includes(\\\"stat_sig\\\")) {\\n                glyph.visible = !glyph.visible;\\n            } else {\\n                glyph.muted = muted;\\n            }\\n        }\\n        \"},\"id\":\"20712\",\"type\":\"CustomJS\"},{\"attributes\":{\"booleans\":[false,true,true,true,true,false,false,false,true,false]},\"id\":\"20689\",\"type\":\"BooleanFilter\"},{\"attributes\":{\"js_property_callbacks\":{\"change:value\":[{\"id\":\"20710\"}]},\"options\":[\"N All Sessions\",\"% All Sessions\",\"N Organic Sessions\",\"% Organic Sessions\",\"N Push Driven Sessions\",\"% Push Driven Sessions\",\"N Incident Views\",\"% Incident Views\",\"N Incident Share Attempts\",\"% Incident Share Attempts\"],\"value\":[\"N All Sessions\",\"% All Sessions\",\"N Organic Sessions\",\"% Organic Sessions\",\"N Push Driven Sessions\",\"% Push Driven Sessions\",\"N Incident Views\",\"% Incident Views\",\"N Incident Share Attempts\",\"% Incident Share Attempts\"]},\"id\":\"20708\",\"type\":\"MultiChoice\"},{\"attributes\":{\"formatter\":{\"id\":\"20676\"},\"group_label_orientation\":\"horizontal\",\"major_label_policy\":{\"id\":\"20677\"},\"major_label_text_alpha\":0.0,\"major_label_text_font_size\":\"1px\",\"major_tick_in\":0,\"major_tick_out\":0,\"minor_tick_line_color\":\"yellow\",\"separator_line_alpha\":0,\"ticker\":{\"id\":\"20646\"}},\"id\":\"20645\",\"type\":\"CategoricalAxis\"},{\"attributes\":{\"args\":{\"condWidget\":{\"id\":\"20709\"},\"metricWidget\":{\"id\":\"20708\"},\"source\":{\"id\":\"20545\"},\"yRange\":{\"id\":\"20627\"}},\"code\":\"\\n        // Filter y-axis labels\\n        let tempList = source.data[\\\"factor_label\\\"].filter(function (currentElement) {\\n          return metricWidget.value.includes(currentElement[0]) && condWidget.value.includes(currentElement[1]);\\n        });\\n        yRange.factors = tempList;\\n        \"},\"id\":\"20710\",\"type\":\"CustomJS\"},{\"attributes\":{\"button_type\":\"danger\",\"icon\":null,\"js_property_callbacks\":{\"change:active\":[{\"id\":\"20712\"}]},\"label\":\"Toggle Stat Sig\"},\"id\":\"20711\",\"type\":\"Toggle\"},{\"attributes\":{\"end\":1.6409262153129442,\"start\":-5.874241212263163},\"id\":\"20706\",\"type\":\"Range1d\"},{\"attributes\":{\"data\":{\"abs_mean\":{\"__ndarray__\":\"AKivoMlEM7/AmYSIIHF4vwACMRPYjVK/gHI5Ln75t78A8kWFLTZRvwB2GhZyV4q/AEx2bDe3RD8A0AMO1BFDPwBgzle//Cg/ADg61VQmib8=\",\"dtype\":\"float64\",\"order\":\"little\",\"shape\":[10]},\"abs_std\":{\"__ndarray__\":\"52CFqC4HNj+IBOlUGp9oP277wVP2lTU/IesmP+OEoz/iDWS2HNk8P+0jQ6C7Tok/yUHm1EndPD8ZcJmj6UGMP6L/EOH12A0/74sODGD8lT8=\",\"dtype\":\"float64\",\"order\":\"little\",\"shape\":[10]},\"cond_order\":[0,0,0,0,0,0,0,0,0,0],\"ctrl_count\":{\"__ndarray__\":\"AAAAAPwIHUEAAAAA/AgdQQAAAAD8CB1BAAAAAPwIHUEAAAAA/AgdQQAAAAD8CB1BAAAAAPwIHUEAAAAA/AgdQQAAAAD8CB1BAAAAAPwIHUE=\",\"dtype\":\"float64\",\"order\":\"little\",\"shape\":[10]},\"ctrl_mean\":{\"__ndarray__\":\"Mnd58Y9avz89iXGiJOzMP7hEkz12SOw/ewnQGByzIEBprLmDqjroPxpkGtEVnQ9A1oiFTHQw6D/Wq9L35McFQGCgni/p5e8/+Id2ZH2yGkA=\",\"dtype\":\"float64\",\"order\":\"little\",\"shape\":[10]},\"ctrl_std\":{\"__ndarray__\":\"/yBwQT771D+Rw0TZkjr6P6Tdxw6bgdQ/grWinvG2MkCgIT6CcHHbP6DpjZhyQBhATX9H0qV92z9rvfvIMOAaQIg7xXsI2aw/KzBTSIAKJUA=\",\"dtype\":\"float64\",\"order\":\"little\",\"shape\":[10]},\"display_metric\":[\"% Incident Share Attempts\",\"N Incident Share Attempts\",\"% Incident Views\",\"N Incident Views\",\"% Push Driven Sessions\",\"N Push Driven Sessions\",\"% Organic Sessions\",\"N Organic Sessions\",\"% All Sessions\",\"N All Sessions\"],\"exp_cond\":[\"tx_w_protect_upsell\",\"tx_w_protect_upsell\",\"tx_w_protect_upsell\",\"tx_w_protect_upsell\",\"tx_w_protect_upsell\",\"tx_w_protect_upsell\",\"tx_w_protect_upsell\",\"tx_w_protect_upsell\",\"tx_w_protect_upsell\",\"tx_w_protect_upsell\"],\"factor_label\":[[\"% Incident Share Attempts\",\"tx_w_protect_upsell\"],[\"N Incident Share Attempts\",\"tx_w_protect_upsell\"],[\"% Incident Views\",\"tx_w_protect_upsell\"],[\"N Incident Views\",\"tx_w_protect_upsell\"],[\"% Push Driven Sessions\",\"tx_w_protect_upsell\"],[\"N Push Driven Sessions\",\"tx_w_protect_upsell\"],[\"% Organic Sessions\",\"tx_w_protect_upsell\"],[\"N Organic Sessions\",\"tx_w_protect_upsell\"],[\"% All Sessions\",\"tx_w_protect_upsell\"],[\"N All Sessions\",\"tx_w_protect_upsell\"]],\"index\":[25,24,23,22,21,20,19,18,17,16],\"lower_68_ci\":{\"__ndarray__\":\"4f5wK8t24L8gqpShrsQPwOx8kFieK8W/5pNdNClA+b9Mwi2yXzPJv4jpYi4KbOS/AOp2sfD5mT9EXBJB3BDfv8RCcHiQeIs/Z+3fnYku4L8=\",\"dtype\":\"float64\",\"order\":\"little\",\"shape\":[10]},\"lower_95_ci\":{\"__ndarray__\":\"kLrj0RLl6L/gzjbA7f0UwOJr+Q/nv8m/nxSTcb4hAMCb5Zw9GCzQv8tkKDNCB+6/1CFgiv9Mn78OGApb5xnvvzAlpLcMPoA/TMhHQWgQ6r8=\",\"dtype\":\"float64\",\"order\":\"little\",\"shape\":[10]},\"mean\":{\"__ndarray__\":\"0UI7eFe6zr+vAciOiiAFwFfZLUR9ZsC//6JMXgfy8b+v42uLW8LBv/C8f/201NS/6rqdZvVotT/eW6M3WuOVP3QbTdtslZM/O1CkzgaNx78=\",\"dtype\":\"float64\",\"order\":\"little\",\"shape\":[10]},\"metric\":[\"pct_incident_share_attempts\",\"n_incident_share_attempts\",\"pct_incident_views\",\"n_incident_views\",\"pct_push_driven_sessions\",\"n_push_driven_sessions\",\"pct_organic_sessions\",\"n_organic_sessions\",\"pct_all_sessions\",\"n_all_sessions\"],\"metric_order\":{\"__ndarray__\":\"AAAAAAAAIkAAAAAAAAAgQAAAAAAAABxAAAAAAAAAGEAAAAAAAAAUQAAAAAAAABBAAAAAAAAACEAAAAAAAAAAQAAAAAAAAPA/AAAAAAAAAAA=\",\"dtype\":\"float64\",\"order\":\"little\",\"shape\":[10]},\"p_value\":{\"__ndarray__\":\"IN7lzhJuyD95fCpCWx2oP6OdVuJIMDM/gZRQdDO7jD/8JTQevGqBP1xWrcB4EdM/tBImRdVZsz/C8jyVZOzuP2T/HCzMmzo/FjQqksMn4j8=\",\"dtype\":\"float64\",\"order\":\"little\",\"shape\":[10]},\"std\":{\"__ndarray__\":\"WVzEmmqQ0T/iUJklSEj1P1WOilGEFKM/nMNDWIc43T92egebEMStPyEWRl9fA9Q/1ACAdPLUrT8BSUbyiDfgP0noU3ySZHc/sbJt1I+W1D8=\",\"dtype\":\"float64\",\"order\":\"little\",\"shape\":[10]},\"tx_count\":{\"__ndarray__\":\"AAAAALT3HEEAAAAAtPccQQAAAAC09xxBAAAAALT3HEEAAAAAtPccQQAAAAC09xxBAAAAALT3HEEAAAAAtPccQQAAAAC09xxBAAAAALT3HEE=\",\"dtype\":\"float64\",\"order\":\"little\",\"shape\":[10]},\"tx_mean\":{\"__ndarray__\":\"isfYJ0tHvz9vZC2emyjMPzesiVEvP+w/lpZzHCmDIEBwCfdsDzLoP6RJBF++gg9AaaZgGqI16D8TjBMVFskFQEYdlPt45+8/3OoLOuqlGkA=\",\"dtype\":\"float64\",\"order\":\"little\",\"shape\":[10]},\"tx_std\":{\"__ndarray__\":\"mCND27D11D8FrC4pD0P0P4wsEvDAl9Q/mEzUn7xyMkDPmaSvu3vbP2bDak+a7hdAEBXdZHd32z9038ZYFu0aQEa3DYFF+as/Hz9ONaHRJEA=\",\"dtype\":\"float64\",\"order\":\"little\",\"shape\":[10]},\"upper_68_ci\":{\"__ndarray__\":\"hNc19faZoT98svb3zPj0v4Rrll+4Qre/MGR3EMtH5b8jClTJrqK0v+DZNMezKoq/qt1uULcpwj/gYwPEo+bgP4YVYnqRbpk/JxU32higwT8=\",\"dtype\":\"float64\",\"order\":\"little\",\"shape\":[10]},\"upper_95_ci\":{\"__ndarray__\":\"UDKMK84P0z+AZ5lIZ06hvzAbieFNNKy//OWYy44Ezb9E4e/cNGSZv7ZPUWsaZdI/JL/pV5VSyT/mJkJ/DjzwP1AkyFrTC58/XEDrs8mT3D8=\",\"dtype\":\"float64\",\"order\":\"little\",\"shape\":[10]}},\"selected\":{\"id\":\"20601\"},\"selection_policy\":{\"id\":\"20602\"}},\"id\":\"20545\",\"type\":\"ColumnDataSource\"},{\"attributes\":{},\"id\":\"20676\",\"type\":\"CategoricalTickFormatter\"},{\"attributes\":{\"line_alpha\":{\"value\":0.1},\"x0\":{\"field\":\"lower_68_ci\"},\"x1\":{\"field\":\"lower_95_ci\"},\"y0\":{\"field\":\"factor_label\"},\"y1\":{\"field\":\"factor_label\"}},\"id\":\"20666\",\"type\":\"Segment\"},{\"attributes\":{},\"id\":\"20632\",\"type\":\"SaveTool\"},{\"attributes\":{},\"id\":\"20642\",\"type\":\"BasicTicker\"},{\"attributes\":{},\"id\":\"20677\",\"type\":\"AllLabels\"},{\"attributes\":{},\"id\":\"20629\",\"type\":\"WheelZoomTool\"},{\"attributes\":{\"factors\":[[\"% Incident Share Attempts\",\"tx_w_protect_upsell\"],[\"N Incident Share Attempts\",\"tx_w_protect_upsell\"],[\"% Incident Views\",\"tx_w_protect_upsell\"],[\"N Incident Views\",\"tx_w_protect_upsell\"],[\"% Push Driven Sessions\",\"tx_w_protect_upsell\"],[\"N Push Driven Sessions\",\"tx_w_protect_upsell\"],[\"% Organic Sessions\",\"tx_w_protect_upsell\"],[\"N Organic Sessions\",\"tx_w_protect_upsell\"],[\"% All Sessions\",\"tx_w_protect_upsell\"],[\"N All Sessions\",\"tx_w_protect_upsell\"]]},\"id\":\"20627\",\"type\":\"FactorRange\"},{\"attributes\":{\"axis\":{\"id\":\"20641\"},\"ticker\":null},\"id\":\"20644\",\"type\":\"Grid\"},{\"attributes\":{\"active_multi\":null,\"tools\":[{\"id\":\"20628\"},{\"id\":\"20629\"},{\"id\":\"20630\"},{\"id\":\"20631\"},{\"id\":\"20632\"},{\"id\":\"20649\"}]},\"id\":\"20650\",\"type\":\"Toolbar\"},{\"attributes\":{\"children\":[{\"id\":\"20708\"},{\"id\":\"20709\"},{\"id\":\"20711\"},{\"id\":\"20713\"}]},\"id\":\"20715\",\"type\":\"Column\"},{\"attributes\":{},\"id\":\"20679\",\"type\":\"BasicTickFormatter\"},{\"attributes\":{\"args\":{\"other\":{\"id\":\"20668\"}},\"code\":\"other.muted = this.muted\"},\"id\":\"20687\",\"type\":\"CustomJS\"},{\"attributes\":{\"filters\":[{\"id\":\"20657\"}],\"source\":{\"id\":\"20545\"}},\"id\":\"20658\",\"type\":\"CDSView\"},{\"attributes\":{\"overlay\":{\"id\":\"20648\"}},\"id\":\"20628\",\"type\":\"BoxZoomTool\"},{\"attributes\":{\"button_type\":\"success\",\"icon\":null,\"js_event_callbacks\":{\"button_click\":[{\"id\":\"20714\"}]},\"label\":\"Reset Metrics/Conditions\"},\"id\":\"20713\",\"type\":\"Button\"},{\"attributes\":{},\"id\":\"20680\",\"type\":\"AllLabels\"},{\"attributes\":{},\"id\":\"20631\",\"type\":\"ResetTool\"},{\"attributes\":{\"axis_label\":\"Relative Difference of Tx vs Ctrl Population (%)\",\"formatter\":{\"id\":\"20679\"},\"major_label_policy\":{\"id\":\"20680\"},\"ticker\":{\"id\":\"20642\"}},\"id\":\"20641\",\"type\":\"LinearAxis\"},{\"attributes\":{},\"id\":\"20630\",\"type\":\"PanTool\"},{\"attributes\":{},\"id\":\"20602\",\"type\":\"UnionRenderers\"},{\"attributes\":{\"above\":[{\"id\":\"20707\"}],\"below\":[{\"id\":\"20641\"}],\"center\":[{\"id\":\"20644\"},{\"id\":\"20647\"},{\"id\":\"20685\"},{\"id\":\"20705\"}],\"height\":450,\"left\":[{\"id\":\"20645\"}],\"renderers\":[{\"id\":\"20663\"},{\"id\":\"20668\"},{\"id\":\"20673\"},{\"id\":\"20694\"},{\"id\":\"20698\"},{\"id\":\"20702\"}],\"title\":{\"id\":\"20674\"},\"toolbar\":{\"id\":\"20650\"},\"width\":650,\"x_range\":{\"id\":\"20706\"},\"x_scale\":{\"id\":\"20637\"},\"y_range\":{\"id\":\"20627\"},\"y_scale\":{\"id\":\"20639\"}},\"id\":\"20633\",\"subtype\":\"Figure\",\"type\":\"Plot\"},{\"attributes\":{\"booleans\":[true,true,true,true,true,true,true,true,true,true]},\"id\":\"20657\",\"type\":\"BooleanFilter\"},{\"attributes\":{\"bottom_units\":\"screen\",\"fill_alpha\":0.5,\"fill_color\":\"lightgrey\",\"left_units\":\"screen\",\"level\":\"overlay\",\"line_alpha\":1.0,\"line_color\":\"black\",\"line_dash\":[4,4],\"line_width\":2,\"right_units\":\"screen\",\"syncable\":false,\"top_units\":\"screen\"},\"id\":\"20648\",\"type\":\"BoxAnnotation\"},{\"attributes\":{\"filters\":[{\"id\":\"20689\"}],\"source\":{\"id\":\"20545\"}},\"id\":\"20690\",\"type\":\"CDSView\"},{\"attributes\":{\"line_alpha\":{\"value\":0.2},\"x0\":{\"field\":\"upper_95_ci\"},\"x1\":{\"field\":\"upper_68_ci\"},\"y0\":{\"field\":\"factor_label\"},\"y1\":{\"field\":\"factor_label\"}},\"id\":\"20662\",\"type\":\"Segment\"},{\"attributes\":{\"line_alpha\":{\"value\":0.1},\"x0\":{\"field\":\"upper_95_ci\"},\"x1\":{\"field\":\"upper_68_ci\"},\"y0\":{\"field\":\"factor_label\"},\"y1\":{\"field\":\"factor_label\"}},\"id\":\"20661\",\"type\":\"Segment\"},{\"attributes\":{\"args\":{\"other\":{\"id\":\"20663\"}},\"code\":\"other.muted = this.muted\"},\"id\":\"20688\",\"type\":\"CustomJS\"},{\"attributes\":{},\"id\":\"20601\",\"type\":\"Selection\"},{\"attributes\":{},\"id\":\"20639\",\"type\":\"CategoricalScale\"},{\"attributes\":{\"x0\":{\"field\":\"upper_95_ci\"},\"x1\":{\"field\":\"upper_68_ci\"},\"y0\":{\"field\":\"factor_label\"},\"y1\":{\"field\":\"factor_label\"}},\"id\":\"20692\",\"type\":\"Segment\"},{\"attributes\":{},\"id\":\"20637\",\"type\":\"LinearScale\"},{\"attributes\":{\"line_alpha\":{\"value\":0.1},\"x0\":{\"field\":\"lower_68_ci\"},\"x1\":{\"field\":\"lower_95_ci\"},\"y0\":{\"field\":\"factor_label\"},\"y1\":{\"field\":\"factor_label\"}},\"id\":\"20697\",\"type\":\"Segment\"},{\"attributes\":{\"line_alpha\":{\"value\":0.2},\"x0\":{\"field\":\"lower_68_ci\"},\"x1\":{\"field\":\"lower_95_ci\"},\"y0\":{\"field\":\"factor_label\"},\"y1\":{\"field\":\"factor_label\"}},\"id\":\"20667\",\"type\":\"Segment\"},{\"attributes\":{\"line_alpha\":{\"value\":0.1},\"x0\":{\"field\":\"upper_95_ci\"},\"x1\":{\"field\":\"upper_68_ci\"},\"y0\":{\"field\":\"factor_label\"},\"y1\":{\"field\":\"factor_label\"}},\"id\":\"20693\",\"type\":\"Segment\"},{\"attributes\":{\"data_source\":{\"id\":\"20545\"},\"glyph\":{\"id\":\"20692\"},\"hover_glyph\":null,\"muted_glyph\":null,\"nonselection_glyph\":{\"id\":\"20693\"},\"view\":{\"id\":\"20690\"},\"visible\":false},\"id\":\"20694\",\"type\":\"GlyphRenderer\"},{\"attributes\":{\"fill_alpha\":{\"value\":0.1},\"fill_color\":{\"value\":\"#0072B2\"},\"height\":{\"value\":0.6},\"left\":{\"field\":\"lower_68_ci\"},\"line_alpha\":{\"value\":0.1},\"line_color\":{\"value\":null},\"right\":{\"field\":\"upper_68_ci\"},\"y\":{\"field\":\"factor_label\"}},\"id\":\"20671\",\"type\":\"HBar\"},{\"attributes\":{\"callback\":null,\"tooltips\":[[\"Tx Label\",\"@{exp_cond}\"],[\"Rel Diff Tx vs Ctrl\",\"@{mean}\\u00b1@{std}\"],[\"P-Value\",\"@p_value{1.11111}\"],[\"Abs Diff Tx - Ctrl\",\"@{abs_mean}\\u00b1@{abs_std}\"],[\"Ctrl x\\u0304\",\"@{ctrl_mean}\\u00b1@{ctrl_std}\"],[\"Tx x\\u0304\",\"@{tx_mean}\\u00b1@{tx_std}\"],[\"Ctrl/Tx n\",\"@{ctrl_count}/@{tx_count}\"]]},\"id\":\"20649\",\"type\":\"HoverTool\"},{\"attributes\":{\"x0\":{\"field\":\"upper_95_ci\"},\"x1\":{\"field\":\"upper_68_ci\"},\"y0\":{\"field\":\"factor_label\"},\"y1\":{\"field\":\"factor_label\"}},\"id\":\"20660\",\"type\":\"Segment\"},{\"attributes\":{},\"id\":\"20646\",\"type\":\"CategoricalTicker\"},{\"attributes\":{\"axis\":{\"id\":\"20645\"},\"dimension\":1,\"grid_line_color\":null,\"ticker\":null},\"id\":\"20647\",\"type\":\"Grid\"},{\"attributes\":{\"x0\":{\"field\":\"lower_68_ci\"},\"x1\":{\"field\":\"lower_95_ci\"},\"y0\":{\"field\":\"factor_label\"},\"y1\":{\"field\":\"factor_label\"}},\"id\":\"20696\",\"type\":\"Segment\"},{\"attributes\":{\"label\":{\"value\":\"tx_w_protect_upsell\"},\"renderers\":[{\"id\":\"20673\"}]},\"id\":\"20686\",\"type\":\"LegendItem\"},{\"attributes\":{\"data_source\":{\"id\":\"20545\"},\"glyph\":{\"id\":\"20660\"},\"hover_glyph\":null,\"muted_glyph\":{\"id\":\"20662\"},\"nonselection_glyph\":{\"id\":\"20661\"},\"view\":{\"id\":\"20658\"}},\"id\":\"20663\",\"type\":\"GlyphRenderer\"},{\"attributes\":{\"click_policy\":\"mute\",\"items\":[{\"id\":\"20686\"}]},\"id\":\"20685\",\"type\":\"Legend\"},{\"attributes\":{\"data_source\":{\"id\":\"20545\"},\"glyph\":{\"id\":\"20696\"},\"hover_glyph\":null,\"muted_glyph\":null,\"nonselection_glyph\":{\"id\":\"20697\"},\"view\":{\"id\":\"20690\"},\"visible\":false},\"id\":\"20698\",\"type\":\"GlyphRenderer\"},{\"attributes\":{\"data_source\":{\"id\":\"20545\"},\"glyph\":{\"id\":\"20665\"},\"hover_glyph\":null,\"muted_glyph\":{\"id\":\"20667\"},\"nonselection_glyph\":{\"id\":\"20666\"},\"view\":{\"id\":\"20658\"}},\"id\":\"20668\",\"type\":\"GlyphRenderer\"},{\"attributes\":{\"dimension\":\"height\",\"line_alpha\":0.8,\"line_color\":\"grey\",\"line_dash\":[6],\"line_width\":1.5,\"location\":0},\"id\":\"20705\",\"type\":\"Span\"},{\"attributes\":{\"js_property_callbacks\":{\"change:value\":[{\"id\":\"20710\"}]},\"options\":[\"tx_w_protect_upsell\"],\"value\":[\"tx_w_protect_upsell\"]},\"id\":\"20709\",\"type\":\"MultiChoice\"},{\"attributes\":{\"fill_alpha\":{\"value\":0.8},\"fill_color\":{\"value\":\"#0072B2\"},\"height\":{\"value\":0.6},\"left\":{\"field\":\"lower_68_ci\"},\"line_color\":{\"value\":null},\"right\":{\"field\":\"upper_68_ci\"},\"y\":{\"field\":\"factor_label\"}},\"id\":\"20700\",\"type\":\"HBar\"}],\"root_ids\":[\"20716\"]},\"title\":\"Bokeh Application\",\"version\":\"2.3.2\"}};\n",
       "  var render_items = [{\"docid\":\"5e3bf042-4c07-4bf9-b572-0fba7ff2dc48\",\"root_ids\":[\"20716\"],\"roots\":{\"20716\":\"4edc10a0-497d-4a44-b039-ff5f0deb8c79\"}}];\n",
       "  root.Bokeh.embed.embed_items_notebook(docs_json, render_items);\n",
       "\n",
       "  }\n",
       "  if (root.Bokeh !== undefined) {\n",
       "    embed_document(root);\n",
       "  } else {\n",
       "    var attempts = 0;\n",
       "    var timer = setInterval(function(root) {\n",
       "      if (root.Bokeh !== undefined) {\n",
       "        clearInterval(timer);\n",
       "        embed_document(root);\n",
       "      } else {\n",
       "        attempts++;\n",
       "        if (attempts > 100) {\n",
       "          clearInterval(timer);\n",
       "          console.log(\"Bokeh: ERROR: Unable to run BokehJS code because BokehJS library is missing\");\n",
       "        }\n",
       "      }\n",
       "    }, 10, root)\n",
       "  }\n",
       "})(window);"
      ],
      "application/vnd.bokehjs_exec.v0+json": ""
     },
     "metadata": {
      "application/vnd.bokehjs_exec.v0+json": {
       "id": "20716"
      }
     },
     "output_type": "display_data"
    },
    {
     "name": "stderr",
     "output_type": "stream",
     "text": [
      "/opt/conda/lib/python3.9/site-packages/bokeh/io/saving.py:126: UserWarning: save() called but no resources were supplied and output_file(...) was never called, defaulting to resources.CDN\n",
      "  warn(\"save() called but no resources were supplied and output_file(...) was never called, defaulting to resources.CDN\")\n",
      "/opt/conda/lib/python3.9/site-packages/bokeh/io/saving.py:139: UserWarning: save() called but no title was supplied and output_file(...) was never called, using default title 'Bokeh Plot'\n",
      "  warn(\"save() called but no title was supplied and output_file(...) was never called, using default title 'Bokeh Plot'\")\n"
     ]
    }
   ],
   "source": [
    "process_metric_set(SECONDARY_METRIC_LIST, \"secondary metrics\")"
   ]
  },
  {
   "cell_type": "code",
   "execution_count": 21,
   "id": "2b310af5",
   "metadata": {},
   "outputs": [
    {
     "name": "stderr",
     "output_type": "stream",
     "text": [
      "NaN values found!\n"
     ]
    },
    {
     "data": {
      "text/html": [
       "\n",
       "\n",
       "\n",
       "\n",
       "\n",
       "\n",
       "  <div class=\"bk-root\" id=\"ea256de7-d777-4f64-8cff-1e76ff08c81b\" data-root-id=\"21494\"></div>\n"
      ]
     },
     "metadata": {},
     "output_type": "display_data"
    },
    {
     "data": {
      "application/javascript": [
       "(function(root) {\n",
       "  function embed_document(root) {\n",
       "    \n",
       "  var docs_json = {\"6d612427-ed8d-4188-a94c-81166a5ddf84\":{\"defs\":[],\"roots\":{\"references\":[{\"attributes\":{\"children\":[{\"id\":\"21411\"},{\"id\":\"21493\"}]},\"id\":\"21494\",\"type\":\"Row\"},{\"attributes\":{\"line_alpha\":{\"value\":0.2},\"x0\":{\"field\":\"upper_95_ci\"},\"x1\":{\"field\":\"upper_68_ci\"},\"y0\":{\"field\":\"factor_label\"},\"y1\":{\"field\":\"factor_label\"}},\"id\":\"21440\",\"type\":\"Segment\"},{\"attributes\":{\"fill_alpha\":{\"value\":0.1},\"fill_color\":{\"value\":\"#0072B2\"},\"height\":{\"value\":0.6},\"left\":{\"field\":\"lower_68_ci\"},\"line_alpha\":{\"value\":0.1},\"line_color\":{\"value\":null},\"right\":{\"field\":\"upper_68_ci\"},\"y\":{\"field\":\"factor_label\"}},\"id\":\"21479\",\"type\":\"HBar\"},{\"attributes\":{\"label\":{\"value\":\"tx_w_protect_upsell\"},\"renderers\":[{\"id\":\"21451\"}]},\"id\":\"21464\",\"type\":\"LegendItem\"},{\"attributes\":{},\"id\":\"21380\",\"type\":\"UnionRenderers\"},{\"attributes\":{\"filters\":[{\"id\":\"21467\"}],\"source\":{\"id\":\"21323\"}},\"id\":\"21468\",\"type\":\"CDSView\"},{\"attributes\":{\"end\":7.263973750580682,\"start\":-26.89927653279874},\"id\":\"21484\",\"type\":\"Range1d\"},{\"attributes\":{\"line_alpha\":{\"value\":0.1},\"x0\":{\"field\":\"upper_95_ci\"},\"x1\":{\"field\":\"upper_68_ci\"},\"y0\":{\"field\":\"factor_label\"},\"y1\":{\"field\":\"factor_label\"}},\"id\":\"21439\",\"type\":\"Segment\"},{\"attributes\":{},\"id\":\"21379\",\"type\":\"Selection\"},{\"attributes\":{},\"id\":\"21452\",\"type\":\"Title\"},{\"attributes\":{\"x0\":{\"field\":\"upper_95_ci\"},\"x1\":{\"field\":\"upper_68_ci\"},\"y0\":{\"field\":\"factor_label\"},\"y1\":{\"field\":\"factor_label\"}},\"id\":\"21438\",\"type\":\"Segment\"},{\"attributes\":{\"js_property_callbacks\":{\"change:value\":[{\"id\":\"21488\"}]},\"options\":[\"N Chats\",\"% Chats\",\"N Friend Invites\",\"% Friend Invites\",\"N Trial Starts\",\"% Trial Starts\"],\"value\":[\"N Chats\",\"% Chats\",\"N Friend Invites\",\"% Friend Invites\",\"N Trial Starts\",\"% Trial Starts\"]},\"id\":\"21486\",\"type\":\"MultiChoice\"},{\"attributes\":{\"data_source\":{\"id\":\"21323\"},\"glyph\":{\"id\":\"21438\"},\"hover_glyph\":null,\"muted_glyph\":{\"id\":\"21440\"},\"nonselection_glyph\":{\"id\":\"21439\"},\"view\":{\"id\":\"21436\"}},\"id\":\"21441\",\"type\":\"GlyphRenderer\"},{\"attributes\":{\"axis_label\":\"Relative Difference of Tx vs Ctrl Population (%)\",\"formatter\":{\"id\":\"21457\"},\"major_label_policy\":{\"id\":\"21458\"},\"ticker\":{\"id\":\"21420\"}},\"id\":\"21419\",\"type\":\"LinearAxis\"},{\"attributes\":{\"line_alpha\":{\"value\":0.1},\"x0\":{\"field\":\"lower_68_ci\"},\"x1\":{\"field\":\"lower_95_ci\"},\"y0\":{\"field\":\"factor_label\"},\"y1\":{\"field\":\"factor_label\"}},\"id\":\"21444\",\"type\":\"Segment\"},{\"attributes\":{\"fill_alpha\":{\"value\":0.1},\"fill_color\":{\"value\":\"#0072B2\"},\"height\":{\"value\":0.6},\"left\":{\"field\":\"lower_68_ci\"},\"line_alpha\":{\"value\":0.1},\"line_color\":{\"value\":null},\"right\":{\"field\":\"upper_68_ci\"},\"y\":{\"field\":\"factor_label\"}},\"id\":\"21449\",\"type\":\"HBar\"},{\"attributes\":{\"overlay\":{\"id\":\"21426\"}},\"id\":\"21406\",\"type\":\"BoxZoomTool\"},{\"attributes\":{\"callback\":null,\"tooltips\":[[\"Tx Label\",\"@{exp_cond}\"],[\"Rel Diff Tx vs Ctrl\",\"@{mean}\\u00b1@{std}\"],[\"P-Value\",\"@p_value{1.11111}\"],[\"Abs Diff Tx - Ctrl\",\"@{abs_mean}\\u00b1@{abs_std}\"],[\"Ctrl x\\u0304\",\"@{ctrl_mean}\\u00b1@{ctrl_std}\"],[\"Tx x\\u0304\",\"@{tx_mean}\\u00b1@{tx_std}\"],[\"Ctrl/Tx n\",\"@{ctrl_count}/@{tx_count}\"]]},\"id\":\"21427\",\"type\":\"HoverTool\"},{\"attributes\":{\"above\":[{\"id\":\"21485\"}],\"below\":[{\"id\":\"21419\"}],\"center\":[{\"id\":\"21422\"},{\"id\":\"21425\"},{\"id\":\"21463\"},{\"id\":\"21483\"}],\"height\":450,\"left\":[{\"id\":\"21423\"}],\"renderers\":[{\"id\":\"21441\"},{\"id\":\"21446\"},{\"id\":\"21451\"},{\"id\":\"21472\"},{\"id\":\"21476\"},{\"id\":\"21480\"}],\"title\":{\"id\":\"21452\"},\"toolbar\":{\"id\":\"21428\"},\"width\":650,\"x_range\":{\"id\":\"21484\"},\"x_scale\":{\"id\":\"21415\"},\"y_range\":{\"id\":\"21405\"},\"y_scale\":{\"id\":\"21417\"}},\"id\":\"21411\",\"subtype\":\"Figure\",\"type\":\"Plot\"},{\"attributes\":{\"js_property_callbacks\":{\"change:value\":[{\"id\":\"21488\"}]},\"options\":[\"tx_w_protect_upsell\"],\"value\":[\"tx_w_protect_upsell\"]},\"id\":\"21487\",\"type\":\"MultiChoice\"},{\"attributes\":{\"button_type\":\"danger\",\"icon\":null,\"js_property_callbacks\":{\"change:active\":[{\"id\":\"21490\"}]},\"label\":\"Toggle Stat Sig\"},\"id\":\"21489\",\"type\":\"Toggle\"},{\"attributes\":{\"booleans\":[false,false,true,false,false,false]},\"id\":\"21467\",\"type\":\"BooleanFilter\"},{\"attributes\":{\"args\":{\"condWidget\":{\"id\":\"21487\"},\"metricWidget\":{\"id\":\"21486\"},\"source\":{\"id\":\"21323\"},\"yRange\":{\"id\":\"21405\"}},\"code\":\"\\n        // Filter y-axis labels\\n        let tempList = source.data[\\\"factor_label\\\"].filter(function (currentElement) {\\n          return metricWidget.value.includes(currentElement[0]) && condWidget.value.includes(currentElement[1]);\\n        });\\n        yRange.factors = tempList;\\n        \"},\"id\":\"21488\",\"type\":\"CustomJS\"},{\"attributes\":{},\"id\":\"21417\",\"type\":\"CategoricalScale\"},{\"attributes\":{\"line_alpha\":{\"value\":0.1},\"x0\":{\"field\":\"upper_95_ci\"},\"x1\":{\"field\":\"upper_68_ci\"},\"y0\":{\"field\":\"factor_label\"},\"y1\":{\"field\":\"factor_label\"}},\"id\":\"21471\",\"type\":\"Segment\"},{\"attributes\":{\"fill_alpha\":{\"value\":0.2},\"fill_color\":{\"value\":\"#0072B2\"},\"height\":{\"value\":0.6},\"left\":{\"field\":\"lower_68_ci\"},\"line_alpha\":{\"value\":0.2},\"line_color\":{\"value\":\"#0072B2\"},\"right\":{\"field\":\"upper_68_ci\"},\"y\":{\"field\":\"factor_label\"}},\"id\":\"21450\",\"type\":\"HBar\"},{\"attributes\":{\"bottom_units\":\"screen\",\"fill_alpha\":0.5,\"fill_color\":\"lightgrey\",\"left_units\":\"screen\",\"level\":\"overlay\",\"line_alpha\":1.0,\"line_color\":\"black\",\"line_dash\":[4,4],\"line_width\":2,\"right_units\":\"screen\",\"syncable\":false,\"top_units\":\"screen\"},\"id\":\"21426\",\"type\":\"BoxAnnotation\"},{\"attributes\":{\"data_source\":{\"id\":\"21323\"},\"glyph\":{\"id\":\"21470\"},\"hover_glyph\":null,\"muted_glyph\":null,\"nonselection_glyph\":{\"id\":\"21471\"},\"view\":{\"id\":\"21468\"},\"visible\":false},\"id\":\"21472\",\"type\":\"GlyphRenderer\"},{\"attributes\":{},\"id\":\"21455\",\"type\":\"AllLabels\"},{\"attributes\":{\"align\":\"center\",\"text\":\"Guardrail Metrics - All\"},\"id\":\"21485\",\"type\":\"Title\"},{\"attributes\":{\"data\":{\"abs_mean\":{\"__ndarray__\":\"gF8OxVPQFz+A0UtdOLkUP8BqOJgaxi6/YPDoYNVhZ78AonAWagUnvwDWdjsL2my/\",\"dtype\":\"float64\",\"order\":\"little\",\"shape\":[6]},\"abs_std\":{\"__ndarray__\":\"/+exPHJjGz9Gec19/IorPyKZh2BY5Rk/5l7vkHYlXz+a5KjI7nMmP4G1wbM/42I/\",\"dtype\":\"float64\",\"order\":\"little\",\"shape\":[6]},\"cond_order\":[0,0,0,0,0,0],\"ctrl_count\":{\"__ndarray__\":\"AAAAAADFHkEAAAAAAMUeQQAAAAAAxR5BAAAAAADFHkEAAAAAAMUeQQAAAAAAxR5B\",\"dtype\":\"float64\",\"order\":\"little\",\"shape\":[6]},\"ctrl_mean\":{\"__ndarray__\":\"7/JpdBqqhj8K5/8mEMOGP6tzRXtjj4Q/NKZOHMUDnD+8lnp0AEqfPw//ePGyZrQ/\",\"dtype\":\"float64\",\"order\":\"little\",\"shape\":[6]},\"ctrl_std\":{\"__ndarray__\":\"A79vYwPIuj+yW+diRvS6P8qvbEVehbk/aLar/ihT8j8/bpZJugfGP+ZEpYj+KPM/\",\"dtype\":\"float64\",\"order\":\"little\",\"shape\":[6]},\"display_metric\":[\"% Trial Starts\",\"N Trial Starts\",\"% Friend Invites\",\"N Friend Invites\",\"% Chats\",\"N Chats\"],\"exp_cond\":[\"tx_w_protect_upsell\",\"tx_w_protect_upsell\",\"tx_w_protect_upsell\",\"tx_w_protect_upsell\",\"tx_w_protect_upsell\",\"tx_w_protect_upsell\"],\"factor_label\":[[\"% Trial Starts\",\"tx_w_protect_upsell\"],[\"N Trial Starts\",\"tx_w_protect_upsell\"],[\"% Friend Invites\",\"tx_w_protect_upsell\"],[\"N Friend Invites\",\"tx_w_protect_upsell\"],[\"% Chats\",\"tx_w_protect_upsell\"],[\"N Chats\",\"tx_w_protect_upsell\"]],\"index\":[13,12,29,28,27,26],\"lower_68_ci\":{\"__ndarray__\":\"+MSuDV2Lv78IJIj21t7yv4ZUOOrolArArKsanLJhMcBiAchzuSryvzjHv8UbQB3A\",\"dtype\":\"float64\",\"order\":\"little\",\"shape\":[6]},\"lower_95_ci\":{\"__ndarray__\":\"8HjLQgN58L9iJ+iVqvQHwOD7pz3EERHA2r/cFmYNOMAPZBCvLMf6v9qroNYaLiTA\",\"dtype\":\"float64\",\"order\":\"little\",\"shape\":[6]},\"mean\":{\"__ndarray__\":\"B/epC4tE6j+nu/AB2cLmPyi1v12ttQLAT63LTa/dJMCIig4s2GTivwwm7smArRHA\",\"dtype\":\"float64\",\"order\":\"little\",\"shape\":[6]},\"metric\":[\"pct_trial_starts\",\"n_trial_starts\",\"pct_friend_invites\",\"n_friend_invites\",\"pct_chats\",\"n_chats\"],\"metric_order\":{\"__ndarray__\":\"AAAAAAAAFEAAAAAAAAAQQAAAAAAAAAhAAAAAAAAAAEAAAAAAAADwPwAAAAAAAAAA\",\"dtype\":\"float64\",\"order\":\"little\",\"shape\":[6]},\"p_value\":{\"__ndarray__\":\"Cq/+AwSdyD+qbhUf0p3mP+WuqYvA4oE/OpFGZRYOwT+oNGcerIjDP907XbxNNcA/\",\"dtype\":\"float64\",\"order\":\"little\",\"shape\":[6]},\"std\":{\"__ndarray__\":\"ps9frfY17j/bgYB3Q0D+P3d94jHufO8/E1TT1GvLG0A9eIG7mvDhP1dCo/c1JQdA\",\"dtype\":\"float64\",\"order\":\"little\",\"shape\":[6]},\"tx_count\":{\"__ndarray__\":\"AAAAABSsHkEAAAAAFKweQQAAAAAUrB5BAAAAABSsHkEAAAAAFKweQQAAAAAUrB5B\",\"dtype\":\"float64\",\"order\":\"little\",\"shape\":[6]},\"tx_mean\":{\"__ndarray__\":\"rg/0G7vZhj+tfrqXguyGPwCS5BBLFIQ/KIgxcIoXmT94tU2g9RufP19InZfif7M/\",\"dtype\":\"float64\",\"order\":\"little\",\"shape\":[6]},\"tx_std\":{\"__ndarray__\":\"IatCaMfjuj929YWt+AS7P0IcPptIObk/DgGaQiXD5j+FykA/AfjFP9cyiGSL0/E/\",\"dtype\":\"float64\",\"order\":\"little\",\"shape\":[6]},\"upper_68_ci\":{\"__ndarray__\":\"VuOE3EA9/D/Xbzz819AEQJQrjqLjrPW/Fg2IjeXfC8DAkkQjXA+Nv4ITcjiXa/i/\",\"dtype\":\"float64\",\"order\":\"little\",\"shape\":[6]},\"upper_95_ci\":{\"__ndarray__\":\"/Lc6J8deBUCbQnCLC6sRQHiUewGSPtq/VJSISLZ9CUAOswMGqcTgP2wulGXQBPQ/\",\"dtype\":\"float64\",\"order\":\"little\",\"shape\":[6]}},\"selected\":{\"id\":\"21379\"},\"selection_policy\":{\"id\":\"21380\"}},\"id\":\"21323\",\"type\":\"ColumnDataSource\"},{\"attributes\":{\"formatter\":{\"id\":\"21454\"},\"group_label_orientation\":\"horizontal\",\"major_label_policy\":{\"id\":\"21455\"},\"major_label_text_alpha\":0.0,\"major_label_text_font_size\":\"1px\",\"major_tick_in\":0,\"major_tick_out\":0,\"minor_tick_line_color\":\"yellow\",\"separator_line_alpha\":0,\"ticker\":{\"id\":\"21424\"}},\"id\":\"21423\",\"type\":\"CategoricalAxis\"},{\"attributes\":{},\"id\":\"21408\",\"type\":\"PanTool\"},{\"attributes\":{\"args\":{\"other\":{\"id\":\"21441\"}},\"code\":\"other.muted = this.muted\"},\"id\":\"21466\",\"type\":\"CustomJS\"},{\"attributes\":{\"booleans\":[true,true,true,true,true,true]},\"id\":\"21435\",\"type\":\"BooleanFilter\"},{\"attributes\":{\"data_source\":{\"id\":\"21323\"},\"glyph\":{\"id\":\"21448\"},\"hover_glyph\":null,\"js_property_callbacks\":{\"change:muted\":[{\"id\":\"21465\"},{\"id\":\"21466\"}]},\"muted_glyph\":{\"id\":\"21450\"},\"nonselection_glyph\":{\"id\":\"21449\"},\"view\":{\"id\":\"21436\"}},\"id\":\"21451\",\"type\":\"GlyphRenderer\"},{\"attributes\":{},\"id\":\"21454\",\"type\":\"CategoricalTickFormatter\"},{\"attributes\":{},\"id\":\"21420\",\"type\":\"BasicTicker\"},{\"attributes\":{\"factors\":[[\"% Trial Starts\",\"tx_w_protect_upsell\"],[\"N Trial Starts\",\"tx_w_protect_upsell\"],[\"% Friend Invites\",\"tx_w_protect_upsell\"],[\"N Friend Invites\",\"tx_w_protect_upsell\"],[\"% Chats\",\"tx_w_protect_upsell\"],[\"N Chats\",\"tx_w_protect_upsell\"]]},\"id\":\"21405\",\"type\":\"FactorRange\"},{\"attributes\":{\"args\":{\"other\":{\"id\":\"21476\"}},\"code\":\"other.visible = this.visible\"},\"id\":\"21481\",\"type\":\"CustomJS\"},{\"attributes\":{\"active_multi\":null,\"tools\":[{\"id\":\"21406\"},{\"id\":\"21407\"},{\"id\":\"21408\"},{\"id\":\"21409\"},{\"id\":\"21410\"},{\"id\":\"21427\"}]},\"id\":\"21428\",\"type\":\"Toolbar\"},{\"attributes\":{\"button_type\":\"success\",\"icon\":null,\"js_event_callbacks\":{\"button_click\":[{\"id\":\"21492\"}]},\"label\":\"Reset Metrics/Conditions\"},\"id\":\"21491\",\"type\":\"Button\"},{\"attributes\":{\"click_policy\":\"mute\",\"items\":[{\"id\":\"21464\"}]},\"id\":\"21463\",\"type\":\"Legend\"},{\"attributes\":{},\"id\":\"21407\",\"type\":\"WheelZoomTool\"},{\"attributes\":{},\"id\":\"21415\",\"type\":\"LinearScale\"},{\"attributes\":{\"axis\":{\"id\":\"21419\"},\"ticker\":null},\"id\":\"21422\",\"type\":\"Grid\"},{\"attributes\":{\"x0\":{\"field\":\"upper_95_ci\"},\"x1\":{\"field\":\"upper_68_ci\"},\"y0\":{\"field\":\"factor_label\"},\"y1\":{\"field\":\"factor_label\"}},\"id\":\"21470\",\"type\":\"Segment\"},{\"attributes\":{\"data_source\":{\"id\":\"21323\"},\"glyph\":{\"id\":\"21474\"},\"hover_glyph\":null,\"muted_glyph\":null,\"nonselection_glyph\":{\"id\":\"21475\"},\"view\":{\"id\":\"21468\"},\"visible\":false},\"id\":\"21476\",\"type\":\"GlyphRenderer\"},{\"attributes\":{\"args\":{\"glyphs\":[{\"id\":\"21441\"},{\"id\":\"21446\"},{\"id\":\"21451\"},{\"id\":\"21472\"},{\"id\":\"21476\"},{\"id\":\"21480\"}]},\"code\":\"\\n        for (const glyph of glyphs){\\n            if (glyph.tags.includes(\\\"stat_sig\\\")) {\\n                var stat_sig_visible = glyph.visible;\\n            }\\n        }\\n\\n        if (stat_sig_visible) {\\n            var muted = false;\\n        } else {\\n            var muted = true;\\n        }\\n\\n        for (const glyph of glyphs){\\n            if (glyph.tags.includes(\\\"stat_sig\\\")) {\\n                glyph.visible = !glyph.visible;\\n            } else {\\n                glyph.muted = muted;\\n            }\\n        }\\n        \"},\"id\":\"21490\",\"type\":\"CustomJS\"},{\"attributes\":{\"args\":{\"other\":{\"id\":\"21446\"}},\"code\":\"other.muted = this.muted\"},\"id\":\"21465\",\"type\":\"CustomJS\"},{\"attributes\":{},\"id\":\"21409\",\"type\":\"ResetTool\"},{\"attributes\":{\"axis\":{\"id\":\"21423\"},\"dimension\":1,\"grid_line_color\":null,\"ticker\":null},\"id\":\"21425\",\"type\":\"Grid\"},{\"attributes\":{\"args\":{\"other\":{\"id\":\"21472\"}},\"code\":\"other.visible = this.visible\"},\"id\":\"21482\",\"type\":\"CustomJS\"},{\"attributes\":{\"data_source\":{\"id\":\"21323\"},\"glyph\":{\"id\":\"21443\"},\"hover_glyph\":null,\"muted_glyph\":{\"id\":\"21445\"},\"nonselection_glyph\":{\"id\":\"21444\"},\"view\":{\"id\":\"21436\"}},\"id\":\"21446\",\"type\":\"GlyphRenderer\"},{\"attributes\":{\"x0\":{\"field\":\"lower_68_ci\"},\"x1\":{\"field\":\"lower_95_ci\"},\"y0\":{\"field\":\"factor_label\"},\"y1\":{\"field\":\"factor_label\"}},\"id\":\"21474\",\"type\":\"Segment\"},{\"attributes\":{\"children\":[{\"id\":\"21486\"},{\"id\":\"21487\"},{\"id\":\"21489\"},{\"id\":\"21491\"}]},\"id\":\"21493\",\"type\":\"Column\"},{\"attributes\":{\"dimension\":\"height\",\"line_alpha\":0.8,\"line_color\":\"grey\",\"line_dash\":[6],\"line_width\":1.5,\"location\":0},\"id\":\"21483\",\"type\":\"Span\"},{\"attributes\":{},\"id\":\"21457\",\"type\":\"BasicTickFormatter\"},{\"attributes\":{\"line_alpha\":{\"value\":0.1},\"x0\":{\"field\":\"lower_68_ci\"},\"x1\":{\"field\":\"lower_95_ci\"},\"y0\":{\"field\":\"factor_label\"},\"y1\":{\"field\":\"factor_label\"}},\"id\":\"21475\",\"type\":\"Segment\"},{\"attributes\":{},\"id\":\"21410\",\"type\":\"SaveTool\"},{\"attributes\":{\"fill_alpha\":{\"value\":0.8},\"fill_color\":{\"value\":\"#0072B2\"},\"height\":{\"value\":0.6},\"left\":{\"field\":\"lower_68_ci\"},\"line_color\":{\"value\":null},\"right\":{\"field\":\"upper_68_ci\"},\"y\":{\"field\":\"factor_label\"}},\"id\":\"21448\",\"type\":\"HBar\"},{\"attributes\":{},\"id\":\"21458\",\"type\":\"AllLabels\"},{\"attributes\":{},\"id\":\"21424\",\"type\":\"CategoricalTicker\"},{\"attributes\":{\"x0\":{\"field\":\"lower_68_ci\"},\"x1\":{\"field\":\"lower_95_ci\"},\"y0\":{\"field\":\"factor_label\"},\"y1\":{\"field\":\"factor_label\"}},\"id\":\"21443\",\"type\":\"Segment\"},{\"attributes\":{\"fill_alpha\":{\"value\":0.8},\"fill_color\":{\"value\":\"#0072B2\"},\"height\":{\"value\":0.6},\"left\":{\"field\":\"lower_68_ci\"},\"line_color\":{\"value\":null},\"right\":{\"field\":\"upper_68_ci\"},\"y\":{\"field\":\"factor_label\"}},\"id\":\"21478\",\"type\":\"HBar\"},{\"attributes\":{\"args\":{\"condWidget\":{\"id\":\"21487\"},\"metricWidget\":{\"id\":\"21486\"}},\"code\":\"\\n        metricWidget.value = metricWidget.options\\n        condWidget.value = condWidget.options\\n        \"},\"id\":\"21492\",\"type\":\"CustomJS\"},{\"attributes\":{\"line_alpha\":{\"value\":0.2},\"x0\":{\"field\":\"lower_68_ci\"},\"x1\":{\"field\":\"lower_95_ci\"},\"y0\":{\"field\":\"factor_label\"},\"y1\":{\"field\":\"factor_label\"}},\"id\":\"21445\",\"type\":\"Segment\"},{\"attributes\":{\"data_source\":{\"id\":\"21323\"},\"glyph\":{\"id\":\"21478\"},\"hover_glyph\":null,\"js_property_callbacks\":{\"change:visible\":[{\"id\":\"21481\"},{\"id\":\"21482\"}]},\"muted_glyph\":null,\"nonselection_glyph\":{\"id\":\"21479\"},\"tags\":[\"stat_sig\"],\"view\":{\"id\":\"21468\"},\"visible\":false},\"id\":\"21480\",\"type\":\"GlyphRenderer\"},{\"attributes\":{\"filters\":[{\"id\":\"21435\"}],\"source\":{\"id\":\"21323\"}},\"id\":\"21436\",\"type\":\"CDSView\"}],\"root_ids\":[\"21494\"]},\"title\":\"Bokeh Application\",\"version\":\"2.3.2\"}};\n",
       "  var render_items = [{\"docid\":\"6d612427-ed8d-4188-a94c-81166a5ddf84\",\"root_ids\":[\"21494\"],\"roots\":{\"21494\":\"ea256de7-d777-4f64-8cff-1e76ff08c81b\"}}];\n",
       "  root.Bokeh.embed.embed_items_notebook(docs_json, render_items);\n",
       "\n",
       "  }\n",
       "  if (root.Bokeh !== undefined) {\n",
       "    embed_document(root);\n",
       "  } else {\n",
       "    var attempts = 0;\n",
       "    var timer = setInterval(function(root) {\n",
       "      if (root.Bokeh !== undefined) {\n",
       "        clearInterval(timer);\n",
       "        embed_document(root);\n",
       "      } else {\n",
       "        attempts++;\n",
       "        if (attempts > 100) {\n",
       "          clearInterval(timer);\n",
       "          console.log(\"Bokeh: ERROR: Unable to run BokehJS code because BokehJS library is missing\");\n",
       "        }\n",
       "      }\n",
       "    }, 10, root)\n",
       "  }\n",
       "})(window);"
      ],
      "application/vnd.bokehjs_exec.v0+json": ""
     },
     "metadata": {
      "application/vnd.bokehjs_exec.v0+json": {
       "id": "21494"
      }
     },
     "output_type": "display_data"
    },
    {
     "name": "stderr",
     "output_type": "stream",
     "text": [
      "/opt/conda/lib/python3.9/site-packages/bokeh/io/saving.py:126: UserWarning: save() called but no resources were supplied and output_file(...) was never called, defaulting to resources.CDN\n",
      "  warn(\"save() called but no resources were supplied and output_file(...) was never called, defaulting to resources.CDN\")\n",
      "/opt/conda/lib/python3.9/site-packages/bokeh/io/saving.py:139: UserWarning: save() called but no title was supplied and output_file(...) was never called, using default title 'Bokeh Plot'\n",
      "  warn(\"save() called but no title was supplied and output_file(...) was never called, using default title 'Bokeh Plot'\")\n",
      "NaN values found!\n"
     ]
    },
    {
     "data": {
      "text/html": [
       "\n",
       "\n",
       "\n",
       "\n",
       "\n",
       "\n",
       "  <div class=\"bk-root\" id=\"1410177d-1244-4327-8c8b-7a784fc04c76\" data-root-id=\"22283\"></div>\n"
      ]
     },
     "metadata": {},
     "output_type": "display_data"
    },
    {
     "data": {
      "application/javascript": [
       "(function(root) {\n",
       "  function embed_document(root) {\n",
       "    \n",
       "  var docs_json = {\"ce5e18c7-5a62-4d36-afdd-3d0f9791bb4d\":{\"defs\":[],\"roots\":{\"references\":[{\"attributes\":{\"children\":[{\"id\":\"22200\"},{\"id\":\"22282\"}]},\"id\":\"22283\",\"type\":\"Row\"},{\"attributes\":{\"args\":{\"other\":{\"id\":\"22265\"}},\"code\":\"other.visible = this.visible\"},\"id\":\"22270\",\"type\":\"CustomJS\"},{\"attributes\":{\"bottom_units\":\"screen\",\"fill_alpha\":0.5,\"fill_color\":\"lightgrey\",\"left_units\":\"screen\",\"level\":\"overlay\",\"line_alpha\":1.0,\"line_color\":\"black\",\"line_dash\":[4,4],\"line_width\":2,\"right_units\":\"screen\",\"syncable\":false,\"top_units\":\"screen\"},\"id\":\"22215\",\"type\":\"BoxAnnotation\"},{\"attributes\":{\"axis_label\":\"Relative Difference of Tx vs Ctrl Population (%)\",\"formatter\":{\"id\":\"22246\"},\"major_label_policy\":{\"id\":\"22247\"},\"ticker\":{\"id\":\"22209\"}},\"id\":\"22208\",\"type\":\"LinearAxis\"},{\"attributes\":{\"x0\":{\"field\":\"lower_68_ci\"},\"x1\":{\"field\":\"lower_95_ci\"},\"y0\":{\"field\":\"factor_label\"},\"y1\":{\"field\":\"factor_label\"}},\"id\":\"22232\",\"type\":\"Segment\"},{\"attributes\":{},\"id\":\"22204\",\"type\":\"LinearScale\"},{\"attributes\":{\"args\":{\"other\":{\"id\":\"22261\"}},\"code\":\"other.visible = this.visible\"},\"id\":\"22271\",\"type\":\"CustomJS\"},{\"attributes\":{\"args\":{\"glyphs\":[{\"id\":\"22230\"},{\"id\":\"22235\"},{\"id\":\"22240\"},{\"id\":\"22261\"},{\"id\":\"22265\"},{\"id\":\"22269\"}]},\"code\":\"\\n        for (const glyph of glyphs){\\n            if (glyph.tags.includes(\\\"stat_sig\\\")) {\\n                var stat_sig_visible = glyph.visible;\\n            }\\n        }\\n\\n        if (stat_sig_visible) {\\n            var muted = false;\\n        } else {\\n            var muted = true;\\n        }\\n\\n        for (const glyph of glyphs){\\n            if (glyph.tags.includes(\\\"stat_sig\\\")) {\\n                glyph.visible = !glyph.visible;\\n            } else {\\n                glyph.muted = muted;\\n            }\\n        }\\n        \"},\"id\":\"22279\",\"type\":\"CustomJS\"},{\"attributes\":{\"formatter\":{\"id\":\"22243\"},\"group_label_orientation\":\"horizontal\",\"major_label_policy\":{\"id\":\"22244\"},\"major_label_text_alpha\":0.0,\"major_label_text_font_size\":\"1px\",\"major_tick_in\":0,\"major_tick_out\":0,\"minor_tick_line_color\":\"yellow\",\"separator_line_alpha\":0,\"ticker\":{\"id\":\"22213\"}},\"id\":\"22212\",\"type\":\"CategoricalAxis\"},{\"attributes\":{\"data_source\":{\"id\":\"22112\"},\"glyph\":{\"id\":\"22267\"},\"hover_glyph\":null,\"js_property_callbacks\":{\"change:visible\":[{\"id\":\"22270\"},{\"id\":\"22271\"}]},\"muted_glyph\":null,\"nonselection_glyph\":{\"id\":\"22268\"},\"tags\":[\"stat_sig\"],\"view\":{\"id\":\"22257\"},\"visible\":false},\"id\":\"22269\",\"type\":\"GlyphRenderer\"},{\"attributes\":{},\"id\":\"22209\",\"type\":\"BasicTicker\"},{\"attributes\":{\"fill_alpha\":{\"value\":0.1},\"fill_color\":{\"value\":\"#0072B2\"},\"height\":{\"value\":0.6},\"left\":{\"field\":\"lower_68_ci\"},\"line_alpha\":{\"value\":0.1},\"line_color\":{\"value\":null},\"right\":{\"field\":\"upper_68_ci\"},\"y\":{\"field\":\"factor_label\"}},\"id\":\"22268\",\"type\":\"HBar\"},{\"attributes\":{},\"id\":\"22197\",\"type\":\"PanTool\"},{\"attributes\":{},\"id\":\"22206\",\"type\":\"CategoricalScale\"},{\"attributes\":{},\"id\":\"22241\",\"type\":\"Title\"},{\"attributes\":{\"x0\":{\"field\":\"lower_68_ci\"},\"x1\":{\"field\":\"lower_95_ci\"},\"y0\":{\"field\":\"factor_label\"},\"y1\":{\"field\":\"factor_label\"}},\"id\":\"22263\",\"type\":\"Segment\"},{\"attributes\":{\"children\":[{\"id\":\"22275\"},{\"id\":\"22276\"},{\"id\":\"22278\"},{\"id\":\"22280\"}]},\"id\":\"22282\",\"type\":\"Column\"},{\"attributes\":{\"data\":{\"abs_mean\":{\"__ndarray__\":\"4PIWGZhyLL8AZHFX2Bouv+CN0L86gka/eMPtfOf3dL8A6lexzZtFP/CVtNtnOnG/\",\"dtype\":\"float64\",\"order\":\"little\",\"shape\":[6]},\"abs_std\":{\"__ndarray__\":\"Fd8KFLCaKz8ypGYHPqQ7PzraGe1qjTM/sAGAhpUReD+veN8pjgA+P5e6Taw2JXU/\",\"dtype\":\"float64\",\"order\":\"little\",\"shape\":[6]},\"cond_order\":[0,0,0,0,0,0],\"ctrl_count\":{\"__ndarray__\":\"AAAAADBP80AAAAAAME/zQAAAAAAwT/NAAAAAADBP80AAAAAAME/zQAAAAAAwT/NA\",\"dtype\":\"float64\",\"order\":\"little\",\"shape\":[6]},\"ctrl_mean\":{\"__ndarray__\":\"IYXSUDJdfT+qWMVSdGp9PwecQWYI740/LAW2l7NxqD/ISXdO+mShP5C349Vl/rQ/\",\"dtype\":\"float64\",\"order\":\"little\",\"shape\":[6]},\"ctrl_std\":{\"__ndarray__\":\"1pNKuQWZtT8sxqpHqqe1P/SeKZgJub4/xlOBhS/D9T/lJ+KWUjDHP8C7VP6VwPI/\",\"dtype\":\"float64\",\"order\":\"little\",\"shape\":[6]},\"display_metric\":[\"% Trial Starts\",\"N Trial Starts\",\"% Friend Invites\",\"N Friend Invites\",\"% Chats\",\"N Chats\"],\"exp_cond\":[\"tx_w_protect_upsell\",\"tx_w_protect_upsell\",\"tx_w_protect_upsell\",\"tx_w_protect_upsell\",\"tx_w_protect_upsell\",\"tx_w_protect_upsell\"],\"factor_label\":[[\"% Trial Starts\",\"tx_w_protect_upsell\"],[\"N Trial Starts\",\"tx_w_protect_upsell\"],[\"% Friend Invites\",\"tx_w_protect_upsell\"],[\"N Friend Invites\",\"tx_w_protect_upsell\"],[\"% Chats\",\"tx_w_protect_upsell\"],[\"N Chats\",\"tx_w_protect_upsell\"]],\"index\":[13,12,29,28,27,26],\"lower_68_ci\":{\"__ndarray__\":\"ML35x1rcF8Aa4nHkdiQiwLypz9Ky9hrALObXOdUHN8A4YWNEQv7iP752wbgi2SbA\",\"dtype\":\"float64\",\"order\":\"little\",\"shape\":[6]},\"lower_95_ci\":{\"__ndarray__\":\"vMp2yh+SIcCrc67qK2stwEBshTymZiHAiYtL3lJsQcBshT6A/mbmvxYOvk2pdzHA\",\"dtype\":\"float64\",\"order\":\"little\",\"shape\":[6]},\"mean\":{\"__ndarray__\":\"cyKij0M4CMAzfyBN6ZUJwLIDUnB9zBLAJNH2DfhxJcBoA0YziA7/P4O/KFkMhBTA\",\"dtype\":\"float64\",\"order\":\"little\",\"shape\":[6]},\"metric\":[\"pct_trial_starts\",\"n_trial_starts\",\"pct_friend_invites\",\"n_friend_invites\",\"pct_chats\",\"n_chats\"],\"metric_order\":{\"__ndarray__\":\"AAAAAAAAFEAAAAAAAAAQQAAAAAAAAAhAAAAAAAAAAEAAAAAAAADwPwAAAAAAAAAA\",\"dtype\":\"float64\",\"order\":\"little\",\"shape\":[6]},\"p_value\":{\"__ndarray__\":\"EBfxLkRgwz+mCyC9/cDiP0+4mSUF04U/OBpAVsKN2D+cl5iTgCqzP/K/sVXtkto/\",\"dtype\":\"float64\",\"order\":\"little\",\"shape\":[6]},\"std\":{\"__ndarray__\":\"7VdRAHKAB0CahFMi+X0XQBVM+8RqVABANPu4ZbKdKEDMUhQRZ4/1P/ktWhg5LhlA\",\"dtype\":\"float64\",\"order\":\"little\",\"shape\":[6]},\"tx_count\":{\"__ndarray__\":\"AAAAALBH80AAAAAAsEfzQAAAAACwR/NAAAAAALBH80AAAAAAsEfzQAAAAACwR/NA\",\"dtype\":\"float64\",\"order\":\"little\",\"shape\":[6]},\"tx_mean\":{\"__ndarray__\":\"is0JkJ15fD+KzQmQnXl8PymTRLrkhow/vUwYqLbSpT9wqTyFabuhPzFuKFi/6rM/\",\"dtype\":\"float64\",\"order\":\"little\",\"shape\":[6]},\"tx_std\":{\"__ndarray__\":\"p6msiUdFtT+nqayJR0W1P++ZJzmsAL4/ncCvzof87T9d1ZL1nGfHP5PD/cFuYes/\",\"dtype\":\"float64\",\"order\":\"little\",\"shape\":[6]},\"upper_68_ci\":{\"__ndarray__\":\"wFAZ6jH6tr8Biob3CGYFQE+7qBuQRAXAgFARvtJd+T8aKy2i904KQNi5xfyyqPI/\",\"dtype\":\"float64\",\"order\":\"little\",\"shape\":[6]},\"upper_95_ci\":{\"__ndarray__\":\"C+aWCvjXBUARNB5EN6AgQCh3yTxzXea/3ItAXVvNKkBi0qrpI1QSQFG5poSM1hxA\",\"dtype\":\"float64\",\"order\":\"little\",\"shape\":[6]}},\"selected\":{\"id\":\"22168\"},\"selection_policy\":{\"id\":\"22169\"}},\"id\":\"22112\",\"type\":\"ColumnDataSource\"},{\"attributes\":{\"axis\":{\"id\":\"22208\"},\"ticker\":null},\"id\":\"22211\",\"type\":\"Grid\"},{\"attributes\":{\"dimension\":\"height\",\"line_alpha\":0.8,\"line_color\":\"grey\",\"line_dash\":[6],\"line_width\":1.5,\"location\":0},\"id\":\"22272\",\"type\":\"Span\"},{\"attributes\":{\"line_alpha\":{\"value\":0.2},\"x0\":{\"field\":\"upper_95_ci\"},\"x1\":{\"field\":\"upper_68_ci\"},\"y0\":{\"field\":\"factor_label\"},\"y1\":{\"field\":\"factor_label\"}},\"id\":\"22229\",\"type\":\"Segment\"},{\"attributes\":{\"args\":{\"condWidget\":{\"id\":\"22276\"},\"metricWidget\":{\"id\":\"22275\"},\"source\":{\"id\":\"22112\"},\"yRange\":{\"id\":\"22194\"}},\"code\":\"\\n        // Filter y-axis labels\\n        let tempList = source.data[\\\"factor_label\\\"].filter(function (currentElement) {\\n          return metricWidget.value.includes(currentElement[0]) && condWidget.value.includes(currentElement[1]);\\n        });\\n        yRange.factors = tempList;\\n        \"},\"id\":\"22277\",\"type\":\"CustomJS\"},{\"attributes\":{\"line_alpha\":{\"value\":0.2},\"x0\":{\"field\":\"lower_68_ci\"},\"x1\":{\"field\":\"lower_95_ci\"},\"y0\":{\"field\":\"factor_label\"},\"y1\":{\"field\":\"factor_label\"}},\"id\":\"22234\",\"type\":\"Segment\"},{\"attributes\":{\"booleans\":[false,false,true,false,false,false]},\"id\":\"22256\",\"type\":\"BooleanFilter\"},{\"attributes\":{},\"id\":\"22198\",\"type\":\"ResetTool\"},{\"attributes\":{\"data_source\":{\"id\":\"22112\"},\"glyph\":{\"id\":\"22259\"},\"hover_glyph\":null,\"muted_glyph\":null,\"nonselection_glyph\":{\"id\":\"22260\"},\"view\":{\"id\":\"22257\"},\"visible\":false},\"id\":\"22261\",\"type\":\"GlyphRenderer\"},{\"attributes\":{\"above\":[{\"id\":\"22274\"}],\"below\":[{\"id\":\"22208\"}],\"center\":[{\"id\":\"22211\"},{\"id\":\"22214\"},{\"id\":\"22252\"},{\"id\":\"22272\"}],\"height\":450,\"left\":[{\"id\":\"22212\"}],\"renderers\":[{\"id\":\"22230\"},{\"id\":\"22235\"},{\"id\":\"22240\"},{\"id\":\"22261\"},{\"id\":\"22265\"},{\"id\":\"22269\"}],\"title\":{\"id\":\"22241\"},\"toolbar\":{\"id\":\"22217\"},\"width\":650,\"x_range\":{\"id\":\"22273\"},\"x_scale\":{\"id\":\"22204\"},\"y_range\":{\"id\":\"22194\"},\"y_scale\":{\"id\":\"22206\"}},\"id\":\"22200\",\"subtype\":\"Figure\",\"type\":\"Plot\"},{\"attributes\":{\"click_policy\":\"mute\",\"items\":[{\"id\":\"22253\"}]},\"id\":\"22252\",\"type\":\"Legend\"},{\"attributes\":{\"data_source\":{\"id\":\"22112\"},\"glyph\":{\"id\":\"22232\"},\"hover_glyph\":null,\"muted_glyph\":{\"id\":\"22234\"},\"nonselection_glyph\":{\"id\":\"22233\"},\"view\":{\"id\":\"22225\"}},\"id\":\"22235\",\"type\":\"GlyphRenderer\"},{\"attributes\":{},\"id\":\"22199\",\"type\":\"SaveTool\"},{\"attributes\":{},\"id\":\"22247\",\"type\":\"AllLabels\"},{\"attributes\":{},\"id\":\"22169\",\"type\":\"UnionRenderers\"},{\"attributes\":{\"data_source\":{\"id\":\"22112\"},\"glyph\":{\"id\":\"22237\"},\"hover_glyph\":null,\"js_property_callbacks\":{\"change:muted\":[{\"id\":\"22254\"},{\"id\":\"22255\"}]},\"muted_glyph\":{\"id\":\"22239\"},\"nonselection_glyph\":{\"id\":\"22238\"},\"view\":{\"id\":\"22225\"}},\"id\":\"22240\",\"type\":\"GlyphRenderer\"},{\"attributes\":{\"line_alpha\":{\"value\":0.1},\"x0\":{\"field\":\"lower_68_ci\"},\"x1\":{\"field\":\"lower_95_ci\"},\"y0\":{\"field\":\"factor_label\"},\"y1\":{\"field\":\"factor_label\"}},\"id\":\"22233\",\"type\":\"Segment\"},{\"attributes\":{},\"id\":\"22246\",\"type\":\"BasicTickFormatter\"},{\"attributes\":{\"fill_alpha\":{\"value\":0.2},\"fill_color\":{\"value\":\"#0072B2\"},\"height\":{\"value\":0.6},\"left\":{\"field\":\"lower_68_ci\"},\"line_alpha\":{\"value\":0.2},\"line_color\":{\"value\":\"#0072B2\"},\"right\":{\"field\":\"upper_68_ci\"},\"y\":{\"field\":\"factor_label\"}},\"id\":\"22239\",\"type\":\"HBar\"},{\"attributes\":{},\"id\":\"22196\",\"type\":\"WheelZoomTool\"},{\"attributes\":{\"x0\":{\"field\":\"upper_95_ci\"},\"x1\":{\"field\":\"upper_68_ci\"},\"y0\":{\"field\":\"factor_label\"},\"y1\":{\"field\":\"factor_label\"}},\"id\":\"22227\",\"type\":\"Segment\"},{\"attributes\":{\"js_property_callbacks\":{\"change:value\":[{\"id\":\"22277\"}]},\"options\":[\"tx_w_protect_upsell\"],\"value\":[\"tx_w_protect_upsell\"]},\"id\":\"22276\",\"type\":\"MultiChoice\"},{\"attributes\":{\"line_alpha\":{\"value\":0.1},\"x0\":{\"field\":\"upper_95_ci\"},\"x1\":{\"field\":\"upper_68_ci\"},\"y0\":{\"field\":\"factor_label\"},\"y1\":{\"field\":\"factor_label\"}},\"id\":\"22260\",\"type\":\"Segment\"},{\"attributes\":{\"end\":18.22582434104045,\"start\":-39.67101560305488},\"id\":\"22273\",\"type\":\"Range1d\"},{\"attributes\":{\"overlay\":{\"id\":\"22215\"}},\"id\":\"22195\",\"type\":\"BoxZoomTool\"},{\"attributes\":{\"button_type\":\"success\",\"icon\":null,\"js_event_callbacks\":{\"button_click\":[{\"id\":\"22281\"}]},\"label\":\"Reset Metrics/Conditions\"},\"id\":\"22280\",\"type\":\"Button\"},{\"attributes\":{},\"id\":\"22168\",\"type\":\"Selection\"},{\"attributes\":{\"filters\":[{\"id\":\"22256\"}],\"source\":{\"id\":\"22112\"}},\"id\":\"22257\",\"type\":\"CDSView\"},{\"attributes\":{\"args\":{\"other\":{\"id\":\"22235\"}},\"code\":\"other.muted = this.muted\"},\"id\":\"22254\",\"type\":\"CustomJS\"},{\"attributes\":{\"data_source\":{\"id\":\"22112\"},\"glyph\":{\"id\":\"22263\"},\"hover_glyph\":null,\"muted_glyph\":null,\"nonselection_glyph\":{\"id\":\"22264\"},\"view\":{\"id\":\"22257\"},\"visible\":false},\"id\":\"22265\",\"type\":\"GlyphRenderer\"},{\"attributes\":{\"label\":{\"value\":\"tx_w_protect_upsell\"},\"renderers\":[{\"id\":\"22240\"}]},\"id\":\"22253\",\"type\":\"LegendItem\"},{\"attributes\":{\"js_property_callbacks\":{\"change:value\":[{\"id\":\"22277\"}]},\"options\":[\"N Chats\",\"% Chats\",\"N Friend Invites\",\"% Friend Invites\",\"N Trial Starts\",\"% Trial Starts\"],\"value\":[\"N Chats\",\"% Chats\",\"N Friend Invites\",\"% Friend Invites\",\"N Trial Starts\",\"% Trial Starts\"]},\"id\":\"22275\",\"type\":\"MultiChoice\"},{\"attributes\":{\"factors\":[[\"% Trial Starts\",\"tx_w_protect_upsell\"],[\"N Trial Starts\",\"tx_w_protect_upsell\"],[\"% Friend Invites\",\"tx_w_protect_upsell\"],[\"N Friend Invites\",\"tx_w_protect_upsell\"],[\"% Chats\",\"tx_w_protect_upsell\"],[\"N Chats\",\"tx_w_protect_upsell\"]]},\"id\":\"22194\",\"type\":\"FactorRange\"},{\"attributes\":{\"data_source\":{\"id\":\"22112\"},\"glyph\":{\"id\":\"22227\"},\"hover_glyph\":null,\"muted_glyph\":{\"id\":\"22229\"},\"nonselection_glyph\":{\"id\":\"22228\"},\"view\":{\"id\":\"22225\"}},\"id\":\"22230\",\"type\":\"GlyphRenderer\"},{\"attributes\":{\"fill_alpha\":{\"value\":0.1},\"fill_color\":{\"value\":\"#0072B2\"},\"height\":{\"value\":0.6},\"left\":{\"field\":\"lower_68_ci\"},\"line_alpha\":{\"value\":0.1},\"line_color\":{\"value\":null},\"right\":{\"field\":\"upper_68_ci\"},\"y\":{\"field\":\"factor_label\"}},\"id\":\"22238\",\"type\":\"HBar\"},{\"attributes\":{\"align\":\"center\",\"text\":\"Guardrail Metrics - Android\"},\"id\":\"22274\",\"type\":\"Title\"},{\"attributes\":{},\"id\":\"22213\",\"type\":\"CategoricalTicker\"},{\"attributes\":{\"axis\":{\"id\":\"22212\"},\"dimension\":1,\"grid_line_color\":null,\"ticker\":null},\"id\":\"22214\",\"type\":\"Grid\"},{\"attributes\":{},\"id\":\"22244\",\"type\":\"AllLabels\"},{\"attributes\":{\"line_alpha\":{\"value\":0.1},\"x0\":{\"field\":\"lower_68_ci\"},\"x1\":{\"field\":\"lower_95_ci\"},\"y0\":{\"field\":\"factor_label\"},\"y1\":{\"field\":\"factor_label\"}},\"id\":\"22264\",\"type\":\"Segment\"},{\"attributes\":{\"args\":{\"condWidget\":{\"id\":\"22276\"},\"metricWidget\":{\"id\":\"22275\"}},\"code\":\"\\n        metricWidget.value = metricWidget.options\\n        condWidget.value = condWidget.options\\n        \"},\"id\":\"22281\",\"type\":\"CustomJS\"},{\"attributes\":{\"fill_alpha\":{\"value\":0.8},\"fill_color\":{\"value\":\"#0072B2\"},\"height\":{\"value\":0.6},\"left\":{\"field\":\"lower_68_ci\"},\"line_color\":{\"value\":null},\"right\":{\"field\":\"upper_68_ci\"},\"y\":{\"field\":\"factor_label\"}},\"id\":\"22267\",\"type\":\"HBar\"},{\"attributes\":{\"fill_alpha\":{\"value\":0.8},\"fill_color\":{\"value\":\"#0072B2\"},\"height\":{\"value\":0.6},\"left\":{\"field\":\"lower_68_ci\"},\"line_color\":{\"value\":null},\"right\":{\"field\":\"upper_68_ci\"},\"y\":{\"field\":\"factor_label\"}},\"id\":\"22237\",\"type\":\"HBar\"},{\"attributes\":{\"line_alpha\":{\"value\":0.1},\"x0\":{\"field\":\"upper_95_ci\"},\"x1\":{\"field\":\"upper_68_ci\"},\"y0\":{\"field\":\"factor_label\"},\"y1\":{\"field\":\"factor_label\"}},\"id\":\"22228\",\"type\":\"Segment\"},{\"attributes\":{\"filters\":[{\"id\":\"22224\"}],\"source\":{\"id\":\"22112\"}},\"id\":\"22225\",\"type\":\"CDSView\"},{\"attributes\":{\"x0\":{\"field\":\"upper_95_ci\"},\"x1\":{\"field\":\"upper_68_ci\"},\"y0\":{\"field\":\"factor_label\"},\"y1\":{\"field\":\"factor_label\"}},\"id\":\"22259\",\"type\":\"Segment\"},{\"attributes\":{\"active_multi\":null,\"tools\":[{\"id\":\"22195\"},{\"id\":\"22196\"},{\"id\":\"22197\"},{\"id\":\"22198\"},{\"id\":\"22199\"},{\"id\":\"22216\"}]},\"id\":\"22217\",\"type\":\"Toolbar\"},{\"attributes\":{\"booleans\":[true,true,true,true,true,true]},\"id\":\"22224\",\"type\":\"BooleanFilter\"},{\"attributes\":{},\"id\":\"22243\",\"type\":\"CategoricalTickFormatter\"},{\"attributes\":{\"callback\":null,\"tooltips\":[[\"Tx Label\",\"@{exp_cond}\"],[\"Rel Diff Tx vs Ctrl\",\"@{mean}\\u00b1@{std}\"],[\"P-Value\",\"@p_value{1.11111}\"],[\"Abs Diff Tx - Ctrl\",\"@{abs_mean}\\u00b1@{abs_std}\"],[\"Ctrl x\\u0304\",\"@{ctrl_mean}\\u00b1@{ctrl_std}\"],[\"Tx x\\u0304\",\"@{tx_mean}\\u00b1@{tx_std}\"],[\"Ctrl/Tx n\",\"@{ctrl_count}/@{tx_count}\"]]},\"id\":\"22216\",\"type\":\"HoverTool\"},{\"attributes\":{\"args\":{\"other\":{\"id\":\"22230\"}},\"code\":\"other.muted = this.muted\"},\"id\":\"22255\",\"type\":\"CustomJS\"},{\"attributes\":{\"button_type\":\"danger\",\"icon\":null,\"js_property_callbacks\":{\"change:active\":[{\"id\":\"22279\"}]},\"label\":\"Toggle Stat Sig\"},\"id\":\"22278\",\"type\":\"Toggle\"}],\"root_ids\":[\"22283\"]},\"title\":\"Bokeh Application\",\"version\":\"2.3.2\"}};\n",
       "  var render_items = [{\"docid\":\"ce5e18c7-5a62-4d36-afdd-3d0f9791bb4d\",\"root_ids\":[\"22283\"],\"roots\":{\"22283\":\"1410177d-1244-4327-8c8b-7a784fc04c76\"}}];\n",
       "  root.Bokeh.embed.embed_items_notebook(docs_json, render_items);\n",
       "\n",
       "  }\n",
       "  if (root.Bokeh !== undefined) {\n",
       "    embed_document(root);\n",
       "  } else {\n",
       "    var attempts = 0;\n",
       "    var timer = setInterval(function(root) {\n",
       "      if (root.Bokeh !== undefined) {\n",
       "        clearInterval(timer);\n",
       "        embed_document(root);\n",
       "      } else {\n",
       "        attempts++;\n",
       "        if (attempts > 100) {\n",
       "          clearInterval(timer);\n",
       "          console.log(\"Bokeh: ERROR: Unable to run BokehJS code because BokehJS library is missing\");\n",
       "        }\n",
       "      }\n",
       "    }, 10, root)\n",
       "  }\n",
       "})(window);"
      ],
      "application/vnd.bokehjs_exec.v0+json": ""
     },
     "metadata": {
      "application/vnd.bokehjs_exec.v0+json": {
       "id": "22283"
      }
     },
     "output_type": "display_data"
    },
    {
     "name": "stderr",
     "output_type": "stream",
     "text": [
      "/opt/conda/lib/python3.9/site-packages/bokeh/io/saving.py:126: UserWarning: save() called but no resources were supplied and output_file(...) was never called, defaulting to resources.CDN\n",
      "  warn(\"save() called but no resources were supplied and output_file(...) was never called, defaulting to resources.CDN\")\n",
      "/opt/conda/lib/python3.9/site-packages/bokeh/io/saving.py:139: UserWarning: save() called but no title was supplied and output_file(...) was never called, using default title 'Bokeh Plot'\n",
      "  warn(\"save() called but no title was supplied and output_file(...) was never called, using default title 'Bokeh Plot'\")\n",
      "NaN values found!\n"
     ]
    },
    {
     "data": {
      "text/html": [
       "\n",
       "\n",
       "\n",
       "\n",
       "\n",
       "\n",
       "  <div class=\"bk-root\" id=\"a0b0c13d-6d51-43ba-b8fc-93b62bfc7c8e\" data-root-id=\"23083\"></div>\n"
      ]
     },
     "metadata": {},
     "output_type": "display_data"
    },
    {
     "data": {
      "application/javascript": [
       "(function(root) {\n",
       "  function embed_document(root) {\n",
       "    \n",
       "  var docs_json = {\"143b4204-b2a8-437e-936c-44efef20c090\":{\"defs\":[],\"roots\":{\"references\":[{\"attributes\":{\"children\":[{\"id\":\"23000\"},{\"id\":\"23082\"}]},\"id\":\"23083\",\"type\":\"Row\"},{\"attributes\":{\"data_source\":{\"id\":\"22912\"},\"glyph\":{\"id\":\"23067\"},\"hover_glyph\":null,\"js_property_callbacks\":{\"change:visible\":[{\"id\":\"23070\"},{\"id\":\"23071\"}]},\"muted_glyph\":null,\"nonselection_glyph\":{\"id\":\"23068\"},\"tags\":[\"stat_sig\"],\"view\":{\"id\":\"23057\"},\"visible\":false},\"id\":\"23069\",\"type\":\"GlyphRenderer\"},{\"attributes\":{},\"id\":\"22969\",\"type\":\"UnionRenderers\"},{\"attributes\":{\"click_policy\":\"mute\",\"items\":[{\"id\":\"23053\"}]},\"id\":\"23052\",\"type\":\"Legend\"},{\"attributes\":{\"js_property_callbacks\":{\"change:value\":[{\"id\":\"23077\"}]},\"options\":[\"tx_w_protect_upsell\"],\"value\":[\"tx_w_protect_upsell\"]},\"id\":\"23076\",\"type\":\"MultiChoice\"},{\"attributes\":{\"fill_alpha\":{\"value\":0.2},\"fill_color\":{\"value\":\"#0072B2\"},\"height\":{\"value\":0.6},\"left\":{\"field\":\"lower_68_ci\"},\"line_alpha\":{\"value\":0.2},\"line_color\":{\"value\":\"#0072B2\"},\"right\":{\"field\":\"upper_68_ci\"},\"y\":{\"field\":\"factor_label\"}},\"id\":\"23039\",\"type\":\"HBar\"},{\"attributes\":{\"js_property_callbacks\":{\"change:value\":[{\"id\":\"23077\"}]},\"options\":[\"N Chats\",\"% Chats\",\"N Friend Invites\",\"% Friend Invites\",\"N Trial Starts\",\"% Trial Starts\"],\"value\":[\"N Chats\",\"% Chats\",\"N Friend Invites\",\"% Friend Invites\",\"N Trial Starts\",\"% Trial Starts\"]},\"id\":\"23075\",\"type\":\"MultiChoice\"},{\"attributes\":{\"label\":{\"value\":\"tx_w_protect_upsell\"},\"renderers\":[{\"id\":\"23040\"}]},\"id\":\"23053\",\"type\":\"LegendItem\"},{\"attributes\":{\"fill_alpha\":{\"value\":0.1},\"fill_color\":{\"value\":\"#0072B2\"},\"height\":{\"value\":0.6},\"left\":{\"field\":\"lower_68_ci\"},\"line_alpha\":{\"value\":0.1},\"line_color\":{\"value\":null},\"right\":{\"field\":\"upper_68_ci\"},\"y\":{\"field\":\"factor_label\"}},\"id\":\"23038\",\"type\":\"HBar\"},{\"attributes\":{},\"id\":\"23046\",\"type\":\"BasicTickFormatter\"},{\"attributes\":{\"line_alpha\":{\"value\":0.1},\"x0\":{\"field\":\"upper_95_ci\"},\"x1\":{\"field\":\"upper_68_ci\"},\"y0\":{\"field\":\"factor_label\"},\"y1\":{\"field\":\"factor_label\"}},\"id\":\"23028\",\"type\":\"Segment\"},{\"attributes\":{\"args\":{\"glyphs\":[{\"id\":\"23030\"},{\"id\":\"23035\"},{\"id\":\"23040\"},{\"id\":\"23061\"},{\"id\":\"23065\"},{\"id\":\"23069\"}]},\"code\":\"\\n        for (const glyph of glyphs){\\n            if (glyph.tags.includes(\\\"stat_sig\\\")) {\\n                var stat_sig_visible = glyph.visible;\\n            }\\n        }\\n\\n        if (stat_sig_visible) {\\n            var muted = false;\\n        } else {\\n            var muted = true;\\n        }\\n\\n        for (const glyph of glyphs){\\n            if (glyph.tags.includes(\\\"stat_sig\\\")) {\\n                glyph.visible = !glyph.visible;\\n            } else {\\n                glyph.muted = muted;\\n            }\\n        }\\n        \"},\"id\":\"23079\",\"type\":\"CustomJS\"},{\"attributes\":{\"above\":[{\"id\":\"23074\"}],\"below\":[{\"id\":\"23008\"}],\"center\":[{\"id\":\"23011\"},{\"id\":\"23014\"},{\"id\":\"23052\"},{\"id\":\"23072\"}],\"height\":450,\"left\":[{\"id\":\"23012\"}],\"renderers\":[{\"id\":\"23030\"},{\"id\":\"23035\"},{\"id\":\"23040\"},{\"id\":\"23061\"},{\"id\":\"23065\"},{\"id\":\"23069\"}],\"title\":{\"id\":\"23041\"},\"toolbar\":{\"id\":\"23017\"},\"width\":650,\"x_range\":{\"id\":\"23073\"},\"x_scale\":{\"id\":\"23004\"},\"y_range\":{\"id\":\"22994\"},\"y_scale\":{\"id\":\"23006\"}},\"id\":\"23000\",\"subtype\":\"Figure\",\"type\":\"Plot\"},{\"attributes\":{\"line_alpha\":{\"value\":0.2},\"x0\":{\"field\":\"lower_68_ci\"},\"x1\":{\"field\":\"lower_95_ci\"},\"y0\":{\"field\":\"factor_label\"},\"y1\":{\"field\":\"factor_label\"}},\"id\":\"23034\",\"type\":\"Segment\"},{\"attributes\":{\"data_source\":{\"id\":\"22912\"},\"glyph\":{\"id\":\"23059\"},\"hover_glyph\":null,\"muted_glyph\":null,\"nonselection_glyph\":{\"id\":\"23060\"},\"view\":{\"id\":\"23057\"},\"visible\":false},\"id\":\"23061\",\"type\":\"GlyphRenderer\"},{\"attributes\":{},\"id\":\"22997\",\"type\":\"PanTool\"},{\"attributes\":{\"data_source\":{\"id\":\"22912\"},\"glyph\":{\"id\":\"23037\"},\"hover_glyph\":null,\"js_property_callbacks\":{\"change:muted\":[{\"id\":\"23054\"},{\"id\":\"23055\"}]},\"muted_glyph\":{\"id\":\"23039\"},\"nonselection_glyph\":{\"id\":\"23038\"},\"view\":{\"id\":\"23025\"}},\"id\":\"23040\",\"type\":\"GlyphRenderer\"},{\"attributes\":{\"bottom_units\":\"screen\",\"fill_alpha\":0.5,\"fill_color\":\"lightgrey\",\"left_units\":\"screen\",\"level\":\"overlay\",\"line_alpha\":1.0,\"line_color\":\"black\",\"line_dash\":[4,4],\"line_width\":2,\"right_units\":\"screen\",\"syncable\":false,\"top_units\":\"screen\"},\"id\":\"23015\",\"type\":\"BoxAnnotation\"},{\"attributes\":{\"factors\":[[\"% Trial Starts\",\"tx_w_protect_upsell\"],[\"N Trial Starts\",\"tx_w_protect_upsell\"],[\"% Friend Invites\",\"tx_w_protect_upsell\"],[\"N Friend Invites\",\"tx_w_protect_upsell\"],[\"% Chats\",\"tx_w_protect_upsell\"],[\"N Chats\",\"tx_w_protect_upsell\"]]},\"id\":\"22994\",\"type\":\"FactorRange\"},{\"attributes\":{\"data_source\":{\"id\":\"22912\"},\"glyph\":{\"id\":\"23027\"},\"hover_glyph\":null,\"muted_glyph\":{\"id\":\"23029\"},\"nonselection_glyph\":{\"id\":\"23028\"},\"view\":{\"id\":\"23025\"}},\"id\":\"23030\",\"type\":\"GlyphRenderer\"},{\"attributes\":{\"axis\":{\"id\":\"23008\"},\"ticker\":null},\"id\":\"23011\",\"type\":\"Grid\"},{\"attributes\":{\"line_alpha\":{\"value\":0.1},\"x0\":{\"field\":\"upper_95_ci\"},\"x1\":{\"field\":\"upper_68_ci\"},\"y0\":{\"field\":\"factor_label\"},\"y1\":{\"field\":\"factor_label\"}},\"id\":\"23060\",\"type\":\"Segment\"},{\"attributes\":{\"button_type\":\"success\",\"icon\":null,\"js_event_callbacks\":{\"button_click\":[{\"id\":\"23081\"}]},\"label\":\"Reset Metrics/Conditions\"},\"id\":\"23080\",\"type\":\"Button\"},{\"attributes\":{\"fill_alpha\":{\"value\":0.1},\"fill_color\":{\"value\":\"#0072B2\"},\"height\":{\"value\":0.6},\"left\":{\"field\":\"lower_68_ci\"},\"line_alpha\":{\"value\":0.1},\"line_color\":{\"value\":null},\"right\":{\"field\":\"upper_68_ci\"},\"y\":{\"field\":\"factor_label\"}},\"id\":\"23068\",\"type\":\"HBar\"},{\"attributes\":{\"x0\":{\"field\":\"upper_95_ci\"},\"x1\":{\"field\":\"upper_68_ci\"},\"y0\":{\"field\":\"factor_label\"},\"y1\":{\"field\":\"factor_label\"}},\"id\":\"23027\",\"type\":\"Segment\"},{\"attributes\":{\"line_alpha\":{\"value\":0.2},\"x0\":{\"field\":\"upper_95_ci\"},\"x1\":{\"field\":\"upper_68_ci\"},\"y0\":{\"field\":\"factor_label\"},\"y1\":{\"field\":\"factor_label\"}},\"id\":\"23029\",\"type\":\"Segment\"},{\"attributes\":{\"filters\":[{\"id\":\"23024\"}],\"source\":{\"id\":\"22912\"}},\"id\":\"23025\",\"type\":\"CDSView\"},{\"attributes\":{\"args\":{\"condWidget\":{\"id\":\"23076\"},\"metricWidget\":{\"id\":\"23075\"}},\"code\":\"\\n        metricWidget.value = metricWidget.options\\n        condWidget.value = condWidget.options\\n        \"},\"id\":\"23081\",\"type\":\"CustomJS\"},{\"attributes\":{\"args\":{\"other\":{\"id\":\"23061\"}},\"code\":\"other.visible = this.visible\"},\"id\":\"23071\",\"type\":\"CustomJS\"},{\"attributes\":{\"line_alpha\":{\"value\":0.1},\"x0\":{\"field\":\"lower_68_ci\"},\"x1\":{\"field\":\"lower_95_ci\"},\"y0\":{\"field\":\"factor_label\"},\"y1\":{\"field\":\"factor_label\"}},\"id\":\"23064\",\"type\":\"Segment\"},{\"attributes\":{\"booleans\":[false,false,false,false,true,false]},\"id\":\"23056\",\"type\":\"BooleanFilter\"},{\"attributes\":{},\"id\":\"22999\",\"type\":\"SaveTool\"},{\"attributes\":{\"line_alpha\":{\"value\":0.1},\"x0\":{\"field\":\"lower_68_ci\"},\"x1\":{\"field\":\"lower_95_ci\"},\"y0\":{\"field\":\"factor_label\"},\"y1\":{\"field\":\"factor_label\"}},\"id\":\"23033\",\"type\":\"Segment\"},{\"attributes\":{},\"id\":\"22998\",\"type\":\"ResetTool\"},{\"attributes\":{\"children\":[{\"id\":\"23075\"},{\"id\":\"23076\"},{\"id\":\"23078\"},{\"id\":\"23080\"}]},\"id\":\"23082\",\"type\":\"Column\"},{\"attributes\":{\"args\":{\"condWidget\":{\"id\":\"23076\"},\"metricWidget\":{\"id\":\"23075\"},\"source\":{\"id\":\"22912\"},\"yRange\":{\"id\":\"22994\"}},\"code\":\"\\n        // Filter y-axis labels\\n        let tempList = source.data[\\\"factor_label\\\"].filter(function (currentElement) {\\n          return metricWidget.value.includes(currentElement[0]) && condWidget.value.includes(currentElement[1]);\\n        });\\n        yRange.factors = tempList;\\n        \"},\"id\":\"23077\",\"type\":\"CustomJS\"},{\"attributes\":{\"button_type\":\"danger\",\"icon\":null,\"js_property_callbacks\":{\"change:active\":[{\"id\":\"23079\"}]},\"label\":\"Toggle Stat Sig\"},\"id\":\"23078\",\"type\":\"Toggle\"},{\"attributes\":{\"args\":{\"other\":{\"id\":\"23035\"}},\"code\":\"other.muted = this.muted\"},\"id\":\"23054\",\"type\":\"CustomJS\"},{\"attributes\":{\"filters\":[{\"id\":\"23056\"}],\"source\":{\"id\":\"22912\"}},\"id\":\"23057\",\"type\":\"CDSView\"},{\"attributes\":{\"overlay\":{\"id\":\"23015\"}},\"id\":\"22995\",\"type\":\"BoxZoomTool\"},{\"attributes\":{},\"id\":\"23044\",\"type\":\"AllLabels\"},{\"attributes\":{\"args\":{\"other\":{\"id\":\"23065\"}},\"code\":\"other.visible = this.visible\"},\"id\":\"23070\",\"type\":\"CustomJS\"},{\"attributes\":{},\"id\":\"23006\",\"type\":\"CategoricalScale\"},{\"attributes\":{\"booleans\":[true,true,true,true,true,true]},\"id\":\"23024\",\"type\":\"BooleanFilter\"},{\"attributes\":{},\"id\":\"23047\",\"type\":\"AllLabels\"},{\"attributes\":{\"x0\":{\"field\":\"lower_68_ci\"},\"x1\":{\"field\":\"lower_95_ci\"},\"y0\":{\"field\":\"factor_label\"},\"y1\":{\"field\":\"factor_label\"}},\"id\":\"23032\",\"type\":\"Segment\"},{\"attributes\":{},\"id\":\"23004\",\"type\":\"LinearScale\"},{\"attributes\":{\"data_source\":{\"id\":\"22912\"},\"glyph\":{\"id\":\"23032\"},\"hover_glyph\":null,\"muted_glyph\":{\"id\":\"23034\"},\"nonselection_glyph\":{\"id\":\"23033\"},\"view\":{\"id\":\"23025\"}},\"id\":\"23035\",\"type\":\"GlyphRenderer\"},{\"attributes\":{},\"id\":\"23013\",\"type\":\"CategoricalTicker\"},{\"attributes\":{\"axis_label\":\"Relative Difference of Tx vs Ctrl Population (%)\",\"formatter\":{\"id\":\"23046\"},\"major_label_policy\":{\"id\":\"23047\"},\"ticker\":{\"id\":\"23009\"}},\"id\":\"23008\",\"type\":\"LinearAxis\"},{\"attributes\":{\"data\":{\"abs_mean\":{\"__ndarray__\":\"QAPpF/qdIz+Ah+mkMxgiP0AnxAmX8SO/UOMDktD7Y79A+I90xcs1v4BvBh1P0Gu/\",\"dtype\":\"float64\",\"order\":\"little\",\"shape\":[6]},\"abs_std\":{\"__ndarray__\":\"Wg3KZpnQHj95pFFf1wAvP7+dZbYQChs/vQ7zLr8mYD9KJipq2ywoP/d0Dua1+WQ/\",\"dtype\":\"float64\",\"order\":\"little\",\"shape\":[6]},\"cond_order\":[0,0,0,0,0,0],\"ctrl_count\":{\"__ndarray__\":\"AAAAADTxGUEAAAAANPEZQQAAAAA08RlBAAAAADTxGUEAAAAANPEZQQAAAAA08RlB\",\"dtype\":\"float64\",\"order\":\"little\",\"shape\":[6]},\"ctrl_mean\":{\"__ndarray__\":\"nKsK/FsmiD+U313mukKIP16NObbc0II/L4Fr3mwhmD9L1nVPSKOeP4W0Nol4SrQ/\",\"dtype\":\"float64\",\"order\":\"little\",\"shape\":[6]},\"ctrl_std\":{\"__ndarray__\":\"AGmqZYSiuz8p7AJQPdO7P3216GbIbLg/qhInWVOc8T/t8KPZjs7FP31d2I0uPPM/\",\"dtype\":\"float64\",\"order\":\"little\",\"shape\":[6]},\"display_metric\":[\"% Trial Starts\",\"N Trial Starts\",\"% Friend Invites\",\"N Friend Invites\",\"% Chats\",\"N Chats\"],\"exp_cond\":[\"tx_w_protect_upsell\",\"tx_w_protect_upsell\",\"tx_w_protect_upsell\",\"tx_w_protect_upsell\",\"tx_w_protect_upsell\",\"tx_w_protect_upsell\"],\"factor_label\":[[\"% Trial Starts\",\"tx_w_protect_upsell\"],[\"N Trial Starts\",\"tx_w_protect_upsell\"],[\"% Friend Invites\",\"tx_w_protect_upsell\"],[\"N Friend Invites\",\"tx_w_protect_upsell\"],[\"% Chats\",\"tx_w_protect_upsell\"],[\"N Chats\",\"tx_w_protect_upsell\"]],\"index\":[13,12,29,28,27,26],\"lower_68_ci\":{\"__ndarray__\":\"KkiaGHZu0T9y5rLXsZrqv24ID9kWOwbARMWNY+63MsAZ3R8bBKb7v3TB4udYDh7A\",\"dtype\":\"float64\",\"order\":\"little\",\"shape\":[6]},\"lower_95_ci\":{\"__ndarray__\":\"4FS6Mmzo5b9g4ZPSdPwFwGuJNV9l2g7AAlXjSR7AOsDYzQLoAo8CwLoUF+r9OiXA\",\"dtype\":\"float64\",\"order\":\"little\",\"shape\":[6]},\"mean\":{\"__ndarray__\":\"CiGlocRO9D/0dC3VXaXyPyCE+G+ff/q/D58+pyO0JMA74QVUAsnxvx41FIdkIhHA\",\"dtype\":\"float64\",\"order\":\"little\",\"shape\":[6]},\"metric\":[\"pct_trial_starts\",\"n_trial_starts\",\"pct_friend_invites\",\"n_friend_invites\",\"pct_chats\",\"n_chats\"],\"metric_order\":{\"__ndarray__\":\"AAAAAAAAFEAAAAAAAAAQQAAAAAAAAAhAAAAAAAAAAEAAAAAAAADwPwAAAAAAAAAA\",\"dtype\":\"float64\",\"order\":\"little\",\"shape\":[6]},\"p_value\":{\"__ndarray__\":\"9MtxFeT5uT81LGBUKOfhP0s4k70K8bE/ZHrih2ulyz/m8oWmx0SiP9iWrw6xqMc/\",\"dtype\":\"float64\",\"order\":\"little\",\"shape\":[6]},\"std\":{\"__ndarray__\":\"/x39Nk7m7z8t6AbBtvL/P7uMJUKO9vE/eOvcH7m7IEC89zOOA7rjP6sYncHo1wlA\",\"dtype\":\"float64\",\"order\":\"little\",\"shape\":[6]},\"tx_count\":{\"__ndarray__\":\"AAAAACjaGUEAAAAAKNoZQQAAAAAo2hlBAAAAACjaGUEAAAAAKNoZQQAAAAAo2hlB\",\"dtype\":\"float64\",\"order\":\"little\",\"shape\":[6]},\"tx_mean\":{\"__ndarray__\":\"qU9q5NN0iD+yhfG0G4uIP8F8EloWgYI/xQQrzPKhlT9qlqM5GUyePwmBThD2a7M/\",\"dtype\":\"float64\",\"order\":\"little\",\"shape\":[6]},\"tx_std\":{\"__ndarray__\":\"l9BQg7vOuz9sG8KeyPS7PwNo4clDObg/h6hKJXUk5T+ejAtOZbDFP4hAJ+vXfvI/\",\"dtype\":\"float64\",\"order\":\"little\",\"shape\":[6]},\"upper_68_ci\":{\"__ndarray__\":\"BdiR3vUgAkCQLhpLCkwJQMrupVsiEuG/uJwNO1TD/790la8zArDfvyKjFpnA2fC/\",\"dtype\":\"float64\",\"order\":\"little\",\"shape\":[6]},\"upper_95_ci\":{\"__ndarray__\":\"QrZTrt/ICUAqq+BT6VAUQCwV9LwXa+E/zteSiuovGECwk51/EsC4P3B+C4xlYgBA\",\"dtype\":\"float64\",\"order\":\"little\",\"shape\":[6]}},\"selected\":{\"id\":\"22968\"},\"selection_policy\":{\"id\":\"22969\"}},\"id\":\"22912\",\"type\":\"ColumnDataSource\"},{\"attributes\":{\"args\":{\"other\":{\"id\":\"23030\"}},\"code\":\"other.muted = this.muted\"},\"id\":\"23055\",\"type\":\"CustomJS\"},{\"attributes\":{\"axis\":{\"id\":\"23012\"},\"dimension\":1,\"grid_line_color\":null,\"ticker\":null},\"id\":\"23014\",\"type\":\"Grid\"},{\"attributes\":{},\"id\":\"22968\",\"type\":\"Selection\"},{\"attributes\":{\"data_source\":{\"id\":\"22912\"},\"glyph\":{\"id\":\"23063\"},\"hover_glyph\":null,\"muted_glyph\":null,\"nonselection_glyph\":{\"id\":\"23064\"},\"view\":{\"id\":\"23057\"},\"visible\":false},\"id\":\"23065\",\"type\":\"GlyphRenderer\"},{\"attributes\":{\"formatter\":{\"id\":\"23043\"},\"group_label_orientation\":\"horizontal\",\"major_label_policy\":{\"id\":\"23044\"},\"major_label_text_alpha\":0.0,\"major_label_text_font_size\":\"1px\",\"major_tick_in\":0,\"major_tick_out\":0,\"minor_tick_line_color\":\"yellow\",\"separator_line_alpha\":0,\"ticker\":{\"id\":\"23013\"}},\"id\":\"23012\",\"type\":\"CategoricalAxis\"},{\"attributes\":{\"dimension\":\"height\",\"line_alpha\":0.8,\"line_color\":\"grey\",\"line_dash\":[6],\"line_width\":1.5,\"location\":0},\"id\":\"23072\",\"type\":\"Span\"},{\"attributes\":{},\"id\":\"23043\",\"type\":\"CategoricalTickFormatter\"},{\"attributes\":{\"fill_alpha\":{\"value\":0.8},\"fill_color\":{\"value\":\"#0072B2\"},\"height\":{\"value\":0.6},\"left\":{\"field\":\"lower_68_ci\"},\"line_color\":{\"value\":null},\"right\":{\"field\":\"upper_68_ci\"},\"y\":{\"field\":\"factor_label\"}},\"id\":\"23037\",\"type\":\"HBar\"},{\"attributes\":{\"x0\":{\"field\":\"upper_95_ci\"},\"x1\":{\"field\":\"upper_68_ci\"},\"y0\":{\"field\":\"factor_label\"},\"y1\":{\"field\":\"factor_label\"}},\"id\":\"23059\",\"type\":\"Segment\"},{\"attributes\":{\"x0\":{\"field\":\"lower_68_ci\"},\"x1\":{\"field\":\"lower_95_ci\"},\"y0\":{\"field\":\"factor_label\"},\"y1\":{\"field\":\"factor_label\"}},\"id\":\"23063\",\"type\":\"Segment\"},{\"attributes\":{\"fill_alpha\":{\"value\":0.8},\"fill_color\":{\"value\":\"#0072B2\"},\"height\":{\"value\":0.6},\"left\":{\"field\":\"lower_68_ci\"},\"line_color\":{\"value\":null},\"right\":{\"field\":\"upper_68_ci\"},\"y\":{\"field\":\"factor_label\"}},\"id\":\"23067\",\"type\":\"HBar\"},{\"attributes\":{\"callback\":null,\"tooltips\":[[\"Tx Label\",\"@{exp_cond}\"],[\"Rel Diff Tx vs Ctrl\",\"@{mean}\\u00b1@{std}\"],[\"P-Value\",\"@p_value{1.11111}\"],[\"Abs Diff Tx - Ctrl\",\"@{abs_mean}\\u00b1@{abs_std}\"],[\"Ctrl x\\u0304\",\"@{ctrl_mean}\\u00b1@{ctrl_std}\"],[\"Tx x\\u0304\",\"@{tx_mean}\\u00b1@{tx_std}\"],[\"Ctrl/Tx n\",\"@{ctrl_count}/@{tx_count}\"]]},\"id\":\"23016\",\"type\":\"HoverTool\"},{\"attributes\":{},\"id\":\"23009\",\"type\":\"BasicTicker\"},{\"attributes\":{\"end\":9.326518672498649,\"start\":-30.030187698671675},\"id\":\"23073\",\"type\":\"Range1d\"},{\"attributes\":{\"active_multi\":null,\"tools\":[{\"id\":\"22995\"},{\"id\":\"22996\"},{\"id\":\"22997\"},{\"id\":\"22998\"},{\"id\":\"22999\"},{\"id\":\"23016\"}]},\"id\":\"23017\",\"type\":\"Toolbar\"},{\"attributes\":{\"align\":\"center\",\"text\":\"Guardrail Metrics - Ios\"},\"id\":\"23074\",\"type\":\"Title\"},{\"attributes\":{},\"id\":\"22996\",\"type\":\"WheelZoomTool\"},{\"attributes\":{},\"id\":\"23041\",\"type\":\"Title\"}],\"root_ids\":[\"23083\"]},\"title\":\"Bokeh Application\",\"version\":\"2.3.2\"}};\n",
       "  var render_items = [{\"docid\":\"143b4204-b2a8-437e-936c-44efef20c090\",\"root_ids\":[\"23083\"],\"roots\":{\"23083\":\"a0b0c13d-6d51-43ba-b8fc-93b62bfc7c8e\"}}];\n",
       "  root.Bokeh.embed.embed_items_notebook(docs_json, render_items);\n",
       "\n",
       "  }\n",
       "  if (root.Bokeh !== undefined) {\n",
       "    embed_document(root);\n",
       "  } else {\n",
       "    var attempts = 0;\n",
       "    var timer = setInterval(function(root) {\n",
       "      if (root.Bokeh !== undefined) {\n",
       "        clearInterval(timer);\n",
       "        embed_document(root);\n",
       "      } else {\n",
       "        attempts++;\n",
       "        if (attempts > 100) {\n",
       "          clearInterval(timer);\n",
       "          console.log(\"Bokeh: ERROR: Unable to run BokehJS code because BokehJS library is missing\");\n",
       "        }\n",
       "      }\n",
       "    }, 10, root)\n",
       "  }\n",
       "})(window);"
      ],
      "application/vnd.bokehjs_exec.v0+json": ""
     },
     "metadata": {
      "application/vnd.bokehjs_exec.v0+json": {
       "id": "23083"
      }
     },
     "output_type": "display_data"
    },
    {
     "name": "stderr",
     "output_type": "stream",
     "text": [
      "/opt/conda/lib/python3.9/site-packages/bokeh/io/saving.py:126: UserWarning: save() called but no resources were supplied and output_file(...) was never called, defaulting to resources.CDN\n",
      "  warn(\"save() called but no resources were supplied and output_file(...) was never called, defaulting to resources.CDN\")\n",
      "/opt/conda/lib/python3.9/site-packages/bokeh/io/saving.py:139: UserWarning: save() called but no title was supplied and output_file(...) was never called, using default title 'Bokeh Plot'\n",
      "  warn(\"save() called but no title was supplied and output_file(...) was never called, using default title 'Bokeh Plot'\")\n",
      "NaN values found!\n"
     ]
    },
    {
     "data": {
      "text/html": [
       "\n",
       "\n",
       "\n",
       "\n",
       "\n",
       "\n",
       "  <div class=\"bk-root\" id=\"fdc364a1-0208-4f13-be5f-9cd5f82ddc3e\" data-root-id=\"23894\"></div>\n"
      ]
     },
     "metadata": {},
     "output_type": "display_data"
    },
    {
     "data": {
      "application/javascript": [
       "(function(root) {\n",
       "  function embed_document(root) {\n",
       "    \n",
       "  var docs_json = {\"096a2113-4f61-43fc-a891-619878ff3d9b\":{\"defs\":[],\"roots\":{\"references\":[{\"attributes\":{\"children\":[{\"id\":\"23811\"},{\"id\":\"23893\"}]},\"id\":\"23894\",\"type\":\"Row\"},{\"attributes\":{\"args\":{\"condWidget\":{\"id\":\"23887\"},\"metricWidget\":{\"id\":\"23886\"}},\"code\":\"\\n        metricWidget.value = metricWidget.options\\n        condWidget.value = condWidget.options\\n        \"},\"id\":\"23892\",\"type\":\"CustomJS\"},{\"attributes\":{\"above\":[{\"id\":\"23885\"}],\"below\":[{\"id\":\"23819\"}],\"center\":[{\"id\":\"23822\"},{\"id\":\"23825\"},{\"id\":\"23863\"},{\"id\":\"23883\"}],\"height\":450,\"left\":[{\"id\":\"23823\"}],\"renderers\":[{\"id\":\"23841\"},{\"id\":\"23846\"},{\"id\":\"23851\"},{\"id\":\"23872\"},{\"id\":\"23876\"},{\"id\":\"23880\"}],\"title\":{\"id\":\"23852\"},\"toolbar\":{\"id\":\"23828\"},\"width\":650,\"x_range\":{\"id\":\"23884\"},\"x_scale\":{\"id\":\"23815\"},\"y_range\":{\"id\":\"23805\"},\"y_scale\":{\"id\":\"23817\"}},\"id\":\"23811\",\"subtype\":\"Figure\",\"type\":\"Plot\"},{\"attributes\":{\"axis_label\":\"Relative Difference of Tx vs Ctrl Population (%)\",\"formatter\":{\"id\":\"23857\"},\"major_label_policy\":{\"id\":\"23858\"},\"ticker\":{\"id\":\"23820\"}},\"id\":\"23819\",\"type\":\"LinearAxis\"},{\"attributes\":{\"data_source\":{\"id\":\"23723\"},\"glyph\":{\"id\":\"23870\"},\"hover_glyph\":null,\"muted_glyph\":null,\"nonselection_glyph\":{\"id\":\"23871\"},\"view\":{\"id\":\"23868\"},\"visible\":false},\"id\":\"23872\",\"type\":\"GlyphRenderer\"},{\"attributes\":{\"x0\":{\"field\":\"lower_68_ci\"},\"x1\":{\"field\":\"lower_95_ci\"},\"y0\":{\"field\":\"factor_label\"},\"y1\":{\"field\":\"factor_label\"}},\"id\":\"23874\",\"type\":\"Segment\"},{\"attributes\":{\"bottom_units\":\"screen\",\"fill_alpha\":0.5,\"fill_color\":\"lightgrey\",\"left_units\":\"screen\",\"level\":\"overlay\",\"line_alpha\":1.0,\"line_color\":\"black\",\"line_dash\":[4,4],\"line_width\":2,\"right_units\":\"screen\",\"syncable\":false,\"top_units\":\"screen\"},\"id\":\"23826\",\"type\":\"BoxAnnotation\"},{\"attributes\":{},\"id\":\"23854\",\"type\":\"CategoricalTickFormatter\"},{\"attributes\":{},\"id\":\"23855\",\"type\":\"AllLabels\"},{\"attributes\":{\"align\":\"center\",\"text\":\"Guardrail Metrics - New\"},\"id\":\"23885\",\"type\":\"Title\"},{\"attributes\":{},\"id\":\"23858\",\"type\":\"AllLabels\"},{\"attributes\":{\"line_alpha\":{\"value\":0.1},\"x0\":{\"field\":\"upper_95_ci\"},\"x1\":{\"field\":\"upper_68_ci\"},\"y0\":{\"field\":\"factor_label\"},\"y1\":{\"field\":\"factor_label\"}},\"id\":\"23839\",\"type\":\"Segment\"},{\"attributes\":{\"line_alpha\":{\"value\":0.1},\"x0\":{\"field\":\"lower_68_ci\"},\"x1\":{\"field\":\"lower_95_ci\"},\"y0\":{\"field\":\"factor_label\"},\"y1\":{\"field\":\"factor_label\"}},\"id\":\"23844\",\"type\":\"Segment\"},{\"attributes\":{\"args\":{\"condWidget\":{\"id\":\"23887\"},\"metricWidget\":{\"id\":\"23886\"},\"source\":{\"id\":\"23723\"},\"yRange\":{\"id\":\"23805\"}},\"code\":\"\\n        // Filter y-axis labels\\n        let tempList = source.data[\\\"factor_label\\\"].filter(function (currentElement) {\\n          return metricWidget.value.includes(currentElement[0]) && condWidget.value.includes(currentElement[1]);\\n        });\\n        yRange.factors = tempList;\\n        \"},\"id\":\"23888\",\"type\":\"CustomJS\"},{\"attributes\":{\"x0\":{\"field\":\"lower_68_ci\"},\"x1\":{\"field\":\"lower_95_ci\"},\"y0\":{\"field\":\"factor_label\"},\"y1\":{\"field\":\"factor_label\"}},\"id\":\"23843\",\"type\":\"Segment\"},{\"attributes\":{\"data_source\":{\"id\":\"23723\"},\"glyph\":{\"id\":\"23838\"},\"hover_glyph\":null,\"muted_glyph\":{\"id\":\"23840\"},\"nonselection_glyph\":{\"id\":\"23839\"},\"view\":{\"id\":\"23836\"}},\"id\":\"23841\",\"type\":\"GlyphRenderer\"},{\"attributes\":{\"label\":{\"value\":\"tx_w_protect_upsell\"},\"renderers\":[{\"id\":\"23851\"}]},\"id\":\"23864\",\"type\":\"LegendItem\"},{\"attributes\":{\"click_policy\":\"mute\",\"items\":[{\"id\":\"23864\"}]},\"id\":\"23863\",\"type\":\"Legend\"},{\"attributes\":{\"data\":{\"abs_mean\":{\"__ndarray__\":\"ACeU22X1Yz9AP3mmea9jP0BLTqJbW1G/ADgFP+xaIj+Av1qMvTlHPxTlO8VoRZA/\",\"dtype\":\"float64\",\"order\":\"little\",\"shape\":[6]},\"abs_std\":{\"__ndarray__\":\"ldX5aArUVz/1+VeT/txnP/aS1fYRfFU/PcCXXeSUkD+p4wmTjENJPxgnQDqRSoE/\",\"dtype\":\"float64\",\"order\":\"little\",\"shape\":[6]},\"cond_order\":[0,0,0,0,0,0],\"ctrl_count\":{\"__ndarray__\":\"AAAAAEDA20AAAAAAQMDbQAAAAABAwNtAAAAAAEDA20AAAAAAQMDbQAAAAABAwNtA\",\"dtype\":\"float64\",\"order\":\"little\",\"shape\":[6]},\"ctrl_mean\":{\"__ndarray__\":\"qmRazoaMwT8gQ+WXI5HBP+qq5NmF9rs/EAzFj6l60D+WIXBhwJWhP+npk93sS7Q/\",\"dtype\":\"float64\",\"order\":\"little\",\"shape\":[6]},\"ctrl_std\":{\"__ndarray__\":\"H8cU7XAD1j+cUwtbkgzWP6xQEB249tM/jTEXuvTx/T/Wi75/qU/HP6TSiLCqNOk/\",\"dtype\":\"float64\",\"order\":\"little\",\"shape\":[6]},\"display_metric\":[\"% Trial Starts\",\"N Trial Starts\",\"% Friend Invites\",\"N Friend Invites\",\"% Chats\",\"N Chats\"],\"exp_cond\":[\"tx_w_protect_upsell\",\"tx_w_protect_upsell\",\"tx_w_protect_upsell\",\"tx_w_protect_upsell\",\"tx_w_protect_upsell\",\"tx_w_protect_upsell\"],\"factor_label\":[[\"% Trial Starts\",\"tx_w_protect_upsell\"],[\"N Trial Starts\",\"tx_w_protect_upsell\"],[\"% Friend Invites\",\"tx_w_protect_upsell\"],[\"N Friend Invites\",\"tx_w_protect_upsell\"],[\"% Chats\",\"tx_w_protect_upsell\"],[\"N Chats\",\"tx_w_protect_upsell\"]],\"index\":[13,12,29,28,27,26],\"lower_68_ci\":{\"__ndarray__\":\"dH+Tkofr5j8QvOUwP8jXv+KTB0DoXAHAi3JPpBnwGMCA3nmmti7Hv58HVykAySJA\",\"dtype\":\"float64\",\"order\":\"little\",\"shape\":[6]},\"lower_95_ci\":{\"__ndarray__\":\"7Fl7/9NV07+frYJAF0YDwLE7X2gzlQrA2fVZfiaLKMBlkNXJYbACwKDtxeQqlOq/\",\"dtype\":\"float64\",\"order\":\"little\",\"shape\":[6]},\"mean\":{\"__ndarray__\":\"3QbUmslu/D9i/Bow0AP8P1gUsYISCe+/9SmbjJbYqz9b6arjb4IAQNnzpY+tCjRA\",\"dtype\":\"float64\",\"order\":\"little\",\"shape\":[6]},\"metric\":[\"pct_trial_starts\",\"n_trial_starts\",\"pct_friend_invites\",\"n_friend_invites\",\"pct_chats\",\"n_chats\"],\"metric_order\":{\"__ndarray__\":\"AAAAAAAAFEAAAAAAAAAQQAAAAAAAAAhAAAAAAAAAAEAAAAAAAADwPwAAAAAAAAAA\",\"dtype\":\"float64\",\"order\":\"little\",\"shape\":[6]},\"p_value\":{\"__ndarray__\":\"WOljiHwJqD8u30YY4TPaP6zc1RKU08o/LUNNeXnH7z/OX7QUTujGP9A/W+Rso64/\",\"dtype\":\"float64\",\"order\":\"little\",\"shape\":[6]},\"std\":{\"__ndarray__\":\"I0eK0QX58D+zNSr+7/oAQJmdtj5HNfM/36ho0conGUBDhxJOW/UBQBPg9PVaTCVA\",\"dtype\":\"float64\",\"order\":\"little\",\"shape\":[6]},\"tx_count\":{\"__ndarray__\":\"AAAAAABG20AAAAAAAEbbQAAAAAAARttAAAAAAABG20AAAAAAAEbbQAAAAAAARttA\",\"dtype\":\"float64\",\"order\":\"little\",\"shape\":[6]},\"tx_mean\":{\"__ndarray__\":\"RrXIZVzcwT8dKH9+4d/BP71xW2sYsbs/t+xM7fR80D+UjKFXp/KhPy7j4g5HXbg/\",\"dtype\":\"float64\",\"order\":\"little\",\"shape\":[6]},\"tx_std\":{\"__ndarray__\":\"2l1yS0Mt1j+t1sQiKzTWP77XWIHm4NM/nGDZU6aL/z9GSyWptorHP6c/0PO55PI/\",\"dtype\":\"float64\",\"order\":\"little\",\"shape\":[6]},\"upper_68_ci\":{\"__ndarray__\":\"ACcvtuezBkDkszcW2PwOQGib8Orvhc0/M9+B/ntfGUBPuN6Y5TsRQOJjoArbsD5A\",\"dtype\":\"float64\",\"order\":\"little\",\"shape\":[6]},\"upper_95_ci\":{\"__ndarray__\":\"GnLDGoTZDkAA1U6486QXQApjDU5UIfY/LSxzq9fCKECOsZXIoNoZQJALOTv+dERA\",\"dtype\":\"float64\",\"order\":\"little\",\"shape\":[6]}},\"selected\":{\"id\":\"23779\"},\"selection_policy\":{\"id\":\"23780\"}},\"id\":\"23723\",\"type\":\"ColumnDataSource\"},{\"attributes\":{\"end\":46.232587182986876,\"start\":-17.590356715788886},\"id\":\"23884\",\"type\":\"Range1d\"},{\"attributes\":{\"data_source\":{\"id\":\"23723\"},\"glyph\":{\"id\":\"23878\"},\"hover_glyph\":null,\"js_property_callbacks\":{\"change:visible\":[{\"id\":\"23881\"},{\"id\":\"23882\"}]},\"muted_glyph\":null,\"nonselection_glyph\":{\"id\":\"23879\"},\"tags\":[\"stat_sig\"],\"view\":{\"id\":\"23868\"},\"visible\":false},\"id\":\"23880\",\"type\":\"GlyphRenderer\"},{\"attributes\":{\"active_multi\":null,\"tools\":[{\"id\":\"23806\"},{\"id\":\"23807\"},{\"id\":\"23808\"},{\"id\":\"23809\"},{\"id\":\"23810\"},{\"id\":\"23827\"}]},\"id\":\"23828\",\"type\":\"Toolbar\"},{\"attributes\":{\"fill_alpha\":{\"value\":0.2},\"fill_color\":{\"value\":\"#0072B2\"},\"height\":{\"value\":0.6},\"left\":{\"field\":\"lower_68_ci\"},\"line_alpha\":{\"value\":0.2},\"line_color\":{\"value\":\"#0072B2\"},\"right\":{\"field\":\"upper_68_ci\"},\"y\":{\"field\":\"factor_label\"}},\"id\":\"23850\",\"type\":\"HBar\"},{\"attributes\":{\"overlay\":{\"id\":\"23826\"}},\"id\":\"23806\",\"type\":\"BoxZoomTool\"},{\"attributes\":{\"js_property_callbacks\":{\"change:value\":[{\"id\":\"23888\"}]},\"options\":[\"N Chats\",\"% Chats\",\"N Friend Invites\",\"% Friend Invites\",\"N Trial Starts\",\"% Trial Starts\"],\"value\":[\"N Chats\",\"% Chats\",\"N Friend Invites\",\"% Friend Invites\",\"N Trial Starts\",\"% Trial Starts\"]},\"id\":\"23886\",\"type\":\"MultiChoice\"},{\"attributes\":{\"factors\":[[\"% Trial Starts\",\"tx_w_protect_upsell\"],[\"N Trial Starts\",\"tx_w_protect_upsell\"],[\"% Friend Invites\",\"tx_w_protect_upsell\"],[\"N Friend Invites\",\"tx_w_protect_upsell\"],[\"% Chats\",\"tx_w_protect_upsell\"],[\"N Chats\",\"tx_w_protect_upsell\"]]},\"id\":\"23805\",\"type\":\"FactorRange\"},{\"attributes\":{\"fill_alpha\":{\"value\":0.1},\"fill_color\":{\"value\":\"#0072B2\"},\"height\":{\"value\":0.6},\"left\":{\"field\":\"lower_68_ci\"},\"line_alpha\":{\"value\":0.1},\"line_color\":{\"value\":null},\"right\":{\"field\":\"upper_68_ci\"},\"y\":{\"field\":\"factor_label\"}},\"id\":\"23879\",\"type\":\"HBar\"},{\"attributes\":{},\"id\":\"23817\",\"type\":\"CategoricalScale\"},{\"attributes\":{},\"id\":\"23857\",\"type\":\"BasicTickFormatter\"},{\"attributes\":{\"fill_alpha\":{\"value\":0.8},\"fill_color\":{\"value\":\"#0072B2\"},\"height\":{\"value\":0.6},\"left\":{\"field\":\"lower_68_ci\"},\"line_color\":{\"value\":null},\"right\":{\"field\":\"upper_68_ci\"},\"y\":{\"field\":\"factor_label\"}},\"id\":\"23878\",\"type\":\"HBar\"},{\"attributes\":{\"args\":{\"other\":{\"id\":\"23872\"}},\"code\":\"other.visible = this.visible\"},\"id\":\"23882\",\"type\":\"CustomJS\"},{\"attributes\":{\"axis\":{\"id\":\"23823\"},\"dimension\":1,\"grid_line_color\":null,\"ticker\":null},\"id\":\"23825\",\"type\":\"Grid\"},{\"attributes\":{\"data_source\":{\"id\":\"23723\"},\"glyph\":{\"id\":\"23874\"},\"hover_glyph\":null,\"muted_glyph\":null,\"nonselection_glyph\":{\"id\":\"23875\"},\"view\":{\"id\":\"23868\"},\"visible\":false},\"id\":\"23876\",\"type\":\"GlyphRenderer\"},{\"attributes\":{},\"id\":\"23820\",\"type\":\"BasicTicker\"},{\"attributes\":{\"dimension\":\"height\",\"line_alpha\":0.8,\"line_color\":\"grey\",\"line_dash\":[6],\"line_width\":1.5,\"location\":0},\"id\":\"23883\",\"type\":\"Span\"},{\"attributes\":{\"x0\":{\"field\":\"upper_95_ci\"},\"x1\":{\"field\":\"upper_68_ci\"},\"y0\":{\"field\":\"factor_label\"},\"y1\":{\"field\":\"factor_label\"}},\"id\":\"23838\",\"type\":\"Segment\"},{\"attributes\":{\"args\":{\"other\":{\"id\":\"23846\"}},\"code\":\"other.muted = this.muted\"},\"id\":\"23865\",\"type\":\"CustomJS\"},{\"attributes\":{},\"id\":\"23779\",\"type\":\"Selection\"},{\"attributes\":{\"args\":{\"other\":{\"id\":\"23876\"}},\"code\":\"other.visible = this.visible\"},\"id\":\"23881\",\"type\":\"CustomJS\"},{\"attributes\":{\"booleans\":[true,false,false,false,false,false]},\"id\":\"23867\",\"type\":\"BooleanFilter\"},{\"attributes\":{\"formatter\":{\"id\":\"23854\"},\"group_label_orientation\":\"horizontal\",\"major_label_policy\":{\"id\":\"23855\"},\"major_label_text_alpha\":0.0,\"major_label_text_font_size\":\"1px\",\"major_tick_in\":0,\"major_tick_out\":0,\"minor_tick_line_color\":\"yellow\",\"separator_line_alpha\":0,\"ticker\":{\"id\":\"23824\"}},\"id\":\"23823\",\"type\":\"CategoricalAxis\"},{\"attributes\":{},\"id\":\"23780\",\"type\":\"UnionRenderers\"},{\"attributes\":{\"line_alpha\":{\"value\":0.1},\"x0\":{\"field\":\"upper_95_ci\"},\"x1\":{\"field\":\"upper_68_ci\"},\"y0\":{\"field\":\"factor_label\"},\"y1\":{\"field\":\"factor_label\"}},\"id\":\"23871\",\"type\":\"Segment\"},{\"attributes\":{},\"id\":\"23815\",\"type\":\"LinearScale\"},{\"attributes\":{\"data_source\":{\"id\":\"23723\"},\"glyph\":{\"id\":\"23848\"},\"hover_glyph\":null,\"js_property_callbacks\":{\"change:muted\":[{\"id\":\"23865\"},{\"id\":\"23866\"}]},\"muted_glyph\":{\"id\":\"23850\"},\"nonselection_glyph\":{\"id\":\"23849\"},\"view\":{\"id\":\"23836\"}},\"id\":\"23851\",\"type\":\"GlyphRenderer\"},{\"attributes\":{\"button_type\":\"success\",\"icon\":null,\"js_event_callbacks\":{\"button_click\":[{\"id\":\"23892\"}]},\"label\":\"Reset Metrics/Conditions\"},\"id\":\"23891\",\"type\":\"Button\"},{\"attributes\":{},\"id\":\"23824\",\"type\":\"CategoricalTicker\"},{\"attributes\":{\"x0\":{\"field\":\"upper_95_ci\"},\"x1\":{\"field\":\"upper_68_ci\"},\"y0\":{\"field\":\"factor_label\"},\"y1\":{\"field\":\"factor_label\"}},\"id\":\"23870\",\"type\":\"Segment\"},{\"attributes\":{\"children\":[{\"id\":\"23886\"},{\"id\":\"23887\"},{\"id\":\"23889\"},{\"id\":\"23891\"}]},\"id\":\"23893\",\"type\":\"Column\"},{\"attributes\":{\"data_source\":{\"id\":\"23723\"},\"glyph\":{\"id\":\"23843\"},\"hover_glyph\":null,\"muted_glyph\":{\"id\":\"23845\"},\"nonselection_glyph\":{\"id\":\"23844\"},\"view\":{\"id\":\"23836\"}},\"id\":\"23846\",\"type\":\"GlyphRenderer\"},{\"attributes\":{\"line_alpha\":{\"value\":0.1},\"x0\":{\"field\":\"lower_68_ci\"},\"x1\":{\"field\":\"lower_95_ci\"},\"y0\":{\"field\":\"factor_label\"},\"y1\":{\"field\":\"factor_label\"}},\"id\":\"23875\",\"type\":\"Segment\"},{\"attributes\":{\"booleans\":[true,true,true,true,true,true]},\"id\":\"23835\",\"type\":\"BooleanFilter\"},{\"attributes\":{\"button_type\":\"danger\",\"icon\":null,\"js_property_callbacks\":{\"change:active\":[{\"id\":\"23890\"}]},\"label\":\"Toggle Stat Sig\"},\"id\":\"23889\",\"type\":\"Toggle\"},{\"attributes\":{\"args\":{\"other\":{\"id\":\"23841\"}},\"code\":\"other.muted = this.muted\"},\"id\":\"23866\",\"type\":\"CustomJS\"},{\"attributes\":{\"axis\":{\"id\":\"23819\"},\"ticker\":null},\"id\":\"23822\",\"type\":\"Grid\"},{\"attributes\":{\"callback\":null,\"tooltips\":[[\"Tx Label\",\"@{exp_cond}\"],[\"Rel Diff Tx vs Ctrl\",\"@{mean}\\u00b1@{std}\"],[\"P-Value\",\"@p_value{1.11111}\"],[\"Abs Diff Tx - Ctrl\",\"@{abs_mean}\\u00b1@{abs_std}\"],[\"Ctrl x\\u0304\",\"@{ctrl_mean}\\u00b1@{ctrl_std}\"],[\"Tx x\\u0304\",\"@{tx_mean}\\u00b1@{tx_std}\"],[\"Ctrl/Tx n\",\"@{ctrl_count}/@{tx_count}\"]]},\"id\":\"23827\",\"type\":\"HoverTool\"},{\"attributes\":{\"fill_alpha\":{\"value\":0.8},\"fill_color\":{\"value\":\"#0072B2\"},\"height\":{\"value\":0.6},\"left\":{\"field\":\"lower_68_ci\"},\"line_color\":{\"value\":null},\"right\":{\"field\":\"upper_68_ci\"},\"y\":{\"field\":\"factor_label\"}},\"id\":\"23848\",\"type\":\"HBar\"},{\"attributes\":{\"args\":{\"glyphs\":[{\"id\":\"23841\"},{\"id\":\"23846\"},{\"id\":\"23851\"},{\"id\":\"23872\"},{\"id\":\"23876\"},{\"id\":\"23880\"}]},\"code\":\"\\n        for (const glyph of glyphs){\\n            if (glyph.tags.includes(\\\"stat_sig\\\")) {\\n                var stat_sig_visible = glyph.visible;\\n            }\\n        }\\n\\n        if (stat_sig_visible) {\\n            var muted = false;\\n        } else {\\n            var muted = true;\\n        }\\n\\n        for (const glyph of glyphs){\\n            if (glyph.tags.includes(\\\"stat_sig\\\")) {\\n                glyph.visible = !glyph.visible;\\n            } else {\\n                glyph.muted = muted;\\n            }\\n        }\\n        \"},\"id\":\"23890\",\"type\":\"CustomJS\"},{\"attributes\":{\"fill_alpha\":{\"value\":0.1},\"fill_color\":{\"value\":\"#0072B2\"},\"height\":{\"value\":0.6},\"left\":{\"field\":\"lower_68_ci\"},\"line_alpha\":{\"value\":0.1},\"line_color\":{\"value\":null},\"right\":{\"field\":\"upper_68_ci\"},\"y\":{\"field\":\"factor_label\"}},\"id\":\"23849\",\"type\":\"HBar\"},{\"attributes\":{},\"id\":\"23807\",\"type\":\"WheelZoomTool\"},{\"attributes\":{\"line_alpha\":{\"value\":0.2},\"x0\":{\"field\":\"upper_95_ci\"},\"x1\":{\"field\":\"upper_68_ci\"},\"y0\":{\"field\":\"factor_label\"},\"y1\":{\"field\":\"factor_label\"}},\"id\":\"23840\",\"type\":\"Segment\"},{\"attributes\":{\"filters\":[{\"id\":\"23867\"}],\"source\":{\"id\":\"23723\"}},\"id\":\"23868\",\"type\":\"CDSView\"},{\"attributes\":{},\"id\":\"23809\",\"type\":\"ResetTool\"},{\"attributes\":{},\"id\":\"23810\",\"type\":\"SaveTool\"},{\"attributes\":{},\"id\":\"23852\",\"type\":\"Title\"},{\"attributes\":{\"js_property_callbacks\":{\"change:value\":[{\"id\":\"23888\"}]},\"options\":[\"tx_w_protect_upsell\"],\"value\":[\"tx_w_protect_upsell\"]},\"id\":\"23887\",\"type\":\"MultiChoice\"},{\"attributes\":{\"filters\":[{\"id\":\"23835\"}],\"source\":{\"id\":\"23723\"}},\"id\":\"23836\",\"type\":\"CDSView\"},{\"attributes\":{},\"id\":\"23808\",\"type\":\"PanTool\"},{\"attributes\":{\"line_alpha\":{\"value\":0.2},\"x0\":{\"field\":\"lower_68_ci\"},\"x1\":{\"field\":\"lower_95_ci\"},\"y0\":{\"field\":\"factor_label\"},\"y1\":{\"field\":\"factor_label\"}},\"id\":\"23845\",\"type\":\"Segment\"}],\"root_ids\":[\"23894\"]},\"title\":\"Bokeh Application\",\"version\":\"2.3.2\"}};\n",
       "  var render_items = [{\"docid\":\"096a2113-4f61-43fc-a891-619878ff3d9b\",\"root_ids\":[\"23894\"],\"roots\":{\"23894\":\"fdc364a1-0208-4f13-be5f-9cd5f82ddc3e\"}}];\n",
       "  root.Bokeh.embed.embed_items_notebook(docs_json, render_items);\n",
       "\n",
       "  }\n",
       "  if (root.Bokeh !== undefined) {\n",
       "    embed_document(root);\n",
       "  } else {\n",
       "    var attempts = 0;\n",
       "    var timer = setInterval(function(root) {\n",
       "      if (root.Bokeh !== undefined) {\n",
       "        clearInterval(timer);\n",
       "        embed_document(root);\n",
       "      } else {\n",
       "        attempts++;\n",
       "        if (attempts > 100) {\n",
       "          clearInterval(timer);\n",
       "          console.log(\"Bokeh: ERROR: Unable to run BokehJS code because BokehJS library is missing\");\n",
       "        }\n",
       "      }\n",
       "    }, 10, root)\n",
       "  }\n",
       "})(window);"
      ],
      "application/vnd.bokehjs_exec.v0+json": ""
     },
     "metadata": {
      "application/vnd.bokehjs_exec.v0+json": {
       "id": "23894"
      }
     },
     "output_type": "display_data"
    },
    {
     "name": "stderr",
     "output_type": "stream",
     "text": [
      "/opt/conda/lib/python3.9/site-packages/bokeh/io/saving.py:126: UserWarning: save() called but no resources were supplied and output_file(...) was never called, defaulting to resources.CDN\n",
      "  warn(\"save() called but no resources were supplied and output_file(...) was never called, defaulting to resources.CDN\")\n",
      "/opt/conda/lib/python3.9/site-packages/bokeh/io/saving.py:139: UserWarning: save() called but no title was supplied and output_file(...) was never called, using default title 'Bokeh Plot'\n",
      "  warn(\"save() called but no title was supplied and output_file(...) was never called, using default title 'Bokeh Plot'\")\n",
      "NaN values found!\n"
     ]
    },
    {
     "data": {
      "text/html": [
       "\n",
       "\n",
       "\n",
       "\n",
       "\n",
       "\n",
       "  <div class=\"bk-root\" id=\"eba133de-969a-49ff-ba29-5885e396eae1\" data-root-id=\"24716\"></div>\n"
      ]
     },
     "metadata": {},
     "output_type": "display_data"
    },
    {
     "data": {
      "application/javascript": [
       "(function(root) {\n",
       "  function embed_document(root) {\n",
       "    \n",
       "  var docs_json = {\"09ae7f51-9f28-431e-8aa2-40c7512310f4\":{\"defs\":[],\"roots\":{\"references\":[{\"attributes\":{\"children\":[{\"id\":\"24633\"},{\"id\":\"24715\"}]},\"id\":\"24716\",\"type\":\"Row\"},{\"attributes\":{},\"id\":\"24680\",\"type\":\"AllLabels\"},{\"attributes\":{\"fill_alpha\":{\"value\":0.1},\"fill_color\":{\"value\":\"#0072B2\"},\"height\":{\"value\":0.6},\"left\":{\"field\":\"lower_68_ci\"},\"line_alpha\":{\"value\":0.1},\"line_color\":{\"value\":null},\"right\":{\"field\":\"upper_68_ci\"},\"y\":{\"field\":\"factor_label\"}},\"id\":\"24701\",\"type\":\"HBar\"},{\"attributes\":{\"axis\":{\"id\":\"24645\"},\"dimension\":1,\"grid_line_color\":null,\"ticker\":null},\"id\":\"24647\",\"type\":\"Grid\"},{\"attributes\":{\"js_property_callbacks\":{\"change:value\":[{\"id\":\"24710\"}]},\"options\":[\"tx_w_protect_upsell\"],\"value\":[\"tx_w_protect_upsell\"]},\"id\":\"24709\",\"type\":\"MultiChoice\"},{\"attributes\":{},\"id\":\"24679\",\"type\":\"BasicTickFormatter\"},{\"attributes\":{\"line_alpha\":{\"value\":0.1},\"x0\":{\"field\":\"lower_68_ci\"},\"x1\":{\"field\":\"lower_95_ci\"},\"y0\":{\"field\":\"factor_label\"},\"y1\":{\"field\":\"factor_label\"}},\"id\":\"24666\",\"type\":\"Segment\"},{\"attributes\":{},\"id\":\"24677\",\"type\":\"AllLabels\"},{\"attributes\":{\"align\":\"center\",\"text\":\"Guardrail Metrics - Existing\"},\"id\":\"24707\",\"type\":\"Title\"},{\"attributes\":{\"button_type\":\"success\",\"icon\":null,\"js_event_callbacks\":{\"button_click\":[{\"id\":\"24714\"}]},\"label\":\"Reset Metrics/Conditions\"},\"id\":\"24713\",\"type\":\"Button\"},{\"attributes\":{},\"id\":\"24646\",\"type\":\"CategoricalTicker\"},{\"attributes\":{\"args\":{\"other\":{\"id\":\"24668\"}},\"code\":\"other.muted = this.muted\"},\"id\":\"24687\",\"type\":\"CustomJS\"},{\"attributes\":{\"end\":13.782773886657704,\"start\":-51.64220848934879},\"id\":\"24706\",\"type\":\"Range1d\"},{\"attributes\":{},\"id\":\"24602\",\"type\":\"UnionRenderers\"},{\"attributes\":{},\"id\":\"24629\",\"type\":\"WheelZoomTool\"},{\"attributes\":{\"active_multi\":null,\"tools\":[{\"id\":\"24628\"},{\"id\":\"24629\"},{\"id\":\"24630\"},{\"id\":\"24631\"},{\"id\":\"24632\"},{\"id\":\"24649\"}]},\"id\":\"24650\",\"type\":\"Toolbar\"},{\"attributes\":{\"booleans\":[true,true,true,true,true,true]},\"id\":\"24657\",\"type\":\"BooleanFilter\"},{\"attributes\":{\"children\":[{\"id\":\"24708\"},{\"id\":\"24709\"},{\"id\":\"24711\"},{\"id\":\"24713\"}]},\"id\":\"24715\",\"type\":\"Column\"},{\"attributes\":{\"data_source\":{\"id\":\"24545\"},\"glyph\":{\"id\":\"24665\"},\"hover_glyph\":null,\"muted_glyph\":{\"id\":\"24667\"},\"nonselection_glyph\":{\"id\":\"24666\"},\"view\":{\"id\":\"24658\"}},\"id\":\"24668\",\"type\":\"GlyphRenderer\"},{\"attributes\":{\"line_alpha\":{\"value\":0.1},\"x0\":{\"field\":\"lower_68_ci\"},\"x1\":{\"field\":\"lower_95_ci\"},\"y0\":{\"field\":\"factor_label\"},\"y1\":{\"field\":\"factor_label\"}},\"id\":\"24697\",\"type\":\"Segment\"},{\"attributes\":{\"formatter\":{\"id\":\"24676\"},\"group_label_orientation\":\"horizontal\",\"major_label_policy\":{\"id\":\"24677\"},\"major_label_text_alpha\":0.0,\"major_label_text_font_size\":\"1px\",\"major_tick_in\":0,\"major_tick_out\":0,\"minor_tick_line_color\":\"yellow\",\"separator_line_alpha\":0,\"ticker\":{\"id\":\"24646\"}},\"id\":\"24645\",\"type\":\"CategoricalAxis\"},{\"attributes\":{\"dimension\":\"height\",\"line_alpha\":0.8,\"line_color\":\"grey\",\"line_dash\":[6],\"line_width\":1.5,\"location\":0},\"id\":\"24705\",\"type\":\"Span\"},{\"attributes\":{},\"id\":\"24676\",\"type\":\"CategoricalTickFormatter\"},{\"attributes\":{\"button_type\":\"danger\",\"icon\":null,\"js_property_callbacks\":{\"change:active\":[{\"id\":\"24712\"}]},\"label\":\"Toggle Stat Sig\"},\"id\":\"24711\",\"type\":\"Toggle\"},{\"attributes\":{\"booleans\":[false,false,false,false,false,false]},\"id\":\"24689\",\"type\":\"BooleanFilter\"},{\"attributes\":{\"filters\":[{\"id\":\"24689\"}],\"source\":{\"id\":\"24545\"}},\"id\":\"24690\",\"type\":\"CDSView\"},{\"attributes\":{\"bottom_units\":\"screen\",\"fill_alpha\":0.5,\"fill_color\":\"lightgrey\",\"left_units\":\"screen\",\"level\":\"overlay\",\"line_alpha\":1.0,\"line_color\":\"black\",\"line_dash\":[4,4],\"line_width\":2,\"right_units\":\"screen\",\"syncable\":false,\"top_units\":\"screen\"},\"id\":\"24648\",\"type\":\"BoxAnnotation\"},{\"attributes\":{\"js_property_callbacks\":{\"change:value\":[{\"id\":\"24710\"}]},\"options\":[\"N Chats\",\"% Chats\",\"N Friend Invites\",\"% Friend Invites\",\"N Trial Starts\",\"% Trial Starts\"],\"value\":[\"N Chats\",\"% Chats\",\"N Friend Invites\",\"% Friend Invites\",\"N Trial Starts\",\"% Trial Starts\"]},\"id\":\"24708\",\"type\":\"MultiChoice\"},{\"attributes\":{\"data_source\":{\"id\":\"24545\"},\"glyph\":{\"id\":\"24692\"},\"hover_glyph\":null,\"muted_glyph\":null,\"nonselection_glyph\":{\"id\":\"24693\"},\"view\":{\"id\":\"24690\"},\"visible\":false},\"id\":\"24694\",\"type\":\"GlyphRenderer\"},{\"attributes\":{\"fill_alpha\":{\"value\":0.8},\"fill_color\":{\"value\":\"#0072B2\"},\"height\":{\"value\":0.6},\"left\":{\"field\":\"lower_68_ci\"},\"line_color\":{\"value\":null},\"right\":{\"field\":\"upper_68_ci\"},\"y\":{\"field\":\"factor_label\"}},\"id\":\"24670\",\"type\":\"HBar\"},{\"attributes\":{\"label\":{\"value\":\"tx_w_protect_upsell\"},\"renderers\":[{\"id\":\"24673\"}]},\"id\":\"24686\",\"type\":\"LegendItem\"},{\"attributes\":{},\"id\":\"24601\",\"type\":\"Selection\"},{\"attributes\":{\"overlay\":{\"id\":\"24648\"}},\"id\":\"24628\",\"type\":\"BoxZoomTool\"},{\"attributes\":{},\"id\":\"24631\",\"type\":\"ResetTool\"},{\"attributes\":{\"axis_label\":\"Relative Difference of Tx vs Ctrl Population (%)\",\"formatter\":{\"id\":\"24679\"},\"major_label_policy\":{\"id\":\"24680\"},\"ticker\":{\"id\":\"24642\"}},\"id\":\"24641\",\"type\":\"LinearAxis\"},{\"attributes\":{\"args\":{\"condWidget\":{\"id\":\"24709\"},\"metricWidget\":{\"id\":\"24708\"}},\"code\":\"\\n        metricWidget.value = metricWidget.options\\n        condWidget.value = condWidget.options\\n        \"},\"id\":\"24714\",\"type\":\"CustomJS\"},{\"attributes\":{},\"id\":\"24637\",\"type\":\"LinearScale\"},{\"attributes\":{\"above\":[{\"id\":\"24707\"}],\"below\":[{\"id\":\"24641\"}],\"center\":[{\"id\":\"24644\"},{\"id\":\"24647\"},{\"id\":\"24685\"},{\"id\":\"24705\"}],\"height\":450,\"left\":[{\"id\":\"24645\"}],\"renderers\":[{\"id\":\"24663\"},{\"id\":\"24668\"},{\"id\":\"24673\"},{\"id\":\"24694\"},{\"id\":\"24698\"},{\"id\":\"24702\"}],\"title\":{\"id\":\"24674\"},\"toolbar\":{\"id\":\"24650\"},\"width\":650,\"x_range\":{\"id\":\"24706\"},\"x_scale\":{\"id\":\"24637\"},\"y_range\":{\"id\":\"24627\"},\"y_scale\":{\"id\":\"24639\"}},\"id\":\"24633\",\"subtype\":\"Figure\",\"type\":\"Plot\"},{\"attributes\":{\"line_alpha\":{\"value\":0.1},\"x0\":{\"field\":\"upper_95_ci\"},\"x1\":{\"field\":\"upper_68_ci\"},\"y0\":{\"field\":\"factor_label\"},\"y1\":{\"field\":\"factor_label\"}},\"id\":\"24661\",\"type\":\"Segment\"},{\"attributes\":{},\"id\":\"24639\",\"type\":\"CategoricalScale\"},{\"attributes\":{\"factors\":[[\"% Trial Starts\",\"tx_w_protect_upsell\"],[\"N Trial Starts\",\"tx_w_protect_upsell\"],[\"% Friend Invites\",\"tx_w_protect_upsell\"],[\"N Friend Invites\",\"tx_w_protect_upsell\"],[\"% Chats\",\"tx_w_protect_upsell\"],[\"N Chats\",\"tx_w_protect_upsell\"]]},\"id\":\"24627\",\"type\":\"FactorRange\"},{\"attributes\":{\"fill_alpha\":{\"value\":0.8},\"fill_color\":{\"value\":\"#0072B2\"},\"height\":{\"value\":0.6},\"left\":{\"field\":\"lower_68_ci\"},\"line_color\":{\"value\":null},\"right\":{\"field\":\"upper_68_ci\"},\"y\":{\"field\":\"factor_label\"}},\"id\":\"24700\",\"type\":\"HBar\"},{\"attributes\":{\"args\":{\"condWidget\":{\"id\":\"24709\"},\"metricWidget\":{\"id\":\"24708\"},\"source\":{\"id\":\"24545\"},\"yRange\":{\"id\":\"24627\"}},\"code\":\"\\n        // Filter y-axis labels\\n        let tempList = source.data[\\\"factor_label\\\"].filter(function (currentElement) {\\n          return metricWidget.value.includes(currentElement[0]) && condWidget.value.includes(currentElement[1]);\\n        });\\n        yRange.factors = tempList;\\n        \"},\"id\":\"24710\",\"type\":\"CustomJS\"},{\"attributes\":{\"data\":{\"abs_mean\":{\"__ndarray__\":\"wNKE6w8TET9A/dC3R60MP4A1gd0DqBm/iBcBukclZ7+AlfLPY2YtvwA/Qf8qG3O/\",\"dtype\":\"float64\",\"order\":\"little\",\"shape\":[6]},\"abs_std\":{\"__ndarray__\":\"TDVStRMKED+D468GNUkgP1UHrUMoHBE/Uxoy+LzvXD8GJVOMPwQnP2kjOC0ulWM/\",\"dtype\":\"float64\",\"order\":\"little\",\"shape\":[6]},\"cond_order\":[0,0,0,0,0,0],\"ctrl_count\":{\"__ndarray__\":\"AAAAAPwIHUEAAAAA/AgdQQAAAAD8CB1BAAAAAPwIHUEAAAAA/AgdQQAAAAD8CB1B\",\"dtype\":\"float64\",\"order\":\"little\",\"shape\":[6]},\"ctrl_mean\":{\"__ndarray__\":\"ia5mWG/7bD86MJKmmlNtP9/CQx2t2XA/GFHhBjHgiz+9aMZ1pw6fP10anWBMaLQ/\",\"dtype\":\"float64\",\"order\":\"little\",\"shape\":[6]},\"ctrl_std\":{\"__ndarray__\":\"na5G1Ftmrj//Jqe4BvCuP3Ga6FbHYrA/d6oTF6hc8T+SPPrJc/PFP5nis9lre/M/\",\"dtype\":\"float64\",\"order\":\"little\",\"shape\":[6]},\"display_metric\":[\"% Trial Starts\",\"N Trial Starts\",\"% Friend Invites\",\"N Friend Invites\",\"% Chats\",\"N Chats\"],\"exp_cond\":[\"tx_w_protect_upsell\",\"tx_w_protect_upsell\",\"tx_w_protect_upsell\",\"tx_w_protect_upsell\",\"tx_w_protect_upsell\",\"tx_w_protect_upsell\"],\"factor_label\":[[\"% Trial Starts\",\"tx_w_protect_upsell\"],[\"N Trial Starts\",\"tx_w_protect_upsell\"],[\"% Friend Invites\",\"tx_w_protect_upsell\"],[\"N Friend Invites\",\"tx_w_protect_upsell\"],[\"% Chats\",\"tx_w_protect_upsell\"],[\"N Chats\",\"tx_w_protect_upsell\"]],\"index\":[13,12,29,28,27,26],\"lower_68_ci\":{\"__ndarray__\":\"oOy5LW+SvD+psGURRBb/vyqIaWWluQ/AlHLfZePdQMDDJNm4xBj1v2dHIPxKsyHA\",\"dtype\":\"float64\",\"order\":\"little\",\"shape\":[6]},\"lower_95_ci\":{\"__ndarray__\":\"XITaekvH+L/OEUeKhRkVwAYCjNJ+9BXAmo25EVYYR8BrU2ZNb/39v2LqztE4dSfA\",\"dtype\":\"float64\",\"order\":\"little\",\"shape\":[6]},\"mean\":{\"__ndarray__\":\"vFh5evN0/T/X1k3HNnL4PxzHEyNUCAPA2yxjkALCNMCofeFme6rnv0O7FHvmZxfA\",\"dtype\":\"float64\",\"order\":\"little\",\"shape\":[6]},\"metric\":[\"pct_trial_starts\",\"n_trial_starts\",\"pct_friend_invites\",\"n_friend_invites\",\"pct_chats\",\"n_chats\"],\"metric_order\":{\"__ndarray__\":\"AAAAAAAAFEAAAAAAAAAQQAAAAAAAAAhAAAAAAAAAAEAAAAAAAADwPwAAAAAAAAAA\",\"dtype\":\"float64\",\"order\":\"little\",\"shape\":[6]},\"p_value\":{\"__ndarray__\":\"GOh+459fwj8lNq4Y+BzlP+/yjv2UHrE/pDHVoz8SvD/E3WPHMsq5P2kg4cQlH6o/\",\"dtype\":\"float64\",\"order\":\"little\",\"shape\":[6]},\"std\":{\"__ndarray__\":\"8rmdh8yr+z/Aw1lsPcQLQBuCq4SiYvk/m3C3dojzKUDey9AKDofiPxenV/pe/QdA\",\"dtype\":\"float64\",\"order\":\"little\",\"shape\":[6]},\"tx_count\":{\"__ndarray__\":\"AAAAALT3HEEAAAAAtPccQQAAAAC09xxBAAAAALT3HEEAAAAAtPccQQAAAAC09xxB\",\"dtype\":\"float64\",\"order\":\"little\",\"shape\":[6]},\"tx_mean\":{\"__ndarray__\":\"H9XC1weEbT8vdHHFT8ZtPwm+zQ0Nc3A/NgthGN8Whj+Sgyau2tOeP20GqbCZNrM/\",\"dtype\":\"float64\",\"order\":\"little\",\"shape\":[6]},\"tx_std\":{\"__ndarray__\":\"Ykg4+mmtrj+Mrw//MhSvP4vy/57IMLA/LHczDgmi4T9eUSoYSN/FP8EYY/nrwvE/\",\"dtype\":\"float64\",\"order\":\"little\",\"shape\":[6]},\"upper_68_ci\":{\"__ndarray__\":\"V4kLAWCQDECWVwBorP4TQDoY+IILXOm/NtIdVPkgH8Aox0JwtY3Ev2/P0ftt0gbA\",\"dtype\":\"float64\",\"order\":\"little\",\"shape\":[6]},\"upper_95_ci\":{\"__ndarray__\":\"dU3zm0zsFECd/vZ2UKkgQFTXwXtVYec//AWzCpyyEkAMVxOaz0vZPwA/XnStpJo/\",\"dtype\":\"float64\",\"order\":\"little\",\"shape\":[6]}},\"selected\":{\"id\":\"24601\"},\"selection_policy\":{\"id\":\"24602\"}},\"id\":\"24545\",\"type\":\"ColumnDataSource\"},{\"attributes\":{\"line_alpha\":{\"value\":0.1},\"x0\":{\"field\":\"upper_95_ci\"},\"x1\":{\"field\":\"upper_68_ci\"},\"y0\":{\"field\":\"factor_label\"},\"y1\":{\"field\":\"factor_label\"}},\"id\":\"24693\",\"type\":\"Segment\"},{\"attributes\":{\"args\":{\"other\":{\"id\":\"24663\"}},\"code\":\"other.muted = this.muted\"},\"id\":\"24688\",\"type\":\"CustomJS\"},{\"attributes\":{\"click_policy\":\"mute\",\"items\":[{\"id\":\"24686\"}]},\"id\":\"24685\",\"type\":\"Legend\"},{\"attributes\":{\"args\":{\"glyphs\":[{\"id\":\"24663\"},{\"id\":\"24668\"},{\"id\":\"24673\"},{\"id\":\"24694\"},{\"id\":\"24698\"},{\"id\":\"24702\"}]},\"code\":\"\\n        for (const glyph of glyphs){\\n            if (glyph.tags.includes(\\\"stat_sig\\\")) {\\n                var stat_sig_visible = glyph.visible;\\n            }\\n        }\\n\\n        if (stat_sig_visible) {\\n            var muted = false;\\n        } else {\\n            var muted = true;\\n        }\\n\\n        for (const glyph of glyphs){\\n            if (glyph.tags.includes(\\\"stat_sig\\\")) {\\n                glyph.visible = !glyph.visible;\\n            } else {\\n                glyph.muted = muted;\\n            }\\n        }\\n        \"},\"id\":\"24712\",\"type\":\"CustomJS\"},{\"attributes\":{\"data_source\":{\"id\":\"24545\"},\"glyph\":{\"id\":\"24700\"},\"hover_glyph\":null,\"js_property_callbacks\":{\"change:visible\":[{\"id\":\"24703\"},{\"id\":\"24704\"}]},\"muted_glyph\":null,\"nonselection_glyph\":{\"id\":\"24701\"},\"tags\":[\"stat_sig\"],\"view\":{\"id\":\"24690\"},\"visible\":false},\"id\":\"24702\",\"type\":\"GlyphRenderer\"},{\"attributes\":{\"filters\":[{\"id\":\"24657\"}],\"source\":{\"id\":\"24545\"}},\"id\":\"24658\",\"type\":\"CDSView\"},{\"attributes\":{\"fill_alpha\":{\"value\":0.1},\"fill_color\":{\"value\":\"#0072B2\"},\"height\":{\"value\":0.6},\"left\":{\"field\":\"lower_68_ci\"},\"line_alpha\":{\"value\":0.1},\"line_color\":{\"value\":null},\"right\":{\"field\":\"upper_68_ci\"},\"y\":{\"field\":\"factor_label\"}},\"id\":\"24671\",\"type\":\"HBar\"},{\"attributes\":{},\"id\":\"24642\",\"type\":\"BasicTicker\"},{\"attributes\":{\"x0\":{\"field\":\"upper_95_ci\"},\"x1\":{\"field\":\"upper_68_ci\"},\"y0\":{\"field\":\"factor_label\"},\"y1\":{\"field\":\"factor_label\"}},\"id\":\"24692\",\"type\":\"Segment\"},{\"attributes\":{\"args\":{\"other\":{\"id\":\"24694\"}},\"code\":\"other.visible = this.visible\"},\"id\":\"24704\",\"type\":\"CustomJS\"},{\"attributes\":{\"axis\":{\"id\":\"24641\"},\"ticker\":null},\"id\":\"24644\",\"type\":\"Grid\"},{\"attributes\":{},\"id\":\"24632\",\"type\":\"SaveTool\"},{\"attributes\":{},\"id\":\"24630\",\"type\":\"PanTool\"},{\"attributes\":{\"data_source\":{\"id\":\"24545\"},\"glyph\":{\"id\":\"24696\"},\"hover_glyph\":null,\"muted_glyph\":null,\"nonselection_glyph\":{\"id\":\"24697\"},\"view\":{\"id\":\"24690\"},\"visible\":false},\"id\":\"24698\",\"type\":\"GlyphRenderer\"},{\"attributes\":{\"line_alpha\":{\"value\":0.2},\"x0\":{\"field\":\"lower_68_ci\"},\"x1\":{\"field\":\"lower_95_ci\"},\"y0\":{\"field\":\"factor_label\"},\"y1\":{\"field\":\"factor_label\"}},\"id\":\"24667\",\"type\":\"Segment\"},{\"attributes\":{\"args\":{\"other\":{\"id\":\"24698\"}},\"code\":\"other.visible = this.visible\"},\"id\":\"24703\",\"type\":\"CustomJS\"},{\"attributes\":{},\"id\":\"24674\",\"type\":\"Title\"},{\"attributes\":{\"data_source\":{\"id\":\"24545\"},\"glyph\":{\"id\":\"24660\"},\"hover_glyph\":null,\"muted_glyph\":{\"id\":\"24662\"},\"nonselection_glyph\":{\"id\":\"24661\"},\"view\":{\"id\":\"24658\"}},\"id\":\"24663\",\"type\":\"GlyphRenderer\"},{\"attributes\":{\"line_alpha\":{\"value\":0.2},\"x0\":{\"field\":\"upper_95_ci\"},\"x1\":{\"field\":\"upper_68_ci\"},\"y0\":{\"field\":\"factor_label\"},\"y1\":{\"field\":\"factor_label\"}},\"id\":\"24662\",\"type\":\"Segment\"},{\"attributes\":{\"fill_alpha\":{\"value\":0.2},\"fill_color\":{\"value\":\"#0072B2\"},\"height\":{\"value\":0.6},\"left\":{\"field\":\"lower_68_ci\"},\"line_alpha\":{\"value\":0.2},\"line_color\":{\"value\":\"#0072B2\"},\"right\":{\"field\":\"upper_68_ci\"},\"y\":{\"field\":\"factor_label\"}},\"id\":\"24672\",\"type\":\"HBar\"},{\"attributes\":{\"callback\":null,\"tooltips\":[[\"Tx Label\",\"@{exp_cond}\"],[\"Rel Diff Tx vs Ctrl\",\"@{mean}\\u00b1@{std}\"],[\"P-Value\",\"@p_value{1.11111}\"],[\"Abs Diff Tx - Ctrl\",\"@{abs_mean}\\u00b1@{abs_std}\"],[\"Ctrl x\\u0304\",\"@{ctrl_mean}\\u00b1@{ctrl_std}\"],[\"Tx x\\u0304\",\"@{tx_mean}\\u00b1@{tx_std}\"],[\"Ctrl/Tx n\",\"@{ctrl_count}/@{tx_count}\"]]},\"id\":\"24649\",\"type\":\"HoverTool\"},{\"attributes\":{\"x0\":{\"field\":\"lower_68_ci\"},\"x1\":{\"field\":\"lower_95_ci\"},\"y0\":{\"field\":\"factor_label\"},\"y1\":{\"field\":\"factor_label\"}},\"id\":\"24696\",\"type\":\"Segment\"},{\"attributes\":{\"data_source\":{\"id\":\"24545\"},\"glyph\":{\"id\":\"24670\"},\"hover_glyph\":null,\"js_property_callbacks\":{\"change:muted\":[{\"id\":\"24687\"},{\"id\":\"24688\"}]},\"muted_glyph\":{\"id\":\"24672\"},\"nonselection_glyph\":{\"id\":\"24671\"},\"view\":{\"id\":\"24658\"}},\"id\":\"24673\",\"type\":\"GlyphRenderer\"},{\"attributes\":{\"x0\":{\"field\":\"upper_95_ci\"},\"x1\":{\"field\":\"upper_68_ci\"},\"y0\":{\"field\":\"factor_label\"},\"y1\":{\"field\":\"factor_label\"}},\"id\":\"24660\",\"type\":\"Segment\"},{\"attributes\":{\"x0\":{\"field\":\"lower_68_ci\"},\"x1\":{\"field\":\"lower_95_ci\"},\"y0\":{\"field\":\"factor_label\"},\"y1\":{\"field\":\"factor_label\"}},\"id\":\"24665\",\"type\":\"Segment\"}],\"root_ids\":[\"24716\"]},\"title\":\"Bokeh Application\",\"version\":\"2.3.2\"}};\n",
       "  var render_items = [{\"docid\":\"09ae7f51-9f28-431e-8aa2-40c7512310f4\",\"root_ids\":[\"24716\"],\"roots\":{\"24716\":\"eba133de-969a-49ff-ba29-5885e396eae1\"}}];\n",
       "  root.Bokeh.embed.embed_items_notebook(docs_json, render_items);\n",
       "\n",
       "  }\n",
       "  if (root.Bokeh !== undefined) {\n",
       "    embed_document(root);\n",
       "  } else {\n",
       "    var attempts = 0;\n",
       "    var timer = setInterval(function(root) {\n",
       "      if (root.Bokeh !== undefined) {\n",
       "        clearInterval(timer);\n",
       "        embed_document(root);\n",
       "      } else {\n",
       "        attempts++;\n",
       "        if (attempts > 100) {\n",
       "          clearInterval(timer);\n",
       "          console.log(\"Bokeh: ERROR: Unable to run BokehJS code because BokehJS library is missing\");\n",
       "        }\n",
       "      }\n",
       "    }, 10, root)\n",
       "  }\n",
       "})(window);"
      ],
      "application/vnd.bokehjs_exec.v0+json": ""
     },
     "metadata": {
      "application/vnd.bokehjs_exec.v0+json": {
       "id": "24716"
      }
     },
     "output_type": "display_data"
    },
    {
     "name": "stderr",
     "output_type": "stream",
     "text": [
      "/opt/conda/lib/python3.9/site-packages/bokeh/io/saving.py:126: UserWarning: save() called but no resources were supplied and output_file(...) was never called, defaulting to resources.CDN\n",
      "  warn(\"save() called but no resources were supplied and output_file(...) was never called, defaulting to resources.CDN\")\n",
      "/opt/conda/lib/python3.9/site-packages/bokeh/io/saving.py:139: UserWarning: save() called but no title was supplied and output_file(...) was never called, using default title 'Bokeh Plot'\n",
      "  warn(\"save() called but no title was supplied and output_file(...) was never called, using default title 'Bokeh Plot'\")\n"
     ]
    }
   ],
   "source": [
    "process_metric_set(GUARDRAIL_METRIC_LIST, \"guardrail metrics\")"
   ]
  },
  {
   "cell_type": "code",
   "execution_count": null,
   "id": "9b2f0219",
   "metadata": {},
   "outputs": [],
   "source": []
  }
 ],
 "metadata": {
  "kernelspec": {
   "display_name": "Python 3",
   "language": "python",
   "name": "python3"
  },
  "language_info": {
   "codemirror_mode": {
    "name": "ipython",
    "version": 3
   },
   "file_extension": ".py",
   "mimetype": "text/x-python",
   "name": "python",
   "nbconvert_exporter": "python",
   "pygments_lexer": "ipython3",
   "version": "3.9.2"
  }
 },
 "nbformat": 4,
 "nbformat_minor": 5
}
