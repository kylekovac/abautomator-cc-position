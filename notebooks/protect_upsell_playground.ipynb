{
 "cells": [
  {
   "cell_type": "code",
   "execution_count": 1,
   "id": "c8ddc789",
   "metadata": {},
   "outputs": [
    {
     "data": {
      "text/html": [
       "\n",
       "    <div class=\"bk-root\">\n",
       "        <a href=\"https://bokeh.org\" target=\"_blank\" class=\"bk-logo bk-logo-small bk-logo-notebook\"></a>\n",
       "        <span id=\"1002\">Loading BokehJS ...</span>\n",
       "    </div>"
      ]
     },
     "metadata": {},
     "output_type": "display_data"
    },
    {
     "data": {
      "application/javascript": [
       "\n",
       "(function(root) {\n",
       "  function now() {\n",
       "    return new Date();\n",
       "  }\n",
       "\n",
       "  var force = true;\n",
       "\n",
       "  if (typeof root._bokeh_onload_callbacks === \"undefined\" || force === true) {\n",
       "    root._bokeh_onload_callbacks = [];\n",
       "    root._bokeh_is_loading = undefined;\n",
       "  }\n",
       "\n",
       "  var JS_MIME_TYPE = 'application/javascript';\n",
       "  var HTML_MIME_TYPE = 'text/html';\n",
       "  var EXEC_MIME_TYPE = 'application/vnd.bokehjs_exec.v0+json';\n",
       "  var CLASS_NAME = 'output_bokeh rendered_html';\n",
       "\n",
       "  /**\n",
       "   * Render data to the DOM node\n",
       "   */\n",
       "  function render(props, node) {\n",
       "    var script = document.createElement(\"script\");\n",
       "    node.appendChild(script);\n",
       "  }\n",
       "\n",
       "  /**\n",
       "   * Handle when an output is cleared or removed\n",
       "   */\n",
       "  function handleClearOutput(event, handle) {\n",
       "    var cell = handle.cell;\n",
       "\n",
       "    var id = cell.output_area._bokeh_element_id;\n",
       "    var server_id = cell.output_area._bokeh_server_id;\n",
       "    // Clean up Bokeh references\n",
       "    if (id != null && id in Bokeh.index) {\n",
       "      Bokeh.index[id].model.document.clear();\n",
       "      delete Bokeh.index[id];\n",
       "    }\n",
       "\n",
       "    if (server_id !== undefined) {\n",
       "      // Clean up Bokeh references\n",
       "      var cmd = \"from bokeh.io.state import curstate; print(curstate().uuid_to_server['\" + server_id + \"'].get_sessions()[0].document.roots[0]._id)\";\n",
       "      cell.notebook.kernel.execute(cmd, {\n",
       "        iopub: {\n",
       "          output: function(msg) {\n",
       "            var id = msg.content.text.trim();\n",
       "            if (id in Bokeh.index) {\n",
       "              Bokeh.index[id].model.document.clear();\n",
       "              delete Bokeh.index[id];\n",
       "            }\n",
       "          }\n",
       "        }\n",
       "      });\n",
       "      // Destroy server and session\n",
       "      var cmd = \"import bokeh.io.notebook as ion; ion.destroy_server('\" + server_id + \"')\";\n",
       "      cell.notebook.kernel.execute(cmd);\n",
       "    }\n",
       "  }\n",
       "\n",
       "  /**\n",
       "   * Handle when a new output is added\n",
       "   */\n",
       "  function handleAddOutput(event, handle) {\n",
       "    var output_area = handle.output_area;\n",
       "    var output = handle.output;\n",
       "\n",
       "    // limit handleAddOutput to display_data with EXEC_MIME_TYPE content only\n",
       "    if ((output.output_type != \"display_data\") || (!Object.prototype.hasOwnProperty.call(output.data, EXEC_MIME_TYPE))) {\n",
       "      return\n",
       "    }\n",
       "\n",
       "    var toinsert = output_area.element.find(\".\" + CLASS_NAME.split(' ')[0]);\n",
       "\n",
       "    if (output.metadata[EXEC_MIME_TYPE][\"id\"] !== undefined) {\n",
       "      toinsert[toinsert.length - 1].firstChild.textContent = output.data[JS_MIME_TYPE];\n",
       "      // store reference to embed id on output_area\n",
       "      output_area._bokeh_element_id = output.metadata[EXEC_MIME_TYPE][\"id\"];\n",
       "    }\n",
       "    if (output.metadata[EXEC_MIME_TYPE][\"server_id\"] !== undefined) {\n",
       "      var bk_div = document.createElement(\"div\");\n",
       "      bk_div.innerHTML = output.data[HTML_MIME_TYPE];\n",
       "      var script_attrs = bk_div.children[0].attributes;\n",
       "      for (var i = 0; i < script_attrs.length; i++) {\n",
       "        toinsert[toinsert.length - 1].firstChild.setAttribute(script_attrs[i].name, script_attrs[i].value);\n",
       "        toinsert[toinsert.length - 1].firstChild.textContent = bk_div.children[0].textContent\n",
       "      }\n",
       "      // store reference to server id on output_area\n",
       "      output_area._bokeh_server_id = output.metadata[EXEC_MIME_TYPE][\"server_id\"];\n",
       "    }\n",
       "  }\n",
       "\n",
       "  function register_renderer(events, OutputArea) {\n",
       "\n",
       "    function append_mime(data, metadata, element) {\n",
       "      // create a DOM node to render to\n",
       "      var toinsert = this.create_output_subarea(\n",
       "        metadata,\n",
       "        CLASS_NAME,\n",
       "        EXEC_MIME_TYPE\n",
       "      );\n",
       "      this.keyboard_manager.register_events(toinsert);\n",
       "      // Render to node\n",
       "      var props = {data: data, metadata: metadata[EXEC_MIME_TYPE]};\n",
       "      render(props, toinsert[toinsert.length - 1]);\n",
       "      element.append(toinsert);\n",
       "      return toinsert\n",
       "    }\n",
       "\n",
       "    /* Handle when an output is cleared or removed */\n",
       "    events.on('clear_output.CodeCell', handleClearOutput);\n",
       "    events.on('delete.Cell', handleClearOutput);\n",
       "\n",
       "    /* Handle when a new output is added */\n",
       "    events.on('output_added.OutputArea', handleAddOutput);\n",
       "\n",
       "    /**\n",
       "     * Register the mime type and append_mime function with output_area\n",
       "     */\n",
       "    OutputArea.prototype.register_mime_type(EXEC_MIME_TYPE, append_mime, {\n",
       "      /* Is output safe? */\n",
       "      safe: true,\n",
       "      /* Index of renderer in `output_area.display_order` */\n",
       "      index: 0\n",
       "    });\n",
       "  }\n",
       "\n",
       "  // register the mime type if in Jupyter Notebook environment and previously unregistered\n",
       "  if (root.Jupyter !== undefined) {\n",
       "    var events = require('base/js/events');\n",
       "    var OutputArea = require('notebook/js/outputarea').OutputArea;\n",
       "\n",
       "    if (OutputArea.prototype.mime_types().indexOf(EXEC_MIME_TYPE) == -1) {\n",
       "      register_renderer(events, OutputArea);\n",
       "    }\n",
       "  }\n",
       "\n",
       "  \n",
       "  if (typeof (root._bokeh_timeout) === \"undefined\" || force === true) {\n",
       "    root._bokeh_timeout = Date.now() + 5000;\n",
       "    root._bokeh_failed_load = false;\n",
       "  }\n",
       "\n",
       "  var NB_LOAD_WARNING = {'data': {'text/html':\n",
       "     \"<div style='background-color: #fdd'>\\n\"+\n",
       "     \"<p>\\n\"+\n",
       "     \"BokehJS does not appear to have successfully loaded. If loading BokehJS from CDN, this \\n\"+\n",
       "     \"may be due to a slow or bad network connection. Possible fixes:\\n\"+\n",
       "     \"</p>\\n\"+\n",
       "     \"<ul>\\n\"+\n",
       "     \"<li>re-rerun `output_notebook()` to attempt to load from CDN again, or</li>\\n\"+\n",
       "     \"<li>use INLINE resources instead, as so:</li>\\n\"+\n",
       "     \"</ul>\\n\"+\n",
       "     \"<code>\\n\"+\n",
       "     \"from bokeh.resources import INLINE\\n\"+\n",
       "     \"output_notebook(resources=INLINE)\\n\"+\n",
       "     \"</code>\\n\"+\n",
       "     \"</div>\"}};\n",
       "\n",
       "  function display_loaded() {\n",
       "    var el = document.getElementById(\"1002\");\n",
       "    if (el != null) {\n",
       "      el.textContent = \"BokehJS is loading...\";\n",
       "    }\n",
       "    if (root.Bokeh !== undefined) {\n",
       "      if (el != null) {\n",
       "        el.textContent = \"BokehJS \" + root.Bokeh.version + \" successfully loaded.\";\n",
       "      }\n",
       "    } else if (Date.now() < root._bokeh_timeout) {\n",
       "      setTimeout(display_loaded, 100)\n",
       "    }\n",
       "  }\n",
       "\n",
       "\n",
       "  function run_callbacks() {\n",
       "    try {\n",
       "      root._bokeh_onload_callbacks.forEach(function(callback) {\n",
       "        if (callback != null)\n",
       "          callback();\n",
       "      });\n",
       "    } finally {\n",
       "      delete root._bokeh_onload_callbacks\n",
       "    }\n",
       "    console.debug(\"Bokeh: all callbacks have finished\");\n",
       "  }\n",
       "\n",
       "  function load_libs(css_urls, js_urls, callback) {\n",
       "    if (css_urls == null) css_urls = [];\n",
       "    if (js_urls == null) js_urls = [];\n",
       "\n",
       "    root._bokeh_onload_callbacks.push(callback);\n",
       "    if (root._bokeh_is_loading > 0) {\n",
       "      console.debug(\"Bokeh: BokehJS is being loaded, scheduling callback at\", now());\n",
       "      return null;\n",
       "    }\n",
       "    if (js_urls == null || js_urls.length === 0) {\n",
       "      run_callbacks();\n",
       "      return null;\n",
       "    }\n",
       "    console.debug(\"Bokeh: BokehJS not loaded, scheduling load and callback at\", now());\n",
       "    root._bokeh_is_loading = css_urls.length + js_urls.length;\n",
       "\n",
       "    function on_load() {\n",
       "      root._bokeh_is_loading--;\n",
       "      if (root._bokeh_is_loading === 0) {\n",
       "        console.debug(\"Bokeh: all BokehJS libraries/stylesheets loaded\");\n",
       "        run_callbacks()\n",
       "      }\n",
       "    }\n",
       "\n",
       "    function on_error(url) {\n",
       "      console.error(\"failed to load \" + url);\n",
       "    }\n",
       "\n",
       "    for (let i = 0; i < css_urls.length; i++) {\n",
       "      const url = css_urls[i];\n",
       "      const element = document.createElement(\"link\");\n",
       "      element.onload = on_load;\n",
       "      element.onerror = on_error.bind(null, url);\n",
       "      element.rel = \"stylesheet\";\n",
       "      element.type = \"text/css\";\n",
       "      element.href = url;\n",
       "      console.debug(\"Bokeh: injecting link tag for BokehJS stylesheet: \", url);\n",
       "      document.body.appendChild(element);\n",
       "    }\n",
       "\n",
       "    const hashes = {\"https://cdn.bokeh.org/bokeh/release/bokeh-2.3.2.min.js\": \"XypntL49z55iwGVUW4qsEu83zKL3XEcz0MjuGOQ9SlaaQ68X/g+k1FcioZi7oQAc\", \"https://cdn.bokeh.org/bokeh/release/bokeh-tables-2.3.2.min.js\": \"bEsM86IHGDTLCS0Zod8a8WM6Y4+lafAL/eSiyQcuPzinmWNgNO2/olUF0Z2Dkn5i\", \"https://cdn.bokeh.org/bokeh/release/bokeh-widgets-2.3.2.min.js\": \"TX0gSQTdXTTeScqxj6PVQxTiRW8DOoGVwinyi1D3kxv7wuxQ02XkOxv0xwiypcAH\"};\n",
       "\n",
       "    for (let i = 0; i < js_urls.length; i++) {\n",
       "      const url = js_urls[i];\n",
       "      const element = document.createElement('script');\n",
       "      element.onload = on_load;\n",
       "      element.onerror = on_error.bind(null, url);\n",
       "      element.async = false;\n",
       "      element.src = url;\n",
       "      if (url in hashes) {\n",
       "        element.crossOrigin = \"anonymous\";\n",
       "        element.integrity = \"sha384-\" + hashes[url];\n",
       "      }\n",
       "      console.debug(\"Bokeh: injecting script tag for BokehJS library: \", url);\n",
       "      document.head.appendChild(element);\n",
       "    }\n",
       "  };\n",
       "\n",
       "  function inject_raw_css(css) {\n",
       "    const element = document.createElement(\"style\");\n",
       "    element.appendChild(document.createTextNode(css));\n",
       "    document.body.appendChild(element);\n",
       "  }\n",
       "\n",
       "  \n",
       "  var js_urls = [\"https://cdn.bokeh.org/bokeh/release/bokeh-2.3.2.min.js\", \"https://cdn.bokeh.org/bokeh/release/bokeh-widgets-2.3.2.min.js\", \"https://cdn.bokeh.org/bokeh/release/bokeh-tables-2.3.2.min.js\"];\n",
       "  var css_urls = [];\n",
       "  \n",
       "\n",
       "  var inline_js = [\n",
       "    function(Bokeh) {\n",
       "      Bokeh.set_log_level(\"info\");\n",
       "    },\n",
       "    function(Bokeh) {\n",
       "    \n",
       "    \n",
       "    }\n",
       "  ];\n",
       "\n",
       "  function run_inline_js() {\n",
       "    \n",
       "    if (root.Bokeh !== undefined || force === true) {\n",
       "      \n",
       "    for (var i = 0; i < inline_js.length; i++) {\n",
       "      inline_js[i].call(root, root.Bokeh);\n",
       "    }\n",
       "    if (force === true) {\n",
       "        display_loaded();\n",
       "      }} else if (Date.now() < root._bokeh_timeout) {\n",
       "      setTimeout(run_inline_js, 100);\n",
       "    } else if (!root._bokeh_failed_load) {\n",
       "      console.log(\"Bokeh: BokehJS failed to load within specified timeout.\");\n",
       "      root._bokeh_failed_load = true;\n",
       "    } else if (force !== true) {\n",
       "      var cell = $(document.getElementById(\"1002\")).parents('.cell').data().cell;\n",
       "      cell.output_area.append_execute_result(NB_LOAD_WARNING)\n",
       "    }\n",
       "\n",
       "  }\n",
       "\n",
       "  if (root._bokeh_is_loading === 0) {\n",
       "    console.debug(\"Bokeh: BokehJS loaded, going straight to plotting\");\n",
       "    run_inline_js();\n",
       "  } else {\n",
       "    load_libs(css_urls, js_urls, function() {\n",
       "      console.debug(\"Bokeh: BokehJS plotting callback run at\", now());\n",
       "      run_inline_js();\n",
       "    });\n",
       "  }\n",
       "}(window));"
      ],
      "application/vnd.bokehjs_load.v0+json": "\n(function(root) {\n  function now() {\n    return new Date();\n  }\n\n  var force = true;\n\n  if (typeof root._bokeh_onload_callbacks === \"undefined\" || force === true) {\n    root._bokeh_onload_callbacks = [];\n    root._bokeh_is_loading = undefined;\n  }\n\n  \n\n  \n  if (typeof (root._bokeh_timeout) === \"undefined\" || force === true) {\n    root._bokeh_timeout = Date.now() + 5000;\n    root._bokeh_failed_load = false;\n  }\n\n  var NB_LOAD_WARNING = {'data': {'text/html':\n     \"<div style='background-color: #fdd'>\\n\"+\n     \"<p>\\n\"+\n     \"BokehJS does not appear to have successfully loaded. If loading BokehJS from CDN, this \\n\"+\n     \"may be due to a slow or bad network connection. Possible fixes:\\n\"+\n     \"</p>\\n\"+\n     \"<ul>\\n\"+\n     \"<li>re-rerun `output_notebook()` to attempt to load from CDN again, or</li>\\n\"+\n     \"<li>use INLINE resources instead, as so:</li>\\n\"+\n     \"</ul>\\n\"+\n     \"<code>\\n\"+\n     \"from bokeh.resources import INLINE\\n\"+\n     \"output_notebook(resources=INLINE)\\n\"+\n     \"</code>\\n\"+\n     \"</div>\"}};\n\n  function display_loaded() {\n    var el = document.getElementById(\"1002\");\n    if (el != null) {\n      el.textContent = \"BokehJS is loading...\";\n    }\n    if (root.Bokeh !== undefined) {\n      if (el != null) {\n        el.textContent = \"BokehJS \" + root.Bokeh.version + \" successfully loaded.\";\n      }\n    } else if (Date.now() < root._bokeh_timeout) {\n      setTimeout(display_loaded, 100)\n    }\n  }\n\n\n  function run_callbacks() {\n    try {\n      root._bokeh_onload_callbacks.forEach(function(callback) {\n        if (callback != null)\n          callback();\n      });\n    } finally {\n      delete root._bokeh_onload_callbacks\n    }\n    console.debug(\"Bokeh: all callbacks have finished\");\n  }\n\n  function load_libs(css_urls, js_urls, callback) {\n    if (css_urls == null) css_urls = [];\n    if (js_urls == null) js_urls = [];\n\n    root._bokeh_onload_callbacks.push(callback);\n    if (root._bokeh_is_loading > 0) {\n      console.debug(\"Bokeh: BokehJS is being loaded, scheduling callback at\", now());\n      return null;\n    }\n    if (js_urls == null || js_urls.length === 0) {\n      run_callbacks();\n      return null;\n    }\n    console.debug(\"Bokeh: BokehJS not loaded, scheduling load and callback at\", now());\n    root._bokeh_is_loading = css_urls.length + js_urls.length;\n\n    function on_load() {\n      root._bokeh_is_loading--;\n      if (root._bokeh_is_loading === 0) {\n        console.debug(\"Bokeh: all BokehJS libraries/stylesheets loaded\");\n        run_callbacks()\n      }\n    }\n\n    function on_error(url) {\n      console.error(\"failed to load \" + url);\n    }\n\n    for (let i = 0; i < css_urls.length; i++) {\n      const url = css_urls[i];\n      const element = document.createElement(\"link\");\n      element.onload = on_load;\n      element.onerror = on_error.bind(null, url);\n      element.rel = \"stylesheet\";\n      element.type = \"text/css\";\n      element.href = url;\n      console.debug(\"Bokeh: injecting link tag for BokehJS stylesheet: \", url);\n      document.body.appendChild(element);\n    }\n\n    const hashes = {\"https://cdn.bokeh.org/bokeh/release/bokeh-2.3.2.min.js\": \"XypntL49z55iwGVUW4qsEu83zKL3XEcz0MjuGOQ9SlaaQ68X/g+k1FcioZi7oQAc\", \"https://cdn.bokeh.org/bokeh/release/bokeh-tables-2.3.2.min.js\": \"bEsM86IHGDTLCS0Zod8a8WM6Y4+lafAL/eSiyQcuPzinmWNgNO2/olUF0Z2Dkn5i\", \"https://cdn.bokeh.org/bokeh/release/bokeh-widgets-2.3.2.min.js\": \"TX0gSQTdXTTeScqxj6PVQxTiRW8DOoGVwinyi1D3kxv7wuxQ02XkOxv0xwiypcAH\"};\n\n    for (let i = 0; i < js_urls.length; i++) {\n      const url = js_urls[i];\n      const element = document.createElement('script');\n      element.onload = on_load;\n      element.onerror = on_error.bind(null, url);\n      element.async = false;\n      element.src = url;\n      if (url in hashes) {\n        element.crossOrigin = \"anonymous\";\n        element.integrity = \"sha384-\" + hashes[url];\n      }\n      console.debug(\"Bokeh: injecting script tag for BokehJS library: \", url);\n      document.head.appendChild(element);\n    }\n  };\n\n  function inject_raw_css(css) {\n    const element = document.createElement(\"style\");\n    element.appendChild(document.createTextNode(css));\n    document.body.appendChild(element);\n  }\n\n  \n  var js_urls = [\"https://cdn.bokeh.org/bokeh/release/bokeh-2.3.2.min.js\", \"https://cdn.bokeh.org/bokeh/release/bokeh-widgets-2.3.2.min.js\", \"https://cdn.bokeh.org/bokeh/release/bokeh-tables-2.3.2.min.js\"];\n  var css_urls = [];\n  \n\n  var inline_js = [\n    function(Bokeh) {\n      Bokeh.set_log_level(\"info\");\n    },\n    function(Bokeh) {\n    \n    \n    }\n  ];\n\n  function run_inline_js() {\n    \n    if (root.Bokeh !== undefined || force === true) {\n      \n    for (var i = 0; i < inline_js.length; i++) {\n      inline_js[i].call(root, root.Bokeh);\n    }\n    if (force === true) {\n        display_loaded();\n      }} else if (Date.now() < root._bokeh_timeout) {\n      setTimeout(run_inline_js, 100);\n    } else if (!root._bokeh_failed_load) {\n      console.log(\"Bokeh: BokehJS failed to load within specified timeout.\");\n      root._bokeh_failed_load = true;\n    } else if (force !== true) {\n      var cell = $(document.getElementById(\"1002\")).parents('.cell').data().cell;\n      cell.output_area.append_execute_result(NB_LOAD_WARNING)\n    }\n\n  }\n\n  if (root._bokeh_is_loading === 0) {\n    console.debug(\"Bokeh: BokehJS loaded, going straight to plotting\");\n    run_inline_js();\n  } else {\n    load_libs(css_urls, js_urls, function() {\n      console.debug(\"Bokeh: BokehJS plotting callback run at\", now());\n      run_inline_js();\n    });\n  }\n}(window));"
     },
     "metadata": {},
     "output_type": "display_data"
    }
   ],
   "source": [
    "from datetime import date, timedelta\n",
    "import os\n",
    "import dill as pickle\n",
    "import sys\n",
    "import pandas as pd\n",
    "import numpy as np\n",
    "sys.path.append(\"..\")\n",
    "\n",
    "from abautomator.visualizer import BasicVisualizer, AbsDiffVisualizer, RelDiffVisualizer, utils\n",
    "from abautomator import config, describer, analyzer\n",
    "\n",
    "from bokeh.io import output_notebook\n",
    "from bokeh.plotting import show, save\n",
    "# from bokeh.models import MultiChoice, CustomJS, Button\n",
    "from bokeh.layouts import column, row\n",
    "\n",
    "output_notebook()\n",
    "pd.set_option('display.max_colwidth', None)"
   ]
  },
  {
   "cell_type": "code",
   "execution_count": 2,
   "id": "5a32dfe8",
   "metadata": {},
   "outputs": [],
   "source": [
    "EXP_NAME = \"ProtedtUpSellExp20224023_\"\n",
    "CTRL_NAME = 'ctrl'\n",
    "COND_ORDER = [\"tx_w_protect_upsell\"]"
   ]
  },
  {
   "cell_type": "code",
   "execution_count": 3,
   "id": "cad7aa48",
   "metadata": {},
   "outputs": [],
   "source": [
    "def filter_coll_metrics(coll, column, value):\n",
    "    for metric in coll.metrics:\n",
    "        metric.user_metric_df = metric.user_metric_df[metric.user_metric_df[column] == value]\n",
    "    \n",
    "    return coll"
   ]
  },
  {
   "cell_type": "code",
   "execution_count": 4,
   "id": "caa710e0",
   "metadata": {},
   "outputs": [],
   "source": [
    "local_coll = pickle.load(\n",
    "    open(os.path.join(\"..\", \"tests\", \"cache\", f\"{EXP_NAME}_coll.p\"), \"rb\" )\n",
    ")"
   ]
  },
  {
   "cell_type": "code",
   "execution_count": 5,
   "id": "6b9606c5",
   "metadata": {},
   "outputs": [
    {
     "name": "stdout",
     "output_type": "stream",
     "text": [
      "describing data for all\n",
      "analyzing data for all\n",
      "describing data for android\n",
      "analyzing data for android\n",
      "describing data for ios\n",
      "analyzing data for ios\n"
     ]
    }
   ],
   "source": [
    "import copy\n",
    "\n",
    "for value in [\"all\", \"android\", \"ios\"]:\n",
    "    curr_coll = copy.deepcopy(local_coll)\n",
    "    if value != \"all\":\n",
    "        curr_coll = filter_coll_metrics(curr_coll, column=\"device_type\", value=value)\n",
    "\n",
    "    print(f\"describing data for {value}\")\n",
    "    desc = describer.Describer(\n",
    "        metrics=curr_coll.metrics\n",
    "    )\n",
    "    outcomes_dict = desc.describe_data(exp_name=EXP_NAME)\n",
    "    \n",
    "    print(f\"analyzing data for {value}\")\n",
    "    analy =  analyzer.Analyzer(\n",
    "        outcomes=outcomes_dict,\n",
    "        ctrl_name=CTRL_NAME,\n",
    "    )\n",
    "\n",
    "    pickle.dump(\n",
    "        analy, open(f\"{EXP_NAME}_analy_{value}.p\", \"wb\" )\n",
    "    )"
   ]
  },
  {
   "cell_type": "code",
   "execution_count": 7,
   "id": "a5db875d",
   "metadata": {},
   "outputs": [],
   "source": [
    "PRIMARY_METRIC_LIST = ['n_feed_views',\n",
    " 'pct_feed_views',\n",
    " 'n_feed_taps',\n",
    " 'pct_feed_taps',\n",
    " 'n_all_feed_shares',\n",
    " 'pct_all_feed_shares',\n",
    " 'n_direct_feed_shares',\n",
    " 'pct_direct_feed_shares',\n",
    " 'n_indirect_feed_shares',\n",
    " 'pct_indirect_feed_shares',\n",
    " 'n_signup_activation',\n",
    " 'pct_signup_activation',\n",
    "]\n",
    " \n",
    "SECONDARY_METRIC_LIST = [\n",
    " 'n_all_sessions',\n",
    " 'pct_all_sessions',\n",
    " 'n_organic_sessions',\n",
    " 'pct_organic_sessions',\n",
    " 'n_push_driven_sessions',\n",
    " 'pct_push_driven_sessions',\n",
    " 'n_incident_views',\n",
    " 'pct_incident_views',\n",
    " 'n_incident_share_attempts',\n",
    " 'pct_incident_share_attempts',\n",
    "]\n",
    "\n",
    "GUARDRAIL_METRIC_LIST = [\n",
    " 'n_chats',\n",
    " 'pct_chats',\n",
    " 'n_friend_invites',\n",
    " 'pct_friend_invites',\n",
    " 'n_trial_starts',\n",
    " 'pct_trial_starts',\n",
    "]"
   ]
  },
  {
   "cell_type": "code",
   "execution_count": 8,
   "id": "123df550",
   "metadata": {},
   "outputs": [],
   "source": [
    "raw_df = analy.get_rel_diff_confidence_intervals()\n",
    "output_df = raw_df.sort_values(by=['abs_mean'], ascending=False)#[[\"metric\", \"abs_mean\"]]"
   ]
  },
  {
   "cell_type": "code",
   "execution_count": 9,
   "id": "ca9acb33",
   "metadata": {
    "scrolled": false
   },
   "outputs": [
    {
     "name": "stderr",
     "output_type": "stream",
     "text": [
      "NaN values found!\n"
     ]
    },
    {
     "data": {
      "text/html": [
       "\n",
       "\n",
       "\n",
       "\n",
       "\n",
       "\n",
       "  <div class=\"bk-root\" id=\"a4a6d2c6-65b4-488e-bdaa-d83a4bb14fa5\" data-root-id=\"1174\"></div>\n"
      ]
     },
     "metadata": {},
     "output_type": "display_data"
    },
    {
     "data": {
      "application/javascript": [
       "(function(root) {\n",
       "  function embed_document(root) {\n",
       "    \n",
       "  var docs_json = {\"f7a8af2d-078e-4310-bde6-069008503133\":{\"defs\":[],\"roots\":{\"references\":[{\"attributes\":{\"children\":[{\"id\":\"1091\"},{\"id\":\"1173\"}]},\"id\":\"1174\",\"type\":\"Row\"},{\"attributes\":{\"line_alpha\":{\"value\":0.1},\"x0\":{\"field\":\"upper_95_ci\"},\"x1\":{\"field\":\"upper_68_ci\"},\"y0\":{\"field\":\"factor_label\"},\"y1\":{\"field\":\"factor_label\"}},\"id\":\"1151\",\"type\":\"Segment\"},{\"attributes\":{\"data\":{\"abs_mean\":{\"__ndarray__\":\"gGJuNK1lPr+AYm40rWU+vwA9AjYyyDW/+J+QrDMfcr8Ar/1Nmjsgv+CNY3PDl0M/ALk/jCD3OL9gXEh8dlhvv4CtZZXtjm2/QNueOsJSkr8AAHlDhJjiPgANVA/rINC/\",\"dtype\":\"float64\",\"order\":\"little\",\"shape\":[12]},\"abs_std\":{\"__ndarray__\":\"s/xtCjNeIj/FWldcNF4yPx9AfxjaHCc/w5hUbbapWj+7N55v2MkZP5wma1YqMkM/jpCkFrDTKT+Ae+mnjQZeP8lhphlQwEE/y358hfwIhD86eZ/q/GcUP3P+jooiWtg/\",\"dtype\":\"float64\",\"order\":\"little\",\"shape\":[12]},\"cond_order\":[0,0,0,0,0,0,0,0,0,0,0,0],\"ctrl_count\":{\"__ndarray__\":\"AAAAADxOGUEAAAAAPE4ZQQAAAAA8ThlBAAAAADxOGUEAAAAAPE4ZQQAAAAA8ThlBAAAAADxOGUEAAAAAPE4ZQQAAAAA8ThlBAAAAADxOGUEAAAAAPE4ZQQAAAAA8ThlB\",\"dtype\":\"float64\",\"order\":\"little\",\"shape\":[12]},\"ctrl_mean\":{\"__ndarray__\":\"jXjkxqYpkT+NeOTGpimRP0QvsxjzPZs/3kFBWLb2rT8Ed1+jkKqAP3nKPYqyxIM/GT+fRUUeoT8+Wmh98XOxP9prnfnKuto/0QSJNrMm9T+tlNRPqtbvPzIlA0Y9ZEtA\",\"dtype\":\"float64\",\"order\":\"little\",\"shape\":[12]},\"ctrl_std\":{\"__ndarray__\":\"slSqJYVuwD+yVKolhW7APzqpsc8VmcQ/XUorda/V6z8Hn5gc5v+2P5AjM9hK68o/OMU4HJ4Cxz/3Jt5R1+DtPz6lstMjkN8/lsO+MEivEECo0DKAfSOyP/1MA9Gb1mRA\",\"dtype\":\"float64\",\"order\":\"little\",\"shape\":[12]},\"display_metric\":[\"% Signup Activation\",\"N Signup Activation\",\"% Indirect Feed Shares\",\"N Indirect Feed Shares\",\"% Direct Feed Shares\",\"N Direct Feed Shares\",\"% All Feed Shares\",\"N All Feed Shares\",\"% Feed Taps\",\"N Feed Taps\",\"% Feed Views\",\"N Feed Views\"],\"exp_cond\":[\"tx_w_protect_upsell\",\"tx_w_protect_upsell\",\"tx_w_protect_upsell\",\"tx_w_protect_upsell\",\"tx_w_protect_upsell\",\"tx_w_protect_upsell\",\"tx_w_protect_upsell\",\"tx_w_protect_upsell\",\"tx_w_protect_upsell\",\"tx_w_protect_upsell\",\"tx_w_protect_upsell\",\"tx_w_protect_upsell\"],\"factor_label\":[[\"% Signup Activation\",\"tx_w_protect_upsell\"],[\"N Signup Activation\",\"tx_w_protect_upsell\"],[\"% Indirect Feed Shares\",\"tx_w_protect_upsell\"],[\"N Indirect Feed Shares\",\"tx_w_protect_upsell\"],[\"% Direct Feed Shares\",\"tx_w_protect_upsell\"],[\"N Direct Feed Shares\",\"tx_w_protect_upsell\"],[\"% All Feed Shares\",\"tx_w_protect_upsell\"],[\"N All Feed Shares\",\"tx_w_protect_upsell\"],[\"% Feed Taps\",\"tx_w_protect_upsell\"],[\"N Feed Taps\",\"tx_w_protect_upsell\"],[\"% Feed Views\",\"tx_w_protect_upsell\"],[\"N Feed Views\",\"tx_w_protect_upsell\"]],\"index\":[11,10,9,8,7,6,5,4,3,2,1,0],\"lower_68_ci\":{\"__ndarray__\":\"gW0fofDTDMD5s50MJ8IRwCVNBQk7mP6/M11hgW2uJMCawkACh9gFwACMacqLD8A/bmPN1N+o+7/P/EZ26pkgwF8hrhTXy++/6zMWgLy/AMCDMRVFX2V8v9z4Gn8gefK/\",\"dtype\":\"float64\",\"order\":\"little\",\"shape\":[12]},\"lower_95_ci\":{\"__ndarray__\":\"WhJIR+efEcBYSjBwBS4YwHOXs5pKYwTAUCBCIzkFKsC0ArSVPyEPwPRRyH6dzRbAsnfAaSVbAsAw3CygKsMlwF3I0lHz4/G/YtFO869uBsDG9lfli5SNv5aVFQw/JP2/\",\"dtype\":\"float64\",\"order\":\"little\",\"shape\":[12]},\"mean\":{\"__ndarray__\":\"V1kfH5QjBsBXWR8flCMGwKesdMVH/fO/lM6DcV09HsD9FPx7jVn4v6JmpaQsxxhApbEntuU68r+TvZnqOXMWwAu4wd9Gpeu/HHV2JVOo9b/VkgqGBzRNP7qrVwbYcN2/\",\"dtype\":\"float64\",\"order\":\"little\",\"shape\":[12]},\"metric\":[\"pct_signup_activation\",\"n_signup_activation\",\"pct_indirect_feed_shares\",\"n_indirect_feed_shares\",\"pct_direct_feed_shares\",\"n_direct_feed_shares\",\"pct_all_feed_shares\",\"n_all_feed_shares\",\"pct_feed_taps\",\"n_feed_taps\",\"pct_feed_views\",\"n_feed_views\"],\"metric_order\":{\"__ndarray__\":\"AAAAAAAAJkAAAAAAAAAkQAAAAAAAACJAAAAAAAAAIEAAAAAAAAAcQAAAAAAAABhAAAAAAAAAFEAAAAAAAAAQQAAAAAAAAAhAAAAAAAAAAEAAAAAAAADwPwAAAAAAAAAA\",\"dtype\":\"float64\",\"order\":\"little\",\"shape\":[12]},\"p_value\":{\"__ndarray__\":\"yQw29r6XPj98cPVk8BK5P8/4UW4zcJ4/Z6qj8DDZej8A+YmeqqG6P16rkKGWrNM/5Gd0zTo9mz9aN/UOINiiP0bDu0u//a09yVXDNvk/sT+j6BlxDxndP3PpBiuvP+A/\",\"dtype\":\"float64\",\"order\":\"little\",\"shape\":[12]},\"std\":{\"__ndarray__\":\"qVAACHLB6j82HTj0c8H6P/xAIYfmNeU/o9d9Ivs+BkA3cIWIgFfzP0IaUkawRhhAk2NLPfTb4j8WeOgDNoEFQFClsdNAmsA/c+VrtUuu5z/vQesa8AWAP9sbCvvUOeY/\",\"dtype\":\"float64\",\"order\":\"little\",\"shape\":[12]},\"tx_count\":{\"__ndarray__\":\"AAAAAIQ3GUEAAAAAhDcZQQAAAACENxlBAAAAAIQ3GUEAAAAAhDcZQQAAAACENxlBAAAAAIQ3GUEAAAAAhDcZQQAAAACENxlBAAAAAIQ3GUEAAAAAhDcZQQAAAACENxlB\",\"dtype\":\"float64\",\"order\":\"little\",\"shape\":[12]},\"tx_mean\":{\"__ndarray__\":\"A78SEhCwkD8DvxISELCQP1Am20/S5po/3y2v4s+yqz9IgCc6ommAP1cDdMEu/oQ/p7+GBFfsoD9bF4bJLXmwP3+gch6tf9o/ZImeLWjd9D8m2FjovNbvPxh95G/7Q0tA\",\"dtype\":\"float64\",\"order\":\"little\",\"shape\":[12]},\"tx_std\":{\"__ndarray__\":\"Ruu+jOI0wD9G676M4jTAP9K9+dvveMQ/DSaw7u+f4j95tIT8SdO2P/9U/uViBtQ/icrQCB7ixj8BKujvpwXnP7VQbtQLht8/K8EFJdXaEkCI5ovTbR+yP5K1SN60aGZA\",\"dtype\":\"float64\",\"order\":\"little\",\"shape\":[12]},\"upper_68_ci\":{\"__ndarray__\":\"Woo+Om/m/r94lQZKtIXxv1IYyAOpxOK/wuJE4N8dE8AYk9rNMwjUv3LAe3XuhihAt/8DL9eZ4b8QA0vRPWUHwLdO1aq2fue/xQSBlVqi478c60uTMNmBP/gXed+jBc4/\",\"dtype\":\"float64\",\"order\":\"little\",\"shape\":[12]},\"upper_95_ci\":{\"__ndarray__\":\"9BtdX7MO8r8IiIeIilPgPwCzuk+1gKk/ErkGOZHgAMDett9myB7rP87HBLL9FjJAQAZjzNkfkD9QLJxN6QHWv1zf3RunguO/0IgLu5nLuD+QpAxrhp2QP3N/0xGm1+w/\",\"dtype\":\"float64\",\"order\":\"little\",\"shape\":[12]}},\"selected\":{\"id\":\"1061\"},\"selection_policy\":{\"id\":\"1060\"}},\"id\":\"1003\",\"type\":\"ColumnDataSource\"},{\"attributes\":{\"data_source\":{\"id\":\"1003\"},\"glyph\":{\"id\":\"1150\"},\"hover_glyph\":null,\"muted_glyph\":null,\"nonselection_glyph\":{\"id\":\"1151\"},\"view\":{\"id\":\"1148\"},\"visible\":false},\"id\":\"1152\",\"type\":\"GlyphRenderer\"},{\"attributes\":{\"line_alpha\":{\"value\":0.2},\"x0\":{\"field\":\"lower_68_ci\"},\"x1\":{\"field\":\"lower_95_ci\"},\"y0\":{\"field\":\"factor_label\"},\"y1\":{\"field\":\"factor_label\"}},\"id\":\"1125\",\"type\":\"Segment\"},{\"attributes\":{\"x0\":{\"field\":\"upper_95_ci\"},\"x1\":{\"field\":\"upper_68_ci\"},\"y0\":{\"field\":\"factor_label\"},\"y1\":{\"field\":\"factor_label\"}},\"id\":\"1118\",\"type\":\"Segment\"},{\"attributes\":{},\"id\":\"1133\",\"type\":\"Title\"},{\"attributes\":{\"x0\":{\"field\":\"lower_68_ci\"},\"x1\":{\"field\":\"lower_95_ci\"},\"y0\":{\"field\":\"factor_label\"},\"y1\":{\"field\":\"factor_label\"}},\"id\":\"1154\",\"type\":\"Segment\"},{\"attributes\":{\"booleans\":[true,false,true,true,false,false,true,true,true,false,false,false]},\"id\":\"1147\",\"type\":\"BooleanFilter\"},{\"attributes\":{\"data_source\":{\"id\":\"1003\"},\"glyph\":{\"id\":\"1154\"},\"hover_glyph\":null,\"muted_glyph\":null,\"nonselection_glyph\":{\"id\":\"1155\"},\"view\":{\"id\":\"1148\"},\"visible\":false},\"id\":\"1156\",\"type\":\"GlyphRenderer\"},{\"attributes\":{\"callback\":null,\"tooltips\":[[\"Tx Label\",\"@{exp_cond}\"],[\"Rel Diff Tx vs Ctrl\",\"@{mean}\\u00b1@{std}\"],[\"P-Value\",\"@p_value{1.11111}\"],[\"Abs Diff Tx - Ctrl\",\"@{abs_mean}\\u00b1@{abs_std}\"],[\"Ctrl x\\u0304\",\"@{ctrl_mean}\\u00b1@{ctrl_std}\"],[\"Tx x\\u0304\",\"@{tx_mean}\\u00b1@{tx_std}\"],[\"Ctrl/Tx n\",\"@{ctrl_count}/@{tx_count}\"]]},\"id\":\"1107\",\"type\":\"HoverTool\"},{\"attributes\":{\"fill_alpha\":{\"value\":0.1},\"fill_color\":{\"value\":\"#0072B2\"},\"height\":{\"value\":0.6},\"left\":{\"field\":\"lower_68_ci\"},\"line_alpha\":{\"value\":0.1},\"line_color\":{\"value\":null},\"right\":{\"field\":\"upper_68_ci\"},\"y\":{\"field\":\"factor_label\"}},\"id\":\"1159\",\"type\":\"HBar\"},{\"attributes\":{\"filters\":[{\"id\":\"1115\"}],\"source\":{\"id\":\"1003\"}},\"id\":\"1116\",\"type\":\"CDSView\"},{\"attributes\":{\"args\":{\"other\":{\"id\":\"1156\"}},\"code\":\"other.visible = this.visible\"},\"id\":\"1161\",\"type\":\"CustomJS\"},{\"attributes\":{},\"id\":\"1090\",\"type\":\"SaveTool\"},{\"attributes\":{\"fill_alpha\":{\"value\":0.8},\"fill_color\":{\"value\":\"#0072B2\"},\"height\":{\"value\":0.6},\"left\":{\"field\":\"lower_68_ci\"},\"line_color\":{\"value\":null},\"right\":{\"field\":\"upper_68_ci\"},\"y\":{\"field\":\"factor_label\"}},\"id\":\"1158\",\"type\":\"HBar\"},{\"attributes\":{\"data_source\":{\"id\":\"1003\"},\"glyph\":{\"id\":\"1123\"},\"hover_glyph\":null,\"muted_glyph\":{\"id\":\"1125\"},\"nonselection_glyph\":{\"id\":\"1124\"},\"view\":{\"id\":\"1116\"}},\"id\":\"1126\",\"type\":\"GlyphRenderer\"},{\"attributes\":{\"x0\":{\"field\":\"lower_68_ci\"},\"x1\":{\"field\":\"lower_95_ci\"},\"y0\":{\"field\":\"factor_label\"},\"y1\":{\"field\":\"factor_label\"}},\"id\":\"1123\",\"type\":\"Segment\"},{\"attributes\":{\"data_source\":{\"id\":\"1003\"},\"glyph\":{\"id\":\"1158\"},\"hover_glyph\":null,\"js_property_callbacks\":{\"change:visible\":[{\"id\":\"1161\"},{\"id\":\"1162\"}]},\"muted_glyph\":null,\"nonselection_glyph\":{\"id\":\"1159\"},\"tags\":[\"stat_sig\"],\"view\":{\"id\":\"1148\"},\"visible\":false},\"id\":\"1160\",\"type\":\"GlyphRenderer\"},{\"attributes\":{},\"id\":\"1136\",\"type\":\"BasicTickFormatter\"},{\"attributes\":{},\"id\":\"1095\",\"type\":\"LinearScale\"},{\"attributes\":{},\"id\":\"1060\",\"type\":\"UnionRenderers\"},{\"attributes\":{\"label\":{\"value\":\"tx_w_protect_upsell\"},\"renderers\":[{\"id\":\"1131\"}]},\"id\":\"1144\",\"type\":\"LegendItem\"},{\"attributes\":{\"dimension\":\"height\",\"line_alpha\":0.8,\"line_color\":\"grey\",\"line_dash\":[6],\"line_width\":1.5,\"location\":0},\"id\":\"1163\",\"type\":\"Span\"},{\"attributes\":{},\"id\":\"1138\",\"type\":\"AllLabels\"},{\"attributes\":{\"axis\":{\"id\":\"1103\"},\"dimension\":1,\"grid_line_color\":null,\"ticker\":null},\"id\":\"1105\",\"type\":\"Grid\"},{\"attributes\":{\"args\":{\"other\":{\"id\":\"1152\"}},\"code\":\"other.visible = this.visible\"},\"id\":\"1162\",\"type\":\"CustomJS\"},{\"attributes\":{\"above\":[{\"id\":\"1165\"}],\"below\":[{\"id\":\"1099\"}],\"center\":[{\"id\":\"1102\"},{\"id\":\"1105\"},{\"id\":\"1143\"},{\"id\":\"1163\"}],\"height\":450,\"left\":[{\"id\":\"1103\"}],\"renderers\":[{\"id\":\"1121\"},{\"id\":\"1126\"},{\"id\":\"1131\"},{\"id\":\"1152\"},{\"id\":\"1156\"},{\"id\":\"1160\"}],\"title\":{\"id\":\"1133\"},\"toolbar\":{\"id\":\"1108\"},\"width\":650,\"x_range\":{\"id\":\"1164\"},\"x_scale\":{\"id\":\"1095\"},\"y_range\":{\"id\":\"1085\"},\"y_scale\":{\"id\":\"1097\"}},\"id\":\"1091\",\"subtype\":\"Figure\",\"type\":\"Plot\"},{\"attributes\":{\"overlay\":{\"id\":\"1106\"}},\"id\":\"1086\",\"type\":\"BoxZoomTool\"},{\"attributes\":{\"line_alpha\":{\"value\":0.1},\"x0\":{\"field\":\"upper_95_ci\"},\"x1\":{\"field\":\"upper_68_ci\"},\"y0\":{\"field\":\"factor_label\"},\"y1\":{\"field\":\"factor_label\"}},\"id\":\"1119\",\"type\":\"Segment\"},{\"attributes\":{\"active_multi\":null,\"tools\":[{\"id\":\"1086\"},{\"id\":\"1087\"},{\"id\":\"1088\"},{\"id\":\"1089\"},{\"id\":\"1090\"},{\"id\":\"1107\"}]},\"id\":\"1108\",\"type\":\"Toolbar\"},{\"attributes\":{\"align\":\"center\",\"text\":\"Primary Metrics - Android\"},\"id\":\"1165\",\"type\":\"Title\"},{\"attributes\":{\"data_source\":{\"id\":\"1003\"},\"glyph\":{\"id\":\"1118\"},\"hover_glyph\":null,\"muted_glyph\":{\"id\":\"1120\"},\"nonselection_glyph\":{\"id\":\"1119\"},\"view\":{\"id\":\"1116\"}},\"id\":\"1121\",\"type\":\"GlyphRenderer\"},{\"attributes\":{},\"id\":\"1061\",\"type\":\"Selection\"},{\"attributes\":{\"line_alpha\":{\"value\":0.2},\"x0\":{\"field\":\"upper_95_ci\"},\"x1\":{\"field\":\"upper_68_ci\"},\"y0\":{\"field\":\"factor_label\"},\"y1\":{\"field\":\"factor_label\"}},\"id\":\"1120\",\"type\":\"Segment\"},{\"attributes\":{\"axis\":{\"id\":\"1099\"},\"ticker\":null},\"id\":\"1102\",\"type\":\"Grid\"},{\"attributes\":{\"line_alpha\":{\"value\":0.1},\"x0\":{\"field\":\"lower_68_ci\"},\"x1\":{\"field\":\"lower_95_ci\"},\"y0\":{\"field\":\"factor_label\"},\"y1\":{\"field\":\"factor_label\"}},\"id\":\"1124\",\"type\":\"Segment\"},{\"attributes\":{\"js_property_callbacks\":{\"change:value\":[{\"id\":\"1168\"}]},\"options\":[\"N Feed Views\",\"% Feed Views\",\"N Feed Taps\",\"% Feed Taps\",\"N All Feed Shares\",\"% All Feed Shares\",\"N Direct Feed Shares\",\"% Direct Feed Shares\",\"N Indirect Feed Shares\",\"% Indirect Feed Shares\",\"N Signup Activation\",\"% Signup Activation\"],\"value\":[\"N Feed Views\",\"% Feed Views\",\"N Feed Taps\",\"% Feed Taps\",\"N All Feed Shares\",\"% All Feed Shares\",\"N Direct Feed Shares\",\"% Direct Feed Shares\",\"N Indirect Feed Shares\",\"% Indirect Feed Shares\",\"N Signup Activation\",\"% Signup Activation\"]},\"id\":\"1166\",\"type\":\"MultiChoice\"},{\"attributes\":{\"fill_alpha\":{\"value\":0.2},\"fill_color\":{\"value\":\"#0072B2\"},\"height\":{\"value\":0.6},\"left\":{\"field\":\"lower_68_ci\"},\"line_alpha\":{\"value\":0.2},\"line_color\":{\"value\":\"#0072B2\"},\"right\":{\"field\":\"upper_68_ci\"},\"y\":{\"field\":\"factor_label\"}},\"id\":\"1130\",\"type\":\"HBar\"},{\"attributes\":{},\"id\":\"1100\",\"type\":\"BasicTicker\"},{\"attributes\":{},\"id\":\"1087\",\"type\":\"WheelZoomTool\"},{\"attributes\":{\"end\":21.199809597936657,\"start\":-16.1202025648317},\"id\":\"1164\",\"type\":\"Range1d\"},{\"attributes\":{},\"id\":\"1089\",\"type\":\"ResetTool\"},{\"attributes\":{\"js_property_callbacks\":{\"change:value\":[{\"id\":\"1168\"}]},\"options\":[\"tx_w_protect_upsell\"],\"value\":[\"tx_w_protect_upsell\"]},\"id\":\"1167\",\"type\":\"MultiChoice\"},{\"attributes\":{},\"id\":\"1088\",\"type\":\"PanTool\"},{\"attributes\":{\"click_policy\":\"mute\",\"items\":[{\"id\":\"1144\"}]},\"id\":\"1143\",\"type\":\"Legend\"},{\"attributes\":{\"fill_alpha\":{\"value\":0.1},\"fill_color\":{\"value\":\"#0072B2\"},\"height\":{\"value\":0.6},\"left\":{\"field\":\"lower_68_ci\"},\"line_alpha\":{\"value\":0.1},\"line_color\":{\"value\":null},\"right\":{\"field\":\"upper_68_ci\"},\"y\":{\"field\":\"factor_label\"}},\"id\":\"1129\",\"type\":\"HBar\"},{\"attributes\":{\"fill_alpha\":{\"value\":0.8},\"fill_color\":{\"value\":\"#0072B2\"},\"height\":{\"value\":0.6},\"left\":{\"field\":\"lower_68_ci\"},\"line_color\":{\"value\":null},\"right\":{\"field\":\"upper_68_ci\"},\"y\":{\"field\":\"factor_label\"}},\"id\":\"1128\",\"type\":\"HBar\"},{\"attributes\":{\"args\":{\"condWidget\":{\"id\":\"1167\"},\"metricWidget\":{\"id\":\"1166\"},\"source\":{\"id\":\"1003\"},\"yRange\":{\"id\":\"1085\"}},\"code\":\"\\n        // Filter y-axis labels\\n        let tempList = source.data[\\\"factor_label\\\"].filter(function (currentElement) {\\n          return metricWidget.value.includes(currentElement[0]) && condWidget.value.includes(currentElement[1]);\\n        });\\n        yRange.factors = tempList;\\n        \"},\"id\":\"1168\",\"type\":\"CustomJS\"},{\"attributes\":{\"bottom_units\":\"screen\",\"fill_alpha\":0.5,\"fill_color\":\"lightgrey\",\"left_units\":\"screen\",\"level\":\"overlay\",\"line_alpha\":1.0,\"line_color\":\"black\",\"line_dash\":[4,4],\"line_width\":2,\"right_units\":\"screen\",\"syncable\":false,\"top_units\":\"screen\"},\"id\":\"1106\",\"type\":\"BoxAnnotation\"},{\"attributes\":{\"button_type\":\"danger\",\"icon\":null,\"js_property_callbacks\":{\"change:active\":[{\"id\":\"1170\"}]},\"label\":\"Toggle Stat Sig\"},\"id\":\"1169\",\"type\":\"Toggle\"},{\"attributes\":{},\"id\":\"1097\",\"type\":\"CategoricalScale\"},{\"attributes\":{\"args\":{\"glyphs\":[{\"id\":\"1121\"},{\"id\":\"1126\"},{\"id\":\"1131\"},{\"id\":\"1152\"},{\"id\":\"1156\"},{\"id\":\"1160\"}]},\"code\":\"\\n        for (const glyph of glyphs){\\n            if (glyph.tags.includes(\\\"stat_sig\\\")) {\\n                var stat_sig_visible = glyph.visible;\\n            }\\n        }\\n\\n        if (stat_sig_visible) {\\n            var muted = false;\\n        } else {\\n            var muted = true;\\n        }\\n\\n        for (const glyph of glyphs){\\n            if (glyph.tags.includes(\\\"stat_sig\\\")) {\\n                glyph.visible = !glyph.visible;\\n            } else {\\n                glyph.muted = muted;\\n            }\\n        }\\n        \"},\"id\":\"1170\",\"type\":\"CustomJS\"},{\"attributes\":{\"factors\":[[\"% Signup Activation\",\"tx_w_protect_upsell\"],[\"N Signup Activation\",\"tx_w_protect_upsell\"],[\"% Indirect Feed Shares\",\"tx_w_protect_upsell\"],[\"N Indirect Feed Shares\",\"tx_w_protect_upsell\"],[\"% Direct Feed Shares\",\"tx_w_protect_upsell\"],[\"N Direct Feed Shares\",\"tx_w_protect_upsell\"],[\"% All Feed Shares\",\"tx_w_protect_upsell\"],[\"N All Feed Shares\",\"tx_w_protect_upsell\"],[\"% Feed Taps\",\"tx_w_protect_upsell\"],[\"N Feed Taps\",\"tx_w_protect_upsell\"],[\"% Feed Views\",\"tx_w_protect_upsell\"],[\"N Feed Views\",\"tx_w_protect_upsell\"]]},\"id\":\"1085\",\"type\":\"FactorRange\"},{\"attributes\":{},\"id\":\"1135\",\"type\":\"AllLabels\"},{\"attributes\":{\"args\":{\"other\":{\"id\":\"1126\"}},\"code\":\"other.muted = this.muted\"},\"id\":\"1145\",\"type\":\"CustomJS\"},{\"attributes\":{\"args\":{\"condWidget\":{\"id\":\"1167\"},\"metricWidget\":{\"id\":\"1166\"}},\"code\":\"\\n        metricWidget.value = metricWidget.options\\n        condWidget.value = condWidget.options\\n        \"},\"id\":\"1172\",\"type\":\"CustomJS\"},{\"attributes\":{},\"id\":\"1104\",\"type\":\"CategoricalTicker\"},{\"attributes\":{},\"id\":\"1139\",\"type\":\"CategoricalTickFormatter\"},{\"attributes\":{\"axis_label\":\"Relative Difference of Tx vs Ctrl Population (%)\",\"formatter\":{\"id\":\"1136\"},\"major_label_policy\":{\"id\":\"1135\"},\"ticker\":{\"id\":\"1100\"}},\"id\":\"1099\",\"type\":\"LinearAxis\"},{\"attributes\":{\"button_type\":\"success\",\"icon\":null,\"js_event_callbacks\":{\"button_click\":[{\"id\":\"1172\"}]},\"label\":\"Reset Metrics/Conditions\"},\"id\":\"1171\",\"type\":\"Button\"},{\"attributes\":{\"booleans\":[true,true,true,true,true,true,true,true,true,true,true,true]},\"id\":\"1115\",\"type\":\"BooleanFilter\"},{\"attributes\":{\"children\":[{\"id\":\"1166\"},{\"id\":\"1167\"},{\"id\":\"1169\"},{\"id\":\"1171\"}]},\"id\":\"1173\",\"type\":\"Column\"},{\"attributes\":{\"filters\":[{\"id\":\"1147\"}],\"source\":{\"id\":\"1003\"}},\"id\":\"1148\",\"type\":\"CDSView\"},{\"attributes\":{\"args\":{\"other\":{\"id\":\"1121\"}},\"code\":\"other.muted = this.muted\"},\"id\":\"1146\",\"type\":\"CustomJS\"},{\"attributes\":{\"formatter\":{\"id\":\"1139\"},\"group_label_orientation\":\"horizontal\",\"major_label_policy\":{\"id\":\"1138\"},\"major_label_text_alpha\":0.0,\"major_label_text_font_size\":\"1px\",\"major_tick_in\":0,\"major_tick_out\":0,\"minor_tick_line_color\":\"yellow\",\"separator_line_alpha\":0,\"ticker\":{\"id\":\"1104\"}},\"id\":\"1103\",\"type\":\"CategoricalAxis\"},{\"attributes\":{\"x0\":{\"field\":\"upper_95_ci\"},\"x1\":{\"field\":\"upper_68_ci\"},\"y0\":{\"field\":\"factor_label\"},\"y1\":{\"field\":\"factor_label\"}},\"id\":\"1150\",\"type\":\"Segment\"},{\"attributes\":{\"data_source\":{\"id\":\"1003\"},\"glyph\":{\"id\":\"1128\"},\"hover_glyph\":null,\"js_property_callbacks\":{\"change:muted\":[{\"id\":\"1145\"},{\"id\":\"1146\"}]},\"muted_glyph\":{\"id\":\"1130\"},\"nonselection_glyph\":{\"id\":\"1129\"},\"view\":{\"id\":\"1116\"}},\"id\":\"1131\",\"type\":\"GlyphRenderer\"},{\"attributes\":{\"line_alpha\":{\"value\":0.1},\"x0\":{\"field\":\"lower_68_ci\"},\"x1\":{\"field\":\"lower_95_ci\"},\"y0\":{\"field\":\"factor_label\"},\"y1\":{\"field\":\"factor_label\"}},\"id\":\"1155\",\"type\":\"Segment\"}],\"root_ids\":[\"1174\"]},\"title\":\"Bokeh Application\",\"version\":\"2.3.2\"}};\n",
       "  var render_items = [{\"docid\":\"f7a8af2d-078e-4310-bde6-069008503133\",\"root_ids\":[\"1174\"],\"roots\":{\"1174\":\"a4a6d2c6-65b4-488e-bdaa-d83a4bb14fa5\"}}];\n",
       "  root.Bokeh.embed.embed_items_notebook(docs_json, render_items);\n",
       "\n",
       "  }\n",
       "  if (root.Bokeh !== undefined) {\n",
       "    embed_document(root);\n",
       "  } else {\n",
       "    var attempts = 0;\n",
       "    var timer = setInterval(function(root) {\n",
       "      if (root.Bokeh !== undefined) {\n",
       "        clearInterval(timer);\n",
       "        embed_document(root);\n",
       "      } else {\n",
       "        attempts++;\n",
       "        if (attempts > 100) {\n",
       "          clearInterval(timer);\n",
       "          console.log(\"Bokeh: ERROR: Unable to run BokehJS code because BokehJS library is missing\");\n",
       "        }\n",
       "      }\n",
       "    }, 10, root)\n",
       "  }\n",
       "})(window);"
      ],
      "application/vnd.bokehjs_exec.v0+json": ""
     },
     "metadata": {
      "application/vnd.bokehjs_exec.v0+json": {
       "id": "1174"
      }
     },
     "output_type": "display_data"
    }
   ],
   "source": [
    "df = utils.order_categories(output_df, primary_metric_list, COND_ORDER)\n",
    "df = utils.remove_categories_w_no_order(df)\n",
    "source = utils.convert_df_to_source(df)\n",
    "\n",
    "vis = RelDiffVisualizer(source, title=\"Primary Metrics - Android\")\n",
    "fig = vis.get_figure()\n",
    "to_show = vis.get_layout()\n",
    "show(to_show)"
   ]
  },
  {
   "cell_type": "code",
   "execution_count": 34,
   "id": "593681c2",
   "metadata": {},
   "outputs": [
    {
     "name": "stderr",
     "output_type": "stream",
     "text": [
      "/opt/conda/lib/python3.9/site-packages/bokeh/io/saving.py:126: UserWarning: save() called but no resources were supplied and output_file(...) was never called, defaulting to resources.CDN\n",
      "  warn(\"save() called but no resources were supplied and output_file(...) was never called, defaulting to resources.CDN\")\n",
      "/opt/conda/lib/python3.9/site-packages/bokeh/io/saving.py:139: UserWarning: save() called but no title was supplied and output_file(...) was never called, using default title 'Bokeh Plot'\n",
      "  warn(\"save() called but no title was supplied and output_file(...) was never called, using default title 'Bokeh Plot'\")\n"
     ]
    },
    {
     "data": {
      "text/plain": [
       "'/home/jovyan/work/notebooks/android-primary-metrics.html'"
      ]
     },
     "execution_count": 34,
     "metadata": {},
     "output_type": "execute_result"
    }
   ],
   "source": [
    "save(to_show, \"/home/jovyan/work/notebooks/android-primary-metrics.html\")"
   ]
  },
  {
   "cell_type": "code",
   "execution_count": 35,
   "id": "2b310af5",
   "metadata": {},
   "outputs": [
    {
     "data": {
      "text/html": [
       "\n",
       "\n",
       "\n",
       "\n",
       "\n",
       "\n",
       "  <div class=\"bk-root\" id=\"21ee0c24-33e3-415e-bf93-2ff304f8f4a1\" data-root-id=\"3170\"></div>\n"
      ]
     },
     "metadata": {},
     "output_type": "display_data"
    },
    {
     "data": {
      "application/javascript": [
       "(function(root) {\n",
       "  function embed_document(root) {\n",
       "    \n",
       "  var docs_json = {\"af56aed7-886f-4d88-8541-8d8a1888e104\":{\"defs\":[],\"roots\":{\"references\":[{\"attributes\":{\"children\":[{\"id\":\"3088\"},{\"id\":\"3169\"}]},\"id\":\"3170\",\"type\":\"Row\"},{\"attributes\":{\"click_policy\":\"mute\",\"items\":[{\"id\":\"3141\"}]},\"id\":\"3140\",\"type\":\"Legend\"},{\"attributes\":{\"overlay\":{\"id\":\"3103\"}},\"id\":\"3083\",\"type\":\"BoxZoomTool\"},{\"attributes\":{\"data_source\":{\"id\":\"3081\"},\"glyph\":{\"id\":\"3125\"},\"hover_glyph\":null,\"js_property_callbacks\":{\"change:muted\":[{\"id\":\"3142\"},{\"id\":\"3143\"}]},\"muted_glyph\":{\"id\":\"3127\"},\"nonselection_glyph\":{\"id\":\"3126\"},\"view\":{\"id\":\"3113\"}},\"id\":\"3128\",\"type\":\"GlyphRenderer\"},{\"attributes\":{\"booleans\":[true,true,true,true,true,true,true,true,true,true]},\"id\":\"3112\",\"type\":\"BooleanFilter\"},{\"attributes\":{\"end\":10.0740083928675,\"start\":-5.0455453947650035},\"id\":\"3161\",\"type\":\"Range1d\"},{\"attributes\":{},\"id\":\"3085\",\"type\":\"PanTool\"},{\"attributes\":{\"fill_alpha\":{\"value\":0.1},\"fill_color\":{\"value\":\"#0072B2\"},\"height\":{\"value\":0.6},\"left\":{\"field\":\"lower_68_ci\"},\"line_alpha\":{\"value\":0.1},\"line_color\":{\"value\":null},\"right\":{\"field\":\"upper_68_ci\"},\"y\":{\"field\":\"factor_label\"}},\"id\":\"3126\",\"type\":\"HBar\"},{\"attributes\":{\"label\":{\"value\":\"proximity_weighted_algo\"},\"renderers\":[{\"id\":\"3128\"}]},\"id\":\"3141\",\"type\":\"LegendItem\"},{\"attributes\":{\"args\":{\"condWidget\":{\"id\":\"3163\"},\"metricWidget\":{\"id\":\"3162\"},\"source\":{\"id\":\"3081\"},\"yRange\":{\"id\":\"3082\"}},\"code\":\"\\n        // Filter y-axis labels\\n        let tempList = source.data[\\\"factor_label\\\"].filter(function (currentElement) {\\n          return metricWidget.value.includes(currentElement[0]) && condWidget.value.includes(currentElement[1]);\\n        });\\n        yRange.factors = tempList;\\n        \"},\"id\":\"3164\",\"type\":\"CustomJS\"},{\"attributes\":{\"button_type\":\"danger\",\"icon\":null,\"js_property_callbacks\":{\"change:active\":[{\"id\":\"3166\"}]},\"label\":\"Toggle Stat Sig\"},\"id\":\"3165\",\"type\":\"Toggle\"},{\"attributes\":{\"data\":{\"abs_mean\":{\"__ndarray__\":\"AKgU74anKr+AXcGuvyprPwC7vYJI42Q/gJoM821AoT8AjA6w3B1JvwAOKwcON4S/ACHxjc1ybD8AKzFGuMCFvwDgYfCjmhg/AB2uJuP7lL8=\",\"dtype\":\"float64\",\"order\":\"little\",\"shape\":[10]},\"abs_std\":{\"__ndarray__\":\"VnoL9kUKSD/GIUrAeF1xP45CWVlsM00/j7FkNU2ntD/7XchtUJZTP+hql51Co5w/iuNCqJ+LUj/HULZxFJmbP/3yDB1djSc/Gof+1rKipj8=\",\"dtype\":\"float64\",\"order\":\"little\",\"shape\":[10]},\"cond_order\":[0,0,0,0,0,0,0,0,0,0],\"ctrl_count\":{\"__ndarray__\":\"AAAAAOA270AAAAAA4DbvQAAAAADgNu9AAAAAAOA270AAAAAA4DbvQAAAAADgNu9AAAAAAOA270AAAAAA4DbvQAAAAADgNu9AAAAAAOA270A=\",\"dtype\":\"float64\",\"order\":\"little\",\"shape\":[10]},\"ctrl_mean\":{\"__ndarray__\":\"HB5n5scOsz99eEgpHeLAP3n+am4NSuw/1ZdDd6ZZG0ACWBGTzU/oP52p2x0gtAxAq20qS8JW6T8+r2lfgswFQMTM1SWo3e8/bqyiPlFAGUA=\",\"dtype\":\"float64\",\"order\":\"little\",\"shape\":[10]},\"ctrl_std\":{\"__ndarray__\":\"4RMrJLbM0D9ch5CIRPLnPxhG/O7TfdQ/rhpXIbcML0Am10fm9VfbPzAFplm2FRRAysqPotD72T8tFLhDc5UTQG/YLnJxirA/yzpc+B8VIEA=\",\"dtype\":\"float64\",\"order\":\"little\",\"shape\":[10]},\"display_metric\":[\"% Incident Share Attempts\",\"N Incident Share Attempts\",\"% Incident Views\",\"N Incident Views\",\"% Push Driven Sessions\",\"N Push Driven Sessions\",\"% Organic Sessions\",\"N Organic Sessions\",\"% All Sessions\",\"N All Sessions\"],\"exp_cond\":[\"proximity_weighted_algo\",\"proximity_weighted_algo\",\"proximity_weighted_algo\",\"proximity_weighted_algo\",\"proximity_weighted_algo\",\"proximity_weighted_algo\",\"proximity_weighted_algo\",\"proximity_weighted_algo\",\"proximity_weighted_algo\",\"proximity_weighted_algo\"],\"factor_label\":[[\"% Incident Share Attempts\",\"proximity_weighted_algo\"],[\"N Incident Share Attempts\",\"proximity_weighted_algo\"],[\"% Incident Views\",\"proximity_weighted_algo\"],[\"N Incident Views\",\"proximity_weighted_algo\"],[\"% Push Driven Sessions\",\"proximity_weighted_algo\"],[\"N Push Driven Sessions\",\"proximity_weighted_algo\"],[\"% Organic Sessions\",\"proximity_weighted_algo\"],[\"N Organic Sessions\",\"proximity_weighted_algo\"],[\"% All Sessions\",\"proximity_weighted_algo\"],[\"N All Sessions\",\"proximity_weighted_algo\"]],\"index\":[21,20,19,18,17,16,15,14,13,12],\"lower_68_ci\":{\"__ndarray__\":\"XIip7Xwj9L+8b3EqEWbmv/WkTIz2A8g/n5Cd0QD95b+CW8S5G4fQv80s60B83/C/1vmZnlXr0j9D63ql6A/2vzmhilMDp4G/96uWsiFm8L8=\",\"dtype\":\"float64\",\"order\":\"little\",\"shape\":[10]},\"lower_95_ci\":{\"__ndarray__\":\"ymPzj0+jAcBsVO2E30gOwOS7oIDwQbc/Qih93yUe/b9WVX44HjLav3klCEFv2Py/JkAfnuhFxD/907O1kqACwHL23xKRkJq/EHenn+kn+78=\",\"dtype\":\"float64\",\"order\":\"little\",\"shape\":[10]},\"mean\":{\"__ndarray__\":\"/plR5Y970b8+/HdnJR0EQMwMD2OKddI/5sPwddqJ3z9mMrWB5NO5v7xRidhRm9G/VhfKpmUR3D9oRZGyevLYv5mNF3KHTYM/9raUbnDG1L8=\",\"dtype\":\"float64\",\"order\":\"little\",\"shape\":[10]},\"metric\":[\"pct_incident_share_attempts\",\"n_incident_share_attempts\",\"pct_incident_views\",\"n_incident_views\",\"pct_push_driven_sessions\",\"n_push_driven_sessions\",\"pct_organic_sessions\",\"n_organic_sessions\",\"pct_all_sessions\",\"n_all_sessions\"],\"metric_order\":{\"__ndarray__\":\"AAAAAAAAIkAAAAAAAAAgQAAAAAAAABxAAAAAAAAAGEAAAAAAAAAUQAAAAAAAABBAAAAAAAAACEAAAAAAAAAAQAAAAAAAAPA/AAAAAAAAAAA=\",\"dtype\":\"float64\",\"order\":\"little\",\"shape\":[10]},\"p_value\":{\"__ndarray__\":\"A7ILUisD2T/Wvnb0/sfbP3fYa9ySSGE/TlOcx32j5T8IWUQEg6/QP7LWhB8ULOc/2FSsD5+nUT/RzAXMNDHmP5wGuK//PtM/Ooj82GiT5D8=\",\"dtype\":\"float64\",\"order\":\"little\",\"shape\":[10]},\"std\":{\"__ndarray__\":\"uEOq6DGJ7z8tWBSyqbYJQEbponM8zrk/SflKBvfg8j/RHa4yRSTEP7ywkZVP8eg/ATtgECBMwj/SM63xk6bvP2kX0WJFepI/c/ziLQtp5j8=\",\"dtype\":\"float64\",\"order\":\"little\",\"shape\":[10]},\"tx_count\":{\"__ndarray__\":\"AAAAAOA270AAAAAA4DbvQAAAAADgNu9AAAAAAOA270AAAAAA4DbvQAAAAADgNu9AAAAAAOA270AAAAAA4DbvQAAAAADgNu9AAAAAAOA270A=\",\"dtype\":\"float64\",\"order\":\"little\",\"shape\":[10]},\"tx_mean\":{\"__ndarray__\":\"yJPvInQBsz/zfQMoyE7BPzS87bbwXuw/CrEpUyd8G0BfVOUbhknoP49+1A/pnwxAzF64GDVz6T8TfiOnwbYFQNNP9fps3u8/Uf57W1UrGUA=\",\"dtype\":\"float64\",\"order\":\"little\",\"shape\":[10]},\"tx_std\":{\"__ndarray__\":\"kyUhIk7H0D9z8PjRH4/oP3WILElPS9Q/1D3zSpF2KkCjgCJ+lF/bP6hpWPUY6hNABCkCOIvS2T+A3H8lXvUSQBjmUL74WrA/vdJyqbMOH0A=\",\"dtype\":\"float64\",\"order\":\"little\",\"shape\":[10]},\"upper_68_ci\":{\"__ndarray__\":\"uXYB9mnL5j82KsaM5+kWQB7H938Z6dg/QirHo23D+j94Ek7HS+msP94HTammI+A/axp917qb4j8ekWSYVi3jPzbe3BsJIZw/8EEx7aUL2D8=\",\"dtype\":\"float64\",\"order\":\"little\",\"shape\":[10]},\"upper_95_ci\":{\"__ndarray__\":\"lvo9LdeI+j86U/eUyqAhQJ/q9aWYGt8/G8U6jYlxBkBHeEfvV5DKP5t8w1TGCvQ/TEdCf+v/5j9GBR8S6Mf4PwXCe0IM76Y/lBtdaLHE8D8=\",\"dtype\":\"float64\",\"order\":\"little\",\"shape\":[10]}},\"selected\":{\"id\":\"3138\"},\"selection_policy\":{\"id\":\"3139\"}},\"id\":\"3081\",\"type\":\"ColumnDataSource\"},{\"attributes\":{\"fill_alpha\":{\"value\":0.8},\"fill_color\":{\"value\":\"#0072B2\"},\"height\":{\"value\":0.6},\"left\":{\"field\":\"lower_68_ci\"},\"line_color\":{\"value\":null},\"right\":{\"field\":\"upper_68_ci\"},\"y\":{\"field\":\"factor_label\"}},\"id\":\"3125\",\"type\":\"HBar\"},{\"attributes\":{},\"id\":\"3129\",\"type\":\"Title\"},{\"attributes\":{\"js_property_callbacks\":{\"change:value\":[{\"id\":\"3164\"}]},\"options\":[\"N All Sessions\",\"% All Sessions\",\"N Organic Sessions\",\"% Organic Sessions\",\"N Push Driven Sessions\",\"% Push Driven Sessions\",\"N Incident Views\",\"% Incident Views\",\"N Incident Share Attempts\",\"% Incident Share Attempts\"],\"value\":[\"N All Sessions\",\"% All Sessions\",\"N Organic Sessions\",\"% Organic Sessions\",\"N Push Driven Sessions\",\"% Push Driven Sessions\",\"N Incident Views\",\"% Incident Views\",\"N Incident Share Attempts\",\"% Incident Share Attempts\"]},\"id\":\"3162\",\"type\":\"MultiChoice\"},{\"attributes\":{},\"id\":\"3132\",\"type\":\"CategoricalTickFormatter\"},{\"attributes\":{\"line_alpha\":{\"value\":0.2},\"x0\":{\"field\":\"upper_95_ci\"},\"x1\":{\"field\":\"upper_68_ci\"},\"y0\":{\"field\":\"factor_label\"},\"y1\":{\"field\":\"factor_label\"}},\"id\":\"3117\",\"type\":\"Segment\"},{\"attributes\":{\"args\":{\"glyphs\":[{\"id\":\"3118\"},{\"id\":\"3123\"},{\"id\":\"3128\"},{\"id\":\"3149\"},{\"id\":\"3153\"},{\"id\":\"3157\"}]},\"code\":\"\\n        for (const glyph of glyphs){\\n            if (glyph.tags.includes(\\\"stat_sig\\\")) {\\n                var stat_sig_visible = glyph.visible;\\n            }\\n        }\\n\\n        if (stat_sig_visible) {\\n            var muted = false;\\n        } else {\\n            var muted = true;\\n        }\\n\\n        for (const glyph of glyphs){\\n            if (glyph.tags.includes(\\\"stat_sig\\\")) {\\n                glyph.visible = !glyph.visible;\\n            } else {\\n                glyph.muted = muted;\\n            }\\n        }\\n        \"},\"id\":\"3166\",\"type\":\"CustomJS\"},{\"attributes\":{},\"id\":\"3139\",\"type\":\"UnionRenderers\"},{\"attributes\":{\"active_multi\":null,\"tools\":[{\"id\":\"3083\"},{\"id\":\"3084\"},{\"id\":\"3085\"},{\"id\":\"3086\"},{\"id\":\"3087\"},{\"id\":\"3104\"}]},\"id\":\"3105\",\"type\":\"Toolbar\"},{\"attributes\":{\"args\":{\"condWidget\":{\"id\":\"3163\"},\"metricWidget\":{\"id\":\"3162\"}},\"code\":\"\\n        metricWidget.value = metricWidget.options\\n        condWidget.value = condWidget.options\\n        \"},\"id\":\"3168\",\"type\":\"CustomJS\"},{\"attributes\":{\"args\":{\"other\":{\"id\":\"3123\"}},\"code\":\"other.muted = this.muted\"},\"id\":\"3142\",\"type\":\"CustomJS\"},{\"attributes\":{\"filters\":[{\"id\":\"3112\"}],\"source\":{\"id\":\"3081\"}},\"id\":\"3113\",\"type\":\"CDSView\"},{\"attributes\":{},\"id\":\"3138\",\"type\":\"Selection\"},{\"attributes\":{\"fill_alpha\":{\"value\":0.2},\"fill_color\":{\"value\":\"#0072B2\"},\"height\":{\"value\":0.6},\"left\":{\"field\":\"lower_68_ci\"},\"line_alpha\":{\"value\":0.2},\"line_color\":{\"value\":\"#0072B2\"},\"right\":{\"field\":\"upper_68_ci\"},\"y\":{\"field\":\"factor_label\"}},\"id\":\"3127\",\"type\":\"HBar\"},{\"attributes\":{\"x0\":{\"field\":\"lower_68_ci\"},\"x1\":{\"field\":\"lower_95_ci\"},\"y0\":{\"field\":\"factor_label\"},\"y1\":{\"field\":\"factor_label\"}},\"id\":\"3120\",\"type\":\"Segment\"},{\"attributes\":{\"bottom_units\":\"screen\",\"fill_alpha\":0.5,\"fill_color\":\"lightgrey\",\"left_units\":\"screen\",\"level\":\"overlay\",\"line_alpha\":1.0,\"line_color\":\"black\",\"line_dash\":[4,4],\"line_width\":2,\"right_units\":\"screen\",\"syncable\":false,\"top_units\":\"screen\"},\"id\":\"3103\",\"type\":\"BoxAnnotation\"},{\"attributes\":{\"button_type\":\"success\",\"icon\":null,\"js_event_callbacks\":{\"button_click\":[{\"id\":\"3168\"}]},\"label\":\"Reset Metrics/Conditions\"},\"id\":\"3167\",\"type\":\"Button\"},{\"attributes\":{\"line_alpha\":{\"value\":0.2},\"x0\":{\"field\":\"lower_68_ci\"},\"x1\":{\"field\":\"lower_95_ci\"},\"y0\":{\"field\":\"factor_label\"},\"y1\":{\"field\":\"factor_label\"}},\"id\":\"3122\",\"type\":\"Segment\"},{\"attributes\":{\"data_source\":{\"id\":\"3081\"},\"glyph\":{\"id\":\"3120\"},\"hover_glyph\":null,\"muted_glyph\":{\"id\":\"3122\"},\"nonselection_glyph\":{\"id\":\"3121\"},\"view\":{\"id\":\"3113\"}},\"id\":\"3123\",\"type\":\"GlyphRenderer\"},{\"attributes\":{\"filters\":[{\"id\":\"3144\"}],\"source\":{\"id\":\"3081\"}},\"id\":\"3145\",\"type\":\"CDSView\"},{\"attributes\":{\"line_alpha\":{\"value\":0.1},\"x0\":{\"field\":\"upper_95_ci\"},\"x1\":{\"field\":\"upper_68_ci\"},\"y0\":{\"field\":\"factor_label\"},\"y1\":{\"field\":\"factor_label\"}},\"id\":\"3116\",\"type\":\"Segment\"},{\"attributes\":{\"line_alpha\":{\"value\":0.1},\"x0\":{\"field\":\"lower_68_ci\"},\"x1\":{\"field\":\"lower_95_ci\"},\"y0\":{\"field\":\"factor_label\"},\"y1\":{\"field\":\"factor_label\"}},\"id\":\"3121\",\"type\":\"Segment\"},{\"attributes\":{},\"id\":\"3086\",\"type\":\"ResetTool\"},{\"attributes\":{\"args\":{\"other\":{\"id\":\"3118\"}},\"code\":\"other.muted = this.muted\"},\"id\":\"3143\",\"type\":\"CustomJS\"},{\"attributes\":{\"x0\":{\"field\":\"upper_95_ci\"},\"x1\":{\"field\":\"upper_68_ci\"},\"y0\":{\"field\":\"factor_label\"},\"y1\":{\"field\":\"factor_label\"}},\"id\":\"3147\",\"type\":\"Segment\"},{\"attributes\":{\"line_alpha\":{\"value\":0.1},\"x0\":{\"field\":\"lower_68_ci\"},\"x1\":{\"field\":\"lower_95_ci\"},\"y0\":{\"field\":\"factor_label\"},\"y1\":{\"field\":\"factor_label\"}},\"id\":\"3152\",\"type\":\"Segment\"},{\"attributes\":{\"children\":[{\"id\":\"3162\"},{\"id\":\"3163\"},{\"id\":\"3165\"},{\"id\":\"3167\"}]},\"id\":\"3169\",\"type\":\"Column\"},{\"attributes\":{\"below\":[{\"id\":\"3096\"}],\"center\":[{\"id\":\"3099\"},{\"id\":\"3102\"},{\"id\":\"3140\"},{\"id\":\"3160\"}],\"height\":450,\"left\":[{\"id\":\"3100\"}],\"renderers\":[{\"id\":\"3118\"},{\"id\":\"3123\"},{\"id\":\"3128\"},{\"id\":\"3149\"},{\"id\":\"3153\"},{\"id\":\"3157\"}],\"title\":{\"id\":\"3129\"},\"toolbar\":{\"id\":\"3105\"},\"width\":650,\"x_range\":{\"id\":\"3161\"},\"x_scale\":{\"id\":\"3092\"},\"y_range\":{\"id\":\"3082\"},\"y_scale\":{\"id\":\"3094\"}},\"id\":\"3088\",\"subtype\":\"Figure\",\"type\":\"Plot\"},{\"attributes\":{},\"id\":\"3087\",\"type\":\"SaveTool\"},{\"attributes\":{\"line_alpha\":{\"value\":0.1},\"x0\":{\"field\":\"upper_95_ci\"},\"x1\":{\"field\":\"upper_68_ci\"},\"y0\":{\"field\":\"factor_label\"},\"y1\":{\"field\":\"factor_label\"}},\"id\":\"3148\",\"type\":\"Segment\"},{\"attributes\":{\"data_source\":{\"id\":\"3081\"},\"glyph\":{\"id\":\"3147\"},\"hover_glyph\":null,\"muted_glyph\":null,\"nonselection_glyph\":{\"id\":\"3148\"},\"view\":{\"id\":\"3145\"},\"visible\":false},\"id\":\"3149\",\"type\":\"GlyphRenderer\"},{\"attributes\":{},\"id\":\"3136\",\"type\":\"AllLabels\"},{\"attributes\":{\"x0\":{\"field\":\"lower_68_ci\"},\"x1\":{\"field\":\"lower_95_ci\"},\"y0\":{\"field\":\"factor_label\"},\"y1\":{\"field\":\"factor_label\"}},\"id\":\"3151\",\"type\":\"Segment\"},{\"attributes\":{},\"id\":\"3101\",\"type\":\"CategoricalTicker\"},{\"attributes\":{\"data_source\":{\"id\":\"3081\"},\"glyph\":{\"id\":\"3151\"},\"hover_glyph\":null,\"muted_glyph\":null,\"nonselection_glyph\":{\"id\":\"3152\"},\"view\":{\"id\":\"3145\"},\"visible\":false},\"id\":\"3153\",\"type\":\"GlyphRenderer\"},{\"attributes\":{},\"id\":\"3133\",\"type\":\"AllLabels\"},{\"attributes\":{\"x0\":{\"field\":\"upper_95_ci\"},\"x1\":{\"field\":\"upper_68_ci\"},\"y0\":{\"field\":\"factor_label\"},\"y1\":{\"field\":\"factor_label\"}},\"id\":\"3115\",\"type\":\"Segment\"},{\"attributes\":{\"fill_alpha\":{\"value\":0.1},\"fill_color\":{\"value\":\"#0072B2\"},\"height\":{\"value\":0.6},\"left\":{\"field\":\"lower_68_ci\"},\"line_alpha\":{\"value\":0.1},\"line_color\":{\"value\":null},\"right\":{\"field\":\"upper_68_ci\"},\"y\":{\"field\":\"factor_label\"}},\"id\":\"3156\",\"type\":\"HBar\"},{\"attributes\":{\"js_property_callbacks\":{\"change:value\":[{\"id\":\"3164\"}]},\"options\":[\"proximity_weighted_algo\"],\"value\":[\"proximity_weighted_algo\"]},\"id\":\"3163\",\"type\":\"MultiChoice\"},{\"attributes\":{},\"id\":\"3135\",\"type\":\"BasicTickFormatter\"},{\"attributes\":{\"fill_alpha\":{\"value\":0.8},\"fill_color\":{\"value\":\"#0072B2\"},\"height\":{\"value\":0.6},\"left\":{\"field\":\"lower_68_ci\"},\"line_color\":{\"value\":null},\"right\":{\"field\":\"upper_68_ci\"},\"y\":{\"field\":\"factor_label\"}},\"id\":\"3155\",\"type\":\"HBar\"},{\"attributes\":{\"axis\":{\"id\":\"3100\"},\"dimension\":1,\"grid_line_color\":null,\"ticker\":null},\"id\":\"3102\",\"type\":\"Grid\"},{\"attributes\":{\"booleans\":[false,false,true,false,false,false,true,false,false,false]},\"id\":\"3144\",\"type\":\"BooleanFilter\"},{\"attributes\":{},\"id\":\"3092\",\"type\":\"LinearScale\"},{\"attributes\":{\"data_source\":{\"id\":\"3081\"},\"glyph\":{\"id\":\"3155\"},\"hover_glyph\":null,\"js_property_callbacks\":{\"change:visible\":[{\"id\":\"3158\"},{\"id\":\"3159\"}]},\"muted_glyph\":null,\"nonselection_glyph\":{\"id\":\"3156\"},\"tags\":[\"stat_sig\"],\"view\":{\"id\":\"3145\"},\"visible\":false},\"id\":\"3157\",\"type\":\"GlyphRenderer\"},{\"attributes\":{},\"id\":\"3097\",\"type\":\"BasicTicker\"},{\"attributes\":{\"factors\":[[\"% Incident Share Attempts\",\"proximity_weighted_algo\"],[\"N Incident Share Attempts\",\"proximity_weighted_algo\"],[\"% Incident Views\",\"proximity_weighted_algo\"],[\"N Incident Views\",\"proximity_weighted_algo\"],[\"% Push Driven Sessions\",\"proximity_weighted_algo\"],[\"N Push Driven Sessions\",\"proximity_weighted_algo\"],[\"% Organic Sessions\",\"proximity_weighted_algo\"],[\"N Organic Sessions\",\"proximity_weighted_algo\"],[\"% All Sessions\",\"proximity_weighted_algo\"],[\"N All Sessions\",\"proximity_weighted_algo\"]]},\"id\":\"3082\",\"type\":\"FactorRange\"},{\"attributes\":{},\"id\":\"3084\",\"type\":\"WheelZoomTool\"},{\"attributes\":{\"callback\":null,\"tooltips\":[[\"Tx Label\",\"@{exp_cond}\"],[\"Rel Diff Tx vs Ctrl\",\"@{mean}\\u00b1@{std}\"],[\"P-Value\",\"@p_value{1.11111}\"],[\"Abs Diff Tx - Ctrl\",\"@{abs_mean}\\u00b1@{abs_std}\"],[\"Ctrl x\\u0304\",\"@{ctrl_mean}\\u00b1@{ctrl_std}\"],[\"Tx x\\u0304\",\"@{tx_mean}\\u00b1@{tx_std}\"],[\"Ctrl/Tx n\",\"@{ctrl_count}/@{tx_count}\"]]},\"id\":\"3104\",\"type\":\"HoverTool\"},{\"attributes\":{\"args\":{\"other\":{\"id\":\"3153\"}},\"code\":\"other.visible = this.visible\"},\"id\":\"3158\",\"type\":\"CustomJS\"},{\"attributes\":{\"formatter\":{\"id\":\"3132\"},\"group_label_orientation\":\"horizontal\",\"major_label_policy\":{\"id\":\"3133\"},\"major_label_text_alpha\":0.0,\"major_label_text_font_size\":\"1px\",\"major_tick_in\":0,\"major_tick_out\":0,\"minor_tick_line_color\":\"yellow\",\"separator_line_alpha\":0,\"ticker\":{\"id\":\"3101\"}},\"id\":\"3100\",\"type\":\"CategoricalAxis\"},{\"attributes\":{\"axis_label\":\"Relative Difference of Tx vs Ctrl Population (%)\",\"formatter\":{\"id\":\"3135\"},\"major_label_policy\":{\"id\":\"3136\"},\"ticker\":{\"id\":\"3097\"}},\"id\":\"3096\",\"type\":\"LinearAxis\"},{\"attributes\":{\"args\":{\"other\":{\"id\":\"3149\"}},\"code\":\"other.visible = this.visible\"},\"id\":\"3159\",\"type\":\"CustomJS\"},{\"attributes\":{\"dimension\":\"height\",\"line_alpha\":0.8,\"line_color\":\"grey\",\"line_dash\":[6],\"line_width\":1.5,\"location\":0},\"id\":\"3160\",\"type\":\"Span\"},{\"attributes\":{\"axis\":{\"id\":\"3096\"},\"ticker\":null},\"id\":\"3099\",\"type\":\"Grid\"},{\"attributes\":{},\"id\":\"3094\",\"type\":\"CategoricalScale\"},{\"attributes\":{\"data_source\":{\"id\":\"3081\"},\"glyph\":{\"id\":\"3115\"},\"hover_glyph\":null,\"muted_glyph\":{\"id\":\"3117\"},\"nonselection_glyph\":{\"id\":\"3116\"},\"view\":{\"id\":\"3113\"}},\"id\":\"3118\",\"type\":\"GlyphRenderer\"}],\"root_ids\":[\"3170\"]},\"title\":\"Bokeh Application\",\"version\":\"2.3.2\"}};\n",
       "  var render_items = [{\"docid\":\"af56aed7-886f-4d88-8541-8d8a1888e104\",\"root_ids\":[\"3170\"],\"roots\":{\"3170\":\"21ee0c24-33e3-415e-bf93-2ff304f8f4a1\"}}];\n",
       "  root.Bokeh.embed.embed_items_notebook(docs_json, render_items);\n",
       "\n",
       "  }\n",
       "  if (root.Bokeh !== undefined) {\n",
       "    embed_document(root);\n",
       "  } else {\n",
       "    var attempts = 0;\n",
       "    var timer = setInterval(function(root) {\n",
       "      if (root.Bokeh !== undefined) {\n",
       "        clearInterval(timer);\n",
       "        embed_document(root);\n",
       "      } else {\n",
       "        attempts++;\n",
       "        if (attempts > 100) {\n",
       "          clearInterval(timer);\n",
       "          console.log(\"Bokeh: ERROR: Unable to run BokehJS code because BokehJS library is missing\");\n",
       "        }\n",
       "      }\n",
       "    }, 10, root)\n",
       "  }\n",
       "})(window);"
      ],
      "application/vnd.bokehjs_exec.v0+json": ""
     },
     "metadata": {
      "application/vnd.bokehjs_exec.v0+json": {
       "id": "3170"
      }
     },
     "output_type": "display_data"
    }
   ],
   "source": [
    "df = utils.order_categories(output_df, secondary_metric_list, cond_order)\n",
    "df = utils.remove_categories_w_no_order(df)\n",
    "source = utils.convert_df_to_source(df)\n",
    "\n",
    "vis = RelDiffVisualizer(source)\n",
    "to_show = vis.get_layout()\n",
    "show(to_show)"
   ]
  },
  {
   "cell_type": "code",
   "execution_count": 36,
   "id": "6abf0f5e",
   "metadata": {},
   "outputs": [
    {
     "name": "stderr",
     "output_type": "stream",
     "text": [
      "/opt/conda/lib/python3.9/site-packages/bokeh/io/saving.py:126: UserWarning: save() called but no resources were supplied and output_file(...) was never called, defaulting to resources.CDN\n",
      "  warn(\"save() called but no resources were supplied and output_file(...) was never called, defaulting to resources.CDN\")\n",
      "/opt/conda/lib/python3.9/site-packages/bokeh/io/saving.py:139: UserWarning: save() called but no title was supplied and output_file(...) was never called, using default title 'Bokeh Plot'\n",
      "  warn(\"save() called but no title was supplied and output_file(...) was never called, using default title 'Bokeh Plot'\")\n"
     ]
    },
    {
     "data": {
      "text/plain": [
       "'/home/jovyan/work/notebooks/android-secondary-metrics.html'"
      ]
     },
     "execution_count": 36,
     "metadata": {},
     "output_type": "execute_result"
    }
   ],
   "source": [
    "save(to_show, \"/home/jovyan/work/notebooks/android-secondary-metrics.html\")"
   ]
  },
  {
   "cell_type": "code",
   "execution_count": 37,
   "id": "9fa5df79",
   "metadata": {},
   "outputs": [
    {
     "data": {
      "text/html": [
       "\n",
       "\n",
       "\n",
       "\n",
       "\n",
       "\n",
       "  <div class=\"bk-root\" id=\"3b62d742-bb82-4d4e-acdf-c238267a719c\" data-root-id=\"3514\"></div>\n"
      ]
     },
     "metadata": {},
     "output_type": "display_data"
    },
    {
     "data": {
      "application/javascript": [
       "(function(root) {\n",
       "  function embed_document(root) {\n",
       "    \n",
       "  var docs_json = {\"f63eaea2-12bf-4386-89f2-a17d1cf520cf\":{\"defs\":[],\"roots\":{\"references\":[{\"attributes\":{\"children\":[{\"id\":\"3432\"},{\"id\":\"3513\"}]},\"id\":\"3514\",\"type\":\"Row\"},{\"attributes\":{\"args\":{\"glyphs\":[{\"id\":\"3462\"},{\"id\":\"3467\"},{\"id\":\"3472\"},{\"id\":\"3493\"},{\"id\":\"3497\"},{\"id\":\"3501\"}]},\"code\":\"\\n        for (const glyph of glyphs){\\n            if (glyph.tags.includes(\\\"stat_sig\\\")) {\\n                var stat_sig_visible = glyph.visible;\\n            }\\n        }\\n\\n        if (stat_sig_visible) {\\n            var muted = false;\\n        } else {\\n            var muted = true;\\n        }\\n\\n        for (const glyph of glyphs){\\n            if (glyph.tags.includes(\\\"stat_sig\\\")) {\\n                glyph.visible = !glyph.visible;\\n            } else {\\n                glyph.muted = muted;\\n            }\\n        }\\n        \"},\"id\":\"3510\",\"type\":\"CustomJS\"},{\"attributes\":{\"data_source\":{\"id\":\"3425\"},\"glyph\":{\"id\":\"3459\"},\"hover_glyph\":null,\"muted_glyph\":{\"id\":\"3461\"},\"nonselection_glyph\":{\"id\":\"3460\"},\"view\":{\"id\":\"3457\"}},\"id\":\"3462\",\"type\":\"GlyphRenderer\"},{\"attributes\":{\"args\":{\"condWidget\":{\"id\":\"3507\"},\"metricWidget\":{\"id\":\"3506\"}},\"code\":\"\\n        metricWidget.value = metricWidget.options\\n        condWidget.value = condWidget.options\\n        \"},\"id\":\"3512\",\"type\":\"CustomJS\"},{\"attributes\":{},\"id\":\"3476\",\"type\":\"CategoricalTickFormatter\"},{\"attributes\":{\"label\":{\"value\":\"proximity_weighted_algo\"},\"renderers\":[{\"id\":\"3472\"}]},\"id\":\"3485\",\"type\":\"LegendItem\"},{\"attributes\":{\"active_multi\":null,\"tools\":[{\"id\":\"3427\"},{\"id\":\"3428\"},{\"id\":\"3429\"},{\"id\":\"3430\"},{\"id\":\"3431\"},{\"id\":\"3448\"}]},\"id\":\"3449\",\"type\":\"Toolbar\"},{\"attributes\":{},\"id\":\"3441\",\"type\":\"BasicTicker\"},{\"attributes\":{\"click_policy\":\"mute\",\"items\":[{\"id\":\"3485\"}]},\"id\":\"3484\",\"type\":\"Legend\"},{\"attributes\":{\"filters\":[{\"id\":\"3456\"}],\"source\":{\"id\":\"3425\"}},\"id\":\"3457\",\"type\":\"CDSView\"},{\"attributes\":{\"args\":{\"other\":{\"id\":\"3467\"}},\"code\":\"other.muted = this.muted\"},\"id\":\"3486\",\"type\":\"CustomJS\"},{\"attributes\":{},\"id\":\"3473\",\"type\":\"Title\"},{\"attributes\":{\"button_type\":\"success\",\"icon\":null,\"js_event_callbacks\":{\"button_click\":[{\"id\":\"3512\"}]},\"label\":\"Reset Metrics/Conditions\"},\"id\":\"3511\",\"type\":\"Button\"},{\"attributes\":{},\"id\":\"3429\",\"type\":\"PanTool\"},{\"attributes\":{\"line_alpha\":{\"value\":0.1},\"x0\":{\"field\":\"lower_68_ci\"},\"x1\":{\"field\":\"lower_95_ci\"},\"y0\":{\"field\":\"factor_label\"},\"y1\":{\"field\":\"factor_label\"}},\"id\":\"3465\",\"type\":\"Segment\"},{\"attributes\":{\"filters\":[{\"id\":\"3488\"}],\"source\":{\"id\":\"3425\"}},\"id\":\"3489\",\"type\":\"CDSView\"},{\"attributes\":{\"args\":{\"other\":{\"id\":\"3462\"}},\"code\":\"other.muted = this.muted\"},\"id\":\"3487\",\"type\":\"CustomJS\"},{\"attributes\":{},\"id\":\"3477\",\"type\":\"AllLabels\"},{\"attributes\":{\"bottom_units\":\"screen\",\"fill_alpha\":0.5,\"fill_color\":\"lightgrey\",\"left_units\":\"screen\",\"level\":\"overlay\",\"line_alpha\":1.0,\"line_color\":\"black\",\"line_dash\":[4,4],\"line_width\":2,\"right_units\":\"screen\",\"syncable\":false,\"top_units\":\"screen\"},\"id\":\"3447\",\"type\":\"BoxAnnotation\"},{\"attributes\":{\"below\":[{\"id\":\"3440\"}],\"center\":[{\"id\":\"3443\"},{\"id\":\"3446\"},{\"id\":\"3484\"},{\"id\":\"3504\"}],\"height\":450,\"left\":[{\"id\":\"3444\"}],\"renderers\":[{\"id\":\"3462\"},{\"id\":\"3467\"},{\"id\":\"3472\"},{\"id\":\"3493\"},{\"id\":\"3497\"},{\"id\":\"3501\"}],\"title\":{\"id\":\"3473\"},\"toolbar\":{\"id\":\"3449\"},\"width\":650,\"x_range\":{\"id\":\"3505\"},\"x_scale\":{\"id\":\"3436\"},\"y_range\":{\"id\":\"3426\"},\"y_scale\":{\"id\":\"3438\"}},\"id\":\"3432\",\"subtype\":\"Figure\",\"type\":\"Plot\"},{\"attributes\":{\"x0\":{\"field\":\"upper_95_ci\"},\"x1\":{\"field\":\"upper_68_ci\"},\"y0\":{\"field\":\"factor_label\"},\"y1\":{\"field\":\"factor_label\"}},\"id\":\"3491\",\"type\":\"Segment\"},{\"attributes\":{\"line_alpha\":{\"value\":0.1},\"x0\":{\"field\":\"lower_68_ci\"},\"x1\":{\"field\":\"lower_95_ci\"},\"y0\":{\"field\":\"factor_label\"},\"y1\":{\"field\":\"factor_label\"}},\"id\":\"3496\",\"type\":\"Segment\"},{\"attributes\":{\"x0\":{\"field\":\"lower_68_ci\"},\"x1\":{\"field\":\"lower_95_ci\"},\"y0\":{\"field\":\"factor_label\"},\"y1\":{\"field\":\"factor_label\"}},\"id\":\"3464\",\"type\":\"Segment\"},{\"attributes\":{},\"id\":\"3430\",\"type\":\"ResetTool\"},{\"attributes\":{\"line_alpha\":{\"value\":0.1},\"x0\":{\"field\":\"upper_95_ci\"},\"x1\":{\"field\":\"upper_68_ci\"},\"y0\":{\"field\":\"factor_label\"},\"y1\":{\"field\":\"factor_label\"}},\"id\":\"3492\",\"type\":\"Segment\"},{\"attributes\":{\"data_source\":{\"id\":\"3425\"},\"glyph\":{\"id\":\"3491\"},\"hover_glyph\":null,\"muted_glyph\":null,\"nonselection_glyph\":{\"id\":\"3492\"},\"view\":{\"id\":\"3489\"},\"visible\":false},\"id\":\"3493\",\"type\":\"GlyphRenderer\"},{\"attributes\":{\"children\":[{\"id\":\"3506\"},{\"id\":\"3507\"},{\"id\":\"3509\"},{\"id\":\"3511\"}]},\"id\":\"3513\",\"type\":\"Column\"},{\"attributes\":{\"data_source\":{\"id\":\"3425\"},\"glyph\":{\"id\":\"3469\"},\"hover_glyph\":null,\"js_property_callbacks\":{\"change:muted\":[{\"id\":\"3486\"},{\"id\":\"3487\"}]},\"muted_glyph\":{\"id\":\"3471\"},\"nonselection_glyph\":{\"id\":\"3470\"},\"view\":{\"id\":\"3457\"}},\"id\":\"3472\",\"type\":\"GlyphRenderer\"},{\"attributes\":{\"data\":{\"abs_mean\":{\"__ndarray__\":\"QGFJ9PpzIr9AYUn0+nMiv8DjIG3buj0/wHyLkAdZWD/AQ0O1UOpAP4B6x+1ptDw/\",\"dtype\":\"float64\",\"order\":\"little\",\"shape\":[6]},\"abs_std\":{\"__ndarray__\":\"ji8ugmovKD85OeYAdi84P+r02p8jwTI/PU/ue9uLZz8QMyrOxSY8P5H3KEqchmk/\",\"dtype\":\"float64\",\"order\":\"little\",\"shape\":[6]},\"cond_order\":[0,0,0,0,0,0],\"ctrl_count\":{\"__ndarray__\":\"AAAAAOA270AAAAAA4DbvQAAAAADgNu9AAAAAAOA270AAAAAA4DbvQAAAAADgNu9A\",\"dtype\":\"float64\",\"order\":\"little\",\"shape\":[6]},\"ctrl_mean\":{\"__ndarray__\":\"9wZzlF4ycj/3BnOUXjJyP0WrifpLNYU/78MgRigBmT91D3SG732YP9PiOb9IRqc/\",\"dtype\":\"float64\",\"order\":\"little\",\"shape\":[6]},\"ctrl_std\":{\"__ndarray__\":\"2h2g3XYGsT/aHaDddgaxP7RSoRWG6rk/hOhVAykh2z+WgiFuxo7DP+ekR9SPfeI/\",\"dtype\":\"float64\",\"order\":\"little\",\"shape\":[6]},\"display_metric\":[\"% Trial Starts\",\"N Trial Starts\",\"% Friend Invites\",\"N Friend Invites\",\"% Chats\",\"N Chats\"],\"exp_cond\":[\"proximity_weighted_algo\",\"proximity_weighted_algo\",\"proximity_weighted_algo\",\"proximity_weighted_algo\",\"proximity_weighted_algo\",\"proximity_weighted_algo\"],\"factor_label\":[[\"% Trial Starts\",\"proximity_weighted_algo\"],[\"N Trial Starts\",\"proximity_weighted_algo\"],[\"% Friend Invites\",\"proximity_weighted_algo\"],[\"N Friend Invites\",\"proximity_weighted_algo\"],[\"% Chats\",\"proximity_weighted_algo\"],[\"N Chats\",\"proximity_weighted_algo\"]],\"index\":[27,26,25,24,23,22],\"lower_68_ci\":{\"__ndarray__\":\"TgCFvSxKHcD3VF+fq/MmwArsSlUi4Pk/cfll56G9FsD4FEpGETDXPw4FL2FnkBfA\",\"dtype\":\"float64\",\"order\":\"little\",\"shape\":[6]},\"lower_95_ci\":{\"__ndarray__\":\"Tdz81JOeJsBO2DYQV3MzwHAFmeQrkvC/e8GXq0H8MMBU+VjRAMr1v8saHNFY8SjA\",\"dtype\":\"float64\",\"order\":\"little\",\"shape\":[6]},\"mean\":{\"__ndarray__\":\"VCtsDiRaCcBUK2wOJFoJwDoXZvTMhRFAOx6IEudXGEDh6aPVJEQBQFnBKb8v1e4/\",\"dtype\":\"float64\",\"order\":\"little\",\"shape\":[6]},\"metric\":[\"pct_trial_starts\",\"n_trial_starts\",\"pct_friend_invites\",\"n_friend_invites\",\"pct_chats\",\"n_chats\"],\"metric_order\":{\"__ndarray__\":\"AAAAAAAAFEAAAAAAAAAQQAAAAAAAAAhAAAAAAAAAAEAAAAAAAADwPwAAAAAAAAAA\",\"dtype\":\"float64\",\"order\":\"little\",\"shape\":[6]},\"p_value\":{\"__ndarray__\":\"VCEsP5WCzD/kQVCNqH3mP8CE3NcZ6Kw/ky1V/1Zd4z+Abb1UJl+9P4C/o8o7bOw/\",\"dtype\":\"float64\",\"order\":\"little\",\"shape\":[6]},\"std\":{\"__ndarray__\":\"pOpOthqdEEAiSsSbIp0gQG+4Jr6IGwZA1gv3fMSKJ0CETrVZRbz8Pzk9FFkNaxtA\",\"dtype\":\"float64\",\"order\":\"little\",\"shape\":[6]},\"tx_count\":{\"__ndarray__\":\"AAAAAOA270AAAAAA4DbvQAAAAADgNu9AAAAAAOA270AAAAAA4DbvQAAAAADgNu9A\",\"dtype\":\"float64\",\"order\":\"little\",\"shape\":[6]},\"tx_mean\":{\"__ndarray__\":\"7bvQvL6ecT/tu9C8vp5xP2Oy8tUiI4Y/u3spv7iGmj+TKR4MQgWZP8hxFZOxf6c/\",\"dtype\":\"float64\",\"order\":\"little\",\"shape\":[6]},\"tx_std\":{\"__ndarray__\":\"Fjm+wibBsD8WOb7CJsGwP9693gm7eLo/sbz1/Lfj4j8KLVClLcPDP9n49T8LI+E/\",\"dtype\":\"float64\",\"order\":\"little\",\"shape\":[6]},\"upper_68_ci\":{\"__ndarray__\":\"0KfGeEWA7z+aflIwM40UQHJzeVORkxxAeo0dA1zbMUAjkX6CR6IPQGR1+VCzRR9A\",\"dtype\":\"float64\",\"order\":\"little\",\"shape\":[6]},\"upper_95_ci\":{\"__ndarray__\":\"Ro2NmwPjE0DzmjcZnDkqQOg3+XASmCNAmdDbNDUoPUA2KPoJpbYWQPdSAcn+yyxA\",\"dtype\":\"float64\",\"order\":\"little\",\"shape\":[6]}},\"selected\":{\"id\":\"3482\"},\"selection_policy\":{\"id\":\"3483\"}},\"id\":\"3425\",\"type\":\"ColumnDataSource\"},{\"attributes\":{\"factors\":[[\"% Trial Starts\",\"proximity_weighted_algo\"],[\"N Trial Starts\",\"proximity_weighted_algo\"],[\"% Friend Invites\",\"proximity_weighted_algo\"],[\"N Friend Invites\",\"proximity_weighted_algo\"],[\"% Chats\",\"proximity_weighted_algo\"],[\"N Chats\",\"proximity_weighted_algo\"]]},\"id\":\"3426\",\"type\":\"FactorRange\"},{\"attributes\":{\"data_source\":{\"id\":\"3425\"},\"glyph\":{\"id\":\"3464\"},\"hover_glyph\":null,\"muted_glyph\":{\"id\":\"3466\"},\"nonselection_glyph\":{\"id\":\"3465\"},\"view\":{\"id\":\"3457\"}},\"id\":\"3467\",\"type\":\"GlyphRenderer\"},{\"attributes\":{\"fill_alpha\":{\"value\":0.2},\"fill_color\":{\"value\":\"#0072B2\"},\"height\":{\"value\":0.6},\"left\":{\"field\":\"lower_68_ci\"},\"line_alpha\":{\"value\":0.2},\"line_color\":{\"value\":\"#0072B2\"},\"right\":{\"field\":\"upper_68_ci\"},\"y\":{\"field\":\"factor_label\"}},\"id\":\"3471\",\"type\":\"HBar\"},{\"attributes\":{},\"id\":\"3438\",\"type\":\"CategoricalScale\"},{\"attributes\":{\"overlay\":{\"id\":\"3447\"}},\"id\":\"3427\",\"type\":\"BoxZoomTool\"},{\"attributes\":{},\"id\":\"3479\",\"type\":\"BasicTickFormatter\"},{\"attributes\":{\"fill_alpha\":{\"value\":0.8},\"fill_color\":{\"value\":\"#0072B2\"},\"height\":{\"value\":0.6},\"left\":{\"field\":\"lower_68_ci\"},\"line_color\":{\"value\":null},\"right\":{\"field\":\"upper_68_ci\"},\"y\":{\"field\":\"factor_label\"}},\"id\":\"3469\",\"type\":\"HBar\"},{\"attributes\":{\"x0\":{\"field\":\"lower_68_ci\"},\"x1\":{\"field\":\"lower_95_ci\"},\"y0\":{\"field\":\"factor_label\"},\"y1\":{\"field\":\"factor_label\"}},\"id\":\"3495\",\"type\":\"Segment\"},{\"attributes\":{\"data_source\":{\"id\":\"3425\"},\"glyph\":{\"id\":\"3495\"},\"hover_glyph\":null,\"muted_glyph\":null,\"nonselection_glyph\":{\"id\":\"3496\"},\"view\":{\"id\":\"3489\"},\"visible\":false},\"id\":\"3497\",\"type\":\"GlyphRenderer\"},{\"attributes\":{},\"id\":\"3428\",\"type\":\"WheelZoomTool\"},{\"attributes\":{\"line_alpha\":{\"value\":0.2},\"x0\":{\"field\":\"lower_68_ci\"},\"x1\":{\"field\":\"lower_95_ci\"},\"y0\":{\"field\":\"factor_label\"},\"y1\":{\"field\":\"factor_label\"}},\"id\":\"3466\",\"type\":\"Segment\"},{\"attributes\":{},\"id\":\"3431\",\"type\":\"SaveTool\"},{\"attributes\":{\"fill_alpha\":{\"value\":0.1},\"fill_color\":{\"value\":\"#0072B2\"},\"height\":{\"value\":0.6},\"left\":{\"field\":\"lower_68_ci\"},\"line_alpha\":{\"value\":0.1},\"line_color\":{\"value\":null},\"right\":{\"field\":\"upper_68_ci\"},\"y\":{\"field\":\"factor_label\"}},\"id\":\"3500\",\"type\":\"HBar\"},{\"attributes\":{\"js_property_callbacks\":{\"change:value\":[{\"id\":\"3508\"}]},\"options\":[\"proximity_weighted_algo\"],\"value\":[\"proximity_weighted_algo\"]},\"id\":\"3507\",\"type\":\"MultiChoice\"},{\"attributes\":{\"fill_alpha\":{\"value\":0.8},\"fill_color\":{\"value\":\"#0072B2\"},\"height\":{\"value\":0.6},\"left\":{\"field\":\"lower_68_ci\"},\"line_color\":{\"value\":null},\"right\":{\"field\":\"upper_68_ci\"},\"y\":{\"field\":\"factor_label\"}},\"id\":\"3499\",\"type\":\"HBar\"},{\"attributes\":{},\"id\":\"3480\",\"type\":\"AllLabels\"},{\"attributes\":{\"booleans\":[true,true,true,true,true,true]},\"id\":\"3456\",\"type\":\"BooleanFilter\"},{\"attributes\":{\"data_source\":{\"id\":\"3425\"},\"glyph\":{\"id\":\"3499\"},\"hover_glyph\":null,\"js_property_callbacks\":{\"change:visible\":[{\"id\":\"3502\"},{\"id\":\"3503\"}]},\"muted_glyph\":null,\"nonselection_glyph\":{\"id\":\"3500\"},\"tags\":[\"stat_sig\"],\"view\":{\"id\":\"3489\"},\"visible\":false},\"id\":\"3501\",\"type\":\"GlyphRenderer\"},{\"attributes\":{\"booleans\":[false,false,false,false,false,false]},\"id\":\"3488\",\"type\":\"BooleanFilter\"},{\"attributes\":{\"x0\":{\"field\":\"upper_95_ci\"},\"x1\":{\"field\":\"upper_68_ci\"},\"y0\":{\"field\":\"factor_label\"},\"y1\":{\"field\":\"factor_label\"}},\"id\":\"3459\",\"type\":\"Segment\"},{\"attributes\":{\"args\":{\"other\":{\"id\":\"3497\"}},\"code\":\"other.visible = this.visible\"},\"id\":\"3502\",\"type\":\"CustomJS\"},{\"attributes\":{\"args\":{\"other\":{\"id\":\"3493\"}},\"code\":\"other.visible = this.visible\"},\"id\":\"3503\",\"type\":\"CustomJS\"},{\"attributes\":{},\"id\":\"3445\",\"type\":\"CategoricalTicker\"},{\"attributes\":{\"dimension\":\"height\",\"line_alpha\":0.8,\"line_color\":\"grey\",\"line_dash\":[6],\"line_width\":1.5,\"location\":0},\"id\":\"3504\",\"type\":\"Span\"},{\"attributes\":{\"fill_alpha\":{\"value\":0.1},\"fill_color\":{\"value\":\"#0072B2\"},\"height\":{\"value\":0.6},\"left\":{\"field\":\"lower_68_ci\"},\"line_alpha\":{\"value\":0.1},\"line_color\":{\"value\":null},\"right\":{\"field\":\"upper_68_ci\"},\"y\":{\"field\":\"factor_label\"}},\"id\":\"3470\",\"type\":\"HBar\"},{\"attributes\":{\"js_property_callbacks\":{\"change:value\":[{\"id\":\"3508\"}]},\"options\":[\"N Chats\",\"% Chats\",\"N Friend Invites\",\"% Friend Invites\",\"N Trial Starts\",\"% Trial Starts\"],\"value\":[\"N Chats\",\"% Chats\",\"N Friend Invites\",\"% Friend Invites\",\"N Trial Starts\",\"% Trial Starts\"]},\"id\":\"3506\",\"type\":\"MultiChoice\"},{\"attributes\":{\"formatter\":{\"id\":\"3476\"},\"group_label_orientation\":\"horizontal\",\"major_label_policy\":{\"id\":\"3477\"},\"major_label_text_alpha\":0.0,\"major_label_text_font_size\":\"1px\",\"major_tick_in\":0,\"major_tick_out\":0,\"minor_tick_line_color\":\"yellow\",\"separator_line_alpha\":0,\"ticker\":{\"id\":\"3445\"}},\"id\":\"3444\",\"type\":\"CategoricalAxis\"},{\"attributes\":{\"button_type\":\"danger\",\"icon\":null,\"js_property_callbacks\":{\"change:active\":[{\"id\":\"3510\"}]},\"label\":\"Toggle Stat Sig\"},\"id\":\"3509\",\"type\":\"Toggle\"},{\"attributes\":{\"axis\":{\"id\":\"3444\"},\"dimension\":1,\"grid_line_color\":null,\"ticker\":null},\"id\":\"3446\",\"type\":\"Grid\"},{\"attributes\":{\"axis\":{\"id\":\"3440\"},\"ticker\":null},\"id\":\"3443\",\"type\":\"Grid\"},{\"attributes\":{\"end\":34.01782277619485,\"start\":-24.311308140845718},\"id\":\"3505\",\"type\":\"Range1d\"},{\"attributes\":{\"axis_label\":\"Relative Difference of Tx vs Ctrl Population (%)\",\"formatter\":{\"id\":\"3479\"},\"major_label_policy\":{\"id\":\"3480\"},\"ticker\":{\"id\":\"3441\"}},\"id\":\"3440\",\"type\":\"LinearAxis\"},{\"attributes\":{},\"id\":\"3436\",\"type\":\"LinearScale\"},{\"attributes\":{},\"id\":\"3482\",\"type\":\"Selection\"},{\"attributes\":{\"args\":{\"condWidget\":{\"id\":\"3507\"},\"metricWidget\":{\"id\":\"3506\"},\"source\":{\"id\":\"3425\"},\"yRange\":{\"id\":\"3426\"}},\"code\":\"\\n        // Filter y-axis labels\\n        let tempList = source.data[\\\"factor_label\\\"].filter(function (currentElement) {\\n          return metricWidget.value.includes(currentElement[0]) && condWidget.value.includes(currentElement[1]);\\n        });\\n        yRange.factors = tempList;\\n        \"},\"id\":\"3508\",\"type\":\"CustomJS\"},{\"attributes\":{\"line_alpha\":{\"value\":0.1},\"x0\":{\"field\":\"upper_95_ci\"},\"x1\":{\"field\":\"upper_68_ci\"},\"y0\":{\"field\":\"factor_label\"},\"y1\":{\"field\":\"factor_label\"}},\"id\":\"3460\",\"type\":\"Segment\"},{\"attributes\":{\"callback\":null,\"tooltips\":[[\"Tx Label\",\"@{exp_cond}\"],[\"Rel Diff Tx vs Ctrl\",\"@{mean}\\u00b1@{std}\"],[\"P-Value\",\"@p_value{1.11111}\"],[\"Abs Diff Tx - Ctrl\",\"@{abs_mean}\\u00b1@{abs_std}\"],[\"Ctrl x\\u0304\",\"@{ctrl_mean}\\u00b1@{ctrl_std}\"],[\"Tx x\\u0304\",\"@{tx_mean}\\u00b1@{tx_std}\"],[\"Ctrl/Tx n\",\"@{ctrl_count}/@{tx_count}\"]]},\"id\":\"3448\",\"type\":\"HoverTool\"},{\"attributes\":{},\"id\":\"3483\",\"type\":\"UnionRenderers\"},{\"attributes\":{\"line_alpha\":{\"value\":0.2},\"x0\":{\"field\":\"upper_95_ci\"},\"x1\":{\"field\":\"upper_68_ci\"},\"y0\":{\"field\":\"factor_label\"},\"y1\":{\"field\":\"factor_label\"}},\"id\":\"3461\",\"type\":\"Segment\"}],\"root_ids\":[\"3514\"]},\"title\":\"Bokeh Application\",\"version\":\"2.3.2\"}};\n",
       "  var render_items = [{\"docid\":\"f63eaea2-12bf-4386-89f2-a17d1cf520cf\",\"root_ids\":[\"3514\"],\"roots\":{\"3514\":\"3b62d742-bb82-4d4e-acdf-c238267a719c\"}}];\n",
       "  root.Bokeh.embed.embed_items_notebook(docs_json, render_items);\n",
       "\n",
       "  }\n",
       "  if (root.Bokeh !== undefined) {\n",
       "    embed_document(root);\n",
       "  } else {\n",
       "    var attempts = 0;\n",
       "    var timer = setInterval(function(root) {\n",
       "      if (root.Bokeh !== undefined) {\n",
       "        clearInterval(timer);\n",
       "        embed_document(root);\n",
       "      } else {\n",
       "        attempts++;\n",
       "        if (attempts > 100) {\n",
       "          clearInterval(timer);\n",
       "          console.log(\"Bokeh: ERROR: Unable to run BokehJS code because BokehJS library is missing\");\n",
       "        }\n",
       "      }\n",
       "    }, 10, root)\n",
       "  }\n",
       "})(window);"
      ],
      "application/vnd.bokehjs_exec.v0+json": ""
     },
     "metadata": {
      "application/vnd.bokehjs_exec.v0+json": {
       "id": "3514"
      }
     },
     "output_type": "display_data"
    }
   ],
   "source": [
    "df = utils.order_categories(output_df, guardrail_metric_list, cond_order)\n",
    "df = utils.remove_categories_w_no_order(df)\n",
    "source = utils.convert_df_to_source(df)\n",
    "\n",
    "vis = RelDiffVisualizer(source)\n",
    "to_show = vis.get_layout()\n",
    "show(to_show)"
   ]
  },
  {
   "cell_type": "code",
   "execution_count": 38,
   "id": "41bf4966",
   "metadata": {},
   "outputs": [
    {
     "name": "stderr",
     "output_type": "stream",
     "text": [
      "/opt/conda/lib/python3.9/site-packages/bokeh/io/saving.py:126: UserWarning: save() called but no resources were supplied and output_file(...) was never called, defaulting to resources.CDN\n",
      "  warn(\"save() called but no resources were supplied and output_file(...) was never called, defaulting to resources.CDN\")\n",
      "/opt/conda/lib/python3.9/site-packages/bokeh/io/saving.py:139: UserWarning: save() called but no title was supplied and output_file(...) was never called, using default title 'Bokeh Plot'\n",
      "  warn(\"save() called but no title was supplied and output_file(...) was never called, using default title 'Bokeh Plot'\")\n"
     ]
    },
    {
     "data": {
      "text/plain": [
       "'/home/jovyan/work/notebooks/android-guardrail-metrics.html'"
      ]
     },
     "execution_count": 38,
     "metadata": {},
     "output_type": "execute_result"
    }
   ],
   "source": [
    "save(to_show, \"/home/jovyan/work/notebooks/android-guardrail-metrics.html\")"
   ]
  },
  {
   "cell_type": "code",
   "execution_count": null,
   "id": "a1d5577f",
   "metadata": {},
   "outputs": [],
   "source": []
  },
  {
   "cell_type": "code",
   "execution_count": null,
   "id": "41218ea7",
   "metadata": {},
   "outputs": [],
   "source": []
  }
 ],
 "metadata": {
  "kernelspec": {
   "display_name": "Python 3",
   "language": "python",
   "name": "python3"
  },
  "language_info": {
   "codemirror_mode": {
    "name": "ipython",
    "version": 3
   },
   "file_extension": ".py",
   "mimetype": "text/x-python",
   "name": "python",
   "nbconvert_exporter": "python",
   "pygments_lexer": "ipython3",
   "version": "3.9.2"
  }
 },
 "nbformat": 4,
 "nbformat_minor": 5
}
